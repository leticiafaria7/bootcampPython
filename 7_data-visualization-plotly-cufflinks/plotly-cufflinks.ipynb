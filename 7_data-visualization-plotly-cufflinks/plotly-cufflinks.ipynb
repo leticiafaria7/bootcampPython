{
 "cells": [
  {
   "attachments": {},
   "cell_type": "markdown",
   "metadata": {},
   "source": [
    "### plotly and cufflinks"
   ]
  },
  {
   "cell_type": "code",
   "execution_count": 1,
   "metadata": {},
   "outputs": [
    {
     "name": "stdout",
     "output_type": "stream",
     "text": [
      "5.9.0\n"
     ]
    }
   ],
   "source": [
    "import chart_studio.plotly as py\n",
    "import pandas as pd\n",
    "import numpy as np\n",
    "from plotly import __version__\n",
    "\n",
    "print(__version__)"
   ]
  },
  {
   "cell_type": "code",
   "execution_count": 3,
   "metadata": {},
   "outputs": [],
   "source": [
    "import cufflinks as cf\n",
    "from plotly.offline import download_plotlyjs, init_notebook_mode, plot, iplot"
   ]
  },
  {
   "cell_type": "code",
   "execution_count": 9,
   "metadata": {},
   "outputs": [
    {
     "data": {
      "text/html": [
       "        <script type=\"text/javascript\">\n",
       "        window.PlotlyConfig = {MathJaxConfig: 'local'};\n",
       "        if (window.MathJax && window.MathJax.Hub && window.MathJax.Hub.Config) {window.MathJax.Hub.Config({SVG: {font: \"STIX-Web\"}});}\n",
       "        if (typeof require !== 'undefined') {\n",
       "        require.undef(\"plotly\");\n",
       "        requirejs.config({\n",
       "            paths: {\n",
       "                'plotly': ['https://cdn.plot.ly/plotly-2.12.1.min']\n",
       "            }\n",
       "        });\n",
       "        require(['plotly'], function(Plotly) {\n",
       "            window._Plotly = Plotly;\n",
       "        });\n",
       "        }\n",
       "        </script>\n",
       "        "
      ]
     },
     "metadata": {},
     "output_type": "display_data"
    },
    {
     "data": {
      "text/html": [
       "        <script type=\"text/javascript\">\n",
       "        window.PlotlyConfig = {MathJaxConfig: 'local'};\n",
       "        if (window.MathJax && window.MathJax.Hub && window.MathJax.Hub.Config) {window.MathJax.Hub.Config({SVG: {font: \"STIX-Web\"}});}\n",
       "        if (typeof require !== 'undefined') {\n",
       "        require.undef(\"plotly\");\n",
       "        requirejs.config({\n",
       "            paths: {\n",
       "                'plotly': ['https://cdn.plot.ly/plotly-2.12.1.min']\n",
       "            }\n",
       "        });\n",
       "        require(['plotly'], function(Plotly) {\n",
       "            window._Plotly = Plotly;\n",
       "        });\n",
       "        }\n",
       "        </script>\n",
       "        "
      ]
     },
     "metadata": {},
     "output_type": "display_data"
    }
   ],
   "source": [
    "init_notebook_mode(connected=True) # connect javascript to the notebook\n",
    "cf.go_offline()\n",
    "%matplotlib inline"
   ]
  },
  {
   "cell_type": "code",
   "execution_count": 7,
   "metadata": {},
   "outputs": [
    {
     "data": {
      "text/html": [
       "<div>\n",
       "<style scoped>\n",
       "    .dataframe tbody tr th:only-of-type {\n",
       "        vertical-align: middle;\n",
       "    }\n",
       "\n",
       "    .dataframe tbody tr th {\n",
       "        vertical-align: top;\n",
       "    }\n",
       "\n",
       "    .dataframe thead th {\n",
       "        text-align: right;\n",
       "    }\n",
       "</style>\n",
       "<table border=\"1\" class=\"dataframe\">\n",
       "  <thead>\n",
       "    <tr style=\"text-align: right;\">\n",
       "      <th></th>\n",
       "      <th>A</th>\n",
       "      <th>B</th>\n",
       "      <th>C</th>\n",
       "      <th>D</th>\n",
       "    </tr>\n",
       "  </thead>\n",
       "  <tbody>\n",
       "    <tr>\n",
       "      <th>0</th>\n",
       "      <td>-0.108858</td>\n",
       "      <td>-0.660757</td>\n",
       "      <td>-1.185071</td>\n",
       "      <td>0.589958</td>\n",
       "    </tr>\n",
       "    <tr>\n",
       "      <th>1</th>\n",
       "      <td>0.099682</td>\n",
       "      <td>0.627206</td>\n",
       "      <td>0.376185</td>\n",
       "      <td>1.580843</td>\n",
       "    </tr>\n",
       "    <tr>\n",
       "      <th>2</th>\n",
       "      <td>-0.864150</td>\n",
       "      <td>-0.293005</td>\n",
       "      <td>0.611046</td>\n",
       "      <td>0.345614</td>\n",
       "    </tr>\n",
       "    <tr>\n",
       "      <th>3</th>\n",
       "      <td>0.389462</td>\n",
       "      <td>0.203965</td>\n",
       "      <td>-1.176803</td>\n",
       "      <td>0.272866</td>\n",
       "    </tr>\n",
       "    <tr>\n",
       "      <th>4</th>\n",
       "      <td>-0.777004</td>\n",
       "      <td>-0.112545</td>\n",
       "      <td>-1.879162</td>\n",
       "      <td>-1.447961</td>\n",
       "    </tr>\n",
       "    <tr>\n",
       "      <th>...</th>\n",
       "      <td>...</td>\n",
       "      <td>...</td>\n",
       "      <td>...</td>\n",
       "      <td>...</td>\n",
       "    </tr>\n",
       "    <tr>\n",
       "      <th>95</th>\n",
       "      <td>0.743238</td>\n",
       "      <td>-0.241183</td>\n",
       "      <td>2.986742</td>\n",
       "      <td>0.228049</td>\n",
       "    </tr>\n",
       "    <tr>\n",
       "      <th>96</th>\n",
       "      <td>-0.319070</td>\n",
       "      <td>-0.019348</td>\n",
       "      <td>-0.181092</td>\n",
       "      <td>0.762607</td>\n",
       "    </tr>\n",
       "    <tr>\n",
       "      <th>97</th>\n",
       "      <td>0.036447</td>\n",
       "      <td>-0.713086</td>\n",
       "      <td>-0.246975</td>\n",
       "      <td>-1.316304</td>\n",
       "    </tr>\n",
       "    <tr>\n",
       "      <th>98</th>\n",
       "      <td>-0.856924</td>\n",
       "      <td>-1.261010</td>\n",
       "      <td>-0.343968</td>\n",
       "      <td>-1.518665</td>\n",
       "    </tr>\n",
       "    <tr>\n",
       "      <th>99</th>\n",
       "      <td>-0.504195</td>\n",
       "      <td>-0.314846</td>\n",
       "      <td>1.307159</td>\n",
       "      <td>-1.580682</td>\n",
       "    </tr>\n",
       "  </tbody>\n",
       "</table>\n",
       "<p>100 rows × 4 columns</p>\n",
       "</div>"
      ],
      "text/plain": [
       "           A         B         C         D\n",
       "0  -0.108858 -0.660757 -1.185071  0.589958\n",
       "1   0.099682  0.627206  0.376185  1.580843\n",
       "2  -0.864150 -0.293005  0.611046  0.345614\n",
       "3   0.389462  0.203965 -1.176803  0.272866\n",
       "4  -0.777004 -0.112545 -1.879162 -1.447961\n",
       "..       ...       ...       ...       ...\n",
       "95  0.743238 -0.241183  2.986742  0.228049\n",
       "96 -0.319070 -0.019348 -0.181092  0.762607\n",
       "97  0.036447 -0.713086 -0.246975 -1.316304\n",
       "98 -0.856924 -1.261010 -0.343968 -1.518665\n",
       "99 -0.504195 -0.314846  1.307159 -1.580682\n",
       "\n",
       "[100 rows x 4 columns]"
      ]
     },
     "execution_count": 7,
     "metadata": {},
     "output_type": "execute_result"
    }
   ],
   "source": [
    "# data\n",
    "df = pd.DataFrame(np.random.randn(100, 4), columns = 'A B C D'.split())\n",
    "df"
   ]
  },
  {
   "cell_type": "code",
   "execution_count": 8,
   "metadata": {},
   "outputs": [
    {
     "data": {
      "text/html": [
       "<div>\n",
       "<style scoped>\n",
       "    .dataframe tbody tr th:only-of-type {\n",
       "        vertical-align: middle;\n",
       "    }\n",
       "\n",
       "    .dataframe tbody tr th {\n",
       "        vertical-align: top;\n",
       "    }\n",
       "\n",
       "    .dataframe thead th {\n",
       "        text-align: right;\n",
       "    }\n",
       "</style>\n",
       "<table border=\"1\" class=\"dataframe\">\n",
       "  <thead>\n",
       "    <tr style=\"text-align: right;\">\n",
       "      <th></th>\n",
       "      <th>Category</th>\n",
       "      <th>Values</th>\n",
       "    </tr>\n",
       "  </thead>\n",
       "  <tbody>\n",
       "    <tr>\n",
       "      <th>0</th>\n",
       "      <td>A</td>\n",
       "      <td>32</td>\n",
       "    </tr>\n",
       "    <tr>\n",
       "      <th>1</th>\n",
       "      <td>B</td>\n",
       "      <td>43</td>\n",
       "    </tr>\n",
       "    <tr>\n",
       "      <th>2</th>\n",
       "      <td>C</td>\n",
       "      <td>50</td>\n",
       "    </tr>\n",
       "  </tbody>\n",
       "</table>\n",
       "</div>"
      ],
      "text/plain": [
       "  Category  Values\n",
       "0        A      32\n",
       "1        B      43\n",
       "2        C      50"
      ]
     },
     "execution_count": 8,
     "metadata": {},
     "output_type": "execute_result"
    }
   ],
   "source": [
    "df2 = pd.DataFrame({'Category': ['A', 'B', 'C'], 'Values': [32, 43, 50]})\n",
    "df2"
   ]
  },
  {
   "cell_type": "code",
   "execution_count": 12,
   "metadata": {},
   "outputs": [
    {
     "data": {
      "text/plain": [
       "<AxesSubplot:>"
      ]
     },
     "execution_count": 12,
     "metadata": {},
     "output_type": "execute_result"
    },
    {
     "data": {
      "image/png": "[encoded data removed]",
      "text/plain": [
       "<Figure size 640x480 with 1 Axes>"
      ]
     },
     "metadata": {},
     "output_type": "display_data"
    }
   ],
   "source": [
    "df.plot()"
   ]
  },
  {
   "cell_type": "code",
   "execution_count": 13,
   "metadata": {},
   "outputs": [
    {
     "data": {
      "application/vnd.plotly.v1+json": {
       "config": {
        "linkText": "Export to plot.ly",
        "plotlyServerURL": "https://plot.ly",
        "showLink": true
       },
       "data": [
        {
         "line": {
          "color": "rgba(255, 153, 51, 1.0)",
          "dash": "solid",
          "shape": "linear",
          "width": 1.3
         },
         "mode": "lines",
         "name": "A",
         "text": "",
         "type": "scatter",
         "x": [
          0,
          1,
          2,
          3,
          4,
          5,
          6,
          7,
          8,
          9,
          10,
          11,
          12,
          13,
          14,
          15,
          16,
          17,
          18,
          19,
          20,
          21,
          22,
          23,
          24,
          25,
          26,
          27,
          28,
          29,
          30,
          31,
          32,
          33,
          34,
          35,
          36,
          37,
          38,
          39,
          40,
          41,
          42,
          43,
          44,
          45,
          46,
          47,
          48,
          49,
          50,
          51,
          52,
          53,
          54,
          55,
          56,
          57,
          58,
          59,
          60,
          61,
          62,
          63,
          64,
          65,
          66,
          67,
          68,
          69,
          70,
          71,
          72,
          73,
          74,
          75,
          76,
          77,
          78,
          79,
          80,
          81,
          82,
          83,
          84,
          85,
          86,
          87,
          88,
          89,
          90,
          91,
          92,
          93,
          94,
          95,
          96,
          97,
          98,
          99
         ],
         "y": [
          -0.10885847351151294,
          0.09968228043736554,
          -0.8641500448021835,
          0.38946228886209866,
          -0.7770036269217798,
          2.3588730184432016,
          1.562051288398869,
          0.07605439418663039,
          0.912717877662609,
          -0.5661466630732443,
          0.15027249585969116,
          -0.4556584761228636,
          0.7330115973669539,
          0.270546419853816,
          -0.5171511568557435,
          0.6144837230708565,
          -1.3075651835854845,
          -1.1219896050430447,
          0.05441883554658746,
          1.535619031172629,
          -0.9863215722815764,
          0.6961242561076794,
          0.08697726808705007,
          -0.057414641396003094,
          0.7335552092007928,
          0.5269636134982121,
          -0.47046371030295636,
          -0.9365373408183358,
          -0.02293781116985355,
          -0.6512104043803646,
          2.5508177224571607,
          -0.7665519295025828,
          -0.5778939635559637,
          -1.0108079345663405,
          0.5596080957499588,
          2.036755029958988,
          -0.11612807524088375,
          -0.14578115752350002,
          1.9809733239972844,
          0.20606800368987369,
          -1.4150543142095422,
          1.5171621691439114,
          1.789281156821119,
          1.0859845692218137,
          0.569850188094948,
          -0.5092600456498456,
          -0.5133673294741509,
          -0.17747214914436082,
          -0.28497893896678667,
          -1.017723548510392,
          -0.171222608370362,
          -0.6572538678650311,
          0.9974253025353275,
          0.15219540039653634,
          0.5866680040194782,
          -0.19001914914542503,
          0.5353419078118536,
          1.1152162652677877,
          2.97795797105388,
          0.9085279502252701,
          -0.17232731231989817,
          1.389245776868657,
          -0.5708394737976242,
          0.34436475178815107,
          -0.9150239338287431,
          0.5131055597150919,
          0.5031908634636201,
          2.238821334911018,
          -0.10669318171704228,
          0.7345420979543783,
          -2.062925100049065,
          -1.2413883423525092,
          -0.5724993827887654,
          0.859720954322044,
          1.1003071919413916,
          -0.471752236644702,
          0.46025542685963583,
          -0.1084369455556114,
          0.09639064705141714,
          -0.7616762580059623,
          -1.7826562298020405,
          -0.7257458029396603,
          -0.29848471990300596,
          0.2858439083232961,
          -0.3367202911240463,
          0.20527268466178267,
          0.36573323048382694,
          -0.578898295870351,
          1.6001728205820427,
          -1.4342738153944126,
          1.2548152560200398,
          -1.5076691281769783,
          1.3411368027344885,
          -0.27024403891496945,
          -1.4268485254400225,
          0.7432383970273235,
          -0.31907044797333006,
          0.036447356526887825,
          -0.8569238644208176,
          -0.5041947840868658
         ]
        },
        {
         "line": {
          "color": "rgba(55, 128, 191, 1.0)",
          "dash": "solid",
          "shape": "linear",
          "width": 1.3
         },
         "mode": "lines",
         "name": "B",
         "text": "",
         "type": "scatter",
         "x": [
          0,
          1,
          2,
          3,
          4,
          5,
          6,
          7,
          8,
          9,
          10,
          11,
          12,
          13,
          14,
          15,
          16,
          17,
          18,
          19,
          20,
          21,
          22,
          23,
          24,
          25,
          26,
          27,
          28,
          29,
          30,
          31,
          32,
          33,
          34,
          35,
          36,
          37,
          38,
          39,
          40,
          41,
          42,
          43,
          44,
          45,
          46,
          47,
          48,
          49,
          50,
          51,
          52,
          53,
          54,
          55,
          56,
          57,
          58,
          59,
          60,
          61,
          62,
          63,
          64,
          65,
          66,
          67,
          68,
          69,
          70,
          71,
          72,
          73,
          74,
          75,
          76,
          77,
          78,
          79,
          80,
          81,
          82,
          83,
          84,
          85,
          86,
          87,
          88,
          89,
          90,
          91,
          92,
          93,
          94,
          95,
          96,
          97,
          98,
          99
         ],
         "y": [
          -0.6607567515404839,
          0.6272057327377043,
          -0.29300459755897873,
          0.20396521190281927,
          -0.11254528632613671,
          1.175835792248741,
          -0.7377345445424521,
          0.356496022784465,
          1.3251418286139893,
          0.26885086019013144,
          1.122352095296499,
          0.24204159204449613,
          2.0123475931236077,
          0.5346441742217941,
          1.0238143940420046,
          0.8090796833083032,
          0.11313819918896648,
          2.24916865287664,
          0.012932222012098343,
          -0.40244432809040476,
          -0.2502753654633691,
          2.630557383226313,
          -0.7790771990625227,
          0.7355197860705898,
          -0.1943010347541226,
          1.2928782007154789,
          0.36572430645810655,
          -0.5392603452969593,
          -0.96023431045177,
          -0.09253815346977223,
          -0.4298824098705515,
          0.25425105887003596,
          -1.1674587129797283,
          -0.3840343408994587,
          1.3207712002551013,
          0.062356765784521456,
          0.9595537781702738,
          0.17240071462536052,
          -0.451261552754604,
          0.26033009506400173,
          -0.7193669753874455,
          1.3237640482815087,
          -0.27155167270699504,
          -0.19773330021703522,
          -0.07151638613211464,
          1.8903708416916005,
          -0.528035834561054,
          0.6244900423893583,
          -0.2651053906182809,
          1.5323114619010347,
          0.18001538721174082,
          0.9973476693237119,
          -1.58564522054993,
          1.1192253963894794,
          -0.5674695266246303,
          0.6634869383800137,
          0.2188382483231579,
          0.5690392046501117,
          -0.06603917493020449,
          -0.6105444992113863,
          1.736224515049627,
          1.8863963804057344,
          -2.0487797487038444,
          0.5047057902668708,
          -0.6634330645442947,
          -0.128018734829384,
          -1.0299738753476964,
          2.023938172106331,
          0.1957238535897606,
          0.14206388716721732,
          1.0228505986995695,
          -1.0652264255737482,
          0.6163051316586318,
          1.6022578249809882,
          -0.3526379835238936,
          -1.8418587223766436,
          -0.4754546562297881,
          -1.4657897646743254,
          1.291531251527738,
          0.6056778020888061,
          0.9618849334241207,
          -0.44070807412970214,
          0.6812198800439422,
          -0.48018367669432493,
          0.4450259781147967,
          2.1054135753292753,
          -0.47891017321267454,
          -0.11251171905452118,
          0.6272297098806351,
          0.29813117767436553,
          -0.9105125124581759,
          1.7637483257996116,
          0.49453904178321406,
          -0.09063675976922009,
          -1.2423412107676592,
          -0.24118324086440246,
          -0.019347818855389786,
          -0.7130858012841428,
          -1.2610100912832602,
          -0.31484580391977757
         ]
        },
        {
         "line": {
          "color": "rgba(50, 171, 96, 1.0)",
          "dash": "solid",
          "shape": "linear",
          "width": 1.3
         },
         "mode": "lines",
         "name": "C",
         "text": "",
         "type": "scatter",
         "x": [
          0,
          1,
          2,
          3,
          4,
          5,
          6,
          7,
          8,
          9,
          10,
          11,
          12,
          13,
          14,
          15,
          16,
          17,
          18,
          19,
          20,
          21,
          22,
          23,
          24,
          25,
          26,
          27,
          28,
          29,
          30,
          31,
          32,
          33,
          34,
          35,
          36,
          37,
          38,
          39,
          40,
          41,
          42,
          43,
          44,
          45,
          46,
          47,
          48,
          49,
          50,
          51,
          52,
          53,
          54,
          55,
          56,
          57,
          58,
          59,
          60,
          61,
          62,
          63,
          64,
          65,
          66,
          67,
          68,
          69,
          70,
          71,
          72,
          73,
          74,
          75,
          76,
          77,
          78,
          79,
          80,
          81,
          82,
          83,
          84,
          85,
          86,
          87,
          88,
          89,
          90,
          91,
          92,
          93,
          94,
          95,
          96,
          97,
          98,
          99
         ],
         "y": [
          -1.1850705897601521,
          0.3761853015697947,
          0.6110459988456458,
          -1.1768028229366025,
          -1.8791624168125693,
          0.7720022143913202,
          -0.0893252953640753,
          1.039617165143866,
          -1.1840500730866144,
          0.8321614602592408,
          -1.23455277623035,
          -0.45833727083862735,
          1.1220726165049657,
          -1.6993662515664683,
          -0.14563422452336208,
          1.3418892881012277,
          1.50209878924822,
          0.24571141525950582,
          0.05925381879943243,
          -0.27240713457746824,
          -1.4359134436838947,
          -0.1535578006726762,
          0.5498729377699436,
          0.24591207455672578,
          1.3805360456900502,
          0.3904135864126944,
          -0.13581271740313985,
          1.7919670799831404,
          -1.0691186588793753,
          0.8585148027138233,
          -1.5951986693599076,
          1.0672084944289593,
          -0.41400102595952526,
          0.5817627738163651,
          0.5463160836769827,
          0.6180931224205171,
          0.31803238575742915,
          -0.5322130273534613,
          -0.5751881023297809,
          0.11711464019563658,
          0.2897572354379959,
          1.5251213365214897,
          2.502241044697504,
          -1.0775812333428496,
          0.9486812060323532,
          -1.4647561857509215,
          -1.075799602815771,
          -1.2932427985412889,
          -2.2696972086862446,
          0.9265964698004169,
          1.3180662734154076,
          1.0018997845709618,
          0.9339443113262336,
          0.995991554991809,
          0.16810108485542855,
          -0.05498815547830166,
          0.6191963771853356,
          -0.6211415441654871,
          1.9225161963901454,
          1.109667351904907,
          -0.4935685586651885,
          0.18483082811965695,
          0.2809684300781559,
          0.47754509983688403,
          0.15121254491430586,
          0.6132749388640667,
          2.129186436169313,
          1.0793866064312156,
          -0.4251155688010225,
          -0.2732289516473583,
          2.190233874337507,
          -1.4633556292414922,
          0.5464474728462337,
          1.8843275926183498,
          0.5073523203734914,
          0.11719873637408908,
          -1.772536247751536,
          0.37253201209491427,
          0.8550798325709544,
          0.6108288171710052,
          0.31144479658230606,
          0.04129963382415682,
          -0.5721269602866565,
          -1.1644479731019926,
          -0.5732634166989471,
          0.41703832982192696,
          1.520779059735967,
          -0.8074484829813724,
          -0.47513098812332116,
          0.24978738197180275,
          0.1669708471442198,
          -0.13695759456345732,
          1.085459636883732,
          1.6927949085644212,
          -0.3703933092097937,
          2.9867423940495583,
          -0.18109202888901874,
          -0.2469751779320185,
          -0.34396759900202334,
          1.3071589983054204
         ]
        },
        {
         "line": {
          "color": "rgba(128, 0, 128, 1.0)",
          "dash": "solid",
          "shape": "linear",
          "width": 1.3
         },
         "mode": "lines",
         "name": "D",
         "text": "",
         "type": "scatter",
         "x": [
          0,
          1,
          2,
          3,
          4,
          5,
          6,
          7,
          8,
          9,
          10,
          11,
          12,
          13,
          14,
          15,
          16,
          17,
          18,
          19,
          20,
          21,
          22,
          23,
          24,
          25,
          26,
          27,
          28,
          29,
          30,
          31,
          32,
          33,
          34,
          35,
          36,
          37,
          38,
          39,
          40,
          41,
          42,
          43,
          44,
          45,
          46,
          47,
          48,
          49,
          50,
          51,
          52,
          53,
          54,
          55,
          56,
          57,
          58,
          59,
          60,
          61,
          62,
          63,
          64,
          65,
          66,
          67,
          68,
          69,
          70,
          71,
          72,
          73,
          74,
          75,
          76,
          77,
          78,
          79,
          80,
          81,
          82,
          83,
          84,
          85,
          86,
          87,
          88,
          89,
          90,
          91,
          92,
          93,
          94,
          95,
          96,
          97,
          98,
          99
         ],
         "y": [
          0.5899582634645533,
          1.5808432661410567,
          0.34561449097685376,
          0.2728656800844236,
          -1.447961115065258,
          2.0665441538512974,
          1.536102871801085,
          0.925032550192467,
          -0.6345781121065829,
          -0.3601240464778806,
          -0.7999400098410929,
          -0.15470059858329765,
          -0.43483484592130944,
          -0.35454673677398074,
          0.6447744653449229,
          -0.37007267827112644,
          -0.5137884466671174,
          -0.16163190054914361,
          0.7804774982243313,
          -1.9233162478024974,
          1.5642145003662575,
          0.4173143135774519,
          -0.4813792530028488,
          0.3346325722058072,
          0.09674982622146834,
          -0.1756837333246901,
          0.9544719059402534,
          0.13931926641473943,
          0.4758251660525391,
          0.2602469136562438,
          -0.2533319926943123,
          1.763038543212188,
          -0.1271926477483187,
          0.6107037143379589,
          0.3267620585475331,
          0.9771151901287334,
          -1.775591993226835,
          0.4553932067832489,
          -1.1869869920003338,
          -0.30170251482254495,
          -1.1015240044814973,
          1.4217312129727295,
          -0.6664042443191304,
          -0.8617929997942941,
          1.7151107629039979,
          -0.38786790728419923,
          -1.5151051299366691,
          0.7109736871683429,
          -0.5208399147575378,
          -1.4862278327670115,
          -0.597605169046876,
          1.2426494433850057,
          1.7304577081528194,
          2.0059871958872844,
          -0.11974170867041577,
          -0.427998606749268,
          -0.07537287026650681,
          -0.87845548354086,
          0.9573479344815539,
          0.8071827997132053,
          -1.5476415134654689,
          -0.09402161523384257,
          -1.3154429788134763,
          0.738515850070673,
          0.007230389499876916,
          -0.2777361675822311,
          0.8153060852341795,
          -0.7079225037795478,
          -1.1383801646246323,
          1.0920744651831522,
          -0.030415729816667392,
          0.38203906400697824,
          0.30736386123118487,
          0.7078437185790925,
          -1.3004929568091852,
          -0.3245924863618333,
          -1.587873057747594,
          -0.2517083843878335,
          1.1701108332499774,
          -0.03767379337014992,
          2.717620846113011,
          -0.7729456312276415,
          -0.45856923111916303,
          1.1541410223539503,
          1.1436737062336637,
          -0.28200407130511806,
          -0.069434709469561,
          0.5707763364559357,
          -0.5984913824920475,
          -2.228669894005689,
          -0.784083983517904,
          0.1751517676737111,
          0.1863769684271199,
          0.5051819931537751,
          0.504800375706003,
          0.22804895723717042,
          0.7626066697825327,
          -1.316304447931998,
          -1.5186647281420522,
          -1.5806817324477638
         ]
        }
       ],
       "layout": {
        "legend": {
         "bgcolor": "#F5F6F9",
         "font": {
          "color": "#4D5663"
         }
        },
        "paper_bgcolor": "#F5F6F9",
        "plot_bgcolor": "#F5F6F9",
        "template": {
         "data": {
          "bar": [
           {
            "error_x": {
             "color": "#2a3f5f"
            },
            "error_y": {
             "color": "#2a3f5f"
            },
            "marker": {
             "line": {
              "color": "#E5ECF6",
              "width": 0.5
             },
             "pattern": {
              "fillmode": "overlay",
              "size": 10,
              "solidity": 0.2
             }
            },
            "type": "bar"
           }
          ],
          "barpolar": [
           {
            "marker": {
             "line": {
              "color": "#E5ECF6",
              "width": 0.5
             },
             "pattern": {
              "fillmode": "overlay",
              "size": 10,
              "solidity": 0.2
             }
            },
            "type": "barpolar"
           }
          ],
          "carpet": [
           {
            "aaxis": {
             "endlinecolor": "#2a3f5f",
             "gridcolor": "white",
             "linecolor": "white",
             "minorgridcolor": "white",
             "startlinecolor": "#2a3f5f"
            },
            "baxis": {
             "endlinecolor": "#2a3f5f",
             "gridcolor": "white",
             "linecolor": "white",
             "minorgridcolor": "white",
             "startlinecolor": "#2a3f5f"
            },
            "type": "carpet"
           }
          ],
          "choropleth": [
           {
            "colorbar": {
             "outlinewidth": 0,
             "ticks": ""
            },
            "type": "choropleth"
           }
          ],
          "contour": [
           {
            "colorbar": {
             "outlinewidth": 0,
             "ticks": ""
            },
            "colorscale": [
             [
              0,
              "#0d0887"
             ],
             [
              0.1111111111111111,
              "#46039f"
             ],
             [
              0.2222222222222222,
              "#7201a8"
             ],
             [
              0.3333333333333333,
              "#9c179e"
             ],
             [
              0.4444444444444444,
              "#bd3786"
             ],
             [
              0.5555555555555556,
              "#d8576b"
             ],
             [
              0.6666666666666666,
              "#ed7953"
             ],
             [
              0.7777777777777778,
              "#fb9f3a"
             ],
             [
              0.8888888888888888,
              "#fdca26"
             ],
             [
              1,
              "#f0f921"
             ]
            ],
            "type": "contour"
           }
          ],
          "contourcarpet": [
           {
            "colorbar": {
             "outlinewidth": 0,
             "ticks": ""
            },
            "type": "contourcarpet"
           }
          ],
          "heatmap": [
           {
            "colorbar": {
             "outlinewidth": 0,
             "ticks": ""
            },
            "colorscale": [
             [
              0,
              "#0d0887"
             ],
             [
              0.1111111111111111,
              "#46039f"
             ],
             [
              0.2222222222222222,
              "#7201a8"
             ],
             [
              0.3333333333333333,
              "#9c179e"
             ],
             [
              0.4444444444444444,
              "#bd3786"
             ],
             [
              0.5555555555555556,
              "#d8576b"
             ],
             [
              0.6666666666666666,
              "#ed7953"
             ],
             [
              0.7777777777777778,
              "#fb9f3a"
             ],
             [
              0.8888888888888888,
              "#fdca26"
             ],
             [
              1,
              "#f0f921"
             ]
            ],
            "type": "heatmap"
           }
          ],
          "heatmapgl": [
           {
            "colorbar": {
             "outlinewidth": 0,
             "ticks": ""
            },
            "colorscale": [
             [
              0,
              "#0d0887"
             ],
             [
              0.1111111111111111,
              "#46039f"
             ],
             [
              0.2222222222222222,
              "#7201a8"
             ],
             [
              0.3333333333333333,
              "#9c179e"
             ],
             [
              0.4444444444444444,
              "#bd3786"
             ],
             [
              0.5555555555555556,
              "#d8576b"
             ],
             [
              0.6666666666666666,
              "#ed7953"
             ],
             [
              0.7777777777777778,
              "#fb9f3a"
             ],
             [
              0.8888888888888888,
              "#fdca26"
             ],
             [
              1,
              "#f0f921"
             ]
            ],
            "type": "heatmapgl"
           }
          ],
          "histogram": [
           {
            "marker": {
             "pattern": {
              "fillmode": "overlay",
              "size": 10,
              "solidity": 0.2
             }
            },
            "type": "histogram"
           }
          ],
          "histogram2d": [
           {
            "colorbar": {
             "outlinewidth": 0,
             "ticks": ""
            },
            "colorscale": [
             [
              0,
              "#0d0887"
             ],
             [
              0.1111111111111111,
              "#46039f"
             ],
             [
              0.2222222222222222,
              "#7201a8"
             ],
             [
              0.3333333333333333,
              "#9c179e"
             ],
             [
              0.4444444444444444,
              "#bd3786"
             ],
             [
              0.5555555555555556,
              "#d8576b"
             ],
             [
              0.6666666666666666,
              "#ed7953"
             ],
             [
              0.7777777777777778,
              "#fb9f3a"
             ],
             [
              0.8888888888888888,
              "#fdca26"
             ],
             [
              1,
              "#f0f921"
             ]
            ],
            "type": "histogram2d"
           }
          ],
          "histogram2dcontour": [
           {
            "colorbar": {
             "outlinewidth": 0,
             "ticks": ""
            },
            "colorscale": [
             [
              0,
              "#0d0887"
             ],
             [
              0.1111111111111111,
              "#46039f"
             ],
             [
              0.2222222222222222,
              "#7201a8"
             ],
             [
              0.3333333333333333,
              "#9c179e"
             ],
             [
              0.4444444444444444,
              "#bd3786"
             ],
             [
              0.5555555555555556,
              "#d8576b"
             ],
             [
              0.6666666666666666,
              "#ed7953"
             ],
             [
              0.7777777777777778,
              "#fb9f3a"
             ],
             [
              0.8888888888888888,
              "#fdca26"
             ],
             [
              1,
              "#f0f921"
             ]
            ],
            "type": "histogram2dcontour"
           }
          ],
          "mesh3d": [
           {
            "colorbar": {
             "outlinewidth": 0,
             "ticks": ""
            },
            "type": "mesh3d"
           }
          ],
          "parcoords": [
           {
            "line": {
             "colorbar": {
              "outlinewidth": 0,
              "ticks": ""
             }
            },
            "type": "parcoords"
           }
          ],
          "pie": [
           {
            "automargin": true,
            "type": "pie"
           }
          ],
          "scatter": [
           {
            "fillpattern": {
             "fillmode": "overlay",
             "size": 10,
             "solidity": 0.2
            },
            "type": "scatter"
           }
          ],
          "scatter3d": [
           {
            "line": {
             "colorbar": {
              "outlinewidth": 0,
              "ticks": ""
             }
            },
            "marker": {
             "colorbar": {
              "outlinewidth": 0,
              "ticks": ""
             }
            },
            "type": "scatter3d"
           }
          ],
          "scattercarpet": [
           {
            "marker": {
             "colorbar": {
              "outlinewidth": 0,
              "ticks": ""
             }
            },
            "type": "scattercarpet"
           }
          ],
          "scattergeo": [
           {
            "marker": {
             "colorbar": {
              "outlinewidth": 0,
              "ticks": ""
             }
            },
            "type": "scattergeo"
           }
          ],
          "scattergl": [
           {
            "marker": {
             "colorbar": {
              "outlinewidth": 0,
              "ticks": ""
             }
            },
            "type": "scattergl"
           }
          ],
          "scattermapbox": [
           {
            "marker": {
             "colorbar": {
              "outlinewidth": 0,
              "ticks": ""
             }
            },
            "type": "scattermapbox"
           }
          ],
          "scatterpolar": [
           {
            "marker": {
             "colorbar": {
              "outlinewidth": 0,
              "ticks": ""
             }
            },
            "type": "scatterpolar"
           }
          ],
          "scatterpolargl": [
           {
            "marker": {
             "colorbar": {
              "outlinewidth": 0,
              "ticks": ""
             }
            },
            "type": "scatterpolargl"
           }
          ],
          "scatterternary": [
           {
            "marker": {
             "colorbar": {
              "outlinewidth": 0,
              "ticks": ""
             }
            },
            "type": "scatterternary"
           }
          ],
          "surface": [
           {
            "colorbar": {
             "outlinewidth": 0,
             "ticks": ""
            },
            "colorscale": [
             [
              0,
              "#0d0887"
             ],
             [
              0.1111111111111111,
              "#46039f"
             ],
             [
              0.2222222222222222,
              "#7201a8"
             ],
             [
              0.3333333333333333,
              "#9c179e"
             ],
             [
              0.4444444444444444,
              "#bd3786"
             ],
             [
              0.5555555555555556,
              "#d8576b"
             ],
             [
              0.6666666666666666,
              "#ed7953"
             ],
             [
              0.7777777777777778,
              "#fb9f3a"
             ],
             [
              0.8888888888888888,
              "#fdca26"
             ],
             [
              1,
              "#f0f921"
             ]
            ],
            "type": "surface"
           }
          ],
          "table": [
           {
            "cells": {
             "fill": {
              "color": "#EBF0F8"
             },
             "line": {
              "color": "white"
             }
            },
            "header": {
             "fill": {
              "color": "#C8D4E3"
             },
             "line": {
              "color": "white"
             }
            },
            "type": "table"
           }
          ]
         },
         "layout": {
          "annotationdefaults": {
           "arrowcolor": "#2a3f5f",
           "arrowhead": 0,
           "arrowwidth": 1
          },
          "autotypenumbers": "strict",
          "coloraxis": {
           "colorbar": {
            "outlinewidth": 0,
            "ticks": ""
           }
          },
          "colorscale": {
           "diverging": [
            [
             0,
             "#8e0152"
            ],
            [
             0.1,
             "#c51b7d"
            ],
            [
             0.2,
             "#de77ae"
            ],
            [
             0.3,
             "#f1b6da"
            ],
            [
             0.4,
             "#fde0ef"
            ],
            [
             0.5,
             "#f7f7f7"
            ],
            [
             0.6,
             "#e6f5d0"
            ],
            [
             0.7,
             "#b8e186"
            ],
            [
             0.8,
             "#7fbc41"
            ],
            [
             0.9,
             "#4d9221"
            ],
            [
             1,
             "#276419"
            ]
           ],
           "sequential": [
            [
             0,
             "#0d0887"
            ],
            [
             0.1111111111111111,
             "#46039f"
            ],
            [
             0.2222222222222222,
             "#7201a8"
            ],
            [
             0.3333333333333333,
             "#9c179e"
            ],
            [
             0.4444444444444444,
             "#bd3786"
            ],
            [
             0.5555555555555556,
             "#d8576b"
            ],
            [
             0.6666666666666666,
             "#ed7953"
            ],
            [
             0.7777777777777778,
             "#fb9f3a"
            ],
            [
             0.8888888888888888,
             "#fdca26"
            ],
            [
             1,
             "#f0f921"
            ]
           ],
           "sequentialminus": [
            [
             0,
             "#0d0887"
            ],
            [
             0.1111111111111111,
             "#46039f"
            ],
            [
             0.2222222222222222,
             "#7201a8"
            ],
            [
             0.3333333333333333,
             "#9c179e"
            ],
            [
             0.4444444444444444,
             "#bd3786"
            ],
            [
             0.5555555555555556,
             "#d8576b"
            ],
            [
             0.6666666666666666,
             "#ed7953"
            ],
            [
             0.7777777777777778,
             "#fb9f3a"
            ],
            [
             0.8888888888888888,
             "#fdca26"
            ],
            [
             1,
             "#f0f921"
            ]
           ]
          },
          "colorway": [
           "#636efa",
           "#EF553B",
           "#00cc96",
           "#ab63fa",
           "#FFA15A",
           "#19d3f3",
           "#FF6692",
           "#B6E880",
           "#FF97FF",
           "#FECB52"
          ],
          "font": {
           "color": "#2a3f5f"
          },
          "geo": {
           "bgcolor": "white",
           "lakecolor": "white",
           "landcolor": "#E5ECF6",
           "showlakes": true,
           "showland": true,
           "subunitcolor": "white"
          },
          "hoverlabel": {
           "align": "left"
          },
          "hovermode": "closest",
          "mapbox": {
           "style": "light"
          },
          "paper_bgcolor": "white",
          "plot_bgcolor": "#E5ECF6",
          "polar": {
           "angularaxis": {
            "gridcolor": "white",
            "linecolor": "white",
            "ticks": ""
           },
           "bgcolor": "#E5ECF6",
           "radialaxis": {
            "gridcolor": "white",
            "linecolor": "white",
            "ticks": ""
           }
          },
          "scene": {
           "xaxis": {
            "backgroundcolor": "#E5ECF6",
            "gridcolor": "white",
            "gridwidth": 2,
            "linecolor": "white",
            "showbackground": true,
            "ticks": "",
            "zerolinecolor": "white"
           },
           "yaxis": {
            "backgroundcolor": "#E5ECF6",
            "gridcolor": "white",
            "gridwidth": 2,
            "linecolor": "white",
            "showbackground": true,
            "ticks": "",
            "zerolinecolor": "white"
           },
           "zaxis": {
            "backgroundcolor": "#E5ECF6",
            "gridcolor": "white",
            "gridwidth": 2,
            "linecolor": "white",
            "showbackground": true,
            "ticks": "",
            "zerolinecolor": "white"
           }
          },
          "shapedefaults": {
           "line": {
            "color": "#2a3f5f"
           }
          },
          "ternary": {
           "aaxis": {
            "gridcolor": "white",
            "linecolor": "white",
            "ticks": ""
           },
           "baxis": {
            "gridcolor": "white",
            "linecolor": "white",
            "ticks": ""
           },
           "bgcolor": "#E5ECF6",
           "caxis": {
            "gridcolor": "white",
            "linecolor": "white",
            "ticks": ""
           }
          },
          "title": {
           "x": 0.05
          },
          "xaxis": {
           "automargin": true,
           "gridcolor": "white",
           "linecolor": "white",
           "ticks": "",
           "title": {
            "standoff": 15
           },
           "zerolinecolor": "white",
           "zerolinewidth": 2
          },
          "yaxis": {
           "automargin": true,
           "gridcolor": "white",
           "linecolor": "white",
           "ticks": "",
           "title": {
            "standoff": 15
           },
           "zerolinecolor": "white",
           "zerolinewidth": 2
          }
         }
        },
        "title": {
         "font": {
          "color": "#4D5663"
         }
        },
        "xaxis": {
         "gridcolor": "#E1E5ED",
         "showgrid": true,
         "tickfont": {
          "color": "#4D5663"
         },
         "title": {
          "font": {
           "color": "#4D5663"
          },
          "text": ""
         },
         "zerolinecolor": "#E1E5ED"
        },
        "yaxis": {
         "gridcolor": "#E1E5ED",
         "showgrid": true,
         "tickfont": {
          "color": "#4D5663"
         },
         "title": {
          "font": {
           "color": "#4D5663"
          },
          "text": ""
         },
         "zerolinecolor": "#E1E5ED"
        }
       }
      },
      "text/html": [
       "<div>                            <div id=\"be78ea51-56df-4327-9efd-a3c0c2c9ed3b\" class=\"plotly-graph-div\" style=\"height:525px; width:100%;\"></div>            <script type=\"text/javascript\">                require([\"plotly\"], function(Plotly) {                    window.PLOTLYENV=window.PLOTLYENV || {};\n",
       "                    window.PLOTLYENV.BASE_URL='https://plot.ly';                                    if (document.getElementById(\"be78ea51-56df-4327-9efd-a3c0c2c9ed3b\")) {                    Plotly.newPlot(                        \"be78ea51-56df-4327-9efd-a3c0c2c9ed3b\",                        [{\"line\":{\"color\":\"rgba(255, 153, 51, 1.0)\",\"dash\":\"solid\",\"shape\":\"linear\",\"width\":1.3},\"mode\":\"lines\",\"name\":\"A\",\"text\":\"\",\"x\":[0,1,2,3,4,5,6,7,8,9,10,11,12,13,14,15,16,17,18,19,20,21,22,23,24,25,26,27,28,29,30,31,32,33,34,35,36,37,38,39,40,41,42,43,44,45,46,47,48,49,50,51,52,53,54,55,56,57,58,59,60,61,62,63,64,65,66,67,68,69,70,71,72,73,74,75,76,77,78,79,80,81,82,83,84,85,86,87,88,89,90,91,92,93,94,95,96,97,98,99],\"y\":[-0.10885847351151294,0.09968228043736554,-0.8641500448021835,0.38946228886209866,-0.7770036269217798,2.3588730184432016,1.562051288398869,0.07605439418663039,0.912717877662609,-0.5661466630732443,0.15027249585969116,-0.4556584761228636,0.7330115973669539,0.270546419853816,-0.5171511568557435,0.6144837230708565,-1.3075651835854845,-1.1219896050430447,0.05441883554658746,1.535619031172629,-0.9863215722815764,0.6961242561076794,0.08697726808705007,-0.057414641396003094,0.7335552092007928,0.5269636134982121,-0.47046371030295636,-0.9365373408183358,-0.02293781116985355,-0.6512104043803646,2.5508177224571607,-0.7665519295025828,-0.5778939635559637,-1.0108079345663405,0.5596080957499588,2.036755029958988,-0.11612807524088375,-0.14578115752350002,1.9809733239972844,0.20606800368987369,-1.4150543142095422,1.5171621691439114,1.789281156821119,1.0859845692218137,0.569850188094948,-0.5092600456498456,-0.5133673294741509,-0.17747214914436082,-0.28497893896678667,-1.017723548510392,-0.171222608370362,-0.6572538678650311,0.9974253025353275,0.15219540039653634,0.5866680040194782,-0.19001914914542503,0.5353419078118536,1.1152162652677877,2.97795797105388,0.9085279502252701,-0.17232731231989817,1.389245776868657,-0.5708394737976242,0.34436475178815107,-0.9150239338287431,0.5131055597150919,0.5031908634636201,2.238821334911018,-0.10669318171704228,0.7345420979543783,-2.062925100049065,-1.2413883423525092,-0.5724993827887654,0.859720954322044,1.1003071919413916,-0.471752236644702,0.46025542685963583,-0.1084369455556114,0.09639064705141714,-0.7616762580059623,-1.7826562298020405,-0.7257458029396603,-0.29848471990300596,0.2858439083232961,-0.3367202911240463,0.20527268466178267,0.36573323048382694,-0.578898295870351,1.6001728205820427,-1.4342738153944126,1.2548152560200398,-1.5076691281769783,1.3411368027344885,-0.27024403891496945,-1.4268485254400225,0.7432383970273235,-0.31907044797333006,0.036447356526887825,-0.8569238644208176,-0.5041947840868658],\"type\":\"scatter\"},{\"line\":{\"color\":\"rgba(55, 128, 191, 1.0)\",\"dash\":\"solid\",\"shape\":\"linear\",\"width\":1.3},\"mode\":\"lines\",\"name\":\"B\",\"text\":\"\",\"x\":[0,1,2,3,4,5,6,7,8,9,10,11,12,13,14,15,16,17,18,19,20,21,22,23,24,25,26,27,28,29,30,31,32,33,34,35,36,37,38,39,40,41,42,43,44,45,46,47,48,49,50,51,52,53,54,55,56,57,58,59,60,61,62,63,64,65,66,67,68,69,70,71,72,73,74,75,76,77,78,79,80,81,82,83,84,85,86,87,88,89,90,91,92,93,94,95,96,97,98,99],\"y\":[-0.6607567515404839,0.6272057327377043,-0.29300459755897873,0.20396521190281927,-0.11254528632613671,1.175835792248741,-0.7377345445424521,0.356496022784465,1.3251418286139893,0.26885086019013144,1.122352095296499,0.24204159204449613,2.0123475931236077,0.5346441742217941,1.0238143940420046,0.8090796833083032,0.11313819918896648,2.24916865287664,0.012932222012098343,-0.40244432809040476,-0.2502753654633691,2.630557383226313,-0.7790771990625227,0.7355197860705898,-0.1943010347541226,1.2928782007154789,0.36572430645810655,-0.5392603452969593,-0.96023431045177,-0.09253815346977223,-0.4298824098705515,0.25425105887003596,-1.1674587129797283,-0.3840343408994587,1.3207712002551013,0.062356765784521456,0.9595537781702738,0.17240071462536052,-0.451261552754604,0.26033009506400173,-0.7193669753874455,1.3237640482815087,-0.27155167270699504,-0.19773330021703522,-0.07151638613211464,1.8903708416916005,-0.528035834561054,0.6244900423893583,-0.2651053906182809,1.5323114619010347,0.18001538721174082,0.9973476693237119,-1.58564522054993,1.1192253963894794,-0.5674695266246303,0.6634869383800137,0.2188382483231579,0.5690392046501117,-0.06603917493020449,-0.6105444992113863,1.736224515049627,1.8863963804057344,-2.0487797487038444,0.5047057902668708,-0.6634330645442947,-0.128018734829384,-1.0299738753476964,2.023938172106331,0.1957238535897606,0.14206388716721732,1.0228505986995695,-1.0652264255737482,0.6163051316586318,1.6022578249809882,-0.3526379835238936,-1.8418587223766436,-0.4754546562297881,-1.4657897646743254,1.291531251527738,0.6056778020888061,0.9618849334241207,-0.44070807412970214,0.6812198800439422,-0.48018367669432493,0.4450259781147967,2.1054135753292753,-0.47891017321267454,-0.11251171905452118,0.6272297098806351,0.29813117767436553,-0.9105125124581759,1.7637483257996116,0.49453904178321406,-0.09063675976922009,-1.2423412107676592,-0.24118324086440246,-0.019347818855389786,-0.7130858012841428,-1.2610100912832602,-0.31484580391977757],\"type\":\"scatter\"},{\"line\":{\"color\":\"rgba(50, 171, 96, 1.0)\",\"dash\":\"solid\",\"shape\":\"linear\",\"width\":1.3},\"mode\":\"lines\",\"name\":\"C\",\"text\":\"\",\"x\":[0,1,2,3,4,5,6,7,8,9,10,11,12,13,14,15,16,17,18,19,20,21,22,23,24,25,26,27,28,29,30,31,32,33,34,35,36,37,38,39,40,41,42,43,44,45,46,47,48,49,50,51,52,53,54,55,56,57,58,59,60,61,62,63,64,65,66,67,68,69,70,71,72,73,74,75,76,77,78,79,80,81,82,83,84,85,86,87,88,89,90,91,92,93,94,95,96,97,98,99],\"y\":[-1.1850705897601521,0.3761853015697947,0.6110459988456458,-1.1768028229366025,-1.8791624168125693,0.7720022143913202,-0.0893252953640753,1.039617165143866,-1.1840500730866144,0.8321614602592408,-1.23455277623035,-0.45833727083862735,1.1220726165049657,-1.6993662515664683,-0.14563422452336208,1.3418892881012277,1.50209878924822,0.24571141525950582,0.05925381879943243,-0.27240713457746824,-1.4359134436838947,-0.1535578006726762,0.5498729377699436,0.24591207455672578,1.3805360456900502,0.3904135864126944,-0.13581271740313985,1.7919670799831404,-1.0691186588793753,0.8585148027138233,-1.5951986693599076,1.0672084944289593,-0.41400102595952526,0.5817627738163651,0.5463160836769827,0.6180931224205171,0.31803238575742915,-0.5322130273534613,-0.5751881023297809,0.11711464019563658,0.2897572354379959,1.5251213365214897,2.502241044697504,-1.0775812333428496,0.9486812060323532,-1.4647561857509215,-1.075799602815771,-1.2932427985412889,-2.2696972086862446,0.9265964698004169,1.3180662734154076,1.0018997845709618,0.9339443113262336,0.995991554991809,0.16810108485542855,-0.05498815547830166,0.6191963771853356,-0.6211415441654871,1.9225161963901454,1.109667351904907,-0.4935685586651885,0.18483082811965695,0.2809684300781559,0.47754509983688403,0.15121254491430586,0.6132749388640667,2.129186436169313,1.0793866064312156,-0.4251155688010225,-0.2732289516473583,2.190233874337507,-1.4633556292414922,0.5464474728462337,1.8843275926183498,0.5073523203734914,0.11719873637408908,-1.772536247751536,0.37253201209491427,0.8550798325709544,0.6108288171710052,0.31144479658230606,0.04129963382415682,-0.5721269602866565,-1.1644479731019926,-0.5732634166989471,0.41703832982192696,1.520779059735967,-0.8074484829813724,-0.47513098812332116,0.24978738197180275,0.1669708471442198,-0.13695759456345732,1.085459636883732,1.6927949085644212,-0.3703933092097937,2.9867423940495583,-0.18109202888901874,-0.2469751779320185,-0.34396759900202334,1.3071589983054204],\"type\":\"scatter\"},{\"line\":{\"color\":\"rgba(128, 0, 128, 1.0)\",\"dash\":\"solid\",\"shape\":\"linear\",\"width\":1.3},\"mode\":\"lines\",\"name\":\"D\",\"text\":\"\",\"x\":[0,1,2,3,4,5,6,7,8,9,10,11,12,13,14,15,16,17,18,19,20,21,22,23,24,25,26,27,28,29,30,31,32,33,34,35,36,37,38,39,40,41,42,43,44,45,46,47,48,49,50,51,52,53,54,55,56,57,58,59,60,61,62,63,64,65,66,67,68,69,70,71,72,73,74,75,76,77,78,79,80,81,82,83,84,85,86,87,88,89,90,91,92,93,94,95,96,97,98,99],\"y\":[0.5899582634645533,1.5808432661410567,0.34561449097685376,0.2728656800844236,-1.447961115065258,2.0665441538512974,1.536102871801085,0.925032550192467,-0.6345781121065829,-0.3601240464778806,-0.7999400098410929,-0.15470059858329765,-0.43483484592130944,-0.35454673677398074,0.6447744653449229,-0.37007267827112644,-0.5137884466671174,-0.16163190054914361,0.7804774982243313,-1.9233162478024974,1.5642145003662575,0.4173143135774519,-0.4813792530028488,0.3346325722058072,0.09674982622146834,-0.1756837333246901,0.9544719059402534,0.13931926641473943,0.4758251660525391,0.2602469136562438,-0.2533319926943123,1.763038543212188,-0.1271926477483187,0.6107037143379589,0.3267620585475331,0.9771151901287334,-1.775591993226835,0.4553932067832489,-1.1869869920003338,-0.30170251482254495,-1.1015240044814973,1.4217312129727295,-0.6664042443191304,-0.8617929997942941,1.7151107629039979,-0.38786790728419923,-1.5151051299366691,0.7109736871683429,-0.5208399147575378,-1.4862278327670115,-0.597605169046876,1.2426494433850057,1.7304577081528194,2.0059871958872844,-0.11974170867041577,-0.427998606749268,-0.07537287026650681,-0.87845548354086,0.9573479344815539,0.8071827997132053,-1.5476415134654689,-0.09402161523384257,-1.3154429788134763,0.738515850070673,0.007230389499876916,-0.2777361675822311,0.8153060852341795,-0.7079225037795478,-1.1383801646246323,1.0920744651831522,-0.030415729816667392,0.38203906400697824,0.30736386123118487,0.7078437185790925,-1.3004929568091852,-0.3245924863618333,-1.587873057747594,-0.2517083843878335,1.1701108332499774,-0.03767379337014992,2.717620846113011,-0.7729456312276415,-0.45856923111916303,1.1541410223539503,1.1436737062336637,-0.28200407130511806,-0.069434709469561,0.5707763364559357,-0.5984913824920475,-2.228669894005689,-0.784083983517904,0.1751517676737111,0.1863769684271199,0.5051819931537751,0.504800375706003,0.22804895723717042,0.7626066697825327,-1.316304447931998,-1.5186647281420522,-1.5806817324477638],\"type\":\"scatter\"}],                        {\"legend\":{\"bgcolor\":\"#F5F6F9\",\"font\":{\"color\":\"#4D5663\"}},\"paper_bgcolor\":\"#F5F6F9\",\"plot_bgcolor\":\"#F5F6F9\",\"template\":{\"data\":{\"barpolar\":[{\"marker\":{\"line\":{\"color\":\"#E5ECF6\",\"width\":0.5},\"pattern\":{\"fillmode\":\"overlay\",\"size\":10,\"solidity\":0.2}},\"type\":\"barpolar\"}],\"bar\":[{\"error_x\":{\"color\":\"#2a3f5f\"},\"error_y\":{\"color\":\"#2a3f5f\"},\"marker\":{\"line\":{\"color\":\"#E5ECF6\",\"width\":0.5},\"pattern\":{\"fillmode\":\"overlay\",\"size\":10,\"solidity\":0.2}},\"type\":\"bar\"}],\"carpet\":[{\"aaxis\":{\"endlinecolor\":\"#2a3f5f\",\"gridcolor\":\"white\",\"linecolor\":\"white\",\"minorgridcolor\":\"white\",\"startlinecolor\":\"#2a3f5f\"},\"baxis\":{\"endlinecolor\":\"#2a3f5f\",\"gridcolor\":\"white\",\"linecolor\":\"white\",\"minorgridcolor\":\"white\",\"startlinecolor\":\"#2a3f5f\"},\"type\":\"carpet\"}],\"choropleth\":[{\"colorbar\":{\"outlinewidth\":0,\"ticks\":\"\"},\"type\":\"choropleth\"}],\"contourcarpet\":[{\"colorbar\":{\"outlinewidth\":0,\"ticks\":\"\"},\"type\":\"contourcarpet\"}],\"contour\":[{\"colorbar\":{\"outlinewidth\":0,\"ticks\":\"\"},\"colorscale\":[[0.0,\"#0d0887\"],[0.1111111111111111,\"#46039f\"],[0.2222222222222222,\"#7201a8\"],[0.3333333333333333,\"#9c179e\"],[0.4444444444444444,\"#bd3786\"],[0.5555555555555556,\"#d8576b\"],[0.6666666666666666,\"#ed7953\"],[0.7777777777777778,\"#fb9f3a\"],[0.8888888888888888,\"#fdca26\"],[1.0,\"#f0f921\"]],\"type\":\"contour\"}],\"heatmapgl\":[{\"colorbar\":{\"outlinewidth\":0,\"ticks\":\"\"},\"colorscale\":[[0.0,\"#0d0887\"],[0.1111111111111111,\"#46039f\"],[0.2222222222222222,\"#7201a8\"],[0.3333333333333333,\"#9c179e\"],[0.4444444444444444,\"#bd3786\"],[0.5555555555555556,\"#d8576b\"],[0.6666666666666666,\"#ed7953\"],[0.7777777777777778,\"#fb9f3a\"],[0.8888888888888888,\"#fdca26\"],[1.0,\"#f0f921\"]],\"type\":\"heatmapgl\"}],\"heatmap\":[{\"colorbar\":{\"outlinewidth\":0,\"ticks\":\"\"},\"colorscale\":[[0.0,\"#0d0887\"],[0.1111111111111111,\"#46039f\"],[0.2222222222222222,\"#7201a8\"],[0.3333333333333333,\"#9c179e\"],[0.4444444444444444,\"#bd3786\"],[0.5555555555555556,\"#d8576b\"],[0.6666666666666666,\"#ed7953\"],[0.7777777777777778,\"#fb9f3a\"],[0.8888888888888888,\"#fdca26\"],[1.0,\"#f0f921\"]],\"type\":\"heatmap\"}],\"histogram2dcontour\":[{\"colorbar\":{\"outlinewidth\":0,\"ticks\":\"\"},\"colorscale\":[[0.0,\"#0d0887\"],[0.1111111111111111,\"#46039f\"],[0.2222222222222222,\"#7201a8\"],[0.3333333333333333,\"#9c179e\"],[0.4444444444444444,\"#bd3786\"],[0.5555555555555556,\"#d8576b\"],[0.6666666666666666,\"#ed7953\"],[0.7777777777777778,\"#fb9f3a\"],[0.8888888888888888,\"#fdca26\"],[1.0,\"#f0f921\"]],\"type\":\"histogram2dcontour\"}],\"histogram2d\":[{\"colorbar\":{\"outlinewidth\":0,\"ticks\":\"\"},\"colorscale\":[[0.0,\"#0d0887\"],[0.1111111111111111,\"#46039f\"],[0.2222222222222222,\"#7201a8\"],[0.3333333333333333,\"#9c179e\"],[0.4444444444444444,\"#bd3786\"],[0.5555555555555556,\"#d8576b\"],[0.6666666666666666,\"#ed7953\"],[0.7777777777777778,\"#fb9f3a\"],[0.8888888888888888,\"#fdca26\"],[1.0,\"#f0f921\"]],\"type\":\"histogram2d\"}],\"histogram\":[{\"marker\":{\"pattern\":{\"fillmode\":\"overlay\",\"size\":10,\"solidity\":0.2}},\"type\":\"histogram\"}],\"mesh3d\":[{\"colorbar\":{\"outlinewidth\":0,\"ticks\":\"\"},\"type\":\"mesh3d\"}],\"parcoords\":[{\"line\":{\"colorbar\":{\"outlinewidth\":0,\"ticks\":\"\"}},\"type\":\"parcoords\"}],\"pie\":[{\"automargin\":true,\"type\":\"pie\"}],\"scatter3d\":[{\"line\":{\"colorbar\":{\"outlinewidth\":0,\"ticks\":\"\"}},\"marker\":{\"colorbar\":{\"outlinewidth\":0,\"ticks\":\"\"}},\"type\":\"scatter3d\"}],\"scattercarpet\":[{\"marker\":{\"colorbar\":{\"outlinewidth\":0,\"ticks\":\"\"}},\"type\":\"scattercarpet\"}],\"scattergeo\":[{\"marker\":{\"colorbar\":{\"outlinewidth\":0,\"ticks\":\"\"}},\"type\":\"scattergeo\"}],\"scattergl\":[{\"marker\":{\"colorbar\":{\"outlinewidth\":0,\"ticks\":\"\"}},\"type\":\"scattergl\"}],\"scattermapbox\":[{\"marker\":{\"colorbar\":{\"outlinewidth\":0,\"ticks\":\"\"}},\"type\":\"scattermapbox\"}],\"scatterpolargl\":[{\"marker\":{\"colorbar\":{\"outlinewidth\":0,\"ticks\":\"\"}},\"type\":\"scatterpolargl\"}],\"scatterpolar\":[{\"marker\":{\"colorbar\":{\"outlinewidth\":0,\"ticks\":\"\"}},\"type\":\"scatterpolar\"}],\"scatter\":[{\"fillpattern\":{\"fillmode\":\"overlay\",\"size\":10,\"solidity\":0.2},\"type\":\"scatter\"}],\"scatterternary\":[{\"marker\":{\"colorbar\":{\"outlinewidth\":0,\"ticks\":\"\"}},\"type\":\"scatterternary\"}],\"surface\":[{\"colorbar\":{\"outlinewidth\":0,\"ticks\":\"\"},\"colorscale\":[[0.0,\"#0d0887\"],[0.1111111111111111,\"#46039f\"],[0.2222222222222222,\"#7201a8\"],[0.3333333333333333,\"#9c179e\"],[0.4444444444444444,\"#bd3786\"],[0.5555555555555556,\"#d8576b\"],[0.6666666666666666,\"#ed7953\"],[0.7777777777777778,\"#fb9f3a\"],[0.8888888888888888,\"#fdca26\"],[1.0,\"#f0f921\"]],\"type\":\"surface\"}],\"table\":[{\"cells\":{\"fill\":{\"color\":\"#EBF0F8\"},\"line\":{\"color\":\"white\"}},\"header\":{\"fill\":{\"color\":\"#C8D4E3\"},\"line\":{\"color\":\"white\"}},\"type\":\"table\"}]},\"layout\":{\"annotationdefaults\":{\"arrowcolor\":\"#2a3f5f\",\"arrowhead\":0,\"arrowwidth\":1},\"autotypenumbers\":\"strict\",\"coloraxis\":{\"colorbar\":{\"outlinewidth\":0,\"ticks\":\"\"}},\"colorscale\":{\"diverging\":[[0,\"#8e0152\"],[0.1,\"#c51b7d\"],[0.2,\"#de77ae\"],[0.3,\"#f1b6da\"],[0.4,\"#fde0ef\"],[0.5,\"#f7f7f7\"],[0.6,\"#e6f5d0\"],[0.7,\"#b8e186\"],[0.8,\"#7fbc41\"],[0.9,\"#4d9221\"],[1,\"#276419\"]],\"sequential\":[[0.0,\"#0d0887\"],[0.1111111111111111,\"#46039f\"],[0.2222222222222222,\"#7201a8\"],[0.3333333333333333,\"#9c179e\"],[0.4444444444444444,\"#bd3786\"],[0.5555555555555556,\"#d8576b\"],[0.6666666666666666,\"#ed7953\"],[0.7777777777777778,\"#fb9f3a\"],[0.8888888888888888,\"#fdca26\"],[1.0,\"#f0f921\"]],\"sequentialminus\":[[0.0,\"#0d0887\"],[0.1111111111111111,\"#46039f\"],[0.2222222222222222,\"#7201a8\"],[0.3333333333333333,\"#9c179e\"],[0.4444444444444444,\"#bd3786\"],[0.5555555555555556,\"#d8576b\"],[0.6666666666666666,\"#ed7953\"],[0.7777777777777778,\"#fb9f3a\"],[0.8888888888888888,\"#fdca26\"],[1.0,\"#f0f921\"]]},\"colorway\":[\"#636efa\",\"#EF553B\",\"#00cc96\",\"#ab63fa\",\"#FFA15A\",\"#19d3f3\",\"#FF6692\",\"#B6E880\",\"#FF97FF\",\"#FECB52\"],\"font\":{\"color\":\"#2a3f5f\"},\"geo\":{\"bgcolor\":\"white\",\"lakecolor\":\"white\",\"landcolor\":\"#E5ECF6\",\"showlakes\":true,\"showland\":true,\"subunitcolor\":\"white\"},\"hoverlabel\":{\"align\":\"left\"},\"hovermode\":\"closest\",\"mapbox\":{\"style\":\"light\"},\"paper_bgcolor\":\"white\",\"plot_bgcolor\":\"#E5ECF6\",\"polar\":{\"angularaxis\":{\"gridcolor\":\"white\",\"linecolor\":\"white\",\"ticks\":\"\"},\"bgcolor\":\"#E5ECF6\",\"radialaxis\":{\"gridcolor\":\"white\",\"linecolor\":\"white\",\"ticks\":\"\"}},\"scene\":{\"xaxis\":{\"backgroundcolor\":\"#E5ECF6\",\"gridcolor\":\"white\",\"gridwidth\":2,\"linecolor\":\"white\",\"showbackground\":true,\"ticks\":\"\",\"zerolinecolor\":\"white\"},\"yaxis\":{\"backgroundcolor\":\"#E5ECF6\",\"gridcolor\":\"white\",\"gridwidth\":2,\"linecolor\":\"white\",\"showbackground\":true,\"ticks\":\"\",\"zerolinecolor\":\"white\"},\"zaxis\":{\"backgroundcolor\":\"#E5ECF6\",\"gridcolor\":\"white\",\"gridwidth\":2,\"linecolor\":\"white\",\"showbackground\":true,\"ticks\":\"\",\"zerolinecolor\":\"white\"}},\"shapedefaults\":{\"line\":{\"color\":\"#2a3f5f\"}},\"ternary\":{\"aaxis\":{\"gridcolor\":\"white\",\"linecolor\":\"white\",\"ticks\":\"\"},\"baxis\":{\"gridcolor\":\"white\",\"linecolor\":\"white\",\"ticks\":\"\"},\"bgcolor\":\"#E5ECF6\",\"caxis\":{\"gridcolor\":\"white\",\"linecolor\":\"white\",\"ticks\":\"\"}},\"title\":{\"x\":0.05},\"xaxis\":{\"automargin\":true,\"gridcolor\":\"white\",\"linecolor\":\"white\",\"ticks\":\"\",\"title\":{\"standoff\":15},\"zerolinecolor\":\"white\",\"zerolinewidth\":2},\"yaxis\":{\"automargin\":true,\"gridcolor\":\"white\",\"linecolor\":\"white\",\"ticks\":\"\",\"title\":{\"standoff\":15},\"zerolinecolor\":\"white\",\"zerolinewidth\":2}}},\"title\":{\"font\":{\"color\":\"#4D5663\"}},\"xaxis\":{\"gridcolor\":\"#E1E5ED\",\"showgrid\":true,\"tickfont\":{\"color\":\"#4D5663\"},\"title\":{\"font\":{\"color\":\"#4D5663\"},\"text\":\"\"},\"zerolinecolor\":\"#E1E5ED\"},\"yaxis\":{\"gridcolor\":\"#E1E5ED\",\"showgrid\":true,\"tickfont\":{\"color\":\"#4D5663\"},\"title\":{\"font\":{\"color\":\"#4D5663\"},\"text\":\"\"},\"zerolinecolor\":\"#E1E5ED\"}},                        {\"showLink\": true, \"linkText\": \"Export to plot.ly\", \"plotlyServerURL\": \"https://plot.ly\", \"responsive\": true}                    ).then(function(){\n",
       "                            \n",
       "var gd = document.getElementById('be78ea51-56df-4327-9efd-a3c0c2c9ed3b');\n",
       "var x = new MutationObserver(function (mutations, observer) {{\n",
       "        var display = window.getComputedStyle(gd).display;\n",
       "        if (!display || display === 'none') {{\n",
       "            console.log([gd, 'removed!']);\n",
       "            Plotly.purge(gd);\n",
       "            observer.disconnect();\n",
       "        }}\n",
       "}});\n",
       "\n",
       "// Listen for the removal of the full notebook cells\n",
       "var notebookContainer = gd.closest('#notebook-container');\n",
       "if (notebookContainer) {{\n",
       "    x.observe(notebookContainer, {childList: true});\n",
       "}}\n",
       "\n",
       "// Listen for the clearing of the current output cell\n",
       "var outputEl = gd.closest('.output');\n",
       "if (outputEl) {{\n",
       "    x.observe(outputEl, {childList: true});\n",
       "}}\n",
       "\n",
       "                        })                };                });            </script>        </div>"
      ]
     },
     "metadata": {},
     "output_type": "display_data"
    }
   ],
   "source": [
    "df.iplot()"
   ]
  },
  {
   "cell_type": "code",
   "execution_count": 17,
   "metadata": {},
   "outputs": [
    {
     "data": {
      "application/vnd.plotly.v1+json": {
       "config": {
        "linkText": "Export to plot.ly",
        "plotlyServerURL": "https://plot.ly",
        "showLink": true
       },
       "data": [
        {
         "line": {
          "color": "rgba(255, 153, 51, 1.0)",
          "dash": "solid",
          "shape": "linear",
          "width": 1.3
         },
         "marker": {
          "size": 10,
          "symbol": "circle"
         },
         "mode": "markers",
         "name": "B",
         "text": "",
         "type": "scatter",
         "x": [
          -0.10885847351151294,
          0.09968228043736554,
          -0.8641500448021835,
          0.38946228886209866,
          -0.7770036269217798,
          2.3588730184432016,
          1.562051288398869,
          0.07605439418663039,
          0.912717877662609,
          -0.5661466630732443,
          0.15027249585969116,
          -0.4556584761228636,
          0.7330115973669539,
          0.270546419853816,
          -0.5171511568557435,
          0.6144837230708565,
          -1.3075651835854845,
          -1.1219896050430447,
          0.05441883554658746,
          1.535619031172629,
          -0.9863215722815764,
          0.6961242561076794,
          0.08697726808705007,
          -0.057414641396003094,
          0.7335552092007928,
          0.5269636134982121,
          -0.47046371030295636,
          -0.9365373408183358,
          -0.02293781116985355,
          -0.6512104043803646,
          2.5508177224571607,
          -0.7665519295025828,
          -0.5778939635559637,
          -1.0108079345663405,
          0.5596080957499588,
          2.036755029958988,
          -0.11612807524088375,
          -0.14578115752350002,
          1.9809733239972844,
          0.20606800368987369,
          -1.4150543142095422,
          1.5171621691439114,
          1.789281156821119,
          1.0859845692218137,
          0.569850188094948,
          -0.5092600456498456,
          -0.5133673294741509,
          -0.17747214914436082,
          -0.28497893896678667,
          -1.017723548510392,
          -0.171222608370362,
          -0.6572538678650311,
          0.9974253025353275,
          0.15219540039653634,
          0.5866680040194782,
          -0.19001914914542503,
          0.5353419078118536,
          1.1152162652677877,
          2.97795797105388,
          0.9085279502252701,
          -0.17232731231989817,
          1.389245776868657,
          -0.5708394737976242,
          0.34436475178815107,
          -0.9150239338287431,
          0.5131055597150919,
          0.5031908634636201,
          2.238821334911018,
          -0.10669318171704228,
          0.7345420979543783,
          -2.062925100049065,
          -1.2413883423525092,
          -0.5724993827887654,
          0.859720954322044,
          1.1003071919413916,
          -0.471752236644702,
          0.46025542685963583,
          -0.1084369455556114,
          0.09639064705141714,
          -0.7616762580059623,
          -1.7826562298020405,
          -0.7257458029396603,
          -0.29848471990300596,
          0.2858439083232961,
          -0.3367202911240463,
          0.20527268466178267,
          0.36573323048382694,
          -0.578898295870351,
          1.6001728205820427,
          -1.4342738153944126,
          1.2548152560200398,
          -1.5076691281769783,
          1.3411368027344885,
          -0.27024403891496945,
          -1.4268485254400225,
          0.7432383970273235,
          -0.31907044797333006,
          0.036447356526887825,
          -0.8569238644208176,
          -0.5041947840868658
         ],
         "y": [
          -0.6607567515404839,
          0.6272057327377043,
          -0.29300459755897873,
          0.20396521190281927,
          -0.11254528632613671,
          1.175835792248741,
          -0.7377345445424521,
          0.356496022784465,
          1.3251418286139893,
          0.26885086019013144,
          1.122352095296499,
          0.24204159204449613,
          2.0123475931236077,
          0.5346441742217941,
          1.0238143940420046,
          0.8090796833083032,
          0.11313819918896648,
          2.24916865287664,
          0.012932222012098343,
          -0.40244432809040476,
          -0.2502753654633691,
          2.630557383226313,
          -0.7790771990625227,
          0.7355197860705898,
          -0.1943010347541226,
          1.2928782007154789,
          0.36572430645810655,
          -0.5392603452969593,
          -0.96023431045177,
          -0.09253815346977223,
          -0.4298824098705515,
          0.25425105887003596,
          -1.1674587129797283,
          -0.3840343408994587,
          1.3207712002551013,
          0.062356765784521456,
          0.9595537781702738,
          0.17240071462536052,
          -0.451261552754604,
          0.26033009506400173,
          -0.7193669753874455,
          1.3237640482815087,
          -0.27155167270699504,
          -0.19773330021703522,
          -0.07151638613211464,
          1.8903708416916005,
          -0.528035834561054,
          0.6244900423893583,
          -0.2651053906182809,
          1.5323114619010347,
          0.18001538721174082,
          0.9973476693237119,
          -1.58564522054993,
          1.1192253963894794,
          -0.5674695266246303,
          0.6634869383800137,
          0.2188382483231579,
          0.5690392046501117,
          -0.06603917493020449,
          -0.6105444992113863,
          1.736224515049627,
          1.8863963804057344,
          -2.0487797487038444,
          0.5047057902668708,
          -0.6634330645442947,
          -0.128018734829384,
          -1.0299738753476964,
          2.023938172106331,
          0.1957238535897606,
          0.14206388716721732,
          1.0228505986995695,
          -1.0652264255737482,
          0.6163051316586318,
          1.6022578249809882,
          -0.3526379835238936,
          -1.8418587223766436,
          -0.4754546562297881,
          -1.4657897646743254,
          1.291531251527738,
          0.6056778020888061,
          0.9618849334241207,
          -0.44070807412970214,
          0.6812198800439422,
          -0.48018367669432493,
          0.4450259781147967,
          2.1054135753292753,
          -0.47891017321267454,
          -0.11251171905452118,
          0.6272297098806351,
          0.29813117767436553,
          -0.9105125124581759,
          1.7637483257996116,
          0.49453904178321406,
          -0.09063675976922009,
          -1.2423412107676592,
          -0.24118324086440246,
          -0.019347818855389786,
          -0.7130858012841428,
          -1.2610100912832602,
          -0.31484580391977757
         ]
        }
       ],
       "layout": {
        "legend": {
         "bgcolor": "#F5F6F9",
         "font": {
          "color": "#4D5663"
         }
        },
        "paper_bgcolor": "#F5F6F9",
        "plot_bgcolor": "#F5F6F9",
        "template": {
         "data": {
          "bar": [
           {
            "error_x": {
             "color": "#2a3f5f"
            },
            "error_y": {
             "color": "#2a3f5f"
            },
            "marker": {
             "line": {
              "color": "#E5ECF6",
              "width": 0.5
             },
             "pattern": {
              "fillmode": "overlay",
              "size": 10,
              "solidity": 0.2
             }
            },
            "type": "bar"
           }
          ],
          "barpolar": [
           {
            "marker": {
             "line": {
              "color": "#E5ECF6",
              "width": 0.5
             },
             "pattern": {
              "fillmode": "overlay",
              "size": 10,
              "solidity": 0.2
             }
            },
            "type": "barpolar"
           }
          ],
          "carpet": [
           {
            "aaxis": {
             "endlinecolor": "#2a3f5f",
             "gridcolor": "white",
             "linecolor": "white",
             "minorgridcolor": "white",
             "startlinecolor": "#2a3f5f"
            },
            "baxis": {
             "endlinecolor": "#2a3f5f",
             "gridcolor": "white",
             "linecolor": "white",
             "minorgridcolor": "white",
             "startlinecolor": "#2a3f5f"
            },
            "type": "carpet"
           }
          ],
          "choropleth": [
           {
            "colorbar": {
             "outlinewidth": 0,
             "ticks": ""
            },
            "type": "choropleth"
           }
          ],
          "contour": [
           {
            "colorbar": {
             "outlinewidth": 0,
             "ticks": ""
            },
            "colorscale": [
             [
              0,
              "#0d0887"
             ],
             [
              0.1111111111111111,
              "#46039f"
             ],
             [
              0.2222222222222222,
              "#7201a8"
             ],
             [
              0.3333333333333333,
              "#9c179e"
             ],
             [
              0.4444444444444444,
              "#bd3786"
             ],
             [
              0.5555555555555556,
              "#d8576b"
             ],
             [
              0.6666666666666666,
              "#ed7953"
             ],
             [
              0.7777777777777778,
              "#fb9f3a"
             ],
             [
              0.8888888888888888,
              "#fdca26"
             ],
             [
              1,
              "#f0f921"
             ]
            ],
            "type": "contour"
           }
          ],
          "contourcarpet": [
           {
            "colorbar": {
             "outlinewidth": 0,
             "ticks": ""
            },
            "type": "contourcarpet"
           }
          ],
          "heatmap": [
           {
            "colorbar": {
             "outlinewidth": 0,
             "ticks": ""
            },
            "colorscale": [
             [
              0,
              "#0d0887"
             ],
             [
              0.1111111111111111,
              "#46039f"
             ],
             [
              0.2222222222222222,
              "#7201a8"
             ],
             [
              0.3333333333333333,
              "#9c179e"
             ],
             [
              0.4444444444444444,
              "#bd3786"
             ],
             [
              0.5555555555555556,
              "#d8576b"
             ],
             [
              0.6666666666666666,
              "#ed7953"
             ],
             [
              0.7777777777777778,
              "#fb9f3a"
             ],
             [
              0.8888888888888888,
              "#fdca26"
             ],
             [
              1,
              "#f0f921"
             ]
            ],
            "type": "heatmap"
           }
          ],
          "heatmapgl": [
           {
            "colorbar": {
             "outlinewidth": 0,
             "ticks": ""
            },
            "colorscale": [
             [
              0,
              "#0d0887"
             ],
             [
              0.1111111111111111,
              "#46039f"
             ],
             [
              0.2222222222222222,
              "#7201a8"
             ],
             [
              0.3333333333333333,
              "#9c179e"
             ],
             [
              0.4444444444444444,
              "#bd3786"
             ],
             [
              0.5555555555555556,
              "#d8576b"
             ],
             [
              0.6666666666666666,
              "#ed7953"
             ],
             [
              0.7777777777777778,
              "#fb9f3a"
             ],
             [
              0.8888888888888888,
              "#fdca26"
             ],
             [
              1,
              "#f0f921"
             ]
            ],
            "type": "heatmapgl"
           }
          ],
          "histogram": [
           {
            "marker": {
             "pattern": {
              "fillmode": "overlay",
              "size": 10,
              "solidity": 0.2
             }
            },
            "type": "histogram"
           }
          ],
          "histogram2d": [
           {
            "colorbar": {
             "outlinewidth": 0,
             "ticks": ""
            },
            "colorscale": [
             [
              0,
              "#0d0887"
             ],
             [
              0.1111111111111111,
              "#46039f"
             ],
             [
              0.2222222222222222,
              "#7201a8"
             ],
             [
              0.3333333333333333,
              "#9c179e"
             ],
             [
              0.4444444444444444,
              "#bd3786"
             ],
             [
              0.5555555555555556,
              "#d8576b"
             ],
             [
              0.6666666666666666,
              "#ed7953"
             ],
             [
              0.7777777777777778,
              "#fb9f3a"
             ],
             [
              0.8888888888888888,
              "#fdca26"
             ],
             [
              1,
              "#f0f921"
             ]
            ],
            "type": "histogram2d"
           }
          ],
          "histogram2dcontour": [
           {
            "colorbar": {
             "outlinewidth": 0,
             "ticks": ""
            },
            "colorscale": [
             [
              0,
              "#0d0887"
             ],
             [
              0.1111111111111111,
              "#46039f"
             ],
             [
              0.2222222222222222,
              "#7201a8"
             ],
             [
              0.3333333333333333,
              "#9c179e"
             ],
             [
              0.4444444444444444,
              "#bd3786"
             ],
             [
              0.5555555555555556,
              "#d8576b"
             ],
             [
              0.6666666666666666,
              "#ed7953"
             ],
             [
              0.7777777777777778,
              "#fb9f3a"
             ],
             [
              0.8888888888888888,
              "#fdca26"
             ],
             [
              1,
              "#f0f921"
             ]
            ],
            "type": "histogram2dcontour"
           }
          ],
          "mesh3d": [
           {
            "colorbar": {
             "outlinewidth": 0,
             "ticks": ""
            },
            "type": "mesh3d"
           }
          ],
          "parcoords": [
           {
            "line": {
             "colorbar": {
              "outlinewidth": 0,
              "ticks": ""
             }
            },
            "type": "parcoords"
           }
          ],
          "pie": [
           {
            "automargin": true,
            "type": "pie"
           }
          ],
          "scatter": [
           {
            "fillpattern": {
             "fillmode": "overlay",
             "size": 10,
             "solidity": 0.2
            },
            "type": "scatter"
           }
          ],
          "scatter3d": [
           {
            "line": {
             "colorbar": {
              "outlinewidth": 0,
              "ticks": ""
             }
            },
            "marker": {
             "colorbar": {
              "outlinewidth": 0,
              "ticks": ""
             }
            },
            "type": "scatter3d"
           }
          ],
          "scattercarpet": [
           {
            "marker": {
             "colorbar": {
              "outlinewidth": 0,
              "ticks": ""
             }
            },
            "type": "scattercarpet"
           }
          ],
          "scattergeo": [
           {
            "marker": {
             "colorbar": {
              "outlinewidth": 0,
              "ticks": ""
             }
            },
            "type": "scattergeo"
           }
          ],
          "scattergl": [
           {
            "marker": {
             "colorbar": {
              "outlinewidth": 0,
              "ticks": ""
             }
            },
            "type": "scattergl"
           }
          ],
          "scattermapbox": [
           {
            "marker": {
             "colorbar": {
              "outlinewidth": 0,
              "ticks": ""
             }
            },
            "type": "scattermapbox"
           }
          ],
          "scatterpolar": [
           {
            "marker": {
             "colorbar": {
              "outlinewidth": 0,
              "ticks": ""
             }
            },
            "type": "scatterpolar"
           }
          ],
          "scatterpolargl": [
           {
            "marker": {
             "colorbar": {
              "outlinewidth": 0,
              "ticks": ""
             }
            },
            "type": "scatterpolargl"
           }
          ],
          "scatterternary": [
           {
            "marker": {
             "colorbar": {
              "outlinewidth": 0,
              "ticks": ""
             }
            },
            "type": "scatterternary"
           }
          ],
          "surface": [
           {
            "colorbar": {
             "outlinewidth": 0,
             "ticks": ""
            },
            "colorscale": [
             [
              0,
              "#0d0887"
             ],
             [
              0.1111111111111111,
              "#46039f"
             ],
             [
              0.2222222222222222,
              "#7201a8"
             ],
             [
              0.3333333333333333,
              "#9c179e"
             ],
             [
              0.4444444444444444,
              "#bd3786"
             ],
             [
              0.5555555555555556,
              "#d8576b"
             ],
             [
              0.6666666666666666,
              "#ed7953"
             ],
             [
              0.7777777777777778,
              "#fb9f3a"
             ],
             [
              0.8888888888888888,
              "#fdca26"
             ],
             [
              1,
              "#f0f921"
             ]
            ],
            "type": "surface"
           }
          ],
          "table": [
           {
            "cells": {
             "fill": {
              "color": "#EBF0F8"
             },
             "line": {
              "color": "white"
             }
            },
            "header": {
             "fill": {
              "color": "#C8D4E3"
             },
             "line": {
              "color": "white"
             }
            },
            "type": "table"
           }
          ]
         },
         "layout": {
          "annotationdefaults": {
           "arrowcolor": "#2a3f5f",
           "arrowhead": 0,
           "arrowwidth": 1
          },
          "autotypenumbers": "strict",
          "coloraxis": {
           "colorbar": {
            "outlinewidth": 0,
            "ticks": ""
           }
          },
          "colorscale": {
           "diverging": [
            [
             0,
             "#8e0152"
            ],
            [
             0.1,
             "#c51b7d"
            ],
            [
             0.2,
             "#de77ae"
            ],
            [
             0.3,
             "#f1b6da"
            ],
            [
             0.4,
             "#fde0ef"
            ],
            [
             0.5,
             "#f7f7f7"
            ],
            [
             0.6,
             "#e6f5d0"
            ],
            [
             0.7,
             "#b8e186"
            ],
            [
             0.8,
             "#7fbc41"
            ],
            [
             0.9,
             "#4d9221"
            ],
            [
             1,
             "#276419"
            ]
           ],
           "sequential": [
            [
             0,
             "#0d0887"
            ],
            [
             0.1111111111111111,
             "#46039f"
            ],
            [
             0.2222222222222222,
             "#7201a8"
            ],
            [
             0.3333333333333333,
             "#9c179e"
            ],
            [
             0.4444444444444444,
             "#bd3786"
            ],
            [
             0.5555555555555556,
             "#d8576b"
            ],
            [
             0.6666666666666666,
             "#ed7953"
            ],
            [
             0.7777777777777778,
             "#fb9f3a"
            ],
            [
             0.8888888888888888,
             "#fdca26"
            ],
            [
             1,
             "#f0f921"
            ]
           ],
           "sequentialminus": [
            [
             0,
             "#0d0887"
            ],
            [
             0.1111111111111111,
             "#46039f"
            ],
            [
             0.2222222222222222,
             "#7201a8"
            ],
            [
             0.3333333333333333,
             "#9c179e"
            ],
            [
             0.4444444444444444,
             "#bd3786"
            ],
            [
             0.5555555555555556,
             "#d8576b"
            ],
            [
             0.6666666666666666,
             "#ed7953"
            ],
            [
             0.7777777777777778,
             "#fb9f3a"
            ],
            [
             0.8888888888888888,
             "#fdca26"
            ],
            [
             1,
             "#f0f921"
            ]
           ]
          },
          "colorway": [
           "#636efa",
           "#EF553B",
           "#00cc96",
           "#ab63fa",
           "#FFA15A",
           "#19d3f3",
           "#FF6692",
           "#B6E880",
           "#FF97FF",
           "#FECB52"
          ],
          "font": {
           "color": "#2a3f5f"
          },
          "geo": {
           "bgcolor": "white",
           "lakecolor": "white",
           "landcolor": "#E5ECF6",
           "showlakes": true,
           "showland": true,
           "subunitcolor": "white"
          },
          "hoverlabel": {
           "align": "left"
          },
          "hovermode": "closest",
          "mapbox": {
           "style": "light"
          },
          "paper_bgcolor": "white",
          "plot_bgcolor": "#E5ECF6",
          "polar": {
           "angularaxis": {
            "gridcolor": "white",
            "linecolor": "white",
            "ticks": ""
           },
           "bgcolor": "#E5ECF6",
           "radialaxis": {
            "gridcolor": "white",
            "linecolor": "white",
            "ticks": ""
           }
          },
          "scene": {
           "xaxis": {
            "backgroundcolor": "#E5ECF6",
            "gridcolor": "white",
            "gridwidth": 2,
            "linecolor": "white",
            "showbackground": true,
            "ticks": "",
            "zerolinecolor": "white"
           },
           "yaxis": {
            "backgroundcolor": "#E5ECF6",
            "gridcolor": "white",
            "gridwidth": 2,
            "linecolor": "white",
            "showbackground": true,
            "ticks": "",
            "zerolinecolor": "white"
           },
           "zaxis": {
            "backgroundcolor": "#E5ECF6",
            "gridcolor": "white",
            "gridwidth": 2,
            "linecolor": "white",
            "showbackground": true,
            "ticks": "",
            "zerolinecolor": "white"
           }
          },
          "shapedefaults": {
           "line": {
            "color": "#2a3f5f"
           }
          },
          "ternary": {
           "aaxis": {
            "gridcolor": "white",
            "linecolor": "white",
            "ticks": ""
           },
           "baxis": {
            "gridcolor": "white",
            "linecolor": "white",
            "ticks": ""
           },
           "bgcolor": "#E5ECF6",
           "caxis": {
            "gridcolor": "white",
            "linecolor": "white",
            "ticks": ""
           }
          },
          "title": {
           "x": 0.05
          },
          "xaxis": {
           "automargin": true,
           "gridcolor": "white",
           "linecolor": "white",
           "ticks": "",
           "title": {
            "standoff": 15
           },
           "zerolinecolor": "white",
           "zerolinewidth": 2
          },
          "yaxis": {
           "automargin": true,
           "gridcolor": "white",
           "linecolor": "white",
           "ticks": "",
           "title": {
            "standoff": 15
           },
           "zerolinecolor": "white",
           "zerolinewidth": 2
          }
         }
        },
        "title": {
         "font": {
          "color": "#4D5663"
         }
        },
        "xaxis": {
         "gridcolor": "#E1E5ED",
         "showgrid": true,
         "tickfont": {
          "color": "#4D5663"
         },
         "title": {
          "font": {
           "color": "#4D5663"
          },
          "text": ""
         },
         "zerolinecolor": "#E1E5ED"
        },
        "yaxis": {
         "gridcolor": "#E1E5ED",
         "showgrid": true,
         "tickfont": {
          "color": "#4D5663"
         },
         "title": {
          "font": {
           "color": "#4D5663"
          },
          "text": ""
         },
         "zerolinecolor": "#E1E5ED"
        }
       }
      },
      "text/html": [
       "<div>                            <div id=\"4cb21358-5a5b-4d4a-88fb-93b76b4966c6\" class=\"plotly-graph-div\" style=\"height:525px; width:100%;\"></div>            <script type=\"text/javascript\">                require([\"plotly\"], function(Plotly) {                    window.PLOTLYENV=window.PLOTLYENV || {};\n",
       "                    window.PLOTLYENV.BASE_URL='https://plot.ly';                                    if (document.getElementById(\"4cb21358-5a5b-4d4a-88fb-93b76b4966c6\")) {                    Plotly.newPlot(                        \"4cb21358-5a5b-4d4a-88fb-93b76b4966c6\",                        [{\"line\":{\"color\":\"rgba(255, 153, 51, 1.0)\",\"dash\":\"solid\",\"shape\":\"linear\",\"width\":1.3},\"marker\":{\"size\":10,\"symbol\":\"circle\"},\"mode\":\"markers\",\"name\":\"B\",\"text\":\"\",\"x\":[-0.10885847351151294,0.09968228043736554,-0.8641500448021835,0.38946228886209866,-0.7770036269217798,2.3588730184432016,1.562051288398869,0.07605439418663039,0.912717877662609,-0.5661466630732443,0.15027249585969116,-0.4556584761228636,0.7330115973669539,0.270546419853816,-0.5171511568557435,0.6144837230708565,-1.3075651835854845,-1.1219896050430447,0.05441883554658746,1.535619031172629,-0.9863215722815764,0.6961242561076794,0.08697726808705007,-0.057414641396003094,0.7335552092007928,0.5269636134982121,-0.47046371030295636,-0.9365373408183358,-0.02293781116985355,-0.6512104043803646,2.5508177224571607,-0.7665519295025828,-0.5778939635559637,-1.0108079345663405,0.5596080957499588,2.036755029958988,-0.11612807524088375,-0.14578115752350002,1.9809733239972844,0.20606800368987369,-1.4150543142095422,1.5171621691439114,1.789281156821119,1.0859845692218137,0.569850188094948,-0.5092600456498456,-0.5133673294741509,-0.17747214914436082,-0.28497893896678667,-1.017723548510392,-0.171222608370362,-0.6572538678650311,0.9974253025353275,0.15219540039653634,0.5866680040194782,-0.19001914914542503,0.5353419078118536,1.1152162652677877,2.97795797105388,0.9085279502252701,-0.17232731231989817,1.389245776868657,-0.5708394737976242,0.34436475178815107,-0.9150239338287431,0.5131055597150919,0.5031908634636201,2.238821334911018,-0.10669318171704228,0.7345420979543783,-2.062925100049065,-1.2413883423525092,-0.5724993827887654,0.859720954322044,1.1003071919413916,-0.471752236644702,0.46025542685963583,-0.1084369455556114,0.09639064705141714,-0.7616762580059623,-1.7826562298020405,-0.7257458029396603,-0.29848471990300596,0.2858439083232961,-0.3367202911240463,0.20527268466178267,0.36573323048382694,-0.578898295870351,1.6001728205820427,-1.4342738153944126,1.2548152560200398,-1.5076691281769783,1.3411368027344885,-0.27024403891496945,-1.4268485254400225,0.7432383970273235,-0.31907044797333006,0.036447356526887825,-0.8569238644208176,-0.5041947840868658],\"y\":[-0.6607567515404839,0.6272057327377043,-0.29300459755897873,0.20396521190281927,-0.11254528632613671,1.175835792248741,-0.7377345445424521,0.356496022784465,1.3251418286139893,0.26885086019013144,1.122352095296499,0.24204159204449613,2.0123475931236077,0.5346441742217941,1.0238143940420046,0.8090796833083032,0.11313819918896648,2.24916865287664,0.012932222012098343,-0.40244432809040476,-0.2502753654633691,2.630557383226313,-0.7790771990625227,0.7355197860705898,-0.1943010347541226,1.2928782007154789,0.36572430645810655,-0.5392603452969593,-0.96023431045177,-0.09253815346977223,-0.4298824098705515,0.25425105887003596,-1.1674587129797283,-0.3840343408994587,1.3207712002551013,0.062356765784521456,0.9595537781702738,0.17240071462536052,-0.451261552754604,0.26033009506400173,-0.7193669753874455,1.3237640482815087,-0.27155167270699504,-0.19773330021703522,-0.07151638613211464,1.8903708416916005,-0.528035834561054,0.6244900423893583,-0.2651053906182809,1.5323114619010347,0.18001538721174082,0.9973476693237119,-1.58564522054993,1.1192253963894794,-0.5674695266246303,0.6634869383800137,0.2188382483231579,0.5690392046501117,-0.06603917493020449,-0.6105444992113863,1.736224515049627,1.8863963804057344,-2.0487797487038444,0.5047057902668708,-0.6634330645442947,-0.128018734829384,-1.0299738753476964,2.023938172106331,0.1957238535897606,0.14206388716721732,1.0228505986995695,-1.0652264255737482,0.6163051316586318,1.6022578249809882,-0.3526379835238936,-1.8418587223766436,-0.4754546562297881,-1.4657897646743254,1.291531251527738,0.6056778020888061,0.9618849334241207,-0.44070807412970214,0.6812198800439422,-0.48018367669432493,0.4450259781147967,2.1054135753292753,-0.47891017321267454,-0.11251171905452118,0.6272297098806351,0.29813117767436553,-0.9105125124581759,1.7637483257996116,0.49453904178321406,-0.09063675976922009,-1.2423412107676592,-0.24118324086440246,-0.019347818855389786,-0.7130858012841428,-1.2610100912832602,-0.31484580391977757],\"type\":\"scatter\"}],                        {\"legend\":{\"bgcolor\":\"#F5F6F9\",\"font\":{\"color\":\"#4D5663\"}},\"paper_bgcolor\":\"#F5F6F9\",\"plot_bgcolor\":\"#F5F6F9\",\"template\":{\"data\":{\"barpolar\":[{\"marker\":{\"line\":{\"color\":\"#E5ECF6\",\"width\":0.5},\"pattern\":{\"fillmode\":\"overlay\",\"size\":10,\"solidity\":0.2}},\"type\":\"barpolar\"}],\"bar\":[{\"error_x\":{\"color\":\"#2a3f5f\"},\"error_y\":{\"color\":\"#2a3f5f\"},\"marker\":{\"line\":{\"color\":\"#E5ECF6\",\"width\":0.5},\"pattern\":{\"fillmode\":\"overlay\",\"size\":10,\"solidity\":0.2}},\"type\":\"bar\"}],\"carpet\":[{\"aaxis\":{\"endlinecolor\":\"#2a3f5f\",\"gridcolor\":\"white\",\"linecolor\":\"white\",\"minorgridcolor\":\"white\",\"startlinecolor\":\"#2a3f5f\"},\"baxis\":{\"endlinecolor\":\"#2a3f5f\",\"gridcolor\":\"white\",\"linecolor\":\"white\",\"minorgridcolor\":\"white\",\"startlinecolor\":\"#2a3f5f\"},\"type\":\"carpet\"}],\"choropleth\":[{\"colorbar\":{\"outlinewidth\":0,\"ticks\":\"\"},\"type\":\"choropleth\"}],\"contourcarpet\":[{\"colorbar\":{\"outlinewidth\":0,\"ticks\":\"\"},\"type\":\"contourcarpet\"}],\"contour\":[{\"colorbar\":{\"outlinewidth\":0,\"ticks\":\"\"},\"colorscale\":[[0.0,\"#0d0887\"],[0.1111111111111111,\"#46039f\"],[0.2222222222222222,\"#7201a8\"],[0.3333333333333333,\"#9c179e\"],[0.4444444444444444,\"#bd3786\"],[0.5555555555555556,\"#d8576b\"],[0.6666666666666666,\"#ed7953\"],[0.7777777777777778,\"#fb9f3a\"],[0.8888888888888888,\"#fdca26\"],[1.0,\"#f0f921\"]],\"type\":\"contour\"}],\"heatmapgl\":[{\"colorbar\":{\"outlinewidth\":0,\"ticks\":\"\"},\"colorscale\":[[0.0,\"#0d0887\"],[0.1111111111111111,\"#46039f\"],[0.2222222222222222,\"#7201a8\"],[0.3333333333333333,\"#9c179e\"],[0.4444444444444444,\"#bd3786\"],[0.5555555555555556,\"#d8576b\"],[0.6666666666666666,\"#ed7953\"],[0.7777777777777778,\"#fb9f3a\"],[0.8888888888888888,\"#fdca26\"],[1.0,\"#f0f921\"]],\"type\":\"heatmapgl\"}],\"heatmap\":[{\"colorbar\":{\"outlinewidth\":0,\"ticks\":\"\"},\"colorscale\":[[0.0,\"#0d0887\"],[0.1111111111111111,\"#46039f\"],[0.2222222222222222,\"#7201a8\"],[0.3333333333333333,\"#9c179e\"],[0.4444444444444444,\"#bd3786\"],[0.5555555555555556,\"#d8576b\"],[0.6666666666666666,\"#ed7953\"],[0.7777777777777778,\"#fb9f3a\"],[0.8888888888888888,\"#fdca26\"],[1.0,\"#f0f921\"]],\"type\":\"heatmap\"}],\"histogram2dcontour\":[{\"colorbar\":{\"outlinewidth\":0,\"ticks\":\"\"},\"colorscale\":[[0.0,\"#0d0887\"],[0.1111111111111111,\"#46039f\"],[0.2222222222222222,\"#7201a8\"],[0.3333333333333333,\"#9c179e\"],[0.4444444444444444,\"#bd3786\"],[0.5555555555555556,\"#d8576b\"],[0.6666666666666666,\"#ed7953\"],[0.7777777777777778,\"#fb9f3a\"],[0.8888888888888888,\"#fdca26\"],[1.0,\"#f0f921\"]],\"type\":\"histogram2dcontour\"}],\"histogram2d\":[{\"colorbar\":{\"outlinewidth\":0,\"ticks\":\"\"},\"colorscale\":[[0.0,\"#0d0887\"],[0.1111111111111111,\"#46039f\"],[0.2222222222222222,\"#7201a8\"],[0.3333333333333333,\"#9c179e\"],[0.4444444444444444,\"#bd3786\"],[0.5555555555555556,\"#d8576b\"],[0.6666666666666666,\"#ed7953\"],[0.7777777777777778,\"#fb9f3a\"],[0.8888888888888888,\"#fdca26\"],[1.0,\"#f0f921\"]],\"type\":\"histogram2d\"}],\"histogram\":[{\"marker\":{\"pattern\":{\"fillmode\":\"overlay\",\"size\":10,\"solidity\":0.2}},\"type\":\"histogram\"}],\"mesh3d\":[{\"colorbar\":{\"outlinewidth\":0,\"ticks\":\"\"},\"type\":\"mesh3d\"}],\"parcoords\":[{\"line\":{\"colorbar\":{\"outlinewidth\":0,\"ticks\":\"\"}},\"type\":\"parcoords\"}],\"pie\":[{\"automargin\":true,\"type\":\"pie\"}],\"scatter3d\":[{\"line\":{\"colorbar\":{\"outlinewidth\":0,\"ticks\":\"\"}},\"marker\":{\"colorbar\":{\"outlinewidth\":0,\"ticks\":\"\"}},\"type\":\"scatter3d\"}],\"scattercarpet\":[{\"marker\":{\"colorbar\":{\"outlinewidth\":0,\"ticks\":\"\"}},\"type\":\"scattercarpet\"}],\"scattergeo\":[{\"marker\":{\"colorbar\":{\"outlinewidth\":0,\"ticks\":\"\"}},\"type\":\"scattergeo\"}],\"scattergl\":[{\"marker\":{\"colorbar\":{\"outlinewidth\":0,\"ticks\":\"\"}},\"type\":\"scattergl\"}],\"scattermapbox\":[{\"marker\":{\"colorbar\":{\"outlinewidth\":0,\"ticks\":\"\"}},\"type\":\"scattermapbox\"}],\"scatterpolargl\":[{\"marker\":{\"colorbar\":{\"outlinewidth\":0,\"ticks\":\"\"}},\"type\":\"scatterpolargl\"}],\"scatterpolar\":[{\"marker\":{\"colorbar\":{\"outlinewidth\":0,\"ticks\":\"\"}},\"type\":\"scatterpolar\"}],\"scatter\":[{\"fillpattern\":{\"fillmode\":\"overlay\",\"size\":10,\"solidity\":0.2},\"type\":\"scatter\"}],\"scatterternary\":[{\"marker\":{\"colorbar\":{\"outlinewidth\":0,\"ticks\":\"\"}},\"type\":\"scatterternary\"}],\"surface\":[{\"colorbar\":{\"outlinewidth\":0,\"ticks\":\"\"},\"colorscale\":[[0.0,\"#0d0887\"],[0.1111111111111111,\"#46039f\"],[0.2222222222222222,\"#7201a8\"],[0.3333333333333333,\"#9c179e\"],[0.4444444444444444,\"#bd3786\"],[0.5555555555555556,\"#d8576b\"],[0.6666666666666666,\"#ed7953\"],[0.7777777777777778,\"#fb9f3a\"],[0.8888888888888888,\"#fdca26\"],[1.0,\"#f0f921\"]],\"type\":\"surface\"}],\"table\":[{\"cells\":{\"fill\":{\"color\":\"#EBF0F8\"},\"line\":{\"color\":\"white\"}},\"header\":{\"fill\":{\"color\":\"#C8D4E3\"},\"line\":{\"color\":\"white\"}},\"type\":\"table\"}]},\"layout\":{\"annotationdefaults\":{\"arrowcolor\":\"#2a3f5f\",\"arrowhead\":0,\"arrowwidth\":1},\"autotypenumbers\":\"strict\",\"coloraxis\":{\"colorbar\":{\"outlinewidth\":0,\"ticks\":\"\"}},\"colorscale\":{\"diverging\":[[0,\"#8e0152\"],[0.1,\"#c51b7d\"],[0.2,\"#de77ae\"],[0.3,\"#f1b6da\"],[0.4,\"#fde0ef\"],[0.5,\"#f7f7f7\"],[0.6,\"#e6f5d0\"],[0.7,\"#b8e186\"],[0.8,\"#7fbc41\"],[0.9,\"#4d9221\"],[1,\"#276419\"]],\"sequential\":[[0.0,\"#0d0887\"],[0.1111111111111111,\"#46039f\"],[0.2222222222222222,\"#7201a8\"],[0.3333333333333333,\"#9c179e\"],[0.4444444444444444,\"#bd3786\"],[0.5555555555555556,\"#d8576b\"],[0.6666666666666666,\"#ed7953\"],[0.7777777777777778,\"#fb9f3a\"],[0.8888888888888888,\"#fdca26\"],[1.0,\"#f0f921\"]],\"sequentialminus\":[[0.0,\"#0d0887\"],[0.1111111111111111,\"#46039f\"],[0.2222222222222222,\"#7201a8\"],[0.3333333333333333,\"#9c179e\"],[0.4444444444444444,\"#bd3786\"],[0.5555555555555556,\"#d8576b\"],[0.6666666666666666,\"#ed7953\"],[0.7777777777777778,\"#fb9f3a\"],[0.8888888888888888,\"#fdca26\"],[1.0,\"#f0f921\"]]},\"colorway\":[\"#636efa\",\"#EF553B\",\"#00cc96\",\"#ab63fa\",\"#FFA15A\",\"#19d3f3\",\"#FF6692\",\"#B6E880\",\"#FF97FF\",\"#FECB52\"],\"font\":{\"color\":\"#2a3f5f\"},\"geo\":{\"bgcolor\":\"white\",\"lakecolor\":\"white\",\"landcolor\":\"#E5ECF6\",\"showlakes\":true,\"showland\":true,\"subunitcolor\":\"white\"},\"hoverlabel\":{\"align\":\"left\"},\"hovermode\":\"closest\",\"mapbox\":{\"style\":\"light\"},\"paper_bgcolor\":\"white\",\"plot_bgcolor\":\"#E5ECF6\",\"polar\":{\"angularaxis\":{\"gridcolor\":\"white\",\"linecolor\":\"white\",\"ticks\":\"\"},\"bgcolor\":\"#E5ECF6\",\"radialaxis\":{\"gridcolor\":\"white\",\"linecolor\":\"white\",\"ticks\":\"\"}},\"scene\":{\"xaxis\":{\"backgroundcolor\":\"#E5ECF6\",\"gridcolor\":\"white\",\"gridwidth\":2,\"linecolor\":\"white\",\"showbackground\":true,\"ticks\":\"\",\"zerolinecolor\":\"white\"},\"yaxis\":{\"backgroundcolor\":\"#E5ECF6\",\"gridcolor\":\"white\",\"gridwidth\":2,\"linecolor\":\"white\",\"showbackground\":true,\"ticks\":\"\",\"zerolinecolor\":\"white\"},\"zaxis\":{\"backgroundcolor\":\"#E5ECF6\",\"gridcolor\":\"white\",\"gridwidth\":2,\"linecolor\":\"white\",\"showbackground\":true,\"ticks\":\"\",\"zerolinecolor\":\"white\"}},\"shapedefaults\":{\"line\":{\"color\":\"#2a3f5f\"}},\"ternary\":{\"aaxis\":{\"gridcolor\":\"white\",\"linecolor\":\"white\",\"ticks\":\"\"},\"baxis\":{\"gridcolor\":\"white\",\"linecolor\":\"white\",\"ticks\":\"\"},\"bgcolor\":\"#E5ECF6\",\"caxis\":{\"gridcolor\":\"white\",\"linecolor\":\"white\",\"ticks\":\"\"}},\"title\":{\"x\":0.05},\"xaxis\":{\"automargin\":true,\"gridcolor\":\"white\",\"linecolor\":\"white\",\"ticks\":\"\",\"title\":{\"standoff\":15},\"zerolinecolor\":\"white\",\"zerolinewidth\":2},\"yaxis\":{\"automargin\":true,\"gridcolor\":\"white\",\"linecolor\":\"white\",\"ticks\":\"\",\"title\":{\"standoff\":15},\"zerolinecolor\":\"white\",\"zerolinewidth\":2}}},\"title\":{\"font\":{\"color\":\"#4D5663\"}},\"xaxis\":{\"gridcolor\":\"#E1E5ED\",\"showgrid\":true,\"tickfont\":{\"color\":\"#4D5663\"},\"title\":{\"font\":{\"color\":\"#4D5663\"},\"text\":\"\"},\"zerolinecolor\":\"#E1E5ED\"},\"yaxis\":{\"gridcolor\":\"#E1E5ED\",\"showgrid\":true,\"tickfont\":{\"color\":\"#4D5663\"},\"title\":{\"font\":{\"color\":\"#4D5663\"},\"text\":\"\"},\"zerolinecolor\":\"#E1E5ED\"}},                        {\"showLink\": true, \"linkText\": \"Export to plot.ly\", \"plotlyServerURL\": \"https://plot.ly\", \"responsive\": true}                    ).then(function(){\n",
       "                            \n",
       "var gd = document.getElementById('4cb21358-5a5b-4d4a-88fb-93b76b4966c6');\n",
       "var x = new MutationObserver(function (mutations, observer) {{\n",
       "        var display = window.getComputedStyle(gd).display;\n",
       "        if (!display || display === 'none') {{\n",
       "            console.log([gd, 'removed!']);\n",
       "            Plotly.purge(gd);\n",
       "            observer.disconnect();\n",
       "        }}\n",
       "}});\n",
       "\n",
       "// Listen for the removal of the full notebook cells\n",
       "var notebookContainer = gd.closest('#notebook-container');\n",
       "if (notebookContainer) {{\n",
       "    x.observe(notebookContainer, {childList: true});\n",
       "}}\n",
       "\n",
       "// Listen for the clearing of the current output cell\n",
       "var outputEl = gd.closest('.output');\n",
       "if (outputEl) {{\n",
       "    x.observe(outputEl, {childList: true});\n",
       "}}\n",
       "\n",
       "                        })                };                });            </script>        </div>"
      ]
     },
     "metadata": {},
     "output_type": "display_data"
    }
   ],
   "source": [
    "df.iplot(kind = 'scatter', x = 'A', y = 'B', mode = 'markers', size = 10)"
   ]
  },
  {
   "cell_type": "code",
   "execution_count": 18,
   "metadata": {},
   "outputs": [
    {
     "data": {
      "application/vnd.plotly.v1+json": {
       "config": {
        "linkText": "Export to plot.ly",
        "plotlyServerURL": "https://plot.ly",
        "showLink": true
       },
       "data": [
        {
         "marker": {
          "color": "rgba(255, 153, 51, 0.6)",
          "line": {
           "color": "rgba(255, 153, 51, 1.0)",
           "width": 1
          }
         },
         "name": "Values",
         "orientation": "v",
         "text": "",
         "type": "bar",
         "x": [
          "A",
          "B",
          "C"
         ],
         "y": [
          32,
          43,
          50
         ]
        }
       ],
       "layout": {
        "legend": {
         "bgcolor": "#F5F6F9",
         "font": {
          "color": "#4D5663"
         }
        },
        "paper_bgcolor": "#F5F6F9",
        "plot_bgcolor": "#F5F6F9",
        "template": {
         "data": {
          "bar": [
           {
            "error_x": {
             "color": "#2a3f5f"
            },
            "error_y": {
             "color": "#2a3f5f"
            },
            "marker": {
             "line": {
              "color": "#E5ECF6",
              "width": 0.5
             },
             "pattern": {
              "fillmode": "overlay",
              "size": 10,
              "solidity": 0.2
             }
            },
            "type": "bar"
           }
          ],
          "barpolar": [
           {
            "marker": {
             "line": {
              "color": "#E5ECF6",
              "width": 0.5
             },
             "pattern": {
              "fillmode": "overlay",
              "size": 10,
              "solidity": 0.2
             }
            },
            "type": "barpolar"
           }
          ],
          "carpet": [
           {
            "aaxis": {
             "endlinecolor": "#2a3f5f",
             "gridcolor": "white",
             "linecolor": "white",
             "minorgridcolor": "white",
             "startlinecolor": "#2a3f5f"
            },
            "baxis": {
             "endlinecolor": "#2a3f5f",
             "gridcolor": "white",
             "linecolor": "white",
             "minorgridcolor": "white",
             "startlinecolor": "#2a3f5f"
            },
            "type": "carpet"
           }
          ],
          "choropleth": [
           {
            "colorbar": {
             "outlinewidth": 0,
             "ticks": ""
            },
            "type": "choropleth"
           }
          ],
          "contour": [
           {
            "colorbar": {
             "outlinewidth": 0,
             "ticks": ""
            },
            "colorscale": [
             [
              0,
              "#0d0887"
             ],
             [
              0.1111111111111111,
              "#46039f"
             ],
             [
              0.2222222222222222,
              "#7201a8"
             ],
             [
              0.3333333333333333,
              "#9c179e"
             ],
             [
              0.4444444444444444,
              "#bd3786"
             ],
             [
              0.5555555555555556,
              "#d8576b"
             ],
             [
              0.6666666666666666,
              "#ed7953"
             ],
             [
              0.7777777777777778,
              "#fb9f3a"
             ],
             [
              0.8888888888888888,
              "#fdca26"
             ],
             [
              1,
              "#f0f921"
             ]
            ],
            "type": "contour"
           }
          ],
          "contourcarpet": [
           {
            "colorbar": {
             "outlinewidth": 0,
             "ticks": ""
            },
            "type": "contourcarpet"
           }
          ],
          "heatmap": [
           {
            "colorbar": {
             "outlinewidth": 0,
             "ticks": ""
            },
            "colorscale": [
             [
              0,
              "#0d0887"
             ],
             [
              0.1111111111111111,
              "#46039f"
             ],
             [
              0.2222222222222222,
              "#7201a8"
             ],
             [
              0.3333333333333333,
              "#9c179e"
             ],
             [
              0.4444444444444444,
              "#bd3786"
             ],
             [
              0.5555555555555556,
              "#d8576b"
             ],
             [
              0.6666666666666666,
              "#ed7953"
             ],
             [
              0.7777777777777778,
              "#fb9f3a"
             ],
             [
              0.8888888888888888,
              "#fdca26"
             ],
             [
              1,
              "#f0f921"
             ]
            ],
            "type": "heatmap"
           }
          ],
          "heatmapgl": [
           {
            "colorbar": {
             "outlinewidth": 0,
             "ticks": ""
            },
            "colorscale": [
             [
              0,
              "#0d0887"
             ],
             [
              0.1111111111111111,
              "#46039f"
             ],
             [
              0.2222222222222222,
              "#7201a8"
             ],
             [
              0.3333333333333333,
              "#9c179e"
             ],
             [
              0.4444444444444444,
              "#bd3786"
             ],
             [
              0.5555555555555556,
              "#d8576b"
             ],
             [
              0.6666666666666666,
              "#ed7953"
             ],
             [
              0.7777777777777778,
              "#fb9f3a"
             ],
             [
              0.8888888888888888,
              "#fdca26"
             ],
             [
              1,
              "#f0f921"
             ]
            ],
            "type": "heatmapgl"
           }
          ],
          "histogram": [
           {
            "marker": {
             "pattern": {
              "fillmode": "overlay",
              "size": 10,
              "solidity": 0.2
             }
            },
            "type": "histogram"
           }
          ],
          "histogram2d": [
           {
            "colorbar": {
             "outlinewidth": 0,
             "ticks": ""
            },
            "colorscale": [
             [
              0,
              "#0d0887"
             ],
             [
              0.1111111111111111,
              "#46039f"
             ],
             [
              0.2222222222222222,
              "#7201a8"
             ],
             [
              0.3333333333333333,
              "#9c179e"
             ],
             [
              0.4444444444444444,
              "#bd3786"
             ],
             [
              0.5555555555555556,
              "#d8576b"
             ],
             [
              0.6666666666666666,
              "#ed7953"
             ],
             [
              0.7777777777777778,
              "#fb9f3a"
             ],
             [
              0.8888888888888888,
              "#fdca26"
             ],
             [
              1,
              "#f0f921"
             ]
            ],
            "type": "histogram2d"
           }
          ],
          "histogram2dcontour": [
           {
            "colorbar": {
             "outlinewidth": 0,
             "ticks": ""
            },
            "colorscale": [
             [
              0,
              "#0d0887"
             ],
             [
              0.1111111111111111,
              "#46039f"
             ],
             [
              0.2222222222222222,
              "#7201a8"
             ],
             [
              0.3333333333333333,
              "#9c179e"
             ],
             [
              0.4444444444444444,
              "#bd3786"
             ],
             [
              0.5555555555555556,
              "#d8576b"
             ],
             [
              0.6666666666666666,
              "#ed7953"
             ],
             [
              0.7777777777777778,
              "#fb9f3a"
             ],
             [
              0.8888888888888888,
              "#fdca26"
             ],
             [
              1,
              "#f0f921"
             ]
            ],
            "type": "histogram2dcontour"
           }
          ],
          "mesh3d": [
           {
            "colorbar": {
             "outlinewidth": 0,
             "ticks": ""
            },
            "type": "mesh3d"
           }
          ],
          "parcoords": [
           {
            "line": {
             "colorbar": {
              "outlinewidth": 0,
              "ticks": ""
             }
            },
            "type": "parcoords"
           }
          ],
          "pie": [
           {
            "automargin": true,
            "type": "pie"
           }
          ],
          "scatter": [
           {
            "fillpattern": {
             "fillmode": "overlay",
             "size": 10,
             "solidity": 0.2
            },
            "type": "scatter"
           }
          ],
          "scatter3d": [
           {
            "line": {
             "colorbar": {
              "outlinewidth": 0,
              "ticks": ""
             }
            },
            "marker": {
             "colorbar": {
              "outlinewidth": 0,
              "ticks": ""
             }
            },
            "type": "scatter3d"
           }
          ],
          "scattercarpet": [
           {
            "marker": {
             "colorbar": {
              "outlinewidth": 0,
              "ticks": ""
             }
            },
            "type": "scattercarpet"
           }
          ],
          "scattergeo": [
           {
            "marker": {
             "colorbar": {
              "outlinewidth": 0,
              "ticks": ""
             }
            },
            "type": "scattergeo"
           }
          ],
          "scattergl": [
           {
            "marker": {
             "colorbar": {
              "outlinewidth": 0,
              "ticks": ""
             }
            },
            "type": "scattergl"
           }
          ],
          "scattermapbox": [
           {
            "marker": {
             "colorbar": {
              "outlinewidth": 0,
              "ticks": ""
             }
            },
            "type": "scattermapbox"
           }
          ],
          "scatterpolar": [
           {
            "marker": {
             "colorbar": {
              "outlinewidth": 0,
              "ticks": ""
             }
            },
            "type": "scatterpolar"
           }
          ],
          "scatterpolargl": [
           {
            "marker": {
             "colorbar": {
              "outlinewidth": 0,
              "ticks": ""
             }
            },
            "type": "scatterpolargl"
           }
          ],
          "scatterternary": [
           {
            "marker": {
             "colorbar": {
              "outlinewidth": 0,
              "ticks": ""
             }
            },
            "type": "scatterternary"
           }
          ],
          "surface": [
           {
            "colorbar": {
             "outlinewidth": 0,
             "ticks": ""
            },
            "colorscale": [
             [
              0,
              "#0d0887"
             ],
             [
              0.1111111111111111,
              "#46039f"
             ],
             [
              0.2222222222222222,
              "#7201a8"
             ],
             [
              0.3333333333333333,
              "#9c179e"
             ],
             [
              0.4444444444444444,
              "#bd3786"
             ],
             [
              0.5555555555555556,
              "#d8576b"
             ],
             [
              0.6666666666666666,
              "#ed7953"
             ],
             [
              0.7777777777777778,
              "#fb9f3a"
             ],
             [
              0.8888888888888888,
              "#fdca26"
             ],
             [
              1,
              "#f0f921"
             ]
            ],
            "type": "surface"
           }
          ],
          "table": [
           {
            "cells": {
             "fill": {
              "color": "#EBF0F8"
             },
             "line": {
              "color": "white"
             }
            },
            "header": {
             "fill": {
              "color": "#C8D4E3"
             },
             "line": {
              "color": "white"
             }
            },
            "type": "table"
           }
          ]
         },
         "layout": {
          "annotationdefaults": {
           "arrowcolor": "#2a3f5f",
           "arrowhead": 0,
           "arrowwidth": 1
          },
          "autotypenumbers": "strict",
          "coloraxis": {
           "colorbar": {
            "outlinewidth": 0,
            "ticks": ""
           }
          },
          "colorscale": {
           "diverging": [
            [
             0,
             "#8e0152"
            ],
            [
             0.1,
             "#c51b7d"
            ],
            [
             0.2,
             "#de77ae"
            ],
            [
             0.3,
             "#f1b6da"
            ],
            [
             0.4,
             "#fde0ef"
            ],
            [
             0.5,
             "#f7f7f7"
            ],
            [
             0.6,
             "#e6f5d0"
            ],
            [
             0.7,
             "#b8e186"
            ],
            [
             0.8,
             "#7fbc41"
            ],
            [
             0.9,
             "#4d9221"
            ],
            [
             1,
             "#276419"
            ]
           ],
           "sequential": [
            [
             0,
             "#0d0887"
            ],
            [
             0.1111111111111111,
             "#46039f"
            ],
            [
             0.2222222222222222,
             "#7201a8"
            ],
            [
             0.3333333333333333,
             "#9c179e"
            ],
            [
             0.4444444444444444,
             "#bd3786"
            ],
            [
             0.5555555555555556,
             "#d8576b"
            ],
            [
             0.6666666666666666,
             "#ed7953"
            ],
            [
             0.7777777777777778,
             "#fb9f3a"
            ],
            [
             0.8888888888888888,
             "#fdca26"
            ],
            [
             1,
             "#f0f921"
            ]
           ],
           "sequentialminus": [
            [
             0,
             "#0d0887"
            ],
            [
             0.1111111111111111,
             "#46039f"
            ],
            [
             0.2222222222222222,
             "#7201a8"
            ],
            [
             0.3333333333333333,
             "#9c179e"
            ],
            [
             0.4444444444444444,
             "#bd3786"
            ],
            [
             0.5555555555555556,
             "#d8576b"
            ],
            [
             0.6666666666666666,
             "#ed7953"
            ],
            [
             0.7777777777777778,
             "#fb9f3a"
            ],
            [
             0.8888888888888888,
             "#fdca26"
            ],
            [
             1,
             "#f0f921"
            ]
           ]
          },
          "colorway": [
           "#636efa",
           "#EF553B",
           "#00cc96",
           "#ab63fa",
           "#FFA15A",
           "#19d3f3",
           "#FF6692",
           "#B6E880",
           "#FF97FF",
           "#FECB52"
          ],
          "font": {
           "color": "#2a3f5f"
          },
          "geo": {
           "bgcolor": "white",
           "lakecolor": "white",
           "landcolor": "#E5ECF6",
           "showlakes": true,
           "showland": true,
           "subunitcolor": "white"
          },
          "hoverlabel": {
           "align": "left"
          },
          "hovermode": "closest",
          "mapbox": {
           "style": "light"
          },
          "paper_bgcolor": "white",
          "plot_bgcolor": "#E5ECF6",
          "polar": {
           "angularaxis": {
            "gridcolor": "white",
            "linecolor": "white",
            "ticks": ""
           },
           "bgcolor": "#E5ECF6",
           "radialaxis": {
            "gridcolor": "white",
            "linecolor": "white",
            "ticks": ""
           }
          },
          "scene": {
           "xaxis": {
            "backgroundcolor": "#E5ECF6",
            "gridcolor": "white",
            "gridwidth": 2,
            "linecolor": "white",
            "showbackground": true,
            "ticks": "",
            "zerolinecolor": "white"
           },
           "yaxis": {
            "backgroundcolor": "#E5ECF6",
            "gridcolor": "white",
            "gridwidth": 2,
            "linecolor": "white",
            "showbackground": true,
            "ticks": "",
            "zerolinecolor": "white"
           },
           "zaxis": {
            "backgroundcolor": "#E5ECF6",
            "gridcolor": "white",
            "gridwidth": 2,
            "linecolor": "white",
            "showbackground": true,
            "ticks": "",
            "zerolinecolor": "white"
           }
          },
          "shapedefaults": {
           "line": {
            "color": "#2a3f5f"
           }
          },
          "ternary": {
           "aaxis": {
            "gridcolor": "white",
            "linecolor": "white",
            "ticks": ""
           },
           "baxis": {
            "gridcolor": "white",
            "linecolor": "white",
            "ticks": ""
           },
           "bgcolor": "#E5ECF6",
           "caxis": {
            "gridcolor": "white",
            "linecolor": "white",
            "ticks": ""
           }
          },
          "title": {
           "x": 0.05
          },
          "xaxis": {
           "automargin": true,
           "gridcolor": "white",
           "linecolor": "white",
           "ticks": "",
           "title": {
            "standoff": 15
           },
           "zerolinecolor": "white",
           "zerolinewidth": 2
          },
          "yaxis": {
           "automargin": true,
           "gridcolor": "white",
           "linecolor": "white",
           "ticks": "",
           "title": {
            "standoff": 15
           },
           "zerolinecolor": "white",
           "zerolinewidth": 2
          }
         }
        },
        "title": {
         "font": {
          "color": "#4D5663"
         }
        },
        "xaxis": {
         "gridcolor": "#E1E5ED",
         "showgrid": true,
         "tickfont": {
          "color": "#4D5663"
         },
         "title": {
          "font": {
           "color": "#4D5663"
          },
          "text": ""
         },
         "zerolinecolor": "#E1E5ED"
        },
        "yaxis": {
         "gridcolor": "#E1E5ED",
         "showgrid": true,
         "tickfont": {
          "color": "#4D5663"
         },
         "title": {
          "font": {
           "color": "#4D5663"
          },
          "text": ""
         },
         "zerolinecolor": "#E1E5ED"
        }
       }
      },
      "text/html": [
       "<div>                            <div id=\"d3d701f7-1df8-4162-b487-1e17e9db3f4c\" class=\"plotly-graph-div\" style=\"height:525px; width:100%;\"></div>            <script type=\"text/javascript\">                require([\"plotly\"], function(Plotly) {                    window.PLOTLYENV=window.PLOTLYENV || {};\n",
       "                    window.PLOTLYENV.BASE_URL='https://plot.ly';                                    if (document.getElementById(\"d3d701f7-1df8-4162-b487-1e17e9db3f4c\")) {                    Plotly.newPlot(                        \"d3d701f7-1df8-4162-b487-1e17e9db3f4c\",                        [{\"marker\":{\"color\":\"rgba(255, 153, 51, 0.6)\",\"line\":{\"color\":\"rgba(255, 153, 51, 1.0)\",\"width\":1}},\"name\":\"Values\",\"orientation\":\"v\",\"text\":\"\",\"x\":[\"A\",\"B\",\"C\"],\"y\":[32,43,50],\"type\":\"bar\"}],                        {\"legend\":{\"bgcolor\":\"#F5F6F9\",\"font\":{\"color\":\"#4D5663\"}},\"paper_bgcolor\":\"#F5F6F9\",\"plot_bgcolor\":\"#F5F6F9\",\"template\":{\"data\":{\"barpolar\":[{\"marker\":{\"line\":{\"color\":\"#E5ECF6\",\"width\":0.5},\"pattern\":{\"fillmode\":\"overlay\",\"size\":10,\"solidity\":0.2}},\"type\":\"barpolar\"}],\"bar\":[{\"error_x\":{\"color\":\"#2a3f5f\"},\"error_y\":{\"color\":\"#2a3f5f\"},\"marker\":{\"line\":{\"color\":\"#E5ECF6\",\"width\":0.5},\"pattern\":{\"fillmode\":\"overlay\",\"size\":10,\"solidity\":0.2}},\"type\":\"bar\"}],\"carpet\":[{\"aaxis\":{\"endlinecolor\":\"#2a3f5f\",\"gridcolor\":\"white\",\"linecolor\":\"white\",\"minorgridcolor\":\"white\",\"startlinecolor\":\"#2a3f5f\"},\"baxis\":{\"endlinecolor\":\"#2a3f5f\",\"gridcolor\":\"white\",\"linecolor\":\"white\",\"minorgridcolor\":\"white\",\"startlinecolor\":\"#2a3f5f\"},\"type\":\"carpet\"}],\"choropleth\":[{\"colorbar\":{\"outlinewidth\":0,\"ticks\":\"\"},\"type\":\"choropleth\"}],\"contourcarpet\":[{\"colorbar\":{\"outlinewidth\":0,\"ticks\":\"\"},\"type\":\"contourcarpet\"}],\"contour\":[{\"colorbar\":{\"outlinewidth\":0,\"ticks\":\"\"},\"colorscale\":[[0.0,\"#0d0887\"],[0.1111111111111111,\"#46039f\"],[0.2222222222222222,\"#7201a8\"],[0.3333333333333333,\"#9c179e\"],[0.4444444444444444,\"#bd3786\"],[0.5555555555555556,\"#d8576b\"],[0.6666666666666666,\"#ed7953\"],[0.7777777777777778,\"#fb9f3a\"],[0.8888888888888888,\"#fdca26\"],[1.0,\"#f0f921\"]],\"type\":\"contour\"}],\"heatmapgl\":[{\"colorbar\":{\"outlinewidth\":0,\"ticks\":\"\"},\"colorscale\":[[0.0,\"#0d0887\"],[0.1111111111111111,\"#46039f\"],[0.2222222222222222,\"#7201a8\"],[0.3333333333333333,\"#9c179e\"],[0.4444444444444444,\"#bd3786\"],[0.5555555555555556,\"#d8576b\"],[0.6666666666666666,\"#ed7953\"],[0.7777777777777778,\"#fb9f3a\"],[0.8888888888888888,\"#fdca26\"],[1.0,\"#f0f921\"]],\"type\":\"heatmapgl\"}],\"heatmap\":[{\"colorbar\":{\"outlinewidth\":0,\"ticks\":\"\"},\"colorscale\":[[0.0,\"#0d0887\"],[0.1111111111111111,\"#46039f\"],[0.2222222222222222,\"#7201a8\"],[0.3333333333333333,\"#9c179e\"],[0.4444444444444444,\"#bd3786\"],[0.5555555555555556,\"#d8576b\"],[0.6666666666666666,\"#ed7953\"],[0.7777777777777778,\"#fb9f3a\"],[0.8888888888888888,\"#fdca26\"],[1.0,\"#f0f921\"]],\"type\":\"heatmap\"}],\"histogram2dcontour\":[{\"colorbar\":{\"outlinewidth\":0,\"ticks\":\"\"},\"colorscale\":[[0.0,\"#0d0887\"],[0.1111111111111111,\"#46039f\"],[0.2222222222222222,\"#7201a8\"],[0.3333333333333333,\"#9c179e\"],[0.4444444444444444,\"#bd3786\"],[0.5555555555555556,\"#d8576b\"],[0.6666666666666666,\"#ed7953\"],[0.7777777777777778,\"#fb9f3a\"],[0.8888888888888888,\"#fdca26\"],[1.0,\"#f0f921\"]],\"type\":\"histogram2dcontour\"}],\"histogram2d\":[{\"colorbar\":{\"outlinewidth\":0,\"ticks\":\"\"},\"colorscale\":[[0.0,\"#0d0887\"],[0.1111111111111111,\"#46039f\"],[0.2222222222222222,\"#7201a8\"],[0.3333333333333333,\"#9c179e\"],[0.4444444444444444,\"#bd3786\"],[0.5555555555555556,\"#d8576b\"],[0.6666666666666666,\"#ed7953\"],[0.7777777777777778,\"#fb9f3a\"],[0.8888888888888888,\"#fdca26\"],[1.0,\"#f0f921\"]],\"type\":\"histogram2d\"}],\"histogram\":[{\"marker\":{\"pattern\":{\"fillmode\":\"overlay\",\"size\":10,\"solidity\":0.2}},\"type\":\"histogram\"}],\"mesh3d\":[{\"colorbar\":{\"outlinewidth\":0,\"ticks\":\"\"},\"type\":\"mesh3d\"}],\"parcoords\":[{\"line\":{\"colorbar\":{\"outlinewidth\":0,\"ticks\":\"\"}},\"type\":\"parcoords\"}],\"pie\":[{\"automargin\":true,\"type\":\"pie\"}],\"scatter3d\":[{\"line\":{\"colorbar\":{\"outlinewidth\":0,\"ticks\":\"\"}},\"marker\":{\"colorbar\":{\"outlinewidth\":0,\"ticks\":\"\"}},\"type\":\"scatter3d\"}],\"scattercarpet\":[{\"marker\":{\"colorbar\":{\"outlinewidth\":0,\"ticks\":\"\"}},\"type\":\"scattercarpet\"}],\"scattergeo\":[{\"marker\":{\"colorbar\":{\"outlinewidth\":0,\"ticks\":\"\"}},\"type\":\"scattergeo\"}],\"scattergl\":[{\"marker\":{\"colorbar\":{\"outlinewidth\":0,\"ticks\":\"\"}},\"type\":\"scattergl\"}],\"scattermapbox\":[{\"marker\":{\"colorbar\":{\"outlinewidth\":0,\"ticks\":\"\"}},\"type\":\"scattermapbox\"}],\"scatterpolargl\":[{\"marker\":{\"colorbar\":{\"outlinewidth\":0,\"ticks\":\"\"}},\"type\":\"scatterpolargl\"}],\"scatterpolar\":[{\"marker\":{\"colorbar\":{\"outlinewidth\":0,\"ticks\":\"\"}},\"type\":\"scatterpolar\"}],\"scatter\":[{\"fillpattern\":{\"fillmode\":\"overlay\",\"size\":10,\"solidity\":0.2},\"type\":\"scatter\"}],\"scatterternary\":[{\"marker\":{\"colorbar\":{\"outlinewidth\":0,\"ticks\":\"\"}},\"type\":\"scatterternary\"}],\"surface\":[{\"colorbar\":{\"outlinewidth\":0,\"ticks\":\"\"},\"colorscale\":[[0.0,\"#0d0887\"],[0.1111111111111111,\"#46039f\"],[0.2222222222222222,\"#7201a8\"],[0.3333333333333333,\"#9c179e\"],[0.4444444444444444,\"#bd3786\"],[0.5555555555555556,\"#d8576b\"],[0.6666666666666666,\"#ed7953\"],[0.7777777777777778,\"#fb9f3a\"],[0.8888888888888888,\"#fdca26\"],[1.0,\"#f0f921\"]],\"type\":\"surface\"}],\"table\":[{\"cells\":{\"fill\":{\"color\":\"#EBF0F8\"},\"line\":{\"color\":\"white\"}},\"header\":{\"fill\":{\"color\":\"#C8D4E3\"},\"line\":{\"color\":\"white\"}},\"type\":\"table\"}]},\"layout\":{\"annotationdefaults\":{\"arrowcolor\":\"#2a3f5f\",\"arrowhead\":0,\"arrowwidth\":1},\"autotypenumbers\":\"strict\",\"coloraxis\":{\"colorbar\":{\"outlinewidth\":0,\"ticks\":\"\"}},\"colorscale\":{\"diverging\":[[0,\"#8e0152\"],[0.1,\"#c51b7d\"],[0.2,\"#de77ae\"],[0.3,\"#f1b6da\"],[0.4,\"#fde0ef\"],[0.5,\"#f7f7f7\"],[0.6,\"#e6f5d0\"],[0.7,\"#b8e186\"],[0.8,\"#7fbc41\"],[0.9,\"#4d9221\"],[1,\"#276419\"]],\"sequential\":[[0.0,\"#0d0887\"],[0.1111111111111111,\"#46039f\"],[0.2222222222222222,\"#7201a8\"],[0.3333333333333333,\"#9c179e\"],[0.4444444444444444,\"#bd3786\"],[0.5555555555555556,\"#d8576b\"],[0.6666666666666666,\"#ed7953\"],[0.7777777777777778,\"#fb9f3a\"],[0.8888888888888888,\"#fdca26\"],[1.0,\"#f0f921\"]],\"sequentialminus\":[[0.0,\"#0d0887\"],[0.1111111111111111,\"#46039f\"],[0.2222222222222222,\"#7201a8\"],[0.3333333333333333,\"#9c179e\"],[0.4444444444444444,\"#bd3786\"],[0.5555555555555556,\"#d8576b\"],[0.6666666666666666,\"#ed7953\"],[0.7777777777777778,\"#fb9f3a\"],[0.8888888888888888,\"#fdca26\"],[1.0,\"#f0f921\"]]},\"colorway\":[\"#636efa\",\"#EF553B\",\"#00cc96\",\"#ab63fa\",\"#FFA15A\",\"#19d3f3\",\"#FF6692\",\"#B6E880\",\"#FF97FF\",\"#FECB52\"],\"font\":{\"color\":\"#2a3f5f\"},\"geo\":{\"bgcolor\":\"white\",\"lakecolor\":\"white\",\"landcolor\":\"#E5ECF6\",\"showlakes\":true,\"showland\":true,\"subunitcolor\":\"white\"},\"hoverlabel\":{\"align\":\"left\"},\"hovermode\":\"closest\",\"mapbox\":{\"style\":\"light\"},\"paper_bgcolor\":\"white\",\"plot_bgcolor\":\"#E5ECF6\",\"polar\":{\"angularaxis\":{\"gridcolor\":\"white\",\"linecolor\":\"white\",\"ticks\":\"\"},\"bgcolor\":\"#E5ECF6\",\"radialaxis\":{\"gridcolor\":\"white\",\"linecolor\":\"white\",\"ticks\":\"\"}},\"scene\":{\"xaxis\":{\"backgroundcolor\":\"#E5ECF6\",\"gridcolor\":\"white\",\"gridwidth\":2,\"linecolor\":\"white\",\"showbackground\":true,\"ticks\":\"\",\"zerolinecolor\":\"white\"},\"yaxis\":{\"backgroundcolor\":\"#E5ECF6\",\"gridcolor\":\"white\",\"gridwidth\":2,\"linecolor\":\"white\",\"showbackground\":true,\"ticks\":\"\",\"zerolinecolor\":\"white\"},\"zaxis\":{\"backgroundcolor\":\"#E5ECF6\",\"gridcolor\":\"white\",\"gridwidth\":2,\"linecolor\":\"white\",\"showbackground\":true,\"ticks\":\"\",\"zerolinecolor\":\"white\"}},\"shapedefaults\":{\"line\":{\"color\":\"#2a3f5f\"}},\"ternary\":{\"aaxis\":{\"gridcolor\":\"white\",\"linecolor\":\"white\",\"ticks\":\"\"},\"baxis\":{\"gridcolor\":\"white\",\"linecolor\":\"white\",\"ticks\":\"\"},\"bgcolor\":\"#E5ECF6\",\"caxis\":{\"gridcolor\":\"white\",\"linecolor\":\"white\",\"ticks\":\"\"}},\"title\":{\"x\":0.05},\"xaxis\":{\"automargin\":true,\"gridcolor\":\"white\",\"linecolor\":\"white\",\"ticks\":\"\",\"title\":{\"standoff\":15},\"zerolinecolor\":\"white\",\"zerolinewidth\":2},\"yaxis\":{\"automargin\":true,\"gridcolor\":\"white\",\"linecolor\":\"white\",\"ticks\":\"\",\"title\":{\"standoff\":15},\"zerolinecolor\":\"white\",\"zerolinewidth\":2}}},\"title\":{\"font\":{\"color\":\"#4D5663\"}},\"xaxis\":{\"gridcolor\":\"#E1E5ED\",\"showgrid\":true,\"tickfont\":{\"color\":\"#4D5663\"},\"title\":{\"font\":{\"color\":\"#4D5663\"},\"text\":\"\"},\"zerolinecolor\":\"#E1E5ED\"},\"yaxis\":{\"gridcolor\":\"#E1E5ED\",\"showgrid\":true,\"tickfont\":{\"color\":\"#4D5663\"},\"title\":{\"font\":{\"color\":\"#4D5663\"},\"text\":\"\"},\"zerolinecolor\":\"#E1E5ED\"}},                        {\"showLink\": true, \"linkText\": \"Export to plot.ly\", \"plotlyServerURL\": \"https://plot.ly\", \"responsive\": true}                    ).then(function(){\n",
       "                            \n",
       "var gd = document.getElementById('d3d701f7-1df8-4162-b487-1e17e9db3f4c');\n",
       "var x = new MutationObserver(function (mutations, observer) {{\n",
       "        var display = window.getComputedStyle(gd).display;\n",
       "        if (!display || display === 'none') {{\n",
       "            console.log([gd, 'removed!']);\n",
       "            Plotly.purge(gd);\n",
       "            observer.disconnect();\n",
       "        }}\n",
       "}});\n",
       "\n",
       "// Listen for the removal of the full notebook cells\n",
       "var notebookContainer = gd.closest('#notebook-container');\n",
       "if (notebookContainer) {{\n",
       "    x.observe(notebookContainer, {childList: true});\n",
       "}}\n",
       "\n",
       "// Listen for the clearing of the current output cell\n",
       "var outputEl = gd.closest('.output');\n",
       "if (outputEl) {{\n",
       "    x.observe(outputEl, {childList: true});\n",
       "}}\n",
       "\n",
       "                        })                };                });            </script>        </div>"
      ]
     },
     "metadata": {},
     "output_type": "display_data"
    }
   ],
   "source": [
    "df2.iplot(kind = 'bar', x = 'Category', y = 'Values')"
   ]
  },
  {
   "cell_type": "code",
   "execution_count": 20,
   "metadata": {},
   "outputs": [
    {
     "data": {
      "application/vnd.plotly.v1+json": {
       "config": {
        "linkText": "Export to plot.ly",
        "plotlyServerURL": "https://plot.ly",
        "showLink": true
       },
       "data": [
        {
         "marker": {
          "color": "rgba(255, 153, 51, 0.6)",
          "line": {
           "color": "rgba(255, 153, 51, 1.0)",
           "width": 1
          }
         },
         "name": "None",
         "orientation": "v",
         "text": "",
         "type": "bar",
         "x": [
          "A",
          "B",
          "C",
          "D"
         ],
         "y": [
          11.021035886338792,
          20.540847639867735,
          20.016916335345016,
          2.5582531722375057
         ]
        }
       ],
       "layout": {
        "legend": {
         "bgcolor": "#F5F6F9",
         "font": {
          "color": "#4D5663"
         }
        },
        "paper_bgcolor": "#F5F6F9",
        "plot_bgcolor": "#F5F6F9",
        "template": {
         "data": {
          "bar": [
           {
            "error_x": {
             "color": "#2a3f5f"
            },
            "error_y": {
             "color": "#2a3f5f"
            },
            "marker": {
             "line": {
              "color": "#E5ECF6",
              "width": 0.5
             },
             "pattern": {
              "fillmode": "overlay",
              "size": 10,
              "solidity": 0.2
             }
            },
            "type": "bar"
           }
          ],
          "barpolar": [
           {
            "marker": {
             "line": {
              "color": "#E5ECF6",
              "width": 0.5
             },
             "pattern": {
              "fillmode": "overlay",
              "size": 10,
              "solidity": 0.2
             }
            },
            "type": "barpolar"
           }
          ],
          "carpet": [
           {
            "aaxis": {
             "endlinecolor": "#2a3f5f",
             "gridcolor": "white",
             "linecolor": "white",
             "minorgridcolor": "white",
             "startlinecolor": "#2a3f5f"
            },
            "baxis": {
             "endlinecolor": "#2a3f5f",
             "gridcolor": "white",
             "linecolor": "white",
             "minorgridcolor": "white",
             "startlinecolor": "#2a3f5f"
            },
            "type": "carpet"
           }
          ],
          "choropleth": [
           {
            "colorbar": {
             "outlinewidth": 0,
             "ticks": ""
            },
            "type": "choropleth"
           }
          ],
          "contour": [
           {
            "colorbar": {
             "outlinewidth": 0,
             "ticks": ""
            },
            "colorscale": [
             [
              0,
              "#0d0887"
             ],
             [
              0.1111111111111111,
              "#46039f"
             ],
             [
              0.2222222222222222,
              "#7201a8"
             ],
             [
              0.3333333333333333,
              "#9c179e"
             ],
             [
              0.4444444444444444,
              "#bd3786"
             ],
             [
              0.5555555555555556,
              "#d8576b"
             ],
             [
              0.6666666666666666,
              "#ed7953"
             ],
             [
              0.7777777777777778,
              "#fb9f3a"
             ],
             [
              0.8888888888888888,
              "#fdca26"
             ],
             [
              1,
              "#f0f921"
             ]
            ],
            "type": "contour"
           }
          ],
          "contourcarpet": [
           {
            "colorbar": {
             "outlinewidth": 0,
             "ticks": ""
            },
            "type": "contourcarpet"
           }
          ],
          "heatmap": [
           {
            "colorbar": {
             "outlinewidth": 0,
             "ticks": ""
            },
            "colorscale": [
             [
              0,
              "#0d0887"
             ],
             [
              0.1111111111111111,
              "#46039f"
             ],
             [
              0.2222222222222222,
              "#7201a8"
             ],
             [
              0.3333333333333333,
              "#9c179e"
             ],
             [
              0.4444444444444444,
              "#bd3786"
             ],
             [
              0.5555555555555556,
              "#d8576b"
             ],
             [
              0.6666666666666666,
              "#ed7953"
             ],
             [
              0.7777777777777778,
              "#fb9f3a"
             ],
             [
              0.8888888888888888,
              "#fdca26"
             ],
             [
              1,
              "#f0f921"
             ]
            ],
            "type": "heatmap"
           }
          ],
          "heatmapgl": [
           {
            "colorbar": {
             "outlinewidth": 0,
             "ticks": ""
            },
            "colorscale": [
             [
              0,
              "#0d0887"
             ],
             [
              0.1111111111111111,
              "#46039f"
             ],
             [
              0.2222222222222222,
              "#7201a8"
             ],
             [
              0.3333333333333333,
              "#9c179e"
             ],
             [
              0.4444444444444444,
              "#bd3786"
             ],
             [
              0.5555555555555556,
              "#d8576b"
             ],
             [
              0.6666666666666666,
              "#ed7953"
             ],
             [
              0.7777777777777778,
              "#fb9f3a"
             ],
             [
              0.8888888888888888,
              "#fdca26"
             ],
             [
              1,
              "#f0f921"
             ]
            ],
            "type": "heatmapgl"
           }
          ],
          "histogram": [
           {
            "marker": {
             "pattern": {
              "fillmode": "overlay",
              "size": 10,
              "solidity": 0.2
             }
            },
            "type": "histogram"
           }
          ],
          "histogram2d": [
           {
            "colorbar": {
             "outlinewidth": 0,
             "ticks": ""
            },
            "colorscale": [
             [
              0,
              "#0d0887"
             ],
             [
              0.1111111111111111,
              "#46039f"
             ],
             [
              0.2222222222222222,
              "#7201a8"
             ],
             [
              0.3333333333333333,
              "#9c179e"
             ],
             [
              0.4444444444444444,
              "#bd3786"
             ],
             [
              0.5555555555555556,
              "#d8576b"
             ],
             [
              0.6666666666666666,
              "#ed7953"
             ],
             [
              0.7777777777777778,
              "#fb9f3a"
             ],
             [
              0.8888888888888888,
              "#fdca26"
             ],
             [
              1,
              "#f0f921"
             ]
            ],
            "type": "histogram2d"
           }
          ],
          "histogram2dcontour": [
           {
            "colorbar": {
             "outlinewidth": 0,
             "ticks": ""
            },
            "colorscale": [
             [
              0,
              "#0d0887"
             ],
             [
              0.1111111111111111,
              "#46039f"
             ],
             [
              0.2222222222222222,
              "#7201a8"
             ],
             [
              0.3333333333333333,
              "#9c179e"
             ],
             [
              0.4444444444444444,
              "#bd3786"
             ],
             [
              0.5555555555555556,
              "#d8576b"
             ],
             [
              0.6666666666666666,
              "#ed7953"
             ],
             [
              0.7777777777777778,
              "#fb9f3a"
             ],
             [
              0.8888888888888888,
              "#fdca26"
             ],
             [
              1,
              "#f0f921"
             ]
            ],
            "type": "histogram2dcontour"
           }
          ],
          "mesh3d": [
           {
            "colorbar": {
             "outlinewidth": 0,
             "ticks": ""
            },
            "type": "mesh3d"
           }
          ],
          "parcoords": [
           {
            "line": {
             "colorbar": {
              "outlinewidth": 0,
              "ticks": ""
             }
            },
            "type": "parcoords"
           }
          ],
          "pie": [
           {
            "automargin": true,
            "type": "pie"
           }
          ],
          "scatter": [
           {
            "fillpattern": {
             "fillmode": "overlay",
             "size": 10,
             "solidity": 0.2
            },
            "type": "scatter"
           }
          ],
          "scatter3d": [
           {
            "line": {
             "colorbar": {
              "outlinewidth": 0,
              "ticks": ""
             }
            },
            "marker": {
             "colorbar": {
              "outlinewidth": 0,
              "ticks": ""
             }
            },
            "type": "scatter3d"
           }
          ],
          "scattercarpet": [
           {
            "marker": {
             "colorbar": {
              "outlinewidth": 0,
              "ticks": ""
             }
            },
            "type": "scattercarpet"
           }
          ],
          "scattergeo": [
           {
            "marker": {
             "colorbar": {
              "outlinewidth": 0,
              "ticks": ""
             }
            },
            "type": "scattergeo"
           }
          ],
          "scattergl": [
           {
            "marker": {
             "colorbar": {
              "outlinewidth": 0,
              "ticks": ""
             }
            },
            "type": "scattergl"
           }
          ],
          "scattermapbox": [
           {
            "marker": {
             "colorbar": {
              "outlinewidth": 0,
              "ticks": ""
             }
            },
            "type": "scattermapbox"
           }
          ],
          "scatterpolar": [
           {
            "marker": {
             "colorbar": {
              "outlinewidth": 0,
              "ticks": ""
             }
            },
            "type": "scatterpolar"
           }
          ],
          "scatterpolargl": [
           {
            "marker": {
             "colorbar": {
              "outlinewidth": 0,
              "ticks": ""
             }
            },
            "type": "scatterpolargl"
           }
          ],
          "scatterternary": [
           {
            "marker": {
             "colorbar": {
              "outlinewidth": 0,
              "ticks": ""
             }
            },
            "type": "scatterternary"
           }
          ],
          "surface": [
           {
            "colorbar": {
             "outlinewidth": 0,
             "ticks": ""
            },
            "colorscale": [
             [
              0,
              "#0d0887"
             ],
             [
              0.1111111111111111,
              "#46039f"
             ],
             [
              0.2222222222222222,
              "#7201a8"
             ],
             [
              0.3333333333333333,
              "#9c179e"
             ],
             [
              0.4444444444444444,
              "#bd3786"
             ],
             [
              0.5555555555555556,
              "#d8576b"
             ],
             [
              0.6666666666666666,
              "#ed7953"
             ],
             [
              0.7777777777777778,
              "#fb9f3a"
             ],
             [
              0.8888888888888888,
              "#fdca26"
             ],
             [
              1,
              "#f0f921"
             ]
            ],
            "type": "surface"
           }
          ],
          "table": [
           {
            "cells": {
             "fill": {
              "color": "#EBF0F8"
             },
             "line": {
              "color": "white"
             }
            },
            "header": {
             "fill": {
              "color": "#C8D4E3"
             },
             "line": {
              "color": "white"
             }
            },
            "type": "table"
           }
          ]
         },
         "layout": {
          "annotationdefaults": {
           "arrowcolor": "#2a3f5f",
           "arrowhead": 0,
           "arrowwidth": 1
          },
          "autotypenumbers": "strict",
          "coloraxis": {
           "colorbar": {
            "outlinewidth": 0,
            "ticks": ""
           }
          },
          "colorscale": {
           "diverging": [
            [
             0,
             "#8e0152"
            ],
            [
             0.1,
             "#c51b7d"
            ],
            [
             0.2,
             "#de77ae"
            ],
            [
             0.3,
             "#f1b6da"
            ],
            [
             0.4,
             "#fde0ef"
            ],
            [
             0.5,
             "#f7f7f7"
            ],
            [
             0.6,
             "#e6f5d0"
            ],
            [
             0.7,
             "#b8e186"
            ],
            [
             0.8,
             "#7fbc41"
            ],
            [
             0.9,
             "#4d9221"
            ],
            [
             1,
             "#276419"
            ]
           ],
           "sequential": [
            [
             0,
             "#0d0887"
            ],
            [
             0.1111111111111111,
             "#46039f"
            ],
            [
             0.2222222222222222,
             "#7201a8"
            ],
            [
             0.3333333333333333,
             "#9c179e"
            ],
            [
             0.4444444444444444,
             "#bd3786"
            ],
            [
             0.5555555555555556,
             "#d8576b"
            ],
            [
             0.6666666666666666,
             "#ed7953"
            ],
            [
             0.7777777777777778,
             "#fb9f3a"
            ],
            [
             0.8888888888888888,
             "#fdca26"
            ],
            [
             1,
             "#f0f921"
            ]
           ],
           "sequentialminus": [
            [
             0,
             "#0d0887"
            ],
            [
             0.1111111111111111,
             "#46039f"
            ],
            [
             0.2222222222222222,
             "#7201a8"
            ],
            [
             0.3333333333333333,
             "#9c179e"
            ],
            [
             0.4444444444444444,
             "#bd3786"
            ],
            [
             0.5555555555555556,
             "#d8576b"
            ],
            [
             0.6666666666666666,
             "#ed7953"
            ],
            [
             0.7777777777777778,
             "#fb9f3a"
            ],
            [
             0.8888888888888888,
             "#fdca26"
            ],
            [
             1,
             "#f0f921"
            ]
           ]
          },
          "colorway": [
           "#636efa",
           "#EF553B",
           "#00cc96",
           "#ab63fa",
           "#FFA15A",
           "#19d3f3",
           "#FF6692",
           "#B6E880",
           "#FF97FF",
           "#FECB52"
          ],
          "font": {
           "color": "#2a3f5f"
          },
          "geo": {
           "bgcolor": "white",
           "lakecolor": "white",
           "landcolor": "#E5ECF6",
           "showlakes": true,
           "showland": true,
           "subunitcolor": "white"
          },
          "hoverlabel": {
           "align": "left"
          },
          "hovermode": "closest",
          "mapbox": {
           "style": "light"
          },
          "paper_bgcolor": "white",
          "plot_bgcolor": "#E5ECF6",
          "polar": {
           "angularaxis": {
            "gridcolor": "white",
            "linecolor": "white",
            "ticks": ""
           },
           "bgcolor": "#E5ECF6",
           "radialaxis": {
            "gridcolor": "white",
            "linecolor": "white",
            "ticks": ""
           }
          },
          "scene": {
           "xaxis": {
            "backgroundcolor": "#E5ECF6",
            "gridcolor": "white",
            "gridwidth": 2,
            "linecolor": "white",
            "showbackground": true,
            "ticks": "",
            "zerolinecolor": "white"
           },
           "yaxis": {
            "backgroundcolor": "#E5ECF6",
            "gridcolor": "white",
            "gridwidth": 2,
            "linecolor": "white",
            "showbackground": true,
            "ticks": "",
            "zerolinecolor": "white"
           },
           "zaxis": {
            "backgroundcolor": "#E5ECF6",
            "gridcolor": "white",
            "gridwidth": 2,
            "linecolor": "white",
            "showbackground": true,
            "ticks": "",
            "zerolinecolor": "white"
           }
          },
          "shapedefaults": {
           "line": {
            "color": "#2a3f5f"
           }
          },
          "ternary": {
           "aaxis": {
            "gridcolor": "white",
            "linecolor": "white",
            "ticks": ""
           },
           "baxis": {
            "gridcolor": "white",
            "linecolor": "white",
            "ticks": ""
           },
           "bgcolor": "#E5ECF6",
           "caxis": {
            "gridcolor": "white",
            "linecolor": "white",
            "ticks": ""
           }
          },
          "title": {
           "x": 0.05
          },
          "xaxis": {
           "automargin": true,
           "gridcolor": "white",
           "linecolor": "white",
           "ticks": "",
           "title": {
            "standoff": 15
           },
           "zerolinecolor": "white",
           "zerolinewidth": 2
          },
          "yaxis": {
           "automargin": true,
           "gridcolor": "white",
           "linecolor": "white",
           "ticks": "",
           "title": {
            "standoff": 15
           },
           "zerolinecolor": "white",
           "zerolinewidth": 2
          }
         }
        },
        "title": {
         "font": {
          "color": "#4D5663"
         }
        },
        "xaxis": {
         "gridcolor": "#E1E5ED",
         "showgrid": true,
         "tickfont": {
          "color": "#4D5663"
         },
         "title": {
          "font": {
           "color": "#4D5663"
          },
          "text": ""
         },
         "zerolinecolor": "#E1E5ED"
        },
        "yaxis": {
         "gridcolor": "#E1E5ED",
         "showgrid": true,
         "tickfont": {
          "color": "#4D5663"
         },
         "title": {
          "font": {
           "color": "#4D5663"
          },
          "text": ""
         },
         "zerolinecolor": "#E1E5ED"
        }
       }
      },
      "text/html": [
       "<div>                            <div id=\"f6bfae71-49dc-44c1-ae26-809fa822eea3\" class=\"plotly-graph-div\" style=\"height:525px; width:100%;\"></div>            <script type=\"text/javascript\">                require([\"plotly\"], function(Plotly) {                    window.PLOTLYENV=window.PLOTLYENV || {};\n",
       "                    window.PLOTLYENV.BASE_URL='https://plot.ly';                                    if (document.getElementById(\"f6bfae71-49dc-44c1-ae26-809fa822eea3\")) {                    Plotly.newPlot(                        \"f6bfae71-49dc-44c1-ae26-809fa822eea3\",                        [{\"marker\":{\"color\":\"rgba(255, 153, 51, 0.6)\",\"line\":{\"color\":\"rgba(255, 153, 51, 1.0)\",\"width\":1}},\"name\":\"None\",\"orientation\":\"v\",\"text\":\"\",\"x\":[\"A\",\"B\",\"C\",\"D\"],\"y\":[11.021035886338792,20.540847639867735,20.016916335345016,2.5582531722375057],\"type\":\"bar\"}],                        {\"legend\":{\"bgcolor\":\"#F5F6F9\",\"font\":{\"color\":\"#4D5663\"}},\"paper_bgcolor\":\"#F5F6F9\",\"plot_bgcolor\":\"#F5F6F9\",\"template\":{\"data\":{\"barpolar\":[{\"marker\":{\"line\":{\"color\":\"#E5ECF6\",\"width\":0.5},\"pattern\":{\"fillmode\":\"overlay\",\"size\":10,\"solidity\":0.2}},\"type\":\"barpolar\"}],\"bar\":[{\"error_x\":{\"color\":\"#2a3f5f\"},\"error_y\":{\"color\":\"#2a3f5f\"},\"marker\":{\"line\":{\"color\":\"#E5ECF6\",\"width\":0.5},\"pattern\":{\"fillmode\":\"overlay\",\"size\":10,\"solidity\":0.2}},\"type\":\"bar\"}],\"carpet\":[{\"aaxis\":{\"endlinecolor\":\"#2a3f5f\",\"gridcolor\":\"white\",\"linecolor\":\"white\",\"minorgridcolor\":\"white\",\"startlinecolor\":\"#2a3f5f\"},\"baxis\":{\"endlinecolor\":\"#2a3f5f\",\"gridcolor\":\"white\",\"linecolor\":\"white\",\"minorgridcolor\":\"white\",\"startlinecolor\":\"#2a3f5f\"},\"type\":\"carpet\"}],\"choropleth\":[{\"colorbar\":{\"outlinewidth\":0,\"ticks\":\"\"},\"type\":\"choropleth\"}],\"contourcarpet\":[{\"colorbar\":{\"outlinewidth\":0,\"ticks\":\"\"},\"type\":\"contourcarpet\"}],\"contour\":[{\"colorbar\":{\"outlinewidth\":0,\"ticks\":\"\"},\"colorscale\":[[0.0,\"#0d0887\"],[0.1111111111111111,\"#46039f\"],[0.2222222222222222,\"#7201a8\"],[0.3333333333333333,\"#9c179e\"],[0.4444444444444444,\"#bd3786\"],[0.5555555555555556,\"#d8576b\"],[0.6666666666666666,\"#ed7953\"],[0.7777777777777778,\"#fb9f3a\"],[0.8888888888888888,\"#fdca26\"],[1.0,\"#f0f921\"]],\"type\":\"contour\"}],\"heatmapgl\":[{\"colorbar\":{\"outlinewidth\":0,\"ticks\":\"\"},\"colorscale\":[[0.0,\"#0d0887\"],[0.1111111111111111,\"#46039f\"],[0.2222222222222222,\"#7201a8\"],[0.3333333333333333,\"#9c179e\"],[0.4444444444444444,\"#bd3786\"],[0.5555555555555556,\"#d8576b\"],[0.6666666666666666,\"#ed7953\"],[0.7777777777777778,\"#fb9f3a\"],[0.8888888888888888,\"#fdca26\"],[1.0,\"#f0f921\"]],\"type\":\"heatmapgl\"}],\"heatmap\":[{\"colorbar\":{\"outlinewidth\":0,\"ticks\":\"\"},\"colorscale\":[[0.0,\"#0d0887\"],[0.1111111111111111,\"#46039f\"],[0.2222222222222222,\"#7201a8\"],[0.3333333333333333,\"#9c179e\"],[0.4444444444444444,\"#bd3786\"],[0.5555555555555556,\"#d8576b\"],[0.6666666666666666,\"#ed7953\"],[0.7777777777777778,\"#fb9f3a\"],[0.8888888888888888,\"#fdca26\"],[1.0,\"#f0f921\"]],\"type\":\"heatmap\"}],\"histogram2dcontour\":[{\"colorbar\":{\"outlinewidth\":0,\"ticks\":\"\"},\"colorscale\":[[0.0,\"#0d0887\"],[0.1111111111111111,\"#46039f\"],[0.2222222222222222,\"#7201a8\"],[0.3333333333333333,\"#9c179e\"],[0.4444444444444444,\"#bd3786\"],[0.5555555555555556,\"#d8576b\"],[0.6666666666666666,\"#ed7953\"],[0.7777777777777778,\"#fb9f3a\"],[0.8888888888888888,\"#fdca26\"],[1.0,\"#f0f921\"]],\"type\":\"histogram2dcontour\"}],\"histogram2d\":[{\"colorbar\":{\"outlinewidth\":0,\"ticks\":\"\"},\"colorscale\":[[0.0,\"#0d0887\"],[0.1111111111111111,\"#46039f\"],[0.2222222222222222,\"#7201a8\"],[0.3333333333333333,\"#9c179e\"],[0.4444444444444444,\"#bd3786\"],[0.5555555555555556,\"#d8576b\"],[0.6666666666666666,\"#ed7953\"],[0.7777777777777778,\"#fb9f3a\"],[0.8888888888888888,\"#fdca26\"],[1.0,\"#f0f921\"]],\"type\":\"histogram2d\"}],\"histogram\":[{\"marker\":{\"pattern\":{\"fillmode\":\"overlay\",\"size\":10,\"solidity\":0.2}},\"type\":\"histogram\"}],\"mesh3d\":[{\"colorbar\":{\"outlinewidth\":0,\"ticks\":\"\"},\"type\":\"mesh3d\"}],\"parcoords\":[{\"line\":{\"colorbar\":{\"outlinewidth\":0,\"ticks\":\"\"}},\"type\":\"parcoords\"}],\"pie\":[{\"automargin\":true,\"type\":\"pie\"}],\"scatter3d\":[{\"line\":{\"colorbar\":{\"outlinewidth\":0,\"ticks\":\"\"}},\"marker\":{\"colorbar\":{\"outlinewidth\":0,\"ticks\":\"\"}},\"type\":\"scatter3d\"}],\"scattercarpet\":[{\"marker\":{\"colorbar\":{\"outlinewidth\":0,\"ticks\":\"\"}},\"type\":\"scattercarpet\"}],\"scattergeo\":[{\"marker\":{\"colorbar\":{\"outlinewidth\":0,\"ticks\":\"\"}},\"type\":\"scattergeo\"}],\"scattergl\":[{\"marker\":{\"colorbar\":{\"outlinewidth\":0,\"ticks\":\"\"}},\"type\":\"scattergl\"}],\"scattermapbox\":[{\"marker\":{\"colorbar\":{\"outlinewidth\":0,\"ticks\":\"\"}},\"type\":\"scattermapbox\"}],\"scatterpolargl\":[{\"marker\":{\"colorbar\":{\"outlinewidth\":0,\"ticks\":\"\"}},\"type\":\"scatterpolargl\"}],\"scatterpolar\":[{\"marker\":{\"colorbar\":{\"outlinewidth\":0,\"ticks\":\"\"}},\"type\":\"scatterpolar\"}],\"scatter\":[{\"fillpattern\":{\"fillmode\":\"overlay\",\"size\":10,\"solidity\":0.2},\"type\":\"scatter\"}],\"scatterternary\":[{\"marker\":{\"colorbar\":{\"outlinewidth\":0,\"ticks\":\"\"}},\"type\":\"scatterternary\"}],\"surface\":[{\"colorbar\":{\"outlinewidth\":0,\"ticks\":\"\"},\"colorscale\":[[0.0,\"#0d0887\"],[0.1111111111111111,\"#46039f\"],[0.2222222222222222,\"#7201a8\"],[0.3333333333333333,\"#9c179e\"],[0.4444444444444444,\"#bd3786\"],[0.5555555555555556,\"#d8576b\"],[0.6666666666666666,\"#ed7953\"],[0.7777777777777778,\"#fb9f3a\"],[0.8888888888888888,\"#fdca26\"],[1.0,\"#f0f921\"]],\"type\":\"surface\"}],\"table\":[{\"cells\":{\"fill\":{\"color\":\"#EBF0F8\"},\"line\":{\"color\":\"white\"}},\"header\":{\"fill\":{\"color\":\"#C8D4E3\"},\"line\":{\"color\":\"white\"}},\"type\":\"table\"}]},\"layout\":{\"annotationdefaults\":{\"arrowcolor\":\"#2a3f5f\",\"arrowhead\":0,\"arrowwidth\":1},\"autotypenumbers\":\"strict\",\"coloraxis\":{\"colorbar\":{\"outlinewidth\":0,\"ticks\":\"\"}},\"colorscale\":{\"diverging\":[[0,\"#8e0152\"],[0.1,\"#c51b7d\"],[0.2,\"#de77ae\"],[0.3,\"#f1b6da\"],[0.4,\"#fde0ef\"],[0.5,\"#f7f7f7\"],[0.6,\"#e6f5d0\"],[0.7,\"#b8e186\"],[0.8,\"#7fbc41\"],[0.9,\"#4d9221\"],[1,\"#276419\"]],\"sequential\":[[0.0,\"#0d0887\"],[0.1111111111111111,\"#46039f\"],[0.2222222222222222,\"#7201a8\"],[0.3333333333333333,\"#9c179e\"],[0.4444444444444444,\"#bd3786\"],[0.5555555555555556,\"#d8576b\"],[0.6666666666666666,\"#ed7953\"],[0.7777777777777778,\"#fb9f3a\"],[0.8888888888888888,\"#fdca26\"],[1.0,\"#f0f921\"]],\"sequentialminus\":[[0.0,\"#0d0887\"],[0.1111111111111111,\"#46039f\"],[0.2222222222222222,\"#7201a8\"],[0.3333333333333333,\"#9c179e\"],[0.4444444444444444,\"#bd3786\"],[0.5555555555555556,\"#d8576b\"],[0.6666666666666666,\"#ed7953\"],[0.7777777777777778,\"#fb9f3a\"],[0.8888888888888888,\"#fdca26\"],[1.0,\"#f0f921\"]]},\"colorway\":[\"#636efa\",\"#EF553B\",\"#00cc96\",\"#ab63fa\",\"#FFA15A\",\"#19d3f3\",\"#FF6692\",\"#B6E880\",\"#FF97FF\",\"#FECB52\"],\"font\":{\"color\":\"#2a3f5f\"},\"geo\":{\"bgcolor\":\"white\",\"lakecolor\":\"white\",\"landcolor\":\"#E5ECF6\",\"showlakes\":true,\"showland\":true,\"subunitcolor\":\"white\"},\"hoverlabel\":{\"align\":\"left\"},\"hovermode\":\"closest\",\"mapbox\":{\"style\":\"light\"},\"paper_bgcolor\":\"white\",\"plot_bgcolor\":\"#E5ECF6\",\"polar\":{\"angularaxis\":{\"gridcolor\":\"white\",\"linecolor\":\"white\",\"ticks\":\"\"},\"bgcolor\":\"#E5ECF6\",\"radialaxis\":{\"gridcolor\":\"white\",\"linecolor\":\"white\",\"ticks\":\"\"}},\"scene\":{\"xaxis\":{\"backgroundcolor\":\"#E5ECF6\",\"gridcolor\":\"white\",\"gridwidth\":2,\"linecolor\":\"white\",\"showbackground\":true,\"ticks\":\"\",\"zerolinecolor\":\"white\"},\"yaxis\":{\"backgroundcolor\":\"#E5ECF6\",\"gridcolor\":\"white\",\"gridwidth\":2,\"linecolor\":\"white\",\"showbackground\":true,\"ticks\":\"\",\"zerolinecolor\":\"white\"},\"zaxis\":{\"backgroundcolor\":\"#E5ECF6\",\"gridcolor\":\"white\",\"gridwidth\":2,\"linecolor\":\"white\",\"showbackground\":true,\"ticks\":\"\",\"zerolinecolor\":\"white\"}},\"shapedefaults\":{\"line\":{\"color\":\"#2a3f5f\"}},\"ternary\":{\"aaxis\":{\"gridcolor\":\"white\",\"linecolor\":\"white\",\"ticks\":\"\"},\"baxis\":{\"gridcolor\":\"white\",\"linecolor\":\"white\",\"ticks\":\"\"},\"bgcolor\":\"#E5ECF6\",\"caxis\":{\"gridcolor\":\"white\",\"linecolor\":\"white\",\"ticks\":\"\"}},\"title\":{\"x\":0.05},\"xaxis\":{\"automargin\":true,\"gridcolor\":\"white\",\"linecolor\":\"white\",\"ticks\":\"\",\"title\":{\"standoff\":15},\"zerolinecolor\":\"white\",\"zerolinewidth\":2},\"yaxis\":{\"automargin\":true,\"gridcolor\":\"white\",\"linecolor\":\"white\",\"ticks\":\"\",\"title\":{\"standoff\":15},\"zerolinecolor\":\"white\",\"zerolinewidth\":2}}},\"title\":{\"font\":{\"color\":\"#4D5663\"}},\"xaxis\":{\"gridcolor\":\"#E1E5ED\",\"showgrid\":true,\"tickfont\":{\"color\":\"#4D5663\"},\"title\":{\"font\":{\"color\":\"#4D5663\"},\"text\":\"\"},\"zerolinecolor\":\"#E1E5ED\"},\"yaxis\":{\"gridcolor\":\"#E1E5ED\",\"showgrid\":true,\"tickfont\":{\"color\":\"#4D5663\"},\"title\":{\"font\":{\"color\":\"#4D5663\"},\"text\":\"\"},\"zerolinecolor\":\"#E1E5ED\"}},                        {\"showLink\": true, \"linkText\": \"Export to plot.ly\", \"plotlyServerURL\": \"https://plot.ly\", \"responsive\": true}                    ).then(function(){\n",
       "                            \n",
       "var gd = document.getElementById('f6bfae71-49dc-44c1-ae26-809fa822eea3');\n",
       "var x = new MutationObserver(function (mutations, observer) {{\n",
       "        var display = window.getComputedStyle(gd).display;\n",
       "        if (!display || display === 'none') {{\n",
       "            console.log([gd, 'removed!']);\n",
       "            Plotly.purge(gd);\n",
       "            observer.disconnect();\n",
       "        }}\n",
       "}});\n",
       "\n",
       "// Listen for the removal of the full notebook cells\n",
       "var notebookContainer = gd.closest('#notebook-container');\n",
       "if (notebookContainer) {{\n",
       "    x.observe(notebookContainer, {childList: true});\n",
       "}}\n",
       "\n",
       "// Listen for the clearing of the current output cell\n",
       "var outputEl = gd.closest('.output');\n",
       "if (outputEl) {{\n",
       "    x.observe(outputEl, {childList: true});\n",
       "}}\n",
       "\n",
       "                        })                };                });            </script>        </div>"
      ]
     },
     "metadata": {},
     "output_type": "display_data"
    }
   ],
   "source": [
    "df.sum().iplot(kind = 'bar')"
   ]
  },
  {
   "cell_type": "code",
   "execution_count": 21,
   "metadata": {},
   "outputs": [
    {
     "data": {
      "application/vnd.plotly.v1+json": {
       "config": {
        "linkText": "Export to plot.ly",
        "plotlyServerURL": "https://plot.ly",
        "showLink": true
       },
       "data": [
        {
         "boxpoints": false,
         "line": {
          "width": 1.3
         },
         "marker": {
          "color": "rgba(255, 153, 51, 1.0)"
         },
         "name": "A",
         "orientation": "v",
         "type": "box",
         "y": [
          -0.10885847351151294,
          0.09968228043736554,
          -0.8641500448021835,
          0.38946228886209866,
          -0.7770036269217798,
          2.3588730184432016,
          1.562051288398869,
          0.07605439418663039,
          0.912717877662609,
          -0.5661466630732443,
          0.15027249585969116,
          -0.4556584761228636,
          0.7330115973669539,
          0.270546419853816,
          -0.5171511568557435,
          0.6144837230708565,
          -1.3075651835854845,
          -1.1219896050430447,
          0.05441883554658746,
          1.535619031172629,
          -0.9863215722815764,
          0.6961242561076794,
          0.08697726808705007,
          -0.057414641396003094,
          0.7335552092007928,
          0.5269636134982121,
          -0.47046371030295636,
          -0.9365373408183358,
          -0.02293781116985355,
          -0.6512104043803646,
          2.5508177224571607,
          -0.7665519295025828,
          -0.5778939635559637,
          -1.0108079345663405,
          0.5596080957499588,
          2.036755029958988,
          -0.11612807524088375,
          -0.14578115752350002,
          1.9809733239972844,
          0.20606800368987369,
          -1.4150543142095422,
          1.5171621691439114,
          1.789281156821119,
          1.0859845692218137,
          0.569850188094948,
          -0.5092600456498456,
          -0.5133673294741509,
          -0.17747214914436082,
          -0.28497893896678667,
          -1.017723548510392,
          -0.171222608370362,
          -0.6572538678650311,
          0.9974253025353275,
          0.15219540039653634,
          0.5866680040194782,
          -0.19001914914542503,
          0.5353419078118536,
          1.1152162652677877,
          2.97795797105388,
          0.9085279502252701,
          -0.17232731231989817,
          1.389245776868657,
          -0.5708394737976242,
          0.34436475178815107,
          -0.9150239338287431,
          0.5131055597150919,
          0.5031908634636201,
          2.238821334911018,
          -0.10669318171704228,
          0.7345420979543783,
          -2.062925100049065,
          -1.2413883423525092,
          -0.5724993827887654,
          0.859720954322044,
          1.1003071919413916,
          -0.471752236644702,
          0.46025542685963583,
          -0.1084369455556114,
          0.09639064705141714,
          -0.7616762580059623,
          -1.7826562298020405,
          -0.7257458029396603,
          -0.29848471990300596,
          0.2858439083232961,
          -0.3367202911240463,
          0.20527268466178267,
          0.36573323048382694,
          -0.578898295870351,
          1.6001728205820427,
          -1.4342738153944126,
          1.2548152560200398,
          -1.5076691281769783,
          1.3411368027344885,
          -0.27024403891496945,
          -1.4268485254400225,
          0.7432383970273235,
          -0.31907044797333006,
          0.036447356526887825,
          -0.8569238644208176,
          -0.5041947840868658
         ]
        },
        {
         "boxpoints": false,
         "line": {
          "width": 1.3
         },
         "marker": {
          "color": "rgba(55, 128, 191, 1.0)"
         },
         "name": "B",
         "orientation": "v",
         "type": "box",
         "y": [
          -0.6607567515404839,
          0.6272057327377043,
          -0.29300459755897873,
          0.20396521190281927,
          -0.11254528632613671,
          1.175835792248741,
          -0.7377345445424521,
          0.356496022784465,
          1.3251418286139893,
          0.26885086019013144,
          1.122352095296499,
          0.24204159204449613,
          2.0123475931236077,
          0.5346441742217941,
          1.0238143940420046,
          0.8090796833083032,
          0.11313819918896648,
          2.24916865287664,
          0.012932222012098343,
          -0.40244432809040476,
          -0.2502753654633691,
          2.630557383226313,
          -0.7790771990625227,
          0.7355197860705898,
          -0.1943010347541226,
          1.2928782007154789,
          0.36572430645810655,
          -0.5392603452969593,
          -0.96023431045177,
          -0.09253815346977223,
          -0.4298824098705515,
          0.25425105887003596,
          -1.1674587129797283,
          -0.3840343408994587,
          1.3207712002551013,
          0.062356765784521456,
          0.9595537781702738,
          0.17240071462536052,
          -0.451261552754604,
          0.26033009506400173,
          -0.7193669753874455,
          1.3237640482815087,
          -0.27155167270699504,
          -0.19773330021703522,
          -0.07151638613211464,
          1.8903708416916005,
          -0.528035834561054,
          0.6244900423893583,
          -0.2651053906182809,
          1.5323114619010347,
          0.18001538721174082,
          0.9973476693237119,
          -1.58564522054993,
          1.1192253963894794,
          -0.5674695266246303,
          0.6634869383800137,
          0.2188382483231579,
          0.5690392046501117,
          -0.06603917493020449,
          -0.6105444992113863,
          1.736224515049627,
          1.8863963804057344,
          -2.0487797487038444,
          0.5047057902668708,
          -0.6634330645442947,
          -0.128018734829384,
          -1.0299738753476964,
          2.023938172106331,
          0.1957238535897606,
          0.14206388716721732,
          1.0228505986995695,
          -1.0652264255737482,
          0.6163051316586318,
          1.6022578249809882,
          -0.3526379835238936,
          -1.8418587223766436,
          -0.4754546562297881,
          -1.4657897646743254,
          1.291531251527738,
          0.6056778020888061,
          0.9618849334241207,
          -0.44070807412970214,
          0.6812198800439422,
          -0.48018367669432493,
          0.4450259781147967,
          2.1054135753292753,
          -0.47891017321267454,
          -0.11251171905452118,
          0.6272297098806351,
          0.29813117767436553,
          -0.9105125124581759,
          1.7637483257996116,
          0.49453904178321406,
          -0.09063675976922009,
          -1.2423412107676592,
          -0.24118324086440246,
          -0.019347818855389786,
          -0.7130858012841428,
          -1.2610100912832602,
          -0.31484580391977757
         ]
        },
        {
         "boxpoints": false,
         "line": {
          "width": 1.3
         },
         "marker": {
          "color": "rgba(50, 171, 96, 1.0)"
         },
         "name": "C",
         "orientation": "v",
         "type": "box",
         "y": [
          -1.1850705897601521,
          0.3761853015697947,
          0.6110459988456458,
          -1.1768028229366025,
          -1.8791624168125693,
          0.7720022143913202,
          -0.0893252953640753,
          1.039617165143866,
          -1.1840500730866144,
          0.8321614602592408,
          -1.23455277623035,
          -0.45833727083862735,
          1.1220726165049657,
          -1.6993662515664683,
          -0.14563422452336208,
          1.3418892881012277,
          1.50209878924822,
          0.24571141525950582,
          0.05925381879943243,
          -0.27240713457746824,
          -1.4359134436838947,
          -0.1535578006726762,
          0.5498729377699436,
          0.24591207455672578,
          1.3805360456900502,
          0.3904135864126944,
          -0.13581271740313985,
          1.7919670799831404,
          -1.0691186588793753,
          0.8585148027138233,
          -1.5951986693599076,
          1.0672084944289593,
          -0.41400102595952526,
          0.5817627738163651,
          0.5463160836769827,
          0.6180931224205171,
          0.31803238575742915,
          -0.5322130273534613,
          -0.5751881023297809,
          0.11711464019563658,
          0.2897572354379959,
          1.5251213365214897,
          2.502241044697504,
          -1.0775812333428496,
          0.9486812060323532,
          -1.4647561857509215,
          -1.075799602815771,
          -1.2932427985412889,
          -2.2696972086862446,
          0.9265964698004169,
          1.3180662734154076,
          1.0018997845709618,
          0.9339443113262336,
          0.995991554991809,
          0.16810108485542855,
          -0.05498815547830166,
          0.6191963771853356,
          -0.6211415441654871,
          1.9225161963901454,
          1.109667351904907,
          -0.4935685586651885,
          0.18483082811965695,
          0.2809684300781559,
          0.47754509983688403,
          0.15121254491430586,
          0.6132749388640667,
          2.129186436169313,
          1.0793866064312156,
          -0.4251155688010225,
          -0.2732289516473583,
          2.190233874337507,
          -1.4633556292414922,
          0.5464474728462337,
          1.8843275926183498,
          0.5073523203734914,
          0.11719873637408908,
          -1.772536247751536,
          0.37253201209491427,
          0.8550798325709544,
          0.6108288171710052,
          0.31144479658230606,
          0.04129963382415682,
          -0.5721269602866565,
          -1.1644479731019926,
          -0.5732634166989471,
          0.41703832982192696,
          1.520779059735967,
          -0.8074484829813724,
          -0.47513098812332116,
          0.24978738197180275,
          0.1669708471442198,
          -0.13695759456345732,
          1.085459636883732,
          1.6927949085644212,
          -0.3703933092097937,
          2.9867423940495583,
          -0.18109202888901874,
          -0.2469751779320185,
          -0.34396759900202334,
          1.3071589983054204
         ]
        },
        {
         "boxpoints": false,
         "line": {
          "width": 1.3
         },
         "marker": {
          "color": "rgba(128, 0, 128, 1.0)"
         },
         "name": "D",
         "orientation": "v",
         "type": "box",
         "y": [
          0.5899582634645533,
          1.5808432661410567,
          0.34561449097685376,
          0.2728656800844236,
          -1.447961115065258,
          2.0665441538512974,
          1.536102871801085,
          0.925032550192467,
          -0.6345781121065829,
          -0.3601240464778806,
          -0.7999400098410929,
          -0.15470059858329765,
          -0.43483484592130944,
          -0.35454673677398074,
          0.6447744653449229,
          -0.37007267827112644,
          -0.5137884466671174,
          -0.16163190054914361,
          0.7804774982243313,
          -1.9233162478024974,
          1.5642145003662575,
          0.4173143135774519,
          -0.4813792530028488,
          0.3346325722058072,
          0.09674982622146834,
          -0.1756837333246901,
          0.9544719059402534,
          0.13931926641473943,
          0.4758251660525391,
          0.2602469136562438,
          -0.2533319926943123,
          1.763038543212188,
          -0.1271926477483187,
          0.6107037143379589,
          0.3267620585475331,
          0.9771151901287334,
          -1.775591993226835,
          0.4553932067832489,
          -1.1869869920003338,
          -0.30170251482254495,
          -1.1015240044814973,
          1.4217312129727295,
          -0.6664042443191304,
          -0.8617929997942941,
          1.7151107629039979,
          -0.38786790728419923,
          -1.5151051299366691,
          0.7109736871683429,
          -0.5208399147575378,
          -1.4862278327670115,
          -0.597605169046876,
          1.2426494433850057,
          1.7304577081528194,
          2.0059871958872844,
          -0.11974170867041577,
          -0.427998606749268,
          -0.07537287026650681,
          -0.87845548354086,
          0.9573479344815539,
          0.8071827997132053,
          -1.5476415134654689,
          -0.09402161523384257,
          -1.3154429788134763,
          0.738515850070673,
          0.007230389499876916,
          -0.2777361675822311,
          0.8153060852341795,
          -0.7079225037795478,
          -1.1383801646246323,
          1.0920744651831522,
          -0.030415729816667392,
          0.38203906400697824,
          0.30736386123118487,
          0.7078437185790925,
          -1.3004929568091852,
          -0.3245924863618333,
          -1.587873057747594,
          -0.2517083843878335,
          1.1701108332499774,
          -0.03767379337014992,
          2.717620846113011,
          -0.7729456312276415,
          -0.45856923111916303,
          1.1541410223539503,
          1.1436737062336637,
          -0.28200407130511806,
          -0.069434709469561,
          0.5707763364559357,
          -0.5984913824920475,
          -2.228669894005689,
          -0.784083983517904,
          0.1751517676737111,
          0.1863769684271199,
          0.5051819931537751,
          0.504800375706003,
          0.22804895723717042,
          0.7626066697825327,
          -1.316304447931998,
          -1.5186647281420522,
          -1.5806817324477638
         ]
        }
       ],
       "layout": {
        "legend": {
         "bgcolor": "#F5F6F9",
         "font": {
          "color": "#4D5663"
         }
        },
        "paper_bgcolor": "#F5F6F9",
        "plot_bgcolor": "#F5F6F9",
        "template": {
         "data": {
          "bar": [
           {
            "error_x": {
             "color": "#2a3f5f"
            },
            "error_y": {
             "color": "#2a3f5f"
            },
            "marker": {
             "line": {
              "color": "#E5ECF6",
              "width": 0.5
             },
             "pattern": {
              "fillmode": "overlay",
              "size": 10,
              "solidity": 0.2
             }
            },
            "type": "bar"
           }
          ],
          "barpolar": [
           {
            "marker": {
             "line": {
              "color": "#E5ECF6",
              "width": 0.5
             },
             "pattern": {
              "fillmode": "overlay",
              "size": 10,
              "solidity": 0.2
             }
            },
            "type": "barpolar"
           }
          ],
          "carpet": [
           {
            "aaxis": {
             "endlinecolor": "#2a3f5f",
             "gridcolor": "white",
             "linecolor": "white",
             "minorgridcolor": "white",
             "startlinecolor": "#2a3f5f"
            },
            "baxis": {
             "endlinecolor": "#2a3f5f",
             "gridcolor": "white",
             "linecolor": "white",
             "minorgridcolor": "white",
             "startlinecolor": "#2a3f5f"
            },
            "type": "carpet"
           }
          ],
          "choropleth": [
           {
            "colorbar": {
             "outlinewidth": 0,
             "ticks": ""
            },
            "type": "choropleth"
           }
          ],
          "contour": [
           {
            "colorbar": {
             "outlinewidth": 0,
             "ticks": ""
            },
            "colorscale": [
             [
              0,
              "#0d0887"
             ],
             [
              0.1111111111111111,
              "#46039f"
             ],
             [
              0.2222222222222222,
              "#7201a8"
             ],
             [
              0.3333333333333333,
              "#9c179e"
             ],
             [
              0.4444444444444444,
              "#bd3786"
             ],
             [
              0.5555555555555556,
              "#d8576b"
             ],
             [
              0.6666666666666666,
              "#ed7953"
             ],
             [
              0.7777777777777778,
              "#fb9f3a"
             ],
             [
              0.8888888888888888,
              "#fdca26"
             ],
             [
              1,
              "#f0f921"
             ]
            ],
            "type": "contour"
           }
          ],
          "contourcarpet": [
           {
            "colorbar": {
             "outlinewidth": 0,
             "ticks": ""
            },
            "type": "contourcarpet"
           }
          ],
          "heatmap": [
           {
            "colorbar": {
             "outlinewidth": 0,
             "ticks": ""
            },
            "colorscale": [
             [
              0,
              "#0d0887"
             ],
             [
              0.1111111111111111,
              "#46039f"
             ],
             [
              0.2222222222222222,
              "#7201a8"
             ],
             [
              0.3333333333333333,
              "#9c179e"
             ],
             [
              0.4444444444444444,
              "#bd3786"
             ],
             [
              0.5555555555555556,
              "#d8576b"
             ],
             [
              0.6666666666666666,
              "#ed7953"
             ],
             [
              0.7777777777777778,
              "#fb9f3a"
             ],
             [
              0.8888888888888888,
              "#fdca26"
             ],
             [
              1,
              "#f0f921"
             ]
            ],
            "type": "heatmap"
           }
          ],
          "heatmapgl": [
           {
            "colorbar": {
             "outlinewidth": 0,
             "ticks": ""
            },
            "colorscale": [
             [
              0,
              "#0d0887"
             ],
             [
              0.1111111111111111,
              "#46039f"
             ],
             [
              0.2222222222222222,
              "#7201a8"
             ],
             [
              0.3333333333333333,
              "#9c179e"
             ],
             [
              0.4444444444444444,
              "#bd3786"
             ],
             [
              0.5555555555555556,
              "#d8576b"
             ],
             [
              0.6666666666666666,
              "#ed7953"
             ],
             [
              0.7777777777777778,
              "#fb9f3a"
             ],
             [
              0.8888888888888888,
              "#fdca26"
             ],
             [
              1,
              "#f0f921"
             ]
            ],
            "type": "heatmapgl"
           }
          ],
          "histogram": [
           {
            "marker": {
             "pattern": {
              "fillmode": "overlay",
              "size": 10,
              "solidity": 0.2
             }
            },
            "type": "histogram"
           }
          ],
          "histogram2d": [
           {
            "colorbar": {
             "outlinewidth": 0,
             "ticks": ""
            },
            "colorscale": [
             [
              0,
              "#0d0887"
             ],
             [
              0.1111111111111111,
              "#46039f"
             ],
             [
              0.2222222222222222,
              "#7201a8"
             ],
             [
              0.3333333333333333,
              "#9c179e"
             ],
             [
              0.4444444444444444,
              "#bd3786"
             ],
             [
              0.5555555555555556,
              "#d8576b"
             ],
             [
              0.6666666666666666,
              "#ed7953"
             ],
             [
              0.7777777777777778,
              "#fb9f3a"
             ],
             [
              0.8888888888888888,
              "#fdca26"
             ],
             [
              1,
              "#f0f921"
             ]
            ],
            "type": "histogram2d"
           }
          ],
          "histogram2dcontour": [
           {
            "colorbar": {
             "outlinewidth": 0,
             "ticks": ""
            },
            "colorscale": [
             [
              0,
              "#0d0887"
             ],
             [
              0.1111111111111111,
              "#46039f"
             ],
             [
              0.2222222222222222,
              "#7201a8"
             ],
             [
              0.3333333333333333,
              "#9c179e"
             ],
             [
              0.4444444444444444,
              "#bd3786"
             ],
             [
              0.5555555555555556,
              "#d8576b"
             ],
             [
              0.6666666666666666,
              "#ed7953"
             ],
             [
              0.7777777777777778,
              "#fb9f3a"
             ],
             [
              0.8888888888888888,
              "#fdca26"
             ],
             [
              1,
              "#f0f921"
             ]
            ],
            "type": "histogram2dcontour"
           }
          ],
          "mesh3d": [
           {
            "colorbar": {
             "outlinewidth": 0,
             "ticks": ""
            },
            "type": "mesh3d"
           }
          ],
          "parcoords": [
           {
            "line": {
             "colorbar": {
              "outlinewidth": 0,
              "ticks": ""
             }
            },
            "type": "parcoords"
           }
          ],
          "pie": [
           {
            "automargin": true,
            "type": "pie"
           }
          ],
          "scatter": [
           {
            "fillpattern": {
             "fillmode": "overlay",
             "size": 10,
             "solidity": 0.2
            },
            "type": "scatter"
           }
          ],
          "scatter3d": [
           {
            "line": {
             "colorbar": {
              "outlinewidth": 0,
              "ticks": ""
             }
            },
            "marker": {
             "colorbar": {
              "outlinewidth": 0,
              "ticks": ""
             }
            },
            "type": "scatter3d"
           }
          ],
          "scattercarpet": [
           {
            "marker": {
             "colorbar": {
              "outlinewidth": 0,
              "ticks": ""
             }
            },
            "type": "scattercarpet"
           }
          ],
          "scattergeo": [
           {
            "marker": {
             "colorbar": {
              "outlinewidth": 0,
              "ticks": ""
             }
            },
            "type": "scattergeo"
           }
          ],
          "scattergl": [
           {
            "marker": {
             "colorbar": {
              "outlinewidth": 0,
              "ticks": ""
             }
            },
            "type": "scattergl"
           }
          ],
          "scattermapbox": [
           {
            "marker": {
             "colorbar": {
              "outlinewidth": 0,
              "ticks": ""
             }
            },
            "type": "scattermapbox"
           }
          ],
          "scatterpolar": [
           {
            "marker": {
             "colorbar": {
              "outlinewidth": 0,
              "ticks": ""
             }
            },
            "type": "scatterpolar"
           }
          ],
          "scatterpolargl": [
           {
            "marker": {
             "colorbar": {
              "outlinewidth": 0,
              "ticks": ""
             }
            },
            "type": "scatterpolargl"
           }
          ],
          "scatterternary": [
           {
            "marker": {
             "colorbar": {
              "outlinewidth": 0,
              "ticks": ""
             }
            },
            "type": "scatterternary"
           }
          ],
          "surface": [
           {
            "colorbar": {
             "outlinewidth": 0,
             "ticks": ""
            },
            "colorscale": [
             [
              0,
              "#0d0887"
             ],
             [
              0.1111111111111111,
              "#46039f"
             ],
             [
              0.2222222222222222,
              "#7201a8"
             ],
             [
              0.3333333333333333,
              "#9c179e"
             ],
             [
              0.4444444444444444,
              "#bd3786"
             ],
             [
              0.5555555555555556,
              "#d8576b"
             ],
             [
              0.6666666666666666,
              "#ed7953"
             ],
             [
              0.7777777777777778,
              "#fb9f3a"
             ],
             [
              0.8888888888888888,
              "#fdca26"
             ],
             [
              1,
              "#f0f921"
             ]
            ],
            "type": "surface"
           }
          ],
          "table": [
           {
            "cells": {
             "fill": {
              "color": "#EBF0F8"
             },
             "line": {
              "color": "white"
             }
            },
            "header": {
             "fill": {
              "color": "#C8D4E3"
             },
             "line": {
              "color": "white"
             }
            },
            "type": "table"
           }
          ]
         },
         "layout": {
          "annotationdefaults": {
           "arrowcolor": "#2a3f5f",
           "arrowhead": 0,
           "arrowwidth": 1
          },
          "autotypenumbers": "strict",
          "coloraxis": {
           "colorbar": {
            "outlinewidth": 0,
            "ticks": ""
           }
          },
          "colorscale": {
           "diverging": [
            [
             0,
             "#8e0152"
            ],
            [
             0.1,
             "#c51b7d"
            ],
            [
             0.2,
             "#de77ae"
            ],
            [
             0.3,
             "#f1b6da"
            ],
            [
             0.4,
             "#fde0ef"
            ],
            [
             0.5,
             "#f7f7f7"
            ],
            [
             0.6,
             "#e6f5d0"
            ],
            [
             0.7,
             "#b8e186"
            ],
            [
             0.8,
             "#7fbc41"
            ],
            [
             0.9,
             "#4d9221"
            ],
            [
             1,
             "#276419"
            ]
           ],
           "sequential": [
            [
             0,
             "#0d0887"
            ],
            [
             0.1111111111111111,
             "#46039f"
            ],
            [
             0.2222222222222222,
             "#7201a8"
            ],
            [
             0.3333333333333333,
             "#9c179e"
            ],
            [
             0.4444444444444444,
             "#bd3786"
            ],
            [
             0.5555555555555556,
             "#d8576b"
            ],
            [
             0.6666666666666666,
             "#ed7953"
            ],
            [
             0.7777777777777778,
             "#fb9f3a"
            ],
            [
             0.8888888888888888,
             "#fdca26"
            ],
            [
             1,
             "#f0f921"
            ]
           ],
           "sequentialminus": [
            [
             0,
             "#0d0887"
            ],
            [
             0.1111111111111111,
             "#46039f"
            ],
            [
             0.2222222222222222,
             "#7201a8"
            ],
            [
             0.3333333333333333,
             "#9c179e"
            ],
            [
             0.4444444444444444,
             "#bd3786"
            ],
            [
             0.5555555555555556,
             "#d8576b"
            ],
            [
             0.6666666666666666,
             "#ed7953"
            ],
            [
             0.7777777777777778,
             "#fb9f3a"
            ],
            [
             0.8888888888888888,
             "#fdca26"
            ],
            [
             1,
             "#f0f921"
            ]
           ]
          },
          "colorway": [
           "#636efa",
           "#EF553B",
           "#00cc96",
           "#ab63fa",
           "#FFA15A",
           "#19d3f3",
           "#FF6692",
           "#B6E880",
           "#FF97FF",
           "#FECB52"
          ],
          "font": {
           "color": "#2a3f5f"
          },
          "geo": {
           "bgcolor": "white",
           "lakecolor": "white",
           "landcolor": "#E5ECF6",
           "showlakes": true,
           "showland": true,
           "subunitcolor": "white"
          },
          "hoverlabel": {
           "align": "left"
          },
          "hovermode": "closest",
          "mapbox": {
           "style": "light"
          },
          "paper_bgcolor": "white",
          "plot_bgcolor": "#E5ECF6",
          "polar": {
           "angularaxis": {
            "gridcolor": "white",
            "linecolor": "white",
            "ticks": ""
           },
           "bgcolor": "#E5ECF6",
           "radialaxis": {
            "gridcolor": "white",
            "linecolor": "white",
            "ticks": ""
           }
          },
          "scene": {
           "xaxis": {
            "backgroundcolor": "#E5ECF6",
            "gridcolor": "white",
            "gridwidth": 2,
            "linecolor": "white",
            "showbackground": true,
            "ticks": "",
            "zerolinecolor": "white"
           },
           "yaxis": {
            "backgroundcolor": "#E5ECF6",
            "gridcolor": "white",
            "gridwidth": 2,
            "linecolor": "white",
            "showbackground": true,
            "ticks": "",
            "zerolinecolor": "white"
           },
           "zaxis": {
            "backgroundcolor": "#E5ECF6",
            "gridcolor": "white",
            "gridwidth": 2,
            "linecolor": "white",
            "showbackground": true,
            "ticks": "",
            "zerolinecolor": "white"
           }
          },
          "shapedefaults": {
           "line": {
            "color": "#2a3f5f"
           }
          },
          "ternary": {
           "aaxis": {
            "gridcolor": "white",
            "linecolor": "white",
            "ticks": ""
           },
           "baxis": {
            "gridcolor": "white",
            "linecolor": "white",
            "ticks": ""
           },
           "bgcolor": "#E5ECF6",
           "caxis": {
            "gridcolor": "white",
            "linecolor": "white",
            "ticks": ""
           }
          },
          "title": {
           "x": 0.05
          },
          "xaxis": {
           "automargin": true,
           "gridcolor": "white",
           "linecolor": "white",
           "ticks": "",
           "title": {
            "standoff": 15
           },
           "zerolinecolor": "white",
           "zerolinewidth": 2
          },
          "yaxis": {
           "automargin": true,
           "gridcolor": "white",
           "linecolor": "white",
           "ticks": "",
           "title": {
            "standoff": 15
           },
           "zerolinecolor": "white",
           "zerolinewidth": 2
          }
         }
        },
        "title": {
         "font": {
          "color": "#4D5663"
         }
        },
        "xaxis": {
         "gridcolor": "#E1E5ED",
         "showgrid": true,
         "tickfont": {
          "color": "#4D5663"
         },
         "title": {
          "font": {
           "color": "#4D5663"
          },
          "text": ""
         },
         "zerolinecolor": "#E1E5ED"
        },
        "yaxis": {
         "gridcolor": "#E1E5ED",
         "showgrid": true,
         "tickfont": {
          "color": "#4D5663"
         },
         "title": {
          "font": {
           "color": "#4D5663"
          },
          "text": ""
         },
         "zerolinecolor": "#E1E5ED"
        }
       }
      },
      "text/html": [
       "<div>                            <div id=\"1efd0696-a94e-41ab-9228-21a4df3d8208\" class=\"plotly-graph-div\" style=\"height:525px; width:100%;\"></div>            <script type=\"text/javascript\">                require([\"plotly\"], function(Plotly) {                    window.PLOTLYENV=window.PLOTLYENV || {};\n",
       "                    window.PLOTLYENV.BASE_URL='https://plot.ly';                                    if (document.getElementById(\"1efd0696-a94e-41ab-9228-21a4df3d8208\")) {                    Plotly.newPlot(                        \"1efd0696-a94e-41ab-9228-21a4df3d8208\",                        [{\"boxpoints\":false,\"line\":{\"width\":1.3},\"marker\":{\"color\":\"rgba(255, 153, 51, 1.0)\"},\"name\":\"A\",\"orientation\":\"v\",\"y\":[-0.10885847351151294,0.09968228043736554,-0.8641500448021835,0.38946228886209866,-0.7770036269217798,2.3588730184432016,1.562051288398869,0.07605439418663039,0.912717877662609,-0.5661466630732443,0.15027249585969116,-0.4556584761228636,0.7330115973669539,0.270546419853816,-0.5171511568557435,0.6144837230708565,-1.3075651835854845,-1.1219896050430447,0.05441883554658746,1.535619031172629,-0.9863215722815764,0.6961242561076794,0.08697726808705007,-0.057414641396003094,0.7335552092007928,0.5269636134982121,-0.47046371030295636,-0.9365373408183358,-0.02293781116985355,-0.6512104043803646,2.5508177224571607,-0.7665519295025828,-0.5778939635559637,-1.0108079345663405,0.5596080957499588,2.036755029958988,-0.11612807524088375,-0.14578115752350002,1.9809733239972844,0.20606800368987369,-1.4150543142095422,1.5171621691439114,1.789281156821119,1.0859845692218137,0.569850188094948,-0.5092600456498456,-0.5133673294741509,-0.17747214914436082,-0.28497893896678667,-1.017723548510392,-0.171222608370362,-0.6572538678650311,0.9974253025353275,0.15219540039653634,0.5866680040194782,-0.19001914914542503,0.5353419078118536,1.1152162652677877,2.97795797105388,0.9085279502252701,-0.17232731231989817,1.389245776868657,-0.5708394737976242,0.34436475178815107,-0.9150239338287431,0.5131055597150919,0.5031908634636201,2.238821334911018,-0.10669318171704228,0.7345420979543783,-2.062925100049065,-1.2413883423525092,-0.5724993827887654,0.859720954322044,1.1003071919413916,-0.471752236644702,0.46025542685963583,-0.1084369455556114,0.09639064705141714,-0.7616762580059623,-1.7826562298020405,-0.7257458029396603,-0.29848471990300596,0.2858439083232961,-0.3367202911240463,0.20527268466178267,0.36573323048382694,-0.578898295870351,1.6001728205820427,-1.4342738153944126,1.2548152560200398,-1.5076691281769783,1.3411368027344885,-0.27024403891496945,-1.4268485254400225,0.7432383970273235,-0.31907044797333006,0.036447356526887825,-0.8569238644208176,-0.5041947840868658],\"type\":\"box\"},{\"boxpoints\":false,\"line\":{\"width\":1.3},\"marker\":{\"color\":\"rgba(55, 128, 191, 1.0)\"},\"name\":\"B\",\"orientation\":\"v\",\"y\":[-0.6607567515404839,0.6272057327377043,-0.29300459755897873,0.20396521190281927,-0.11254528632613671,1.175835792248741,-0.7377345445424521,0.356496022784465,1.3251418286139893,0.26885086019013144,1.122352095296499,0.24204159204449613,2.0123475931236077,0.5346441742217941,1.0238143940420046,0.8090796833083032,0.11313819918896648,2.24916865287664,0.012932222012098343,-0.40244432809040476,-0.2502753654633691,2.630557383226313,-0.7790771990625227,0.7355197860705898,-0.1943010347541226,1.2928782007154789,0.36572430645810655,-0.5392603452969593,-0.96023431045177,-0.09253815346977223,-0.4298824098705515,0.25425105887003596,-1.1674587129797283,-0.3840343408994587,1.3207712002551013,0.062356765784521456,0.9595537781702738,0.17240071462536052,-0.451261552754604,0.26033009506400173,-0.7193669753874455,1.3237640482815087,-0.27155167270699504,-0.19773330021703522,-0.07151638613211464,1.8903708416916005,-0.528035834561054,0.6244900423893583,-0.2651053906182809,1.5323114619010347,0.18001538721174082,0.9973476693237119,-1.58564522054993,1.1192253963894794,-0.5674695266246303,0.6634869383800137,0.2188382483231579,0.5690392046501117,-0.06603917493020449,-0.6105444992113863,1.736224515049627,1.8863963804057344,-2.0487797487038444,0.5047057902668708,-0.6634330645442947,-0.128018734829384,-1.0299738753476964,2.023938172106331,0.1957238535897606,0.14206388716721732,1.0228505986995695,-1.0652264255737482,0.6163051316586318,1.6022578249809882,-0.3526379835238936,-1.8418587223766436,-0.4754546562297881,-1.4657897646743254,1.291531251527738,0.6056778020888061,0.9618849334241207,-0.44070807412970214,0.6812198800439422,-0.48018367669432493,0.4450259781147967,2.1054135753292753,-0.47891017321267454,-0.11251171905452118,0.6272297098806351,0.29813117767436553,-0.9105125124581759,1.7637483257996116,0.49453904178321406,-0.09063675976922009,-1.2423412107676592,-0.24118324086440246,-0.019347818855389786,-0.7130858012841428,-1.2610100912832602,-0.31484580391977757],\"type\":\"box\"},{\"boxpoints\":false,\"line\":{\"width\":1.3},\"marker\":{\"color\":\"rgba(50, 171, 96, 1.0)\"},\"name\":\"C\",\"orientation\":\"v\",\"y\":[-1.1850705897601521,0.3761853015697947,0.6110459988456458,-1.1768028229366025,-1.8791624168125693,0.7720022143913202,-0.0893252953640753,1.039617165143866,-1.1840500730866144,0.8321614602592408,-1.23455277623035,-0.45833727083862735,1.1220726165049657,-1.6993662515664683,-0.14563422452336208,1.3418892881012277,1.50209878924822,0.24571141525950582,0.05925381879943243,-0.27240713457746824,-1.4359134436838947,-0.1535578006726762,0.5498729377699436,0.24591207455672578,1.3805360456900502,0.3904135864126944,-0.13581271740313985,1.7919670799831404,-1.0691186588793753,0.8585148027138233,-1.5951986693599076,1.0672084944289593,-0.41400102595952526,0.5817627738163651,0.5463160836769827,0.6180931224205171,0.31803238575742915,-0.5322130273534613,-0.5751881023297809,0.11711464019563658,0.2897572354379959,1.5251213365214897,2.502241044697504,-1.0775812333428496,0.9486812060323532,-1.4647561857509215,-1.075799602815771,-1.2932427985412889,-2.2696972086862446,0.9265964698004169,1.3180662734154076,1.0018997845709618,0.9339443113262336,0.995991554991809,0.16810108485542855,-0.05498815547830166,0.6191963771853356,-0.6211415441654871,1.9225161963901454,1.109667351904907,-0.4935685586651885,0.18483082811965695,0.2809684300781559,0.47754509983688403,0.15121254491430586,0.6132749388640667,2.129186436169313,1.0793866064312156,-0.4251155688010225,-0.2732289516473583,2.190233874337507,-1.4633556292414922,0.5464474728462337,1.8843275926183498,0.5073523203734914,0.11719873637408908,-1.772536247751536,0.37253201209491427,0.8550798325709544,0.6108288171710052,0.31144479658230606,0.04129963382415682,-0.5721269602866565,-1.1644479731019926,-0.5732634166989471,0.41703832982192696,1.520779059735967,-0.8074484829813724,-0.47513098812332116,0.24978738197180275,0.1669708471442198,-0.13695759456345732,1.085459636883732,1.6927949085644212,-0.3703933092097937,2.9867423940495583,-0.18109202888901874,-0.2469751779320185,-0.34396759900202334,1.3071589983054204],\"type\":\"box\"},{\"boxpoints\":false,\"line\":{\"width\":1.3},\"marker\":{\"color\":\"rgba(128, 0, 128, 1.0)\"},\"name\":\"D\",\"orientation\":\"v\",\"y\":[0.5899582634645533,1.5808432661410567,0.34561449097685376,0.2728656800844236,-1.447961115065258,2.0665441538512974,1.536102871801085,0.925032550192467,-0.6345781121065829,-0.3601240464778806,-0.7999400098410929,-0.15470059858329765,-0.43483484592130944,-0.35454673677398074,0.6447744653449229,-0.37007267827112644,-0.5137884466671174,-0.16163190054914361,0.7804774982243313,-1.9233162478024974,1.5642145003662575,0.4173143135774519,-0.4813792530028488,0.3346325722058072,0.09674982622146834,-0.1756837333246901,0.9544719059402534,0.13931926641473943,0.4758251660525391,0.2602469136562438,-0.2533319926943123,1.763038543212188,-0.1271926477483187,0.6107037143379589,0.3267620585475331,0.9771151901287334,-1.775591993226835,0.4553932067832489,-1.1869869920003338,-0.30170251482254495,-1.1015240044814973,1.4217312129727295,-0.6664042443191304,-0.8617929997942941,1.7151107629039979,-0.38786790728419923,-1.5151051299366691,0.7109736871683429,-0.5208399147575378,-1.4862278327670115,-0.597605169046876,1.2426494433850057,1.7304577081528194,2.0059871958872844,-0.11974170867041577,-0.427998606749268,-0.07537287026650681,-0.87845548354086,0.9573479344815539,0.8071827997132053,-1.5476415134654689,-0.09402161523384257,-1.3154429788134763,0.738515850070673,0.007230389499876916,-0.2777361675822311,0.8153060852341795,-0.7079225037795478,-1.1383801646246323,1.0920744651831522,-0.030415729816667392,0.38203906400697824,0.30736386123118487,0.7078437185790925,-1.3004929568091852,-0.3245924863618333,-1.587873057747594,-0.2517083843878335,1.1701108332499774,-0.03767379337014992,2.717620846113011,-0.7729456312276415,-0.45856923111916303,1.1541410223539503,1.1436737062336637,-0.28200407130511806,-0.069434709469561,0.5707763364559357,-0.5984913824920475,-2.228669894005689,-0.784083983517904,0.1751517676737111,0.1863769684271199,0.5051819931537751,0.504800375706003,0.22804895723717042,0.7626066697825327,-1.316304447931998,-1.5186647281420522,-1.5806817324477638],\"type\":\"box\"}],                        {\"legend\":{\"bgcolor\":\"#F5F6F9\",\"font\":{\"color\":\"#4D5663\"}},\"paper_bgcolor\":\"#F5F6F9\",\"plot_bgcolor\":\"#F5F6F9\",\"template\":{\"data\":{\"barpolar\":[{\"marker\":{\"line\":{\"color\":\"#E5ECF6\",\"width\":0.5},\"pattern\":{\"fillmode\":\"overlay\",\"size\":10,\"solidity\":0.2}},\"type\":\"barpolar\"}],\"bar\":[{\"error_x\":{\"color\":\"#2a3f5f\"},\"error_y\":{\"color\":\"#2a3f5f\"},\"marker\":{\"line\":{\"color\":\"#E5ECF6\",\"width\":0.5},\"pattern\":{\"fillmode\":\"overlay\",\"size\":10,\"solidity\":0.2}},\"type\":\"bar\"}],\"carpet\":[{\"aaxis\":{\"endlinecolor\":\"#2a3f5f\",\"gridcolor\":\"white\",\"linecolor\":\"white\",\"minorgridcolor\":\"white\",\"startlinecolor\":\"#2a3f5f\"},\"baxis\":{\"endlinecolor\":\"#2a3f5f\",\"gridcolor\":\"white\",\"linecolor\":\"white\",\"minorgridcolor\":\"white\",\"startlinecolor\":\"#2a3f5f\"},\"type\":\"carpet\"}],\"choropleth\":[{\"colorbar\":{\"outlinewidth\":0,\"ticks\":\"\"},\"type\":\"choropleth\"}],\"contourcarpet\":[{\"colorbar\":{\"outlinewidth\":0,\"ticks\":\"\"},\"type\":\"contourcarpet\"}],\"contour\":[{\"colorbar\":{\"outlinewidth\":0,\"ticks\":\"\"},\"colorscale\":[[0.0,\"#0d0887\"],[0.1111111111111111,\"#46039f\"],[0.2222222222222222,\"#7201a8\"],[0.3333333333333333,\"#9c179e\"],[0.4444444444444444,\"#bd3786\"],[0.5555555555555556,\"#d8576b\"],[0.6666666666666666,\"#ed7953\"],[0.7777777777777778,\"#fb9f3a\"],[0.8888888888888888,\"#fdca26\"],[1.0,\"#f0f921\"]],\"type\":\"contour\"}],\"heatmapgl\":[{\"colorbar\":{\"outlinewidth\":0,\"ticks\":\"\"},\"colorscale\":[[0.0,\"#0d0887\"],[0.1111111111111111,\"#46039f\"],[0.2222222222222222,\"#7201a8\"],[0.3333333333333333,\"#9c179e\"],[0.4444444444444444,\"#bd3786\"],[0.5555555555555556,\"#d8576b\"],[0.6666666666666666,\"#ed7953\"],[0.7777777777777778,\"#fb9f3a\"],[0.8888888888888888,\"#fdca26\"],[1.0,\"#f0f921\"]],\"type\":\"heatmapgl\"}],\"heatmap\":[{\"colorbar\":{\"outlinewidth\":0,\"ticks\":\"\"},\"colorscale\":[[0.0,\"#0d0887\"],[0.1111111111111111,\"#46039f\"],[0.2222222222222222,\"#7201a8\"],[0.3333333333333333,\"#9c179e\"],[0.4444444444444444,\"#bd3786\"],[0.5555555555555556,\"#d8576b\"],[0.6666666666666666,\"#ed7953\"],[0.7777777777777778,\"#fb9f3a\"],[0.8888888888888888,\"#fdca26\"],[1.0,\"#f0f921\"]],\"type\":\"heatmap\"}],\"histogram2dcontour\":[{\"colorbar\":{\"outlinewidth\":0,\"ticks\":\"\"},\"colorscale\":[[0.0,\"#0d0887\"],[0.1111111111111111,\"#46039f\"],[0.2222222222222222,\"#7201a8\"],[0.3333333333333333,\"#9c179e\"],[0.4444444444444444,\"#bd3786\"],[0.5555555555555556,\"#d8576b\"],[0.6666666666666666,\"#ed7953\"],[0.7777777777777778,\"#fb9f3a\"],[0.8888888888888888,\"#fdca26\"],[1.0,\"#f0f921\"]],\"type\":\"histogram2dcontour\"}],\"histogram2d\":[{\"colorbar\":{\"outlinewidth\":0,\"ticks\":\"\"},\"colorscale\":[[0.0,\"#0d0887\"],[0.1111111111111111,\"#46039f\"],[0.2222222222222222,\"#7201a8\"],[0.3333333333333333,\"#9c179e\"],[0.4444444444444444,\"#bd3786\"],[0.5555555555555556,\"#d8576b\"],[0.6666666666666666,\"#ed7953\"],[0.7777777777777778,\"#fb9f3a\"],[0.8888888888888888,\"#fdca26\"],[1.0,\"#f0f921\"]],\"type\":\"histogram2d\"}],\"histogram\":[{\"marker\":{\"pattern\":{\"fillmode\":\"overlay\",\"size\":10,\"solidity\":0.2}},\"type\":\"histogram\"}],\"mesh3d\":[{\"colorbar\":{\"outlinewidth\":0,\"ticks\":\"\"},\"type\":\"mesh3d\"}],\"parcoords\":[{\"line\":{\"colorbar\":{\"outlinewidth\":0,\"ticks\":\"\"}},\"type\":\"parcoords\"}],\"pie\":[{\"automargin\":true,\"type\":\"pie\"}],\"scatter3d\":[{\"line\":{\"colorbar\":{\"outlinewidth\":0,\"ticks\":\"\"}},\"marker\":{\"colorbar\":{\"outlinewidth\":0,\"ticks\":\"\"}},\"type\":\"scatter3d\"}],\"scattercarpet\":[{\"marker\":{\"colorbar\":{\"outlinewidth\":0,\"ticks\":\"\"}},\"type\":\"scattercarpet\"}],\"scattergeo\":[{\"marker\":{\"colorbar\":{\"outlinewidth\":0,\"ticks\":\"\"}},\"type\":\"scattergeo\"}],\"scattergl\":[{\"marker\":{\"colorbar\":{\"outlinewidth\":0,\"ticks\":\"\"}},\"type\":\"scattergl\"}],\"scattermapbox\":[{\"marker\":{\"colorbar\":{\"outlinewidth\":0,\"ticks\":\"\"}},\"type\":\"scattermapbox\"}],\"scatterpolargl\":[{\"marker\":{\"colorbar\":{\"outlinewidth\":0,\"ticks\":\"\"}},\"type\":\"scatterpolargl\"}],\"scatterpolar\":[{\"marker\":{\"colorbar\":{\"outlinewidth\":0,\"ticks\":\"\"}},\"type\":\"scatterpolar\"}],\"scatter\":[{\"fillpattern\":{\"fillmode\":\"overlay\",\"size\":10,\"solidity\":0.2},\"type\":\"scatter\"}],\"scatterternary\":[{\"marker\":{\"colorbar\":{\"outlinewidth\":0,\"ticks\":\"\"}},\"type\":\"scatterternary\"}],\"surface\":[{\"colorbar\":{\"outlinewidth\":0,\"ticks\":\"\"},\"colorscale\":[[0.0,\"#0d0887\"],[0.1111111111111111,\"#46039f\"],[0.2222222222222222,\"#7201a8\"],[0.3333333333333333,\"#9c179e\"],[0.4444444444444444,\"#bd3786\"],[0.5555555555555556,\"#d8576b\"],[0.6666666666666666,\"#ed7953\"],[0.7777777777777778,\"#fb9f3a\"],[0.8888888888888888,\"#fdca26\"],[1.0,\"#f0f921\"]],\"type\":\"surface\"}],\"table\":[{\"cells\":{\"fill\":{\"color\":\"#EBF0F8\"},\"line\":{\"color\":\"white\"}},\"header\":{\"fill\":{\"color\":\"#C8D4E3\"},\"line\":{\"color\":\"white\"}},\"type\":\"table\"}]},\"layout\":{\"annotationdefaults\":{\"arrowcolor\":\"#2a3f5f\",\"arrowhead\":0,\"arrowwidth\":1},\"autotypenumbers\":\"strict\",\"coloraxis\":{\"colorbar\":{\"outlinewidth\":0,\"ticks\":\"\"}},\"colorscale\":{\"diverging\":[[0,\"#8e0152\"],[0.1,\"#c51b7d\"],[0.2,\"#de77ae\"],[0.3,\"#f1b6da\"],[0.4,\"#fde0ef\"],[0.5,\"#f7f7f7\"],[0.6,\"#e6f5d0\"],[0.7,\"#b8e186\"],[0.8,\"#7fbc41\"],[0.9,\"#4d9221\"],[1,\"#276419\"]],\"sequential\":[[0.0,\"#0d0887\"],[0.1111111111111111,\"#46039f\"],[0.2222222222222222,\"#7201a8\"],[0.3333333333333333,\"#9c179e\"],[0.4444444444444444,\"#bd3786\"],[0.5555555555555556,\"#d8576b\"],[0.6666666666666666,\"#ed7953\"],[0.7777777777777778,\"#fb9f3a\"],[0.8888888888888888,\"#fdca26\"],[1.0,\"#f0f921\"]],\"sequentialminus\":[[0.0,\"#0d0887\"],[0.1111111111111111,\"#46039f\"],[0.2222222222222222,\"#7201a8\"],[0.3333333333333333,\"#9c179e\"],[0.4444444444444444,\"#bd3786\"],[0.5555555555555556,\"#d8576b\"],[0.6666666666666666,\"#ed7953\"],[0.7777777777777778,\"#fb9f3a\"],[0.8888888888888888,\"#fdca26\"],[1.0,\"#f0f921\"]]},\"colorway\":[\"#636efa\",\"#EF553B\",\"#00cc96\",\"#ab63fa\",\"#FFA15A\",\"#19d3f3\",\"#FF6692\",\"#B6E880\",\"#FF97FF\",\"#FECB52\"],\"font\":{\"color\":\"#2a3f5f\"},\"geo\":{\"bgcolor\":\"white\",\"lakecolor\":\"white\",\"landcolor\":\"#E5ECF6\",\"showlakes\":true,\"showland\":true,\"subunitcolor\":\"white\"},\"hoverlabel\":{\"align\":\"left\"},\"hovermode\":\"closest\",\"mapbox\":{\"style\":\"light\"},\"paper_bgcolor\":\"white\",\"plot_bgcolor\":\"#E5ECF6\",\"polar\":{\"angularaxis\":{\"gridcolor\":\"white\",\"linecolor\":\"white\",\"ticks\":\"\"},\"bgcolor\":\"#E5ECF6\",\"radialaxis\":{\"gridcolor\":\"white\",\"linecolor\":\"white\",\"ticks\":\"\"}},\"scene\":{\"xaxis\":{\"backgroundcolor\":\"#E5ECF6\",\"gridcolor\":\"white\",\"gridwidth\":2,\"linecolor\":\"white\",\"showbackground\":true,\"ticks\":\"\",\"zerolinecolor\":\"white\"},\"yaxis\":{\"backgroundcolor\":\"#E5ECF6\",\"gridcolor\":\"white\",\"gridwidth\":2,\"linecolor\":\"white\",\"showbackground\":true,\"ticks\":\"\",\"zerolinecolor\":\"white\"},\"zaxis\":{\"backgroundcolor\":\"#E5ECF6\",\"gridcolor\":\"white\",\"gridwidth\":2,\"linecolor\":\"white\",\"showbackground\":true,\"ticks\":\"\",\"zerolinecolor\":\"white\"}},\"shapedefaults\":{\"line\":{\"color\":\"#2a3f5f\"}},\"ternary\":{\"aaxis\":{\"gridcolor\":\"white\",\"linecolor\":\"white\",\"ticks\":\"\"},\"baxis\":{\"gridcolor\":\"white\",\"linecolor\":\"white\",\"ticks\":\"\"},\"bgcolor\":\"#E5ECF6\",\"caxis\":{\"gridcolor\":\"white\",\"linecolor\":\"white\",\"ticks\":\"\"}},\"title\":{\"x\":0.05},\"xaxis\":{\"automargin\":true,\"gridcolor\":\"white\",\"linecolor\":\"white\",\"ticks\":\"\",\"title\":{\"standoff\":15},\"zerolinecolor\":\"white\",\"zerolinewidth\":2},\"yaxis\":{\"automargin\":true,\"gridcolor\":\"white\",\"linecolor\":\"white\",\"ticks\":\"\",\"title\":{\"standoff\":15},\"zerolinecolor\":\"white\",\"zerolinewidth\":2}}},\"title\":{\"font\":{\"color\":\"#4D5663\"}},\"xaxis\":{\"gridcolor\":\"#E1E5ED\",\"showgrid\":true,\"tickfont\":{\"color\":\"#4D5663\"},\"title\":{\"font\":{\"color\":\"#4D5663\"},\"text\":\"\"},\"zerolinecolor\":\"#E1E5ED\"},\"yaxis\":{\"gridcolor\":\"#E1E5ED\",\"showgrid\":true,\"tickfont\":{\"color\":\"#4D5663\"},\"title\":{\"font\":{\"color\":\"#4D5663\"},\"text\":\"\"},\"zerolinecolor\":\"#E1E5ED\"}},                        {\"showLink\": true, \"linkText\": \"Export to plot.ly\", \"plotlyServerURL\": \"https://plot.ly\", \"responsive\": true}                    ).then(function(){\n",
       "                            \n",
       "var gd = document.getElementById('1efd0696-a94e-41ab-9228-21a4df3d8208');\n",
       "var x = new MutationObserver(function (mutations, observer) {{\n",
       "        var display = window.getComputedStyle(gd).display;\n",
       "        if (!display || display === 'none') {{\n",
       "            console.log([gd, 'removed!']);\n",
       "            Plotly.purge(gd);\n",
       "            observer.disconnect();\n",
       "        }}\n",
       "}});\n",
       "\n",
       "// Listen for the removal of the full notebook cells\n",
       "var notebookContainer = gd.closest('#notebook-container');\n",
       "if (notebookContainer) {{\n",
       "    x.observe(notebookContainer, {childList: true});\n",
       "}}\n",
       "\n",
       "// Listen for the clearing of the current output cell\n",
       "var outputEl = gd.closest('.output');\n",
       "if (outputEl) {{\n",
       "    x.observe(outputEl, {childList: true});\n",
       "}}\n",
       "\n",
       "                        })                };                });            </script>        </div>"
      ]
     },
     "metadata": {},
     "output_type": "display_data"
    }
   ],
   "source": [
    "df.iplot(kind = 'box')"
   ]
  },
  {
   "cell_type": "code",
   "execution_count": 24,
   "metadata": {},
   "outputs": [
    {
     "data": {
      "text/html": [
       "<div>\n",
       "<style scoped>\n",
       "    .dataframe tbody tr th:only-of-type {\n",
       "        vertical-align: middle;\n",
       "    }\n",
       "\n",
       "    .dataframe tbody tr th {\n",
       "        vertical-align: top;\n",
       "    }\n",
       "\n",
       "    .dataframe thead th {\n",
       "        text-align: right;\n",
       "    }\n",
       "</style>\n",
       "<table border=\"1\" class=\"dataframe\">\n",
       "  <thead>\n",
       "    <tr style=\"text-align: right;\">\n",
       "      <th></th>\n",
       "      <th>x</th>\n",
       "      <th>y</th>\n",
       "      <th>z</th>\n",
       "    </tr>\n",
       "  </thead>\n",
       "  <tbody>\n",
       "    <tr>\n",
       "      <th>0</th>\n",
       "      <td>1</td>\n",
       "      <td>10</td>\n",
       "      <td>5</td>\n",
       "    </tr>\n",
       "    <tr>\n",
       "      <th>1</th>\n",
       "      <td>2</td>\n",
       "      <td>20</td>\n",
       "      <td>4</td>\n",
       "    </tr>\n",
       "    <tr>\n",
       "      <th>2</th>\n",
       "      <td>3</td>\n",
       "      <td>30</td>\n",
       "      <td>3</td>\n",
       "    </tr>\n",
       "    <tr>\n",
       "      <th>3</th>\n",
       "      <td>4</td>\n",
       "      <td>40</td>\n",
       "      <td>2</td>\n",
       "    </tr>\n",
       "    <tr>\n",
       "      <th>4</th>\n",
       "      <td>5</td>\n",
       "      <td>50</td>\n",
       "      <td>1</td>\n",
       "    </tr>\n",
       "  </tbody>\n",
       "</table>\n",
       "</div>"
      ],
      "text/plain": [
       "   x   y  z\n",
       "0  1  10  5\n",
       "1  2  20  4\n",
       "2  3  30  3\n",
       "3  4  40  2\n",
       "4  5  50  1"
      ]
     },
     "execution_count": 24,
     "metadata": {},
     "output_type": "execute_result"
    }
   ],
   "source": [
    "df3 = pd.DataFrame({'x': [1,2,3,4,5], 'y': [10,20,30,40,50], 'z': [5,4,3,2,1]})\n",
    "df3"
   ]
  },
  {
   "cell_type": "code",
   "execution_count": 27,
   "metadata": {},
   "outputs": [
    {
     "data": {
      "application/vnd.plotly.v1+json": {
       "config": {
        "linkText": "Export to plot.ly",
        "plotlyServerURL": "https://plot.ly",
        "showLink": true
       },
       "data": [
        {
         "colorscale": [
          [
           0,
           "rgb(165,0,38)"
          ],
          [
           0.1,
           "rgb(215,48,39)"
          ],
          [
           0.2,
           "rgb(244,109,67)"
          ],
          [
           0.3,
           "rgb(253,174,97)"
          ],
          [
           0.4,
           "rgb(254,224,144)"
          ],
          [
           0.5,
           "rgb(255,255,191)"
          ],
          [
           0.6,
           "rgb(224,243,248)"
          ],
          [
           0.7,
           "rgb(171,217,233)"
          ],
          [
           0.8,
           "rgb(116,173,209)"
          ],
          [
           0.9,
           "rgb(69,117,180)"
          ],
          [
           1,
           "rgb(49,54,149)"
          ]
         ],
         "type": "surface",
         "x": [
          0,
          1,
          2,
          3,
          4
         ],
         "y": [
          "x",
          "y",
          "z"
         ],
         "z": [
          [
           1,
           2,
           3,
           4,
           5
          ],
          [
           10,
           20,
           30,
           40,
           50
          ],
          [
           5,
           4,
           3,
           2,
           1
          ]
         ]
        }
       ],
       "layout": {
        "legend": {
         "bgcolor": "#F5F6F9",
         "font": {
          "color": "#4D5663"
         }
        },
        "paper_bgcolor": "#F5F6F9",
        "plot_bgcolor": "#F5F6F9",
        "template": {
         "data": {
          "bar": [
           {
            "error_x": {
             "color": "#2a3f5f"
            },
            "error_y": {
             "color": "#2a3f5f"
            },
            "marker": {
             "line": {
              "color": "#E5ECF6",
              "width": 0.5
             },
             "pattern": {
              "fillmode": "overlay",
              "size": 10,
              "solidity": 0.2
             }
            },
            "type": "bar"
           }
          ],
          "barpolar": [
           {
            "marker": {
             "line": {
              "color": "#E5ECF6",
              "width": 0.5
             },
             "pattern": {
              "fillmode": "overlay",
              "size": 10,
              "solidity": 0.2
             }
            },
            "type": "barpolar"
           }
          ],
          "carpet": [
           {
            "aaxis": {
             "endlinecolor": "#2a3f5f",
             "gridcolor": "white",
             "linecolor": "white",
             "minorgridcolor": "white",
             "startlinecolor": "#2a3f5f"
            },
            "baxis": {
             "endlinecolor": "#2a3f5f",
             "gridcolor": "white",
             "linecolor": "white",
             "minorgridcolor": "white",
             "startlinecolor": "#2a3f5f"
            },
            "type": "carpet"
           }
          ],
          "choropleth": [
           {
            "colorbar": {
             "outlinewidth": 0,
             "ticks": ""
            },
            "type": "choropleth"
           }
          ],
          "contour": [
           {
            "colorbar": {
             "outlinewidth": 0,
             "ticks": ""
            },
            "colorscale": [
             [
              0,
              "#0d0887"
             ],
             [
              0.1111111111111111,
              "#46039f"
             ],
             [
              0.2222222222222222,
              "#7201a8"
             ],
             [
              0.3333333333333333,
              "#9c179e"
             ],
             [
              0.4444444444444444,
              "#bd3786"
             ],
             [
              0.5555555555555556,
              "#d8576b"
             ],
             [
              0.6666666666666666,
              "#ed7953"
             ],
             [
              0.7777777777777778,
              "#fb9f3a"
             ],
             [
              0.8888888888888888,
              "#fdca26"
             ],
             [
              1,
              "#f0f921"
             ]
            ],
            "type": "contour"
           }
          ],
          "contourcarpet": [
           {
            "colorbar": {
             "outlinewidth": 0,
             "ticks": ""
            },
            "type": "contourcarpet"
           }
          ],
          "heatmap": [
           {
            "colorbar": {
             "outlinewidth": 0,
             "ticks": ""
            },
            "colorscale": [
             [
              0,
              "#0d0887"
             ],
             [
              0.1111111111111111,
              "#46039f"
             ],
             [
              0.2222222222222222,
              "#7201a8"
             ],
             [
              0.3333333333333333,
              "#9c179e"
             ],
             [
              0.4444444444444444,
              "#bd3786"
             ],
             [
              0.5555555555555556,
              "#d8576b"
             ],
             [
              0.6666666666666666,
              "#ed7953"
             ],
             [
              0.7777777777777778,
              "#fb9f3a"
             ],
             [
              0.8888888888888888,
              "#fdca26"
             ],
             [
              1,
              "#f0f921"
             ]
            ],
            "type": "heatmap"
           }
          ],
          "heatmapgl": [
           {
            "colorbar": {
             "outlinewidth": 0,
             "ticks": ""
            },
            "colorscale": [
             [
              0,
              "#0d0887"
             ],
             [
              0.1111111111111111,
              "#46039f"
             ],
             [
              0.2222222222222222,
              "#7201a8"
             ],
             [
              0.3333333333333333,
              "#9c179e"
             ],
             [
              0.4444444444444444,
              "#bd3786"
             ],
             [
              0.5555555555555556,
              "#d8576b"
             ],
             [
              0.6666666666666666,
              "#ed7953"
             ],
             [
              0.7777777777777778,
              "#fb9f3a"
             ],
             [
              0.8888888888888888,
              "#fdca26"
             ],
             [
              1,
              "#f0f921"
             ]
            ],
            "type": "heatmapgl"
           }
          ],
          "histogram": [
           {
            "marker": {
             "pattern": {
              "fillmode": "overlay",
              "size": 10,
              "solidity": 0.2
             }
            },
            "type": "histogram"
           }
          ],
          "histogram2d": [
           {
            "colorbar": {
             "outlinewidth": 0,
             "ticks": ""
            },
            "colorscale": [
             [
              0,
              "#0d0887"
             ],
             [
              0.1111111111111111,
              "#46039f"
             ],
             [
              0.2222222222222222,
              "#7201a8"
             ],
             [
              0.3333333333333333,
              "#9c179e"
             ],
             [
              0.4444444444444444,
              "#bd3786"
             ],
             [
              0.5555555555555556,
              "#d8576b"
             ],
             [
              0.6666666666666666,
              "#ed7953"
             ],
             [
              0.7777777777777778,
              "#fb9f3a"
             ],
             [
              0.8888888888888888,
              "#fdca26"
             ],
             [
              1,
              "#f0f921"
             ]
            ],
            "type": "histogram2d"
           }
          ],
          "histogram2dcontour": [
           {
            "colorbar": {
             "outlinewidth": 0,
             "ticks": ""
            },
            "colorscale": [
             [
              0,
              "#0d0887"
             ],
             [
              0.1111111111111111,
              "#46039f"
             ],
             [
              0.2222222222222222,
              "#7201a8"
             ],
             [
              0.3333333333333333,
              "#9c179e"
             ],
             [
              0.4444444444444444,
              "#bd3786"
             ],
             [
              0.5555555555555556,
              "#d8576b"
             ],
             [
              0.6666666666666666,
              "#ed7953"
             ],
             [
              0.7777777777777778,
              "#fb9f3a"
             ],
             [
              0.8888888888888888,
              "#fdca26"
             ],
             [
              1,
              "#f0f921"
             ]
            ],
            "type": "histogram2dcontour"
           }
          ],
          "mesh3d": [
           {
            "colorbar": {
             "outlinewidth": 0,
             "ticks": ""
            },
            "type": "mesh3d"
           }
          ],
          "parcoords": [
           {
            "line": {
             "colorbar": {
              "outlinewidth": 0,
              "ticks": ""
             }
            },
            "type": "parcoords"
           }
          ],
          "pie": [
           {
            "automargin": true,
            "type": "pie"
           }
          ],
          "scatter": [
           {
            "fillpattern": {
             "fillmode": "overlay",
             "size": 10,
             "solidity": 0.2
            },
            "type": "scatter"
           }
          ],
          "scatter3d": [
           {
            "line": {
             "colorbar": {
              "outlinewidth": 0,
              "ticks": ""
             }
            },
            "marker": {
             "colorbar": {
              "outlinewidth": 0,
              "ticks": ""
             }
            },
            "type": "scatter3d"
           }
          ],
          "scattercarpet": [
           {
            "marker": {
             "colorbar": {
              "outlinewidth": 0,
              "ticks": ""
             }
            },
            "type": "scattercarpet"
           }
          ],
          "scattergeo": [
           {
            "marker": {
             "colorbar": {
              "outlinewidth": 0,
              "ticks": ""
             }
            },
            "type": "scattergeo"
           }
          ],
          "scattergl": [
           {
            "marker": {
             "colorbar": {
              "outlinewidth": 0,
              "ticks": ""
             }
            },
            "type": "scattergl"
           }
          ],
          "scattermapbox": [
           {
            "marker": {
             "colorbar": {
              "outlinewidth": 0,
              "ticks": ""
             }
            },
            "type": "scattermapbox"
           }
          ],
          "scatterpolar": [
           {
            "marker": {
             "colorbar": {
              "outlinewidth": 0,
              "ticks": ""
             }
            },
            "type": "scatterpolar"
           }
          ],
          "scatterpolargl": [
           {
            "marker": {
             "colorbar": {
              "outlinewidth": 0,
              "ticks": ""
             }
            },
            "type": "scatterpolargl"
           }
          ],
          "scatterternary": [
           {
            "marker": {
             "colorbar": {
              "outlinewidth": 0,
              "ticks": ""
             }
            },
            "type": "scatterternary"
           }
          ],
          "surface": [
           {
            "colorbar": {
             "outlinewidth": 0,
             "ticks": ""
            },
            "colorscale": [
             [
              0,
              "#0d0887"
             ],
             [
              0.1111111111111111,
              "#46039f"
             ],
             [
              0.2222222222222222,
              "#7201a8"
             ],
             [
              0.3333333333333333,
              "#9c179e"
             ],
             [
              0.4444444444444444,
              "#bd3786"
             ],
             [
              0.5555555555555556,
              "#d8576b"
             ],
             [
              0.6666666666666666,
              "#ed7953"
             ],
             [
              0.7777777777777778,
              "#fb9f3a"
             ],
             [
              0.8888888888888888,
              "#fdca26"
             ],
             [
              1,
              "#f0f921"
             ]
            ],
            "type": "surface"
           }
          ],
          "table": [
           {
            "cells": {
             "fill": {
              "color": "#EBF0F8"
             },
             "line": {
              "color": "white"
             }
            },
            "header": {
             "fill": {
              "color": "#C8D4E3"
             },
             "line": {
              "color": "white"
             }
            },
            "type": "table"
           }
          ]
         },
         "layout": {
          "annotationdefaults": {
           "arrowcolor": "#2a3f5f",
           "arrowhead": 0,
           "arrowwidth": 1
          },
          "autotypenumbers": "strict",
          "coloraxis": {
           "colorbar": {
            "outlinewidth": 0,
            "ticks": ""
           }
          },
          "colorscale": {
           "diverging": [
            [
             0,
             "#8e0152"
            ],
            [
             0.1,
             "#c51b7d"
            ],
            [
             0.2,
             "#de77ae"
            ],
            [
             0.3,
             "#f1b6da"
            ],
            [
             0.4,
             "#fde0ef"
            ],
            [
             0.5,
             "#f7f7f7"
            ],
            [
             0.6,
             "#e6f5d0"
            ],
            [
             0.7,
             "#b8e186"
            ],
            [
             0.8,
             "#7fbc41"
            ],
            [
             0.9,
             "#4d9221"
            ],
            [
             1,
             "#276419"
            ]
           ],
           "sequential": [
            [
             0,
             "#0d0887"
            ],
            [
             0.1111111111111111,
             "#46039f"
            ],
            [
             0.2222222222222222,
             "#7201a8"
            ],
            [
             0.3333333333333333,
             "#9c179e"
            ],
            [
             0.4444444444444444,
             "#bd3786"
            ],
            [
             0.5555555555555556,
             "#d8576b"
            ],
            [
             0.6666666666666666,
             "#ed7953"
            ],
            [
             0.7777777777777778,
             "#fb9f3a"
            ],
            [
             0.8888888888888888,
             "#fdca26"
            ],
            [
             1,
             "#f0f921"
            ]
           ],
           "sequentialminus": [
            [
             0,
             "#0d0887"
            ],
            [
             0.1111111111111111,
             "#46039f"
            ],
            [
             0.2222222222222222,
             "#7201a8"
            ],
            [
             0.3333333333333333,
             "#9c179e"
            ],
            [
             0.4444444444444444,
             "#bd3786"
            ],
            [
             0.5555555555555556,
             "#d8576b"
            ],
            [
             0.6666666666666666,
             "#ed7953"
            ],
            [
             0.7777777777777778,
             "#fb9f3a"
            ],
            [
             0.8888888888888888,
             "#fdca26"
            ],
            [
             1,
             "#f0f921"
            ]
           ]
          },
          "colorway": [
           "#636efa",
           "#EF553B",
           "#00cc96",
           "#ab63fa",
           "#FFA15A",
           "#19d3f3",
           "#FF6692",
           "#B6E880",
           "#FF97FF",
           "#FECB52"
          ],
          "font": {
           "color": "#2a3f5f"
          },
          "geo": {
           "bgcolor": "white",
           "lakecolor": "white",
           "landcolor": "#E5ECF6",
           "showlakes": true,
           "showland": true,
           "subunitcolor": "white"
          },
          "hoverlabel": {
           "align": "left"
          },
          "hovermode": "closest",
          "mapbox": {
           "style": "light"
          },
          "paper_bgcolor": "white",
          "plot_bgcolor": "#E5ECF6",
          "polar": {
           "angularaxis": {
            "gridcolor": "white",
            "linecolor": "white",
            "ticks": ""
           },
           "bgcolor": "#E5ECF6",
           "radialaxis": {
            "gridcolor": "white",
            "linecolor": "white",
            "ticks": ""
           }
          },
          "scene": {
           "xaxis": {
            "backgroundcolor": "#E5ECF6",
            "gridcolor": "white",
            "gridwidth": 2,
            "linecolor": "white",
            "showbackground": true,
            "ticks": "",
            "zerolinecolor": "white"
           },
           "yaxis": {
            "backgroundcolor": "#E5ECF6",
            "gridcolor": "white",
            "gridwidth": 2,
            "linecolor": "white",
            "showbackground": true,
            "ticks": "",
            "zerolinecolor": "white"
           },
           "zaxis": {
            "backgroundcolor": "#E5ECF6",
            "gridcolor": "white",
            "gridwidth": 2,
            "linecolor": "white",
            "showbackground": true,
            "ticks": "",
            "zerolinecolor": "white"
           }
          },
          "shapedefaults": {
           "line": {
            "color": "#2a3f5f"
           }
          },
          "ternary": {
           "aaxis": {
            "gridcolor": "white",
            "linecolor": "white",
            "ticks": ""
           },
           "baxis": {
            "gridcolor": "white",
            "linecolor": "white",
            "ticks": ""
           },
           "bgcolor": "#E5ECF6",
           "caxis": {
            "gridcolor": "white",
            "linecolor": "white",
            "ticks": ""
           }
          },
          "title": {
           "x": 0.05
          },
          "xaxis": {
           "automargin": true,
           "gridcolor": "white",
           "linecolor": "white",
           "ticks": "",
           "title": {
            "standoff": 15
           },
           "zerolinecolor": "white",
           "zerolinewidth": 2
          },
          "yaxis": {
           "automargin": true,
           "gridcolor": "white",
           "linecolor": "white",
           "ticks": "",
           "title": {
            "standoff": 15
           },
           "zerolinecolor": "white",
           "zerolinewidth": 2
          }
         }
        },
        "title": {
         "font": {
          "color": "#4D5663"
         }
        },
        "xaxis": {
         "gridcolor": "#E1E5ED",
         "showgrid": true,
         "tickfont": {
          "color": "#4D5663"
         },
         "title": {
          "font": {
           "color": "#4D5663"
          },
          "text": ""
         },
         "zerolinecolor": "#E1E5ED"
        },
        "yaxis": {
         "gridcolor": "#E1E5ED",
         "showgrid": true,
         "tickfont": {
          "color": "#4D5663"
         },
         "title": {
          "font": {
           "color": "#4D5663"
          },
          "text": ""
         },
         "zerolinecolor": "#E1E5ED"
        }
       }
      },
      "text/html": [
       "<div>                            <div id=\"12fae8b8-fce2-4137-ac07-18aef05ae4cd\" class=\"plotly-graph-div\" style=\"height:525px; width:100%;\"></div>            <script type=\"text/javascript\">                require([\"plotly\"], function(Plotly) {                    window.PLOTLYENV=window.PLOTLYENV || {};\n",
       "                    window.PLOTLYENV.BASE_URL='https://plot.ly';                                    if (document.getElementById(\"12fae8b8-fce2-4137-ac07-18aef05ae4cd\")) {                    Plotly.newPlot(                        \"12fae8b8-fce2-4137-ac07-18aef05ae4cd\",                        [{\"colorscale\":[[0.0,\"rgb(165,0,38)\"],[0.1,\"rgb(215,48,39)\"],[0.2,\"rgb(244,109,67)\"],[0.3,\"rgb(253,174,97)\"],[0.4,\"rgb(254,224,144)\"],[0.5,\"rgb(255,255,191)\"],[0.6,\"rgb(224,243,248)\"],[0.7,\"rgb(171,217,233)\"],[0.8,\"rgb(116,173,209)\"],[0.9,\"rgb(69,117,180)\"],[1.0,\"rgb(49,54,149)\"]],\"x\":[0,1,2,3,4],\"y\":[\"x\",\"y\",\"z\"],\"z\":[[1,2,3,4,5],[10,20,30,40,50],[5,4,3,2,1]],\"type\":\"surface\"}],                        {\"legend\":{\"bgcolor\":\"#F5F6F9\",\"font\":{\"color\":\"#4D5663\"}},\"paper_bgcolor\":\"#F5F6F9\",\"plot_bgcolor\":\"#F5F6F9\",\"template\":{\"data\":{\"barpolar\":[{\"marker\":{\"line\":{\"color\":\"#E5ECF6\",\"width\":0.5},\"pattern\":{\"fillmode\":\"overlay\",\"size\":10,\"solidity\":0.2}},\"type\":\"barpolar\"}],\"bar\":[{\"error_x\":{\"color\":\"#2a3f5f\"},\"error_y\":{\"color\":\"#2a3f5f\"},\"marker\":{\"line\":{\"color\":\"#E5ECF6\",\"width\":0.5},\"pattern\":{\"fillmode\":\"overlay\",\"size\":10,\"solidity\":0.2}},\"type\":\"bar\"}],\"carpet\":[{\"aaxis\":{\"endlinecolor\":\"#2a3f5f\",\"gridcolor\":\"white\",\"linecolor\":\"white\",\"minorgridcolor\":\"white\",\"startlinecolor\":\"#2a3f5f\"},\"baxis\":{\"endlinecolor\":\"#2a3f5f\",\"gridcolor\":\"white\",\"linecolor\":\"white\",\"minorgridcolor\":\"white\",\"startlinecolor\":\"#2a3f5f\"},\"type\":\"carpet\"}],\"choropleth\":[{\"colorbar\":{\"outlinewidth\":0,\"ticks\":\"\"},\"type\":\"choropleth\"}],\"contourcarpet\":[{\"colorbar\":{\"outlinewidth\":0,\"ticks\":\"\"},\"type\":\"contourcarpet\"}],\"contour\":[{\"colorbar\":{\"outlinewidth\":0,\"ticks\":\"\"},\"colorscale\":[[0.0,\"#0d0887\"],[0.1111111111111111,\"#46039f\"],[0.2222222222222222,\"#7201a8\"],[0.3333333333333333,\"#9c179e\"],[0.4444444444444444,\"#bd3786\"],[0.5555555555555556,\"#d8576b\"],[0.6666666666666666,\"#ed7953\"],[0.7777777777777778,\"#fb9f3a\"],[0.8888888888888888,\"#fdca26\"],[1.0,\"#f0f921\"]],\"type\":\"contour\"}],\"heatmapgl\":[{\"colorbar\":{\"outlinewidth\":0,\"ticks\":\"\"},\"colorscale\":[[0.0,\"#0d0887\"],[0.1111111111111111,\"#46039f\"],[0.2222222222222222,\"#7201a8\"],[0.3333333333333333,\"#9c179e\"],[0.4444444444444444,\"#bd3786\"],[0.5555555555555556,\"#d8576b\"],[0.6666666666666666,\"#ed7953\"],[0.7777777777777778,\"#fb9f3a\"],[0.8888888888888888,\"#fdca26\"],[1.0,\"#f0f921\"]],\"type\":\"heatmapgl\"}],\"heatmap\":[{\"colorbar\":{\"outlinewidth\":0,\"ticks\":\"\"},\"colorscale\":[[0.0,\"#0d0887\"],[0.1111111111111111,\"#46039f\"],[0.2222222222222222,\"#7201a8\"],[0.3333333333333333,\"#9c179e\"],[0.4444444444444444,\"#bd3786\"],[0.5555555555555556,\"#d8576b\"],[0.6666666666666666,\"#ed7953\"],[0.7777777777777778,\"#fb9f3a\"],[0.8888888888888888,\"#fdca26\"],[1.0,\"#f0f921\"]],\"type\":\"heatmap\"}],\"histogram2dcontour\":[{\"colorbar\":{\"outlinewidth\":0,\"ticks\":\"\"},\"colorscale\":[[0.0,\"#0d0887\"],[0.1111111111111111,\"#46039f\"],[0.2222222222222222,\"#7201a8\"],[0.3333333333333333,\"#9c179e\"],[0.4444444444444444,\"#bd3786\"],[0.5555555555555556,\"#d8576b\"],[0.6666666666666666,\"#ed7953\"],[0.7777777777777778,\"#fb9f3a\"],[0.8888888888888888,\"#fdca26\"],[1.0,\"#f0f921\"]],\"type\":\"histogram2dcontour\"}],\"histogram2d\":[{\"colorbar\":{\"outlinewidth\":0,\"ticks\":\"\"},\"colorscale\":[[0.0,\"#0d0887\"],[0.1111111111111111,\"#46039f\"],[0.2222222222222222,\"#7201a8\"],[0.3333333333333333,\"#9c179e\"],[0.4444444444444444,\"#bd3786\"],[0.5555555555555556,\"#d8576b\"],[0.6666666666666666,\"#ed7953\"],[0.7777777777777778,\"#fb9f3a\"],[0.8888888888888888,\"#fdca26\"],[1.0,\"#f0f921\"]],\"type\":\"histogram2d\"}],\"histogram\":[{\"marker\":{\"pattern\":{\"fillmode\":\"overlay\",\"size\":10,\"solidity\":0.2}},\"type\":\"histogram\"}],\"mesh3d\":[{\"colorbar\":{\"outlinewidth\":0,\"ticks\":\"\"},\"type\":\"mesh3d\"}],\"parcoords\":[{\"line\":{\"colorbar\":{\"outlinewidth\":0,\"ticks\":\"\"}},\"type\":\"parcoords\"}],\"pie\":[{\"automargin\":true,\"type\":\"pie\"}],\"scatter3d\":[{\"line\":{\"colorbar\":{\"outlinewidth\":0,\"ticks\":\"\"}},\"marker\":{\"colorbar\":{\"outlinewidth\":0,\"ticks\":\"\"}},\"type\":\"scatter3d\"}],\"scattercarpet\":[{\"marker\":{\"colorbar\":{\"outlinewidth\":0,\"ticks\":\"\"}},\"type\":\"scattercarpet\"}],\"scattergeo\":[{\"marker\":{\"colorbar\":{\"outlinewidth\":0,\"ticks\":\"\"}},\"type\":\"scattergeo\"}],\"scattergl\":[{\"marker\":{\"colorbar\":{\"outlinewidth\":0,\"ticks\":\"\"}},\"type\":\"scattergl\"}],\"scattermapbox\":[{\"marker\":{\"colorbar\":{\"outlinewidth\":0,\"ticks\":\"\"}},\"type\":\"scattermapbox\"}],\"scatterpolargl\":[{\"marker\":{\"colorbar\":{\"outlinewidth\":0,\"ticks\":\"\"}},\"type\":\"scatterpolargl\"}],\"scatterpolar\":[{\"marker\":{\"colorbar\":{\"outlinewidth\":0,\"ticks\":\"\"}},\"type\":\"scatterpolar\"}],\"scatter\":[{\"fillpattern\":{\"fillmode\":\"overlay\",\"size\":10,\"solidity\":0.2},\"type\":\"scatter\"}],\"scatterternary\":[{\"marker\":{\"colorbar\":{\"outlinewidth\":0,\"ticks\":\"\"}},\"type\":\"scatterternary\"}],\"surface\":[{\"colorbar\":{\"outlinewidth\":0,\"ticks\":\"\"},\"colorscale\":[[0.0,\"#0d0887\"],[0.1111111111111111,\"#46039f\"],[0.2222222222222222,\"#7201a8\"],[0.3333333333333333,\"#9c179e\"],[0.4444444444444444,\"#bd3786\"],[0.5555555555555556,\"#d8576b\"],[0.6666666666666666,\"#ed7953\"],[0.7777777777777778,\"#fb9f3a\"],[0.8888888888888888,\"#fdca26\"],[1.0,\"#f0f921\"]],\"type\":\"surface\"}],\"table\":[{\"cells\":{\"fill\":{\"color\":\"#EBF0F8\"},\"line\":{\"color\":\"white\"}},\"header\":{\"fill\":{\"color\":\"#C8D4E3\"},\"line\":{\"color\":\"white\"}},\"type\":\"table\"}]},\"layout\":{\"annotationdefaults\":{\"arrowcolor\":\"#2a3f5f\",\"arrowhead\":0,\"arrowwidth\":1},\"autotypenumbers\":\"strict\",\"coloraxis\":{\"colorbar\":{\"outlinewidth\":0,\"ticks\":\"\"}},\"colorscale\":{\"diverging\":[[0,\"#8e0152\"],[0.1,\"#c51b7d\"],[0.2,\"#de77ae\"],[0.3,\"#f1b6da\"],[0.4,\"#fde0ef\"],[0.5,\"#f7f7f7\"],[0.6,\"#e6f5d0\"],[0.7,\"#b8e186\"],[0.8,\"#7fbc41\"],[0.9,\"#4d9221\"],[1,\"#276419\"]],\"sequential\":[[0.0,\"#0d0887\"],[0.1111111111111111,\"#46039f\"],[0.2222222222222222,\"#7201a8\"],[0.3333333333333333,\"#9c179e\"],[0.4444444444444444,\"#bd3786\"],[0.5555555555555556,\"#d8576b\"],[0.6666666666666666,\"#ed7953\"],[0.7777777777777778,\"#fb9f3a\"],[0.8888888888888888,\"#fdca26\"],[1.0,\"#f0f921\"]],\"sequentialminus\":[[0.0,\"#0d0887\"],[0.1111111111111111,\"#46039f\"],[0.2222222222222222,\"#7201a8\"],[0.3333333333333333,\"#9c179e\"],[0.4444444444444444,\"#bd3786\"],[0.5555555555555556,\"#d8576b\"],[0.6666666666666666,\"#ed7953\"],[0.7777777777777778,\"#fb9f3a\"],[0.8888888888888888,\"#fdca26\"],[1.0,\"#f0f921\"]]},\"colorway\":[\"#636efa\",\"#EF553B\",\"#00cc96\",\"#ab63fa\",\"#FFA15A\",\"#19d3f3\",\"#FF6692\",\"#B6E880\",\"#FF97FF\",\"#FECB52\"],\"font\":{\"color\":\"#2a3f5f\"},\"geo\":{\"bgcolor\":\"white\",\"lakecolor\":\"white\",\"landcolor\":\"#E5ECF6\",\"showlakes\":true,\"showland\":true,\"subunitcolor\":\"white\"},\"hoverlabel\":{\"align\":\"left\"},\"hovermode\":\"closest\",\"mapbox\":{\"style\":\"light\"},\"paper_bgcolor\":\"white\",\"plot_bgcolor\":\"#E5ECF6\",\"polar\":{\"angularaxis\":{\"gridcolor\":\"white\",\"linecolor\":\"white\",\"ticks\":\"\"},\"bgcolor\":\"#E5ECF6\",\"radialaxis\":{\"gridcolor\":\"white\",\"linecolor\":\"white\",\"ticks\":\"\"}},\"scene\":{\"xaxis\":{\"backgroundcolor\":\"#E5ECF6\",\"gridcolor\":\"white\",\"gridwidth\":2,\"linecolor\":\"white\",\"showbackground\":true,\"ticks\":\"\",\"zerolinecolor\":\"white\"},\"yaxis\":{\"backgroundcolor\":\"#E5ECF6\",\"gridcolor\":\"white\",\"gridwidth\":2,\"linecolor\":\"white\",\"showbackground\":true,\"ticks\":\"\",\"zerolinecolor\":\"white\"},\"zaxis\":{\"backgroundcolor\":\"#E5ECF6\",\"gridcolor\":\"white\",\"gridwidth\":2,\"linecolor\":\"white\",\"showbackground\":true,\"ticks\":\"\",\"zerolinecolor\":\"white\"}},\"shapedefaults\":{\"line\":{\"color\":\"#2a3f5f\"}},\"ternary\":{\"aaxis\":{\"gridcolor\":\"white\",\"linecolor\":\"white\",\"ticks\":\"\"},\"baxis\":{\"gridcolor\":\"white\",\"linecolor\":\"white\",\"ticks\":\"\"},\"bgcolor\":\"#E5ECF6\",\"caxis\":{\"gridcolor\":\"white\",\"linecolor\":\"white\",\"ticks\":\"\"}},\"title\":{\"x\":0.05},\"xaxis\":{\"automargin\":true,\"gridcolor\":\"white\",\"linecolor\":\"white\",\"ticks\":\"\",\"title\":{\"standoff\":15},\"zerolinecolor\":\"white\",\"zerolinewidth\":2},\"yaxis\":{\"automargin\":true,\"gridcolor\":\"white\",\"linecolor\":\"white\",\"ticks\":\"\",\"title\":{\"standoff\":15},\"zerolinecolor\":\"white\",\"zerolinewidth\":2}}},\"title\":{\"font\":{\"color\":\"#4D5663\"}},\"xaxis\":{\"gridcolor\":\"#E1E5ED\",\"showgrid\":true,\"tickfont\":{\"color\":\"#4D5663\"},\"title\":{\"font\":{\"color\":\"#4D5663\"},\"text\":\"\"},\"zerolinecolor\":\"#E1E5ED\"},\"yaxis\":{\"gridcolor\":\"#E1E5ED\",\"showgrid\":true,\"tickfont\":{\"color\":\"#4D5663\"},\"title\":{\"font\":{\"color\":\"#4D5663\"},\"text\":\"\"},\"zerolinecolor\":\"#E1E5ED\"}},                        {\"showLink\": true, \"linkText\": \"Export to plot.ly\", \"plotlyServerURL\": \"https://plot.ly\", \"responsive\": true}                    ).then(function(){\n",
       "                            \n",
       "var gd = document.getElementById('12fae8b8-fce2-4137-ac07-18aef05ae4cd');\n",
       "var x = new MutationObserver(function (mutations, observer) {{\n",
       "        var display = window.getComputedStyle(gd).display;\n",
       "        if (!display || display === 'none') {{\n",
       "            console.log([gd, 'removed!']);\n",
       "            Plotly.purge(gd);\n",
       "            observer.disconnect();\n",
       "        }}\n",
       "}});\n",
       "\n",
       "// Listen for the removal of the full notebook cells\n",
       "var notebookContainer = gd.closest('#notebook-container');\n",
       "if (notebookContainer) {{\n",
       "    x.observe(notebookContainer, {childList: true});\n",
       "}}\n",
       "\n",
       "// Listen for the clearing of the current output cell\n",
       "var outputEl = gd.closest('.output');\n",
       "if (outputEl) {{\n",
       "    x.observe(outputEl, {childList: true});\n",
       "}}\n",
       "\n",
       "                        })                };                });            </script>        </div>"
      ]
     },
     "metadata": {},
     "output_type": "display_data"
    }
   ],
   "source": [
    "df3.iplot(kind = 'surface', colorscale = 'rdylbu')"
   ]
  },
  {
   "cell_type": "code",
   "execution_count": 30,
   "metadata": {},
   "outputs": [
    {
     "data": {
      "application/vnd.plotly.v1+json": {
       "config": {
        "linkText": "Export to plot.ly",
        "plotlyServerURL": "https://plot.ly",
        "showLink": true
       },
       "data": [
        {
         "histfunc": "count",
         "histnorm": "",
         "marker": {
          "color": "rgba(255, 153, 51, 1.0)",
          "line": {
           "color": "#4D5663",
           "width": 1.3
          }
         },
         "name": "A",
         "nbinsx": 25,
         "opacity": 0.8,
         "orientation": "v",
         "type": "histogram",
         "x": [
          -0.10885847351151294,
          0.09968228043736554,
          -0.8641500448021835,
          0.38946228886209866,
          -0.7770036269217798,
          2.3588730184432016,
          1.562051288398869,
          0.07605439418663039,
          0.912717877662609,
          -0.5661466630732443,
          0.15027249585969116,
          -0.4556584761228636,
          0.7330115973669539,
          0.270546419853816,
          -0.5171511568557435,
          0.6144837230708565,
          -1.3075651835854845,
          -1.1219896050430447,
          0.05441883554658746,
          1.535619031172629,
          -0.9863215722815764,
          0.6961242561076794,
          0.08697726808705007,
          -0.057414641396003094,
          0.7335552092007928,
          0.5269636134982121,
          -0.47046371030295636,
          -0.9365373408183358,
          -0.02293781116985355,
          -0.6512104043803646,
          2.5508177224571607,
          -0.7665519295025828,
          -0.5778939635559637,
          -1.0108079345663405,
          0.5596080957499588,
          2.036755029958988,
          -0.11612807524088375,
          -0.14578115752350002,
          1.9809733239972844,
          0.20606800368987369,
          -1.4150543142095422,
          1.5171621691439114,
          1.789281156821119,
          1.0859845692218137,
          0.569850188094948,
          -0.5092600456498456,
          -0.5133673294741509,
          -0.17747214914436082,
          -0.28497893896678667,
          -1.017723548510392,
          -0.171222608370362,
          -0.6572538678650311,
          0.9974253025353275,
          0.15219540039653634,
          0.5866680040194782,
          -0.19001914914542503,
          0.5353419078118536,
          1.1152162652677877,
          2.97795797105388,
          0.9085279502252701,
          -0.17232731231989817,
          1.389245776868657,
          -0.5708394737976242,
          0.34436475178815107,
          -0.9150239338287431,
          0.5131055597150919,
          0.5031908634636201,
          2.238821334911018,
          -0.10669318171704228,
          0.7345420979543783,
          -2.062925100049065,
          -1.2413883423525092,
          -0.5724993827887654,
          0.859720954322044,
          1.1003071919413916,
          -0.471752236644702,
          0.46025542685963583,
          -0.1084369455556114,
          0.09639064705141714,
          -0.7616762580059623,
          -1.7826562298020405,
          -0.7257458029396603,
          -0.29848471990300596,
          0.2858439083232961,
          -0.3367202911240463,
          0.20527268466178267,
          0.36573323048382694,
          -0.578898295870351,
          1.6001728205820427,
          -1.4342738153944126,
          1.2548152560200398,
          -1.5076691281769783,
          1.3411368027344885,
          -0.27024403891496945,
          -1.4268485254400225,
          0.7432383970273235,
          -0.31907044797333006,
          0.036447356526887825,
          -0.8569238644208176,
          -0.5041947840868658
         ]
        }
       ],
       "layout": {
        "barmode": "overlay",
        "legend": {
         "bgcolor": "#F5F6F9",
         "font": {
          "color": "#4D5663"
         }
        },
        "paper_bgcolor": "#F5F6F9",
        "plot_bgcolor": "#F5F6F9",
        "template": {
         "data": {
          "bar": [
           {
            "error_x": {
             "color": "#2a3f5f"
            },
            "error_y": {
             "color": "#2a3f5f"
            },
            "marker": {
             "line": {
              "color": "#E5ECF6",
              "width": 0.5
             },
             "pattern": {
              "fillmode": "overlay",
              "size": 10,
              "solidity": 0.2
             }
            },
            "type": "bar"
           }
          ],
          "barpolar": [
           {
            "marker": {
             "line": {
              "color": "#E5ECF6",
              "width": 0.5
             },
             "pattern": {
              "fillmode": "overlay",
              "size": 10,
              "solidity": 0.2
             }
            },
            "type": "barpolar"
           }
          ],
          "carpet": [
           {
            "aaxis": {
             "endlinecolor": "#2a3f5f",
             "gridcolor": "white",
             "linecolor": "white",
             "minorgridcolor": "white",
             "startlinecolor": "#2a3f5f"
            },
            "baxis": {
             "endlinecolor": "#2a3f5f",
             "gridcolor": "white",
             "linecolor": "white",
             "minorgridcolor": "white",
             "startlinecolor": "#2a3f5f"
            },
            "type": "carpet"
           }
          ],
          "choropleth": [
           {
            "colorbar": {
             "outlinewidth": 0,
             "ticks": ""
            },
            "type": "choropleth"
           }
          ],
          "contour": [
           {
            "colorbar": {
             "outlinewidth": 0,
             "ticks": ""
            },
            "colorscale": [
             [
              0,
              "#0d0887"
             ],
             [
              0.1111111111111111,
              "#46039f"
             ],
             [
              0.2222222222222222,
              "#7201a8"
             ],
             [
              0.3333333333333333,
              "#9c179e"
             ],
             [
              0.4444444444444444,
              "#bd3786"
             ],
             [
              0.5555555555555556,
              "#d8576b"
             ],
             [
              0.6666666666666666,
              "#ed7953"
             ],
             [
              0.7777777777777778,
              "#fb9f3a"
             ],
             [
              0.8888888888888888,
              "#fdca26"
             ],
             [
              1,
              "#f0f921"
             ]
            ],
            "type": "contour"
           }
          ],
          "contourcarpet": [
           {
            "colorbar": {
             "outlinewidth": 0,
             "ticks": ""
            },
            "type": "contourcarpet"
           }
          ],
          "heatmap": [
           {
            "colorbar": {
             "outlinewidth": 0,
             "ticks": ""
            },
            "colorscale": [
             [
              0,
              "#0d0887"
             ],
             [
              0.1111111111111111,
              "#46039f"
             ],
             [
              0.2222222222222222,
              "#7201a8"
             ],
             [
              0.3333333333333333,
              "#9c179e"
             ],
             [
              0.4444444444444444,
              "#bd3786"
             ],
             [
              0.5555555555555556,
              "#d8576b"
             ],
             [
              0.6666666666666666,
              "#ed7953"
             ],
             [
              0.7777777777777778,
              "#fb9f3a"
             ],
             [
              0.8888888888888888,
              "#fdca26"
             ],
             [
              1,
              "#f0f921"
             ]
            ],
            "type": "heatmap"
           }
          ],
          "heatmapgl": [
           {
            "colorbar": {
             "outlinewidth": 0,
             "ticks": ""
            },
            "colorscale": [
             [
              0,
              "#0d0887"
             ],
             [
              0.1111111111111111,
              "#46039f"
             ],
             [
              0.2222222222222222,
              "#7201a8"
             ],
             [
              0.3333333333333333,
              "#9c179e"
             ],
             [
              0.4444444444444444,
              "#bd3786"
             ],
             [
              0.5555555555555556,
              "#d8576b"
             ],
             [
              0.6666666666666666,
              "#ed7953"
             ],
             [
              0.7777777777777778,
              "#fb9f3a"
             ],
             [
              0.8888888888888888,
              "#fdca26"
             ],
             [
              1,
              "#f0f921"
             ]
            ],
            "type": "heatmapgl"
           }
          ],
          "histogram": [
           {
            "marker": {
             "pattern": {
              "fillmode": "overlay",
              "size": 10,
              "solidity": 0.2
             }
            },
            "type": "histogram"
           }
          ],
          "histogram2d": [
           {
            "colorbar": {
             "outlinewidth": 0,
             "ticks": ""
            },
            "colorscale": [
             [
              0,
              "#0d0887"
             ],
             [
              0.1111111111111111,
              "#46039f"
             ],
             [
              0.2222222222222222,
              "#7201a8"
             ],
             [
              0.3333333333333333,
              "#9c179e"
             ],
             [
              0.4444444444444444,
              "#bd3786"
             ],
             [
              0.5555555555555556,
              "#d8576b"
             ],
             [
              0.6666666666666666,
              "#ed7953"
             ],
             [
              0.7777777777777778,
              "#fb9f3a"
             ],
             [
              0.8888888888888888,
              "#fdca26"
             ],
             [
              1,
              "#f0f921"
             ]
            ],
            "type": "histogram2d"
           }
          ],
          "histogram2dcontour": [
           {
            "colorbar": {
             "outlinewidth": 0,
             "ticks": ""
            },
            "colorscale": [
             [
              0,
              "#0d0887"
             ],
             [
              0.1111111111111111,
              "#46039f"
             ],
             [
              0.2222222222222222,
              "#7201a8"
             ],
             [
              0.3333333333333333,
              "#9c179e"
             ],
             [
              0.4444444444444444,
              "#bd3786"
             ],
             [
              0.5555555555555556,
              "#d8576b"
             ],
             [
              0.6666666666666666,
              "#ed7953"
             ],
             [
              0.7777777777777778,
              "#fb9f3a"
             ],
             [
              0.8888888888888888,
              "#fdca26"
             ],
             [
              1,
              "#f0f921"
             ]
            ],
            "type": "histogram2dcontour"
           }
          ],
          "mesh3d": [
           {
            "colorbar": {
             "outlinewidth": 0,
             "ticks": ""
            },
            "type": "mesh3d"
           }
          ],
          "parcoords": [
           {
            "line": {
             "colorbar": {
              "outlinewidth": 0,
              "ticks": ""
             }
            },
            "type": "parcoords"
           }
          ],
          "pie": [
           {
            "automargin": true,
            "type": "pie"
           }
          ],
          "scatter": [
           {
            "fillpattern": {
             "fillmode": "overlay",
             "size": 10,
             "solidity": 0.2
            },
            "type": "scatter"
           }
          ],
          "scatter3d": [
           {
            "line": {
             "colorbar": {
              "outlinewidth": 0,
              "ticks": ""
             }
            },
            "marker": {
             "colorbar": {
              "outlinewidth": 0,
              "ticks": ""
             }
            },
            "type": "scatter3d"
           }
          ],
          "scattercarpet": [
           {
            "marker": {
             "colorbar": {
              "outlinewidth": 0,
              "ticks": ""
             }
            },
            "type": "scattercarpet"
           }
          ],
          "scattergeo": [
           {
            "marker": {
             "colorbar": {
              "outlinewidth": 0,
              "ticks": ""
             }
            },
            "type": "scattergeo"
           }
          ],
          "scattergl": [
           {
            "marker": {
             "colorbar": {
              "outlinewidth": 0,
              "ticks": ""
             }
            },
            "type": "scattergl"
           }
          ],
          "scattermapbox": [
           {
            "marker": {
             "colorbar": {
              "outlinewidth": 0,
              "ticks": ""
             }
            },
            "type": "scattermapbox"
           }
          ],
          "scatterpolar": [
           {
            "marker": {
             "colorbar": {
              "outlinewidth": 0,
              "ticks": ""
             }
            },
            "type": "scatterpolar"
           }
          ],
          "scatterpolargl": [
           {
            "marker": {
             "colorbar": {
              "outlinewidth": 0,
              "ticks": ""
             }
            },
            "type": "scatterpolargl"
           }
          ],
          "scatterternary": [
           {
            "marker": {
             "colorbar": {
              "outlinewidth": 0,
              "ticks": ""
             }
            },
            "type": "scatterternary"
           }
          ],
          "surface": [
           {
            "colorbar": {
             "outlinewidth": 0,
             "ticks": ""
            },
            "colorscale": [
             [
              0,
              "#0d0887"
             ],
             [
              0.1111111111111111,
              "#46039f"
             ],
             [
              0.2222222222222222,
              "#7201a8"
             ],
             [
              0.3333333333333333,
              "#9c179e"
             ],
             [
              0.4444444444444444,
              "#bd3786"
             ],
             [
              0.5555555555555556,
              "#d8576b"
             ],
             [
              0.6666666666666666,
              "#ed7953"
             ],
             [
              0.7777777777777778,
              "#fb9f3a"
             ],
             [
              0.8888888888888888,
              "#fdca26"
             ],
             [
              1,
              "#f0f921"
             ]
            ],
            "type": "surface"
           }
          ],
          "table": [
           {
            "cells": {
             "fill": {
              "color": "#EBF0F8"
             },
             "line": {
              "color": "white"
             }
            },
            "header": {
             "fill": {
              "color": "#C8D4E3"
             },
             "line": {
              "color": "white"
             }
            },
            "type": "table"
           }
          ]
         },
         "layout": {
          "annotationdefaults": {
           "arrowcolor": "#2a3f5f",
           "arrowhead": 0,
           "arrowwidth": 1
          },
          "autotypenumbers": "strict",
          "coloraxis": {
           "colorbar": {
            "outlinewidth": 0,
            "ticks": ""
           }
          },
          "colorscale": {
           "diverging": [
            [
             0,
             "#8e0152"
            ],
            [
             0.1,
             "#c51b7d"
            ],
            [
             0.2,
             "#de77ae"
            ],
            [
             0.3,
             "#f1b6da"
            ],
            [
             0.4,
             "#fde0ef"
            ],
            [
             0.5,
             "#f7f7f7"
            ],
            [
             0.6,
             "#e6f5d0"
            ],
            [
             0.7,
             "#b8e186"
            ],
            [
             0.8,
             "#7fbc41"
            ],
            [
             0.9,
             "#4d9221"
            ],
            [
             1,
             "#276419"
            ]
           ],
           "sequential": [
            [
             0,
             "#0d0887"
            ],
            [
             0.1111111111111111,
             "#46039f"
            ],
            [
             0.2222222222222222,
             "#7201a8"
            ],
            [
             0.3333333333333333,
             "#9c179e"
            ],
            [
             0.4444444444444444,
             "#bd3786"
            ],
            [
             0.5555555555555556,
             "#d8576b"
            ],
            [
             0.6666666666666666,
             "#ed7953"
            ],
            [
             0.7777777777777778,
             "#fb9f3a"
            ],
            [
             0.8888888888888888,
             "#fdca26"
            ],
            [
             1,
             "#f0f921"
            ]
           ],
           "sequentialminus": [
            [
             0,
             "#0d0887"
            ],
            [
             0.1111111111111111,
             "#46039f"
            ],
            [
             0.2222222222222222,
             "#7201a8"
            ],
            [
             0.3333333333333333,
             "#9c179e"
            ],
            [
             0.4444444444444444,
             "#bd3786"
            ],
            [
             0.5555555555555556,
             "#d8576b"
            ],
            [
             0.6666666666666666,
             "#ed7953"
            ],
            [
             0.7777777777777778,
             "#fb9f3a"
            ],
            [
             0.8888888888888888,
             "#fdca26"
            ],
            [
             1,
             "#f0f921"
            ]
           ]
          },
          "colorway": [
           "#636efa",
           "#EF553B",
           "#00cc96",
           "#ab63fa",
           "#FFA15A",
           "#19d3f3",
           "#FF6692",
           "#B6E880",
           "#FF97FF",
           "#FECB52"
          ],
          "font": {
           "color": "#2a3f5f"
          },
          "geo": {
           "bgcolor": "white",
           "lakecolor": "white",
           "landcolor": "#E5ECF6",
           "showlakes": true,
           "showland": true,
           "subunitcolor": "white"
          },
          "hoverlabel": {
           "align": "left"
          },
          "hovermode": "closest",
          "mapbox": {
           "style": "light"
          },
          "paper_bgcolor": "white",
          "plot_bgcolor": "#E5ECF6",
          "polar": {
           "angularaxis": {
            "gridcolor": "white",
            "linecolor": "white",
            "ticks": ""
           },
           "bgcolor": "#E5ECF6",
           "radialaxis": {
            "gridcolor": "white",
            "linecolor": "white",
            "ticks": ""
           }
          },
          "scene": {
           "xaxis": {
            "backgroundcolor": "#E5ECF6",
            "gridcolor": "white",
            "gridwidth": 2,
            "linecolor": "white",
            "showbackground": true,
            "ticks": "",
            "zerolinecolor": "white"
           },
           "yaxis": {
            "backgroundcolor": "#E5ECF6",
            "gridcolor": "white",
            "gridwidth": 2,
            "linecolor": "white",
            "showbackground": true,
            "ticks": "",
            "zerolinecolor": "white"
           },
           "zaxis": {
            "backgroundcolor": "#E5ECF6",
            "gridcolor": "white",
            "gridwidth": 2,
            "linecolor": "white",
            "showbackground": true,
            "ticks": "",
            "zerolinecolor": "white"
           }
          },
          "shapedefaults": {
           "line": {
            "color": "#2a3f5f"
           }
          },
          "ternary": {
           "aaxis": {
            "gridcolor": "white",
            "linecolor": "white",
            "ticks": ""
           },
           "baxis": {
            "gridcolor": "white",
            "linecolor": "white",
            "ticks": ""
           },
           "bgcolor": "#E5ECF6",
           "caxis": {
            "gridcolor": "white",
            "linecolor": "white",
            "ticks": ""
           }
          },
          "title": {
           "x": 0.05
          },
          "xaxis": {
           "automargin": true,
           "gridcolor": "white",
           "linecolor": "white",
           "ticks": "",
           "title": {
            "standoff": 15
           },
           "zerolinecolor": "white",
           "zerolinewidth": 2
          },
          "yaxis": {
           "automargin": true,
           "gridcolor": "white",
           "linecolor": "white",
           "ticks": "",
           "title": {
            "standoff": 15
           },
           "zerolinecolor": "white",
           "zerolinewidth": 2
          }
         }
        },
        "title": {
         "font": {
          "color": "#4D5663"
         }
        },
        "xaxis": {
         "gridcolor": "#E1E5ED",
         "showgrid": true,
         "tickfont": {
          "color": "#4D5663"
         },
         "title": {
          "font": {
           "color": "#4D5663"
          },
          "text": ""
         },
         "zerolinecolor": "#E1E5ED"
        },
        "yaxis": {
         "gridcolor": "#E1E5ED",
         "showgrid": true,
         "tickfont": {
          "color": "#4D5663"
         },
         "title": {
          "font": {
           "color": "#4D5663"
          },
          "text": ""
         },
         "zerolinecolor": "#E1E5ED"
        }
       }
      },
      "text/html": [
       "<div>                            <div id=\"9d287316-3350-4623-b11f-4fd8209c6bc7\" class=\"plotly-graph-div\" style=\"height:525px; width:100%;\"></div>            <script type=\"text/javascript\">                require([\"plotly\"], function(Plotly) {                    window.PLOTLYENV=window.PLOTLYENV || {};\n",
       "                    window.PLOTLYENV.BASE_URL='https://plot.ly';                                    if (document.getElementById(\"9d287316-3350-4623-b11f-4fd8209c6bc7\")) {                    Plotly.newPlot(                        \"9d287316-3350-4623-b11f-4fd8209c6bc7\",                        [{\"histfunc\":\"count\",\"histnorm\":\"\",\"marker\":{\"color\":\"rgba(255, 153, 51, 1.0)\",\"line\":{\"color\":\"#4D5663\",\"width\":1.3}},\"name\":\"A\",\"nbinsx\":25,\"opacity\":0.8,\"orientation\":\"v\",\"x\":[-0.10885847351151294,0.09968228043736554,-0.8641500448021835,0.38946228886209866,-0.7770036269217798,2.3588730184432016,1.562051288398869,0.07605439418663039,0.912717877662609,-0.5661466630732443,0.15027249585969116,-0.4556584761228636,0.7330115973669539,0.270546419853816,-0.5171511568557435,0.6144837230708565,-1.3075651835854845,-1.1219896050430447,0.05441883554658746,1.535619031172629,-0.9863215722815764,0.6961242561076794,0.08697726808705007,-0.057414641396003094,0.7335552092007928,0.5269636134982121,-0.47046371030295636,-0.9365373408183358,-0.02293781116985355,-0.6512104043803646,2.5508177224571607,-0.7665519295025828,-0.5778939635559637,-1.0108079345663405,0.5596080957499588,2.036755029958988,-0.11612807524088375,-0.14578115752350002,1.9809733239972844,0.20606800368987369,-1.4150543142095422,1.5171621691439114,1.789281156821119,1.0859845692218137,0.569850188094948,-0.5092600456498456,-0.5133673294741509,-0.17747214914436082,-0.28497893896678667,-1.017723548510392,-0.171222608370362,-0.6572538678650311,0.9974253025353275,0.15219540039653634,0.5866680040194782,-0.19001914914542503,0.5353419078118536,1.1152162652677877,2.97795797105388,0.9085279502252701,-0.17232731231989817,1.389245776868657,-0.5708394737976242,0.34436475178815107,-0.9150239338287431,0.5131055597150919,0.5031908634636201,2.238821334911018,-0.10669318171704228,0.7345420979543783,-2.062925100049065,-1.2413883423525092,-0.5724993827887654,0.859720954322044,1.1003071919413916,-0.471752236644702,0.46025542685963583,-0.1084369455556114,0.09639064705141714,-0.7616762580059623,-1.7826562298020405,-0.7257458029396603,-0.29848471990300596,0.2858439083232961,-0.3367202911240463,0.20527268466178267,0.36573323048382694,-0.578898295870351,1.6001728205820427,-1.4342738153944126,1.2548152560200398,-1.5076691281769783,1.3411368027344885,-0.27024403891496945,-1.4268485254400225,0.7432383970273235,-0.31907044797333006,0.036447356526887825,-0.8569238644208176,-0.5041947840868658],\"type\":\"histogram\"}],                        {\"barmode\":\"overlay\",\"legend\":{\"bgcolor\":\"#F5F6F9\",\"font\":{\"color\":\"#4D5663\"}},\"paper_bgcolor\":\"#F5F6F9\",\"plot_bgcolor\":\"#F5F6F9\",\"template\":{\"data\":{\"barpolar\":[{\"marker\":{\"line\":{\"color\":\"#E5ECF6\",\"width\":0.5},\"pattern\":{\"fillmode\":\"overlay\",\"size\":10,\"solidity\":0.2}},\"type\":\"barpolar\"}],\"bar\":[{\"error_x\":{\"color\":\"#2a3f5f\"},\"error_y\":{\"color\":\"#2a3f5f\"},\"marker\":{\"line\":{\"color\":\"#E5ECF6\",\"width\":0.5},\"pattern\":{\"fillmode\":\"overlay\",\"size\":10,\"solidity\":0.2}},\"type\":\"bar\"}],\"carpet\":[{\"aaxis\":{\"endlinecolor\":\"#2a3f5f\",\"gridcolor\":\"white\",\"linecolor\":\"white\",\"minorgridcolor\":\"white\",\"startlinecolor\":\"#2a3f5f\"},\"baxis\":{\"endlinecolor\":\"#2a3f5f\",\"gridcolor\":\"white\",\"linecolor\":\"white\",\"minorgridcolor\":\"white\",\"startlinecolor\":\"#2a3f5f\"},\"type\":\"carpet\"}],\"choropleth\":[{\"colorbar\":{\"outlinewidth\":0,\"ticks\":\"\"},\"type\":\"choropleth\"}],\"contourcarpet\":[{\"colorbar\":{\"outlinewidth\":0,\"ticks\":\"\"},\"type\":\"contourcarpet\"}],\"contour\":[{\"colorbar\":{\"outlinewidth\":0,\"ticks\":\"\"},\"colorscale\":[[0.0,\"#0d0887\"],[0.1111111111111111,\"#46039f\"],[0.2222222222222222,\"#7201a8\"],[0.3333333333333333,\"#9c179e\"],[0.4444444444444444,\"#bd3786\"],[0.5555555555555556,\"#d8576b\"],[0.6666666666666666,\"#ed7953\"],[0.7777777777777778,\"#fb9f3a\"],[0.8888888888888888,\"#fdca26\"],[1.0,\"#f0f921\"]],\"type\":\"contour\"}],\"heatmapgl\":[{\"colorbar\":{\"outlinewidth\":0,\"ticks\":\"\"},\"colorscale\":[[0.0,\"#0d0887\"],[0.1111111111111111,\"#46039f\"],[0.2222222222222222,\"#7201a8\"],[0.3333333333333333,\"#9c179e\"],[0.4444444444444444,\"#bd3786\"],[0.5555555555555556,\"#d8576b\"],[0.6666666666666666,\"#ed7953\"],[0.7777777777777778,\"#fb9f3a\"],[0.8888888888888888,\"#fdca26\"],[1.0,\"#f0f921\"]],\"type\":\"heatmapgl\"}],\"heatmap\":[{\"colorbar\":{\"outlinewidth\":0,\"ticks\":\"\"},\"colorscale\":[[0.0,\"#0d0887\"],[0.1111111111111111,\"#46039f\"],[0.2222222222222222,\"#7201a8\"],[0.3333333333333333,\"#9c179e\"],[0.4444444444444444,\"#bd3786\"],[0.5555555555555556,\"#d8576b\"],[0.6666666666666666,\"#ed7953\"],[0.7777777777777778,\"#fb9f3a\"],[0.8888888888888888,\"#fdca26\"],[1.0,\"#f0f921\"]],\"type\":\"heatmap\"}],\"histogram2dcontour\":[{\"colorbar\":{\"outlinewidth\":0,\"ticks\":\"\"},\"colorscale\":[[0.0,\"#0d0887\"],[0.1111111111111111,\"#46039f\"],[0.2222222222222222,\"#7201a8\"],[0.3333333333333333,\"#9c179e\"],[0.4444444444444444,\"#bd3786\"],[0.5555555555555556,\"#d8576b\"],[0.6666666666666666,\"#ed7953\"],[0.7777777777777778,\"#fb9f3a\"],[0.8888888888888888,\"#fdca26\"],[1.0,\"#f0f921\"]],\"type\":\"histogram2dcontour\"}],\"histogram2d\":[{\"colorbar\":{\"outlinewidth\":0,\"ticks\":\"\"},\"colorscale\":[[0.0,\"#0d0887\"],[0.1111111111111111,\"#46039f\"],[0.2222222222222222,\"#7201a8\"],[0.3333333333333333,\"#9c179e\"],[0.4444444444444444,\"#bd3786\"],[0.5555555555555556,\"#d8576b\"],[0.6666666666666666,\"#ed7953\"],[0.7777777777777778,\"#fb9f3a\"],[0.8888888888888888,\"#fdca26\"],[1.0,\"#f0f921\"]],\"type\":\"histogram2d\"}],\"histogram\":[{\"marker\":{\"pattern\":{\"fillmode\":\"overlay\",\"size\":10,\"solidity\":0.2}},\"type\":\"histogram\"}],\"mesh3d\":[{\"colorbar\":{\"outlinewidth\":0,\"ticks\":\"\"},\"type\":\"mesh3d\"}],\"parcoords\":[{\"line\":{\"colorbar\":{\"outlinewidth\":0,\"ticks\":\"\"}},\"type\":\"parcoords\"}],\"pie\":[{\"automargin\":true,\"type\":\"pie\"}],\"scatter3d\":[{\"line\":{\"colorbar\":{\"outlinewidth\":0,\"ticks\":\"\"}},\"marker\":{\"colorbar\":{\"outlinewidth\":0,\"ticks\":\"\"}},\"type\":\"scatter3d\"}],\"scattercarpet\":[{\"marker\":{\"colorbar\":{\"outlinewidth\":0,\"ticks\":\"\"}},\"type\":\"scattercarpet\"}],\"scattergeo\":[{\"marker\":{\"colorbar\":{\"outlinewidth\":0,\"ticks\":\"\"}},\"type\":\"scattergeo\"}],\"scattergl\":[{\"marker\":{\"colorbar\":{\"outlinewidth\":0,\"ticks\":\"\"}},\"type\":\"scattergl\"}],\"scattermapbox\":[{\"marker\":{\"colorbar\":{\"outlinewidth\":0,\"ticks\":\"\"}},\"type\":\"scattermapbox\"}],\"scatterpolargl\":[{\"marker\":{\"colorbar\":{\"outlinewidth\":0,\"ticks\":\"\"}},\"type\":\"scatterpolargl\"}],\"scatterpolar\":[{\"marker\":{\"colorbar\":{\"outlinewidth\":0,\"ticks\":\"\"}},\"type\":\"scatterpolar\"}],\"scatter\":[{\"fillpattern\":{\"fillmode\":\"overlay\",\"size\":10,\"solidity\":0.2},\"type\":\"scatter\"}],\"scatterternary\":[{\"marker\":{\"colorbar\":{\"outlinewidth\":0,\"ticks\":\"\"}},\"type\":\"scatterternary\"}],\"surface\":[{\"colorbar\":{\"outlinewidth\":0,\"ticks\":\"\"},\"colorscale\":[[0.0,\"#0d0887\"],[0.1111111111111111,\"#46039f\"],[0.2222222222222222,\"#7201a8\"],[0.3333333333333333,\"#9c179e\"],[0.4444444444444444,\"#bd3786\"],[0.5555555555555556,\"#d8576b\"],[0.6666666666666666,\"#ed7953\"],[0.7777777777777778,\"#fb9f3a\"],[0.8888888888888888,\"#fdca26\"],[1.0,\"#f0f921\"]],\"type\":\"surface\"}],\"table\":[{\"cells\":{\"fill\":{\"color\":\"#EBF0F8\"},\"line\":{\"color\":\"white\"}},\"header\":{\"fill\":{\"color\":\"#C8D4E3\"},\"line\":{\"color\":\"white\"}},\"type\":\"table\"}]},\"layout\":{\"annotationdefaults\":{\"arrowcolor\":\"#2a3f5f\",\"arrowhead\":0,\"arrowwidth\":1},\"autotypenumbers\":\"strict\",\"coloraxis\":{\"colorbar\":{\"outlinewidth\":0,\"ticks\":\"\"}},\"colorscale\":{\"diverging\":[[0,\"#8e0152\"],[0.1,\"#c51b7d\"],[0.2,\"#de77ae\"],[0.3,\"#f1b6da\"],[0.4,\"#fde0ef\"],[0.5,\"#f7f7f7\"],[0.6,\"#e6f5d0\"],[0.7,\"#b8e186\"],[0.8,\"#7fbc41\"],[0.9,\"#4d9221\"],[1,\"#276419\"]],\"sequential\":[[0.0,\"#0d0887\"],[0.1111111111111111,\"#46039f\"],[0.2222222222222222,\"#7201a8\"],[0.3333333333333333,\"#9c179e\"],[0.4444444444444444,\"#bd3786\"],[0.5555555555555556,\"#d8576b\"],[0.6666666666666666,\"#ed7953\"],[0.7777777777777778,\"#fb9f3a\"],[0.8888888888888888,\"#fdca26\"],[1.0,\"#f0f921\"]],\"sequentialminus\":[[0.0,\"#0d0887\"],[0.1111111111111111,\"#46039f\"],[0.2222222222222222,\"#7201a8\"],[0.3333333333333333,\"#9c179e\"],[0.4444444444444444,\"#bd3786\"],[0.5555555555555556,\"#d8576b\"],[0.6666666666666666,\"#ed7953\"],[0.7777777777777778,\"#fb9f3a\"],[0.8888888888888888,\"#fdca26\"],[1.0,\"#f0f921\"]]},\"colorway\":[\"#636efa\",\"#EF553B\",\"#00cc96\",\"#ab63fa\",\"#FFA15A\",\"#19d3f3\",\"#FF6692\",\"#B6E880\",\"#FF97FF\",\"#FECB52\"],\"font\":{\"color\":\"#2a3f5f\"},\"geo\":{\"bgcolor\":\"white\",\"lakecolor\":\"white\",\"landcolor\":\"#E5ECF6\",\"showlakes\":true,\"showland\":true,\"subunitcolor\":\"white\"},\"hoverlabel\":{\"align\":\"left\"},\"hovermode\":\"closest\",\"mapbox\":{\"style\":\"light\"},\"paper_bgcolor\":\"white\",\"plot_bgcolor\":\"#E5ECF6\",\"polar\":{\"angularaxis\":{\"gridcolor\":\"white\",\"linecolor\":\"white\",\"ticks\":\"\"},\"bgcolor\":\"#E5ECF6\",\"radialaxis\":{\"gridcolor\":\"white\",\"linecolor\":\"white\",\"ticks\":\"\"}},\"scene\":{\"xaxis\":{\"backgroundcolor\":\"#E5ECF6\",\"gridcolor\":\"white\",\"gridwidth\":2,\"linecolor\":\"white\",\"showbackground\":true,\"ticks\":\"\",\"zerolinecolor\":\"white\"},\"yaxis\":{\"backgroundcolor\":\"#E5ECF6\",\"gridcolor\":\"white\",\"gridwidth\":2,\"linecolor\":\"white\",\"showbackground\":true,\"ticks\":\"\",\"zerolinecolor\":\"white\"},\"zaxis\":{\"backgroundcolor\":\"#E5ECF6\",\"gridcolor\":\"white\",\"gridwidth\":2,\"linecolor\":\"white\",\"showbackground\":true,\"ticks\":\"\",\"zerolinecolor\":\"white\"}},\"shapedefaults\":{\"line\":{\"color\":\"#2a3f5f\"}},\"ternary\":{\"aaxis\":{\"gridcolor\":\"white\",\"linecolor\":\"white\",\"ticks\":\"\"},\"baxis\":{\"gridcolor\":\"white\",\"linecolor\":\"white\",\"ticks\":\"\"},\"bgcolor\":\"#E5ECF6\",\"caxis\":{\"gridcolor\":\"white\",\"linecolor\":\"white\",\"ticks\":\"\"}},\"title\":{\"x\":0.05},\"xaxis\":{\"automargin\":true,\"gridcolor\":\"white\",\"linecolor\":\"white\",\"ticks\":\"\",\"title\":{\"standoff\":15},\"zerolinecolor\":\"white\",\"zerolinewidth\":2},\"yaxis\":{\"automargin\":true,\"gridcolor\":\"white\",\"linecolor\":\"white\",\"ticks\":\"\",\"title\":{\"standoff\":15},\"zerolinecolor\":\"white\",\"zerolinewidth\":2}}},\"title\":{\"font\":{\"color\":\"#4D5663\"}},\"xaxis\":{\"gridcolor\":\"#E1E5ED\",\"showgrid\":true,\"tickfont\":{\"color\":\"#4D5663\"},\"title\":{\"font\":{\"color\":\"#4D5663\"},\"text\":\"\"},\"zerolinecolor\":\"#E1E5ED\"},\"yaxis\":{\"gridcolor\":\"#E1E5ED\",\"showgrid\":true,\"tickfont\":{\"color\":\"#4D5663\"},\"title\":{\"font\":{\"color\":\"#4D5663\"},\"text\":\"\"},\"zerolinecolor\":\"#E1E5ED\"}},                        {\"showLink\": true, \"linkText\": \"Export to plot.ly\", \"plotlyServerURL\": \"https://plot.ly\", \"responsive\": true}                    ).then(function(){\n",
       "                            \n",
       "var gd = document.getElementById('9d287316-3350-4623-b11f-4fd8209c6bc7');\n",
       "var x = new MutationObserver(function (mutations, observer) {{\n",
       "        var display = window.getComputedStyle(gd).display;\n",
       "        if (!display || display === 'none') {{\n",
       "            console.log([gd, 'removed!']);\n",
       "            Plotly.purge(gd);\n",
       "            observer.disconnect();\n",
       "        }}\n",
       "}});\n",
       "\n",
       "// Listen for the removal of the full notebook cells\n",
       "var notebookContainer = gd.closest('#notebook-container');\n",
       "if (notebookContainer) {{\n",
       "    x.observe(notebookContainer, {childList: true});\n",
       "}}\n",
       "\n",
       "// Listen for the clearing of the current output cell\n",
       "var outputEl = gd.closest('.output');\n",
       "if (outputEl) {{\n",
       "    x.observe(outputEl, {childList: true});\n",
       "}}\n",
       "\n",
       "                        })                };                });            </script>        </div>"
      ]
     },
     "metadata": {},
     "output_type": "display_data"
    }
   ],
   "source": [
    "df['A'].iplot(kind = 'histogram', bins = 25)"
   ]
  },
  {
   "cell_type": "code",
   "execution_count": 31,
   "metadata": {},
   "outputs": [
    {
     "data": {
      "application/vnd.plotly.v1+json": {
       "config": {
        "linkText": "Export to plot.ly",
        "plotlyServerURL": "https://plot.ly",
        "showLink": true
       },
       "data": [
        {
         "histfunc": "count",
         "histnorm": "",
         "marker": {
          "color": "rgba(255, 153, 51, 1.0)",
          "line": {
           "color": "#4D5663",
           "width": 1.3
          }
         },
         "name": "A",
         "opacity": 0.8,
         "orientation": "v",
         "type": "histogram",
         "x": [
          -0.10885847351151294,
          0.09968228043736554,
          -0.8641500448021835,
          0.38946228886209866,
          -0.7770036269217798,
          2.3588730184432016,
          1.562051288398869,
          0.07605439418663039,
          0.912717877662609,
          -0.5661466630732443,
          0.15027249585969116,
          -0.4556584761228636,
          0.7330115973669539,
          0.270546419853816,
          -0.5171511568557435,
          0.6144837230708565,
          -1.3075651835854845,
          -1.1219896050430447,
          0.05441883554658746,
          1.535619031172629,
          -0.9863215722815764,
          0.6961242561076794,
          0.08697726808705007,
          -0.057414641396003094,
          0.7335552092007928,
          0.5269636134982121,
          -0.47046371030295636,
          -0.9365373408183358,
          -0.02293781116985355,
          -0.6512104043803646,
          2.5508177224571607,
          -0.7665519295025828,
          -0.5778939635559637,
          -1.0108079345663405,
          0.5596080957499588,
          2.036755029958988,
          -0.11612807524088375,
          -0.14578115752350002,
          1.9809733239972844,
          0.20606800368987369,
          -1.4150543142095422,
          1.5171621691439114,
          1.789281156821119,
          1.0859845692218137,
          0.569850188094948,
          -0.5092600456498456,
          -0.5133673294741509,
          -0.17747214914436082,
          -0.28497893896678667,
          -1.017723548510392,
          -0.171222608370362,
          -0.6572538678650311,
          0.9974253025353275,
          0.15219540039653634,
          0.5866680040194782,
          -0.19001914914542503,
          0.5353419078118536,
          1.1152162652677877,
          2.97795797105388,
          0.9085279502252701,
          -0.17232731231989817,
          1.389245776868657,
          -0.5708394737976242,
          0.34436475178815107,
          -0.9150239338287431,
          0.5131055597150919,
          0.5031908634636201,
          2.238821334911018,
          -0.10669318171704228,
          0.7345420979543783,
          -2.062925100049065,
          -1.2413883423525092,
          -0.5724993827887654,
          0.859720954322044,
          1.1003071919413916,
          -0.471752236644702,
          0.46025542685963583,
          -0.1084369455556114,
          0.09639064705141714,
          -0.7616762580059623,
          -1.7826562298020405,
          -0.7257458029396603,
          -0.29848471990300596,
          0.2858439083232961,
          -0.3367202911240463,
          0.20527268466178267,
          0.36573323048382694,
          -0.578898295870351,
          1.6001728205820427,
          -1.4342738153944126,
          1.2548152560200398,
          -1.5076691281769783,
          1.3411368027344885,
          -0.27024403891496945,
          -1.4268485254400225,
          0.7432383970273235,
          -0.31907044797333006,
          0.036447356526887825,
          -0.8569238644208176,
          -0.5041947840868658
         ]
        },
        {
         "histfunc": "count",
         "histnorm": "",
         "marker": {
          "color": "rgba(55, 128, 191, 1.0)",
          "line": {
           "color": "#4D5663",
           "width": 1.3
          }
         },
         "name": "B",
         "opacity": 0.8,
         "orientation": "v",
         "type": "histogram",
         "x": [
          -0.6607567515404839,
          0.6272057327377043,
          -0.29300459755897873,
          0.20396521190281927,
          -0.11254528632613671,
          1.175835792248741,
          -0.7377345445424521,
          0.356496022784465,
          1.3251418286139893,
          0.26885086019013144,
          1.122352095296499,
          0.24204159204449613,
          2.0123475931236077,
          0.5346441742217941,
          1.0238143940420046,
          0.8090796833083032,
          0.11313819918896648,
          2.24916865287664,
          0.012932222012098343,
          -0.40244432809040476,
          -0.2502753654633691,
          2.630557383226313,
          -0.7790771990625227,
          0.7355197860705898,
          -0.1943010347541226,
          1.2928782007154789,
          0.36572430645810655,
          -0.5392603452969593,
          -0.96023431045177,
          -0.09253815346977223,
          -0.4298824098705515,
          0.25425105887003596,
          -1.1674587129797283,
          -0.3840343408994587,
          1.3207712002551013,
          0.062356765784521456,
          0.9595537781702738,
          0.17240071462536052,
          -0.451261552754604,
          0.26033009506400173,
          -0.7193669753874455,
          1.3237640482815087,
          -0.27155167270699504,
          -0.19773330021703522,
          -0.07151638613211464,
          1.8903708416916005,
          -0.528035834561054,
          0.6244900423893583,
          -0.2651053906182809,
          1.5323114619010347,
          0.18001538721174082,
          0.9973476693237119,
          -1.58564522054993,
          1.1192253963894794,
          -0.5674695266246303,
          0.6634869383800137,
          0.2188382483231579,
          0.5690392046501117,
          -0.06603917493020449,
          -0.6105444992113863,
          1.736224515049627,
          1.8863963804057344,
          -2.0487797487038444,
          0.5047057902668708,
          -0.6634330645442947,
          -0.128018734829384,
          -1.0299738753476964,
          2.023938172106331,
          0.1957238535897606,
          0.14206388716721732,
          1.0228505986995695,
          -1.0652264255737482,
          0.6163051316586318,
          1.6022578249809882,
          -0.3526379835238936,
          -1.8418587223766436,
          -0.4754546562297881,
          -1.4657897646743254,
          1.291531251527738,
          0.6056778020888061,
          0.9618849334241207,
          -0.44070807412970214,
          0.6812198800439422,
          -0.48018367669432493,
          0.4450259781147967,
          2.1054135753292753,
          -0.47891017321267454,
          -0.11251171905452118,
          0.6272297098806351,
          0.29813117767436553,
          -0.9105125124581759,
          1.7637483257996116,
          0.49453904178321406,
          -0.09063675976922009,
          -1.2423412107676592,
          -0.24118324086440246,
          -0.019347818855389786,
          -0.7130858012841428,
          -1.2610100912832602,
          -0.31484580391977757
         ]
        },
        {
         "histfunc": "count",
         "histnorm": "",
         "marker": {
          "color": "rgba(50, 171, 96, 1.0)",
          "line": {
           "color": "#4D5663",
           "width": 1.3
          }
         },
         "name": "C",
         "opacity": 0.8,
         "orientation": "v",
         "type": "histogram",
         "x": [
          -1.1850705897601521,
          0.3761853015697947,
          0.6110459988456458,
          -1.1768028229366025,
          -1.8791624168125693,
          0.7720022143913202,
          -0.0893252953640753,
          1.039617165143866,
          -1.1840500730866144,
          0.8321614602592408,
          -1.23455277623035,
          -0.45833727083862735,
          1.1220726165049657,
          -1.6993662515664683,
          -0.14563422452336208,
          1.3418892881012277,
          1.50209878924822,
          0.24571141525950582,
          0.05925381879943243,
          -0.27240713457746824,
          -1.4359134436838947,
          -0.1535578006726762,
          0.5498729377699436,
          0.24591207455672578,
          1.3805360456900502,
          0.3904135864126944,
          -0.13581271740313985,
          1.7919670799831404,
          -1.0691186588793753,
          0.8585148027138233,
          -1.5951986693599076,
          1.0672084944289593,
          -0.41400102595952526,
          0.5817627738163651,
          0.5463160836769827,
          0.6180931224205171,
          0.31803238575742915,
          -0.5322130273534613,
          -0.5751881023297809,
          0.11711464019563658,
          0.2897572354379959,
          1.5251213365214897,
          2.502241044697504,
          -1.0775812333428496,
          0.9486812060323532,
          -1.4647561857509215,
          -1.075799602815771,
          -1.2932427985412889,
          -2.2696972086862446,
          0.9265964698004169,
          1.3180662734154076,
          1.0018997845709618,
          0.9339443113262336,
          0.995991554991809,
          0.16810108485542855,
          -0.05498815547830166,
          0.6191963771853356,
          -0.6211415441654871,
          1.9225161963901454,
          1.109667351904907,
          -0.4935685586651885,
          0.18483082811965695,
          0.2809684300781559,
          0.47754509983688403,
          0.15121254491430586,
          0.6132749388640667,
          2.129186436169313,
          1.0793866064312156,
          -0.4251155688010225,
          -0.2732289516473583,
          2.190233874337507,
          -1.4633556292414922,
          0.5464474728462337,
          1.8843275926183498,
          0.5073523203734914,
          0.11719873637408908,
          -1.772536247751536,
          0.37253201209491427,
          0.8550798325709544,
          0.6108288171710052,
          0.31144479658230606,
          0.04129963382415682,
          -0.5721269602866565,
          -1.1644479731019926,
          -0.5732634166989471,
          0.41703832982192696,
          1.520779059735967,
          -0.8074484829813724,
          -0.47513098812332116,
          0.24978738197180275,
          0.1669708471442198,
          -0.13695759456345732,
          1.085459636883732,
          1.6927949085644212,
          -0.3703933092097937,
          2.9867423940495583,
          -0.18109202888901874,
          -0.2469751779320185,
          -0.34396759900202334,
          1.3071589983054204
         ]
        },
        {
         "histfunc": "count",
         "histnorm": "",
         "marker": {
          "color": "rgba(128, 0, 128, 1.0)",
          "line": {
           "color": "#4D5663",
           "width": 1.3
          }
         },
         "name": "D",
         "opacity": 0.8,
         "orientation": "v",
         "type": "histogram",
         "x": [
          0.5899582634645533,
          1.5808432661410567,
          0.34561449097685376,
          0.2728656800844236,
          -1.447961115065258,
          2.0665441538512974,
          1.536102871801085,
          0.925032550192467,
          -0.6345781121065829,
          -0.3601240464778806,
          -0.7999400098410929,
          -0.15470059858329765,
          -0.43483484592130944,
          -0.35454673677398074,
          0.6447744653449229,
          -0.37007267827112644,
          -0.5137884466671174,
          -0.16163190054914361,
          0.7804774982243313,
          -1.9233162478024974,
          1.5642145003662575,
          0.4173143135774519,
          -0.4813792530028488,
          0.3346325722058072,
          0.09674982622146834,
          -0.1756837333246901,
          0.9544719059402534,
          0.13931926641473943,
          0.4758251660525391,
          0.2602469136562438,
          -0.2533319926943123,
          1.763038543212188,
          -0.1271926477483187,
          0.6107037143379589,
          0.3267620585475331,
          0.9771151901287334,
          -1.775591993226835,
          0.4553932067832489,
          -1.1869869920003338,
          -0.30170251482254495,
          -1.1015240044814973,
          1.4217312129727295,
          -0.6664042443191304,
          -0.8617929997942941,
          1.7151107629039979,
          -0.38786790728419923,
          -1.5151051299366691,
          0.7109736871683429,
          -0.5208399147575378,
          -1.4862278327670115,
          -0.597605169046876,
          1.2426494433850057,
          1.7304577081528194,
          2.0059871958872844,
          -0.11974170867041577,
          -0.427998606749268,
          -0.07537287026650681,
          -0.87845548354086,
          0.9573479344815539,
          0.8071827997132053,
          -1.5476415134654689,
          -0.09402161523384257,
          -1.3154429788134763,
          0.738515850070673,
          0.007230389499876916,
          -0.2777361675822311,
          0.8153060852341795,
          -0.7079225037795478,
          -1.1383801646246323,
          1.0920744651831522,
          -0.030415729816667392,
          0.38203906400697824,
          0.30736386123118487,
          0.7078437185790925,
          -1.3004929568091852,
          -0.3245924863618333,
          -1.587873057747594,
          -0.2517083843878335,
          1.1701108332499774,
          -0.03767379337014992,
          2.717620846113011,
          -0.7729456312276415,
          -0.45856923111916303,
          1.1541410223539503,
          1.1436737062336637,
          -0.28200407130511806,
          -0.069434709469561,
          0.5707763364559357,
          -0.5984913824920475,
          -2.228669894005689,
          -0.784083983517904,
          0.1751517676737111,
          0.1863769684271199,
          0.5051819931537751,
          0.504800375706003,
          0.22804895723717042,
          0.7626066697825327,
          -1.316304447931998,
          -1.5186647281420522,
          -1.5806817324477638
         ]
        }
       ],
       "layout": {
        "barmode": "overlay",
        "legend": {
         "bgcolor": "#F5F6F9",
         "font": {
          "color": "#4D5663"
         }
        },
        "paper_bgcolor": "#F5F6F9",
        "plot_bgcolor": "#F5F6F9",
        "template": {
         "data": {
          "bar": [
           {
            "error_x": {
             "color": "#2a3f5f"
            },
            "error_y": {
             "color": "#2a3f5f"
            },
            "marker": {
             "line": {
              "color": "#E5ECF6",
              "width": 0.5
             },
             "pattern": {
              "fillmode": "overlay",
              "size": 10,
              "solidity": 0.2
             }
            },
            "type": "bar"
           }
          ],
          "barpolar": [
           {
            "marker": {
             "line": {
              "color": "#E5ECF6",
              "width": 0.5
             },
             "pattern": {
              "fillmode": "overlay",
              "size": 10,
              "solidity": 0.2
             }
            },
            "type": "barpolar"
           }
          ],
          "carpet": [
           {
            "aaxis": {
             "endlinecolor": "#2a3f5f",
             "gridcolor": "white",
             "linecolor": "white",
             "minorgridcolor": "white",
             "startlinecolor": "#2a3f5f"
            },
            "baxis": {
             "endlinecolor": "#2a3f5f",
             "gridcolor": "white",
             "linecolor": "white",
             "minorgridcolor": "white",
             "startlinecolor": "#2a3f5f"
            },
            "type": "carpet"
           }
          ],
          "choropleth": [
           {
            "colorbar": {
             "outlinewidth": 0,
             "ticks": ""
            },
            "type": "choropleth"
           }
          ],
          "contour": [
           {
            "colorbar": {
             "outlinewidth": 0,
             "ticks": ""
            },
            "colorscale": [
             [
              0,
              "#0d0887"
             ],
             [
              0.1111111111111111,
              "#46039f"
             ],
             [
              0.2222222222222222,
              "#7201a8"
             ],
             [
              0.3333333333333333,
              "#9c179e"
             ],
             [
              0.4444444444444444,
              "#bd3786"
             ],
             [
              0.5555555555555556,
              "#d8576b"
             ],
             [
              0.6666666666666666,
              "#ed7953"
             ],
             [
              0.7777777777777778,
              "#fb9f3a"
             ],
             [
              0.8888888888888888,
              "#fdca26"
             ],
             [
              1,
              "#f0f921"
             ]
            ],
            "type": "contour"
           }
          ],
          "contourcarpet": [
           {
            "colorbar": {
             "outlinewidth": 0,
             "ticks": ""
            },
            "type": "contourcarpet"
           }
          ],
          "heatmap": [
           {
            "colorbar": {
             "outlinewidth": 0,
             "ticks": ""
            },
            "colorscale": [
             [
              0,
              "#0d0887"
             ],
             [
              0.1111111111111111,
              "#46039f"
             ],
             [
              0.2222222222222222,
              "#7201a8"
             ],
             [
              0.3333333333333333,
              "#9c179e"
             ],
             [
              0.4444444444444444,
              "#bd3786"
             ],
             [
              0.5555555555555556,
              "#d8576b"
             ],
             [
              0.6666666666666666,
              "#ed7953"
             ],
             [
              0.7777777777777778,
              "#fb9f3a"
             ],
             [
              0.8888888888888888,
              "#fdca26"
             ],
             [
              1,
              "#f0f921"
             ]
            ],
            "type": "heatmap"
           }
          ],
          "heatmapgl": [
           {
            "colorbar": {
             "outlinewidth": 0,
             "ticks": ""
            },
            "colorscale": [
             [
              0,
              "#0d0887"
             ],
             [
              0.1111111111111111,
              "#46039f"
             ],
             [
              0.2222222222222222,
              "#7201a8"
             ],
             [
              0.3333333333333333,
              "#9c179e"
             ],
             [
              0.4444444444444444,
              "#bd3786"
             ],
             [
              0.5555555555555556,
              "#d8576b"
             ],
             [
              0.6666666666666666,
              "#ed7953"
             ],
             [
              0.7777777777777778,
              "#fb9f3a"
             ],
             [
              0.8888888888888888,
              "#fdca26"
             ],
             [
              1,
              "#f0f921"
             ]
            ],
            "type": "heatmapgl"
           }
          ],
          "histogram": [
           {
            "marker": {
             "pattern": {
              "fillmode": "overlay",
              "size": 10,
              "solidity": 0.2
             }
            },
            "type": "histogram"
           }
          ],
          "histogram2d": [
           {
            "colorbar": {
             "outlinewidth": 0,
             "ticks": ""
            },
            "colorscale": [
             [
              0,
              "#0d0887"
             ],
             [
              0.1111111111111111,
              "#46039f"
             ],
             [
              0.2222222222222222,
              "#7201a8"
             ],
             [
              0.3333333333333333,
              "#9c179e"
             ],
             [
              0.4444444444444444,
              "#bd3786"
             ],
             [
              0.5555555555555556,
              "#d8576b"
             ],
             [
              0.6666666666666666,
              "#ed7953"
             ],
             [
              0.7777777777777778,
              "#fb9f3a"
             ],
             [
              0.8888888888888888,
              "#fdca26"
             ],
             [
              1,
              "#f0f921"
             ]
            ],
            "type": "histogram2d"
           }
          ],
          "histogram2dcontour": [
           {
            "colorbar": {
             "outlinewidth": 0,
             "ticks": ""
            },
            "colorscale": [
             [
              0,
              "#0d0887"
             ],
             [
              0.1111111111111111,
              "#46039f"
             ],
             [
              0.2222222222222222,
              "#7201a8"
             ],
             [
              0.3333333333333333,
              "#9c179e"
             ],
             [
              0.4444444444444444,
              "#bd3786"
             ],
             [
              0.5555555555555556,
              "#d8576b"
             ],
             [
              0.6666666666666666,
              "#ed7953"
             ],
             [
              0.7777777777777778,
              "#fb9f3a"
             ],
             [
              0.8888888888888888,
              "#fdca26"
             ],
             [
              1,
              "#f0f921"
             ]
            ],
            "type": "histogram2dcontour"
           }
          ],
          "mesh3d": [
           {
            "colorbar": {
             "outlinewidth": 0,
             "ticks": ""
            },
            "type": "mesh3d"
           }
          ],
          "parcoords": [
           {
            "line": {
             "colorbar": {
              "outlinewidth": 0,
              "ticks": ""
             }
            },
            "type": "parcoords"
           }
          ],
          "pie": [
           {
            "automargin": true,
            "type": "pie"
           }
          ],
          "scatter": [
           {
            "fillpattern": {
             "fillmode": "overlay",
             "size": 10,
             "solidity": 0.2
            },
            "type": "scatter"
           }
          ],
          "scatter3d": [
           {
            "line": {
             "colorbar": {
              "outlinewidth": 0,
              "ticks": ""
             }
            },
            "marker": {
             "colorbar": {
              "outlinewidth": 0,
              "ticks": ""
             }
            },
            "type": "scatter3d"
           }
          ],
          "scattercarpet": [
           {
            "marker": {
             "colorbar": {
              "outlinewidth": 0,
              "ticks": ""
             }
            },
            "type": "scattercarpet"
           }
          ],
          "scattergeo": [
           {
            "marker": {
             "colorbar": {
              "outlinewidth": 0,
              "ticks": ""
             }
            },
            "type": "scattergeo"
           }
          ],
          "scattergl": [
           {
            "marker": {
             "colorbar": {
              "outlinewidth": 0,
              "ticks": ""
             }
            },
            "type": "scattergl"
           }
          ],
          "scattermapbox": [
           {
            "marker": {
             "colorbar": {
              "outlinewidth": 0,
              "ticks": ""
             }
            },
            "type": "scattermapbox"
           }
          ],
          "scatterpolar": [
           {
            "marker": {
             "colorbar": {
              "outlinewidth": 0,
              "ticks": ""
             }
            },
            "type": "scatterpolar"
           }
          ],
          "scatterpolargl": [
           {
            "marker": {
             "colorbar": {
              "outlinewidth": 0,
              "ticks": ""
             }
            },
            "type": "scatterpolargl"
           }
          ],
          "scatterternary": [
           {
            "marker": {
             "colorbar": {
              "outlinewidth": 0,
              "ticks": ""
             }
            },
            "type": "scatterternary"
           }
          ],
          "surface": [
           {
            "colorbar": {
             "outlinewidth": 0,
             "ticks": ""
            },
            "colorscale": [
             [
              0,
              "#0d0887"
             ],
             [
              0.1111111111111111,
              "#46039f"
             ],
             [
              0.2222222222222222,
              "#7201a8"
             ],
             [
              0.3333333333333333,
              "#9c179e"
             ],
             [
              0.4444444444444444,
              "#bd3786"
             ],
             [
              0.5555555555555556,
              "#d8576b"
             ],
             [
              0.6666666666666666,
              "#ed7953"
             ],
             [
              0.7777777777777778,
              "#fb9f3a"
             ],
             [
              0.8888888888888888,
              "#fdca26"
             ],
             [
              1,
              "#f0f921"
             ]
            ],
            "type": "surface"
           }
          ],
          "table": [
           {
            "cells": {
             "fill": {
              "color": "#EBF0F8"
             },
             "line": {
              "color": "white"
             }
            },
            "header": {
             "fill": {
              "color": "#C8D4E3"
             },
             "line": {
              "color": "white"
             }
            },
            "type": "table"
           }
          ]
         },
         "layout": {
          "annotationdefaults": {
           "arrowcolor": "#2a3f5f",
           "arrowhead": 0,
           "arrowwidth": 1
          },
          "autotypenumbers": "strict",
          "coloraxis": {
           "colorbar": {
            "outlinewidth": 0,
            "ticks": ""
           }
          },
          "colorscale": {
           "diverging": [
            [
             0,
             "#8e0152"
            ],
            [
             0.1,
             "#c51b7d"
            ],
            [
             0.2,
             "#de77ae"
            ],
            [
             0.3,
             "#f1b6da"
            ],
            [
             0.4,
             "#fde0ef"
            ],
            [
             0.5,
             "#f7f7f7"
            ],
            [
             0.6,
             "#e6f5d0"
            ],
            [
             0.7,
             "#b8e186"
            ],
            [
             0.8,
             "#7fbc41"
            ],
            [
             0.9,
             "#4d9221"
            ],
            [
             1,
             "#276419"
            ]
           ],
           "sequential": [
            [
             0,
             "#0d0887"
            ],
            [
             0.1111111111111111,
             "#46039f"
            ],
            [
             0.2222222222222222,
             "#7201a8"
            ],
            [
             0.3333333333333333,
             "#9c179e"
            ],
            [
             0.4444444444444444,
             "#bd3786"
            ],
            [
             0.5555555555555556,
             "#d8576b"
            ],
            [
             0.6666666666666666,
             "#ed7953"
            ],
            [
             0.7777777777777778,
             "#fb9f3a"
            ],
            [
             0.8888888888888888,
             "#fdca26"
            ],
            [
             1,
             "#f0f921"
            ]
           ],
           "sequentialminus": [
            [
             0,
             "#0d0887"
            ],
            [
             0.1111111111111111,
             "#46039f"
            ],
            [
             0.2222222222222222,
             "#7201a8"
            ],
            [
             0.3333333333333333,
             "#9c179e"
            ],
            [
             0.4444444444444444,
             "#bd3786"
            ],
            [
             0.5555555555555556,
             "#d8576b"
            ],
            [
             0.6666666666666666,
             "#ed7953"
            ],
            [
             0.7777777777777778,
             "#fb9f3a"
            ],
            [
             0.8888888888888888,
             "#fdca26"
            ],
            [
             1,
             "#f0f921"
            ]
           ]
          },
          "colorway": [
           "#636efa",
           "#EF553B",
           "#00cc96",
           "#ab63fa",
           "#FFA15A",
           "#19d3f3",
           "#FF6692",
           "#B6E880",
           "#FF97FF",
           "#FECB52"
          ],
          "font": {
           "color": "#2a3f5f"
          },
          "geo": {
           "bgcolor": "white",
           "lakecolor": "white",
           "landcolor": "#E5ECF6",
           "showlakes": true,
           "showland": true,
           "subunitcolor": "white"
          },
          "hoverlabel": {
           "align": "left"
          },
          "hovermode": "closest",
          "mapbox": {
           "style": "light"
          },
          "paper_bgcolor": "white",
          "plot_bgcolor": "#E5ECF6",
          "polar": {
           "angularaxis": {
            "gridcolor": "white",
            "linecolor": "white",
            "ticks": ""
           },
           "bgcolor": "#E5ECF6",
           "radialaxis": {
            "gridcolor": "white",
            "linecolor": "white",
            "ticks": ""
           }
          },
          "scene": {
           "xaxis": {
            "backgroundcolor": "#E5ECF6",
            "gridcolor": "white",
            "gridwidth": 2,
            "linecolor": "white",
            "showbackground": true,
            "ticks": "",
            "zerolinecolor": "white"
           },
           "yaxis": {
            "backgroundcolor": "#E5ECF6",
            "gridcolor": "white",
            "gridwidth": 2,
            "linecolor": "white",
            "showbackground": true,
            "ticks": "",
            "zerolinecolor": "white"
           },
           "zaxis": {
            "backgroundcolor": "#E5ECF6",
            "gridcolor": "white",
            "gridwidth": 2,
            "linecolor": "white",
            "showbackground": true,
            "ticks": "",
            "zerolinecolor": "white"
           }
          },
          "shapedefaults": {
           "line": {
            "color": "#2a3f5f"
           }
          },
          "ternary": {
           "aaxis": {
            "gridcolor": "white",
            "linecolor": "white",
            "ticks": ""
           },
           "baxis": {
            "gridcolor": "white",
            "linecolor": "white",
            "ticks": ""
           },
           "bgcolor": "#E5ECF6",
           "caxis": {
            "gridcolor": "white",
            "linecolor": "white",
            "ticks": ""
           }
          },
          "title": {
           "x": 0.05
          },
          "xaxis": {
           "automargin": true,
           "gridcolor": "white",
           "linecolor": "white",
           "ticks": "",
           "title": {
            "standoff": 15
           },
           "zerolinecolor": "white",
           "zerolinewidth": 2
          },
          "yaxis": {
           "automargin": true,
           "gridcolor": "white",
           "linecolor": "white",
           "ticks": "",
           "title": {
            "standoff": 15
           },
           "zerolinecolor": "white",
           "zerolinewidth": 2
          }
         }
        },
        "title": {
         "font": {
          "color": "#4D5663"
         }
        },
        "xaxis": {
         "gridcolor": "#E1E5ED",
         "showgrid": true,
         "tickfont": {
          "color": "#4D5663"
         },
         "title": {
          "font": {
           "color": "#4D5663"
          },
          "text": ""
         },
         "zerolinecolor": "#E1E5ED"
        },
        "yaxis": {
         "gridcolor": "#E1E5ED",
         "showgrid": true,
         "tickfont": {
          "color": "#4D5663"
         },
         "title": {
          "font": {
           "color": "#4D5663"
          },
          "text": ""
         },
         "zerolinecolor": "#E1E5ED"
        }
       }
      },
      "text/html": [
       "<div>                            <div id=\"26951b5d-2173-4abd-a30c-411c0b3f9f96\" class=\"plotly-graph-div\" style=\"height:525px; width:100%;\"></div>            <script type=\"text/javascript\">                require([\"plotly\"], function(Plotly) {                    window.PLOTLYENV=window.PLOTLYENV || {};\n",
       "                    window.PLOTLYENV.BASE_URL='https://plot.ly';                                    if (document.getElementById(\"26951b5d-2173-4abd-a30c-411c0b3f9f96\")) {                    Plotly.newPlot(                        \"26951b5d-2173-4abd-a30c-411c0b3f9f96\",                        [{\"histfunc\":\"count\",\"histnorm\":\"\",\"marker\":{\"color\":\"rgba(255, 153, 51, 1.0)\",\"line\":{\"color\":\"#4D5663\",\"width\":1.3}},\"name\":\"A\",\"opacity\":0.8,\"orientation\":\"v\",\"x\":[-0.10885847351151294,0.09968228043736554,-0.8641500448021835,0.38946228886209866,-0.7770036269217798,2.3588730184432016,1.562051288398869,0.07605439418663039,0.912717877662609,-0.5661466630732443,0.15027249585969116,-0.4556584761228636,0.7330115973669539,0.270546419853816,-0.5171511568557435,0.6144837230708565,-1.3075651835854845,-1.1219896050430447,0.05441883554658746,1.535619031172629,-0.9863215722815764,0.6961242561076794,0.08697726808705007,-0.057414641396003094,0.7335552092007928,0.5269636134982121,-0.47046371030295636,-0.9365373408183358,-0.02293781116985355,-0.6512104043803646,2.5508177224571607,-0.7665519295025828,-0.5778939635559637,-1.0108079345663405,0.5596080957499588,2.036755029958988,-0.11612807524088375,-0.14578115752350002,1.9809733239972844,0.20606800368987369,-1.4150543142095422,1.5171621691439114,1.789281156821119,1.0859845692218137,0.569850188094948,-0.5092600456498456,-0.5133673294741509,-0.17747214914436082,-0.28497893896678667,-1.017723548510392,-0.171222608370362,-0.6572538678650311,0.9974253025353275,0.15219540039653634,0.5866680040194782,-0.19001914914542503,0.5353419078118536,1.1152162652677877,2.97795797105388,0.9085279502252701,-0.17232731231989817,1.389245776868657,-0.5708394737976242,0.34436475178815107,-0.9150239338287431,0.5131055597150919,0.5031908634636201,2.238821334911018,-0.10669318171704228,0.7345420979543783,-2.062925100049065,-1.2413883423525092,-0.5724993827887654,0.859720954322044,1.1003071919413916,-0.471752236644702,0.46025542685963583,-0.1084369455556114,0.09639064705141714,-0.7616762580059623,-1.7826562298020405,-0.7257458029396603,-0.29848471990300596,0.2858439083232961,-0.3367202911240463,0.20527268466178267,0.36573323048382694,-0.578898295870351,1.6001728205820427,-1.4342738153944126,1.2548152560200398,-1.5076691281769783,1.3411368027344885,-0.27024403891496945,-1.4268485254400225,0.7432383970273235,-0.31907044797333006,0.036447356526887825,-0.8569238644208176,-0.5041947840868658],\"type\":\"histogram\"},{\"histfunc\":\"count\",\"histnorm\":\"\",\"marker\":{\"color\":\"rgba(55, 128, 191, 1.0)\",\"line\":{\"color\":\"#4D5663\",\"width\":1.3}},\"name\":\"B\",\"opacity\":0.8,\"orientation\":\"v\",\"x\":[-0.6607567515404839,0.6272057327377043,-0.29300459755897873,0.20396521190281927,-0.11254528632613671,1.175835792248741,-0.7377345445424521,0.356496022784465,1.3251418286139893,0.26885086019013144,1.122352095296499,0.24204159204449613,2.0123475931236077,0.5346441742217941,1.0238143940420046,0.8090796833083032,0.11313819918896648,2.24916865287664,0.012932222012098343,-0.40244432809040476,-0.2502753654633691,2.630557383226313,-0.7790771990625227,0.7355197860705898,-0.1943010347541226,1.2928782007154789,0.36572430645810655,-0.5392603452969593,-0.96023431045177,-0.09253815346977223,-0.4298824098705515,0.25425105887003596,-1.1674587129797283,-0.3840343408994587,1.3207712002551013,0.062356765784521456,0.9595537781702738,0.17240071462536052,-0.451261552754604,0.26033009506400173,-0.7193669753874455,1.3237640482815087,-0.27155167270699504,-0.19773330021703522,-0.07151638613211464,1.8903708416916005,-0.528035834561054,0.6244900423893583,-0.2651053906182809,1.5323114619010347,0.18001538721174082,0.9973476693237119,-1.58564522054993,1.1192253963894794,-0.5674695266246303,0.6634869383800137,0.2188382483231579,0.5690392046501117,-0.06603917493020449,-0.6105444992113863,1.736224515049627,1.8863963804057344,-2.0487797487038444,0.5047057902668708,-0.6634330645442947,-0.128018734829384,-1.0299738753476964,2.023938172106331,0.1957238535897606,0.14206388716721732,1.0228505986995695,-1.0652264255737482,0.6163051316586318,1.6022578249809882,-0.3526379835238936,-1.8418587223766436,-0.4754546562297881,-1.4657897646743254,1.291531251527738,0.6056778020888061,0.9618849334241207,-0.44070807412970214,0.6812198800439422,-0.48018367669432493,0.4450259781147967,2.1054135753292753,-0.47891017321267454,-0.11251171905452118,0.6272297098806351,0.29813117767436553,-0.9105125124581759,1.7637483257996116,0.49453904178321406,-0.09063675976922009,-1.2423412107676592,-0.24118324086440246,-0.019347818855389786,-0.7130858012841428,-1.2610100912832602,-0.31484580391977757],\"type\":\"histogram\"},{\"histfunc\":\"count\",\"histnorm\":\"\",\"marker\":{\"color\":\"rgba(50, 171, 96, 1.0)\",\"line\":{\"color\":\"#4D5663\",\"width\":1.3}},\"name\":\"C\",\"opacity\":0.8,\"orientation\":\"v\",\"x\":[-1.1850705897601521,0.3761853015697947,0.6110459988456458,-1.1768028229366025,-1.8791624168125693,0.7720022143913202,-0.0893252953640753,1.039617165143866,-1.1840500730866144,0.8321614602592408,-1.23455277623035,-0.45833727083862735,1.1220726165049657,-1.6993662515664683,-0.14563422452336208,1.3418892881012277,1.50209878924822,0.24571141525950582,0.05925381879943243,-0.27240713457746824,-1.4359134436838947,-0.1535578006726762,0.5498729377699436,0.24591207455672578,1.3805360456900502,0.3904135864126944,-0.13581271740313985,1.7919670799831404,-1.0691186588793753,0.8585148027138233,-1.5951986693599076,1.0672084944289593,-0.41400102595952526,0.5817627738163651,0.5463160836769827,0.6180931224205171,0.31803238575742915,-0.5322130273534613,-0.5751881023297809,0.11711464019563658,0.2897572354379959,1.5251213365214897,2.502241044697504,-1.0775812333428496,0.9486812060323532,-1.4647561857509215,-1.075799602815771,-1.2932427985412889,-2.2696972086862446,0.9265964698004169,1.3180662734154076,1.0018997845709618,0.9339443113262336,0.995991554991809,0.16810108485542855,-0.05498815547830166,0.6191963771853356,-0.6211415441654871,1.9225161963901454,1.109667351904907,-0.4935685586651885,0.18483082811965695,0.2809684300781559,0.47754509983688403,0.15121254491430586,0.6132749388640667,2.129186436169313,1.0793866064312156,-0.4251155688010225,-0.2732289516473583,2.190233874337507,-1.4633556292414922,0.5464474728462337,1.8843275926183498,0.5073523203734914,0.11719873637408908,-1.772536247751536,0.37253201209491427,0.8550798325709544,0.6108288171710052,0.31144479658230606,0.04129963382415682,-0.5721269602866565,-1.1644479731019926,-0.5732634166989471,0.41703832982192696,1.520779059735967,-0.8074484829813724,-0.47513098812332116,0.24978738197180275,0.1669708471442198,-0.13695759456345732,1.085459636883732,1.6927949085644212,-0.3703933092097937,2.9867423940495583,-0.18109202888901874,-0.2469751779320185,-0.34396759900202334,1.3071589983054204],\"type\":\"histogram\"},{\"histfunc\":\"count\",\"histnorm\":\"\",\"marker\":{\"color\":\"rgba(128, 0, 128, 1.0)\",\"line\":{\"color\":\"#4D5663\",\"width\":1.3}},\"name\":\"D\",\"opacity\":0.8,\"orientation\":\"v\",\"x\":[0.5899582634645533,1.5808432661410567,0.34561449097685376,0.2728656800844236,-1.447961115065258,2.0665441538512974,1.536102871801085,0.925032550192467,-0.6345781121065829,-0.3601240464778806,-0.7999400098410929,-0.15470059858329765,-0.43483484592130944,-0.35454673677398074,0.6447744653449229,-0.37007267827112644,-0.5137884466671174,-0.16163190054914361,0.7804774982243313,-1.9233162478024974,1.5642145003662575,0.4173143135774519,-0.4813792530028488,0.3346325722058072,0.09674982622146834,-0.1756837333246901,0.9544719059402534,0.13931926641473943,0.4758251660525391,0.2602469136562438,-0.2533319926943123,1.763038543212188,-0.1271926477483187,0.6107037143379589,0.3267620585475331,0.9771151901287334,-1.775591993226835,0.4553932067832489,-1.1869869920003338,-0.30170251482254495,-1.1015240044814973,1.4217312129727295,-0.6664042443191304,-0.8617929997942941,1.7151107629039979,-0.38786790728419923,-1.5151051299366691,0.7109736871683429,-0.5208399147575378,-1.4862278327670115,-0.597605169046876,1.2426494433850057,1.7304577081528194,2.0059871958872844,-0.11974170867041577,-0.427998606749268,-0.07537287026650681,-0.87845548354086,0.9573479344815539,0.8071827997132053,-1.5476415134654689,-0.09402161523384257,-1.3154429788134763,0.738515850070673,0.007230389499876916,-0.2777361675822311,0.8153060852341795,-0.7079225037795478,-1.1383801646246323,1.0920744651831522,-0.030415729816667392,0.38203906400697824,0.30736386123118487,0.7078437185790925,-1.3004929568091852,-0.3245924863618333,-1.587873057747594,-0.2517083843878335,1.1701108332499774,-0.03767379337014992,2.717620846113011,-0.7729456312276415,-0.45856923111916303,1.1541410223539503,1.1436737062336637,-0.28200407130511806,-0.069434709469561,0.5707763364559357,-0.5984913824920475,-2.228669894005689,-0.784083983517904,0.1751517676737111,0.1863769684271199,0.5051819931537751,0.504800375706003,0.22804895723717042,0.7626066697825327,-1.316304447931998,-1.5186647281420522,-1.5806817324477638],\"type\":\"histogram\"}],                        {\"barmode\":\"overlay\",\"legend\":{\"bgcolor\":\"#F5F6F9\",\"font\":{\"color\":\"#4D5663\"}},\"paper_bgcolor\":\"#F5F6F9\",\"plot_bgcolor\":\"#F5F6F9\",\"template\":{\"data\":{\"barpolar\":[{\"marker\":{\"line\":{\"color\":\"#E5ECF6\",\"width\":0.5},\"pattern\":{\"fillmode\":\"overlay\",\"size\":10,\"solidity\":0.2}},\"type\":\"barpolar\"}],\"bar\":[{\"error_x\":{\"color\":\"#2a3f5f\"},\"error_y\":{\"color\":\"#2a3f5f\"},\"marker\":{\"line\":{\"color\":\"#E5ECF6\",\"width\":0.5},\"pattern\":{\"fillmode\":\"overlay\",\"size\":10,\"solidity\":0.2}},\"type\":\"bar\"}],\"carpet\":[{\"aaxis\":{\"endlinecolor\":\"#2a3f5f\",\"gridcolor\":\"white\",\"linecolor\":\"white\",\"minorgridcolor\":\"white\",\"startlinecolor\":\"#2a3f5f\"},\"baxis\":{\"endlinecolor\":\"#2a3f5f\",\"gridcolor\":\"white\",\"linecolor\":\"white\",\"minorgridcolor\":\"white\",\"startlinecolor\":\"#2a3f5f\"},\"type\":\"carpet\"}],\"choropleth\":[{\"colorbar\":{\"outlinewidth\":0,\"ticks\":\"\"},\"type\":\"choropleth\"}],\"contourcarpet\":[{\"colorbar\":{\"outlinewidth\":0,\"ticks\":\"\"},\"type\":\"contourcarpet\"}],\"contour\":[{\"colorbar\":{\"outlinewidth\":0,\"ticks\":\"\"},\"colorscale\":[[0.0,\"#0d0887\"],[0.1111111111111111,\"#46039f\"],[0.2222222222222222,\"#7201a8\"],[0.3333333333333333,\"#9c179e\"],[0.4444444444444444,\"#bd3786\"],[0.5555555555555556,\"#d8576b\"],[0.6666666666666666,\"#ed7953\"],[0.7777777777777778,\"#fb9f3a\"],[0.8888888888888888,\"#fdca26\"],[1.0,\"#f0f921\"]],\"type\":\"contour\"}],\"heatmapgl\":[{\"colorbar\":{\"outlinewidth\":0,\"ticks\":\"\"},\"colorscale\":[[0.0,\"#0d0887\"],[0.1111111111111111,\"#46039f\"],[0.2222222222222222,\"#7201a8\"],[0.3333333333333333,\"#9c179e\"],[0.4444444444444444,\"#bd3786\"],[0.5555555555555556,\"#d8576b\"],[0.6666666666666666,\"#ed7953\"],[0.7777777777777778,\"#fb9f3a\"],[0.8888888888888888,\"#fdca26\"],[1.0,\"#f0f921\"]],\"type\":\"heatmapgl\"}],\"heatmap\":[{\"colorbar\":{\"outlinewidth\":0,\"ticks\":\"\"},\"colorscale\":[[0.0,\"#0d0887\"],[0.1111111111111111,\"#46039f\"],[0.2222222222222222,\"#7201a8\"],[0.3333333333333333,\"#9c179e\"],[0.4444444444444444,\"#bd3786\"],[0.5555555555555556,\"#d8576b\"],[0.6666666666666666,\"#ed7953\"],[0.7777777777777778,\"#fb9f3a\"],[0.8888888888888888,\"#fdca26\"],[1.0,\"#f0f921\"]],\"type\":\"heatmap\"}],\"histogram2dcontour\":[{\"colorbar\":{\"outlinewidth\":0,\"ticks\":\"\"},\"colorscale\":[[0.0,\"#0d0887\"],[0.1111111111111111,\"#46039f\"],[0.2222222222222222,\"#7201a8\"],[0.3333333333333333,\"#9c179e\"],[0.4444444444444444,\"#bd3786\"],[0.5555555555555556,\"#d8576b\"],[0.6666666666666666,\"#ed7953\"],[0.7777777777777778,\"#fb9f3a\"],[0.8888888888888888,\"#fdca26\"],[1.0,\"#f0f921\"]],\"type\":\"histogram2dcontour\"}],\"histogram2d\":[{\"colorbar\":{\"outlinewidth\":0,\"ticks\":\"\"},\"colorscale\":[[0.0,\"#0d0887\"],[0.1111111111111111,\"#46039f\"],[0.2222222222222222,\"#7201a8\"],[0.3333333333333333,\"#9c179e\"],[0.4444444444444444,\"#bd3786\"],[0.5555555555555556,\"#d8576b\"],[0.6666666666666666,\"#ed7953\"],[0.7777777777777778,\"#fb9f3a\"],[0.8888888888888888,\"#fdca26\"],[1.0,\"#f0f921\"]],\"type\":\"histogram2d\"}],\"histogram\":[{\"marker\":{\"pattern\":{\"fillmode\":\"overlay\",\"size\":10,\"solidity\":0.2}},\"type\":\"histogram\"}],\"mesh3d\":[{\"colorbar\":{\"outlinewidth\":0,\"ticks\":\"\"},\"type\":\"mesh3d\"}],\"parcoords\":[{\"line\":{\"colorbar\":{\"outlinewidth\":0,\"ticks\":\"\"}},\"type\":\"parcoords\"}],\"pie\":[{\"automargin\":true,\"type\":\"pie\"}],\"scatter3d\":[{\"line\":{\"colorbar\":{\"outlinewidth\":0,\"ticks\":\"\"}},\"marker\":{\"colorbar\":{\"outlinewidth\":0,\"ticks\":\"\"}},\"type\":\"scatter3d\"}],\"scattercarpet\":[{\"marker\":{\"colorbar\":{\"outlinewidth\":0,\"ticks\":\"\"}},\"type\":\"scattercarpet\"}],\"scattergeo\":[{\"marker\":{\"colorbar\":{\"outlinewidth\":0,\"ticks\":\"\"}},\"type\":\"scattergeo\"}],\"scattergl\":[{\"marker\":{\"colorbar\":{\"outlinewidth\":0,\"ticks\":\"\"}},\"type\":\"scattergl\"}],\"scattermapbox\":[{\"marker\":{\"colorbar\":{\"outlinewidth\":0,\"ticks\":\"\"}},\"type\":\"scattermapbox\"}],\"scatterpolargl\":[{\"marker\":{\"colorbar\":{\"outlinewidth\":0,\"ticks\":\"\"}},\"type\":\"scatterpolargl\"}],\"scatterpolar\":[{\"marker\":{\"colorbar\":{\"outlinewidth\":0,\"ticks\":\"\"}},\"type\":\"scatterpolar\"}],\"scatter\":[{\"fillpattern\":{\"fillmode\":\"overlay\",\"size\":10,\"solidity\":0.2},\"type\":\"scatter\"}],\"scatterternary\":[{\"marker\":{\"colorbar\":{\"outlinewidth\":0,\"ticks\":\"\"}},\"type\":\"scatterternary\"}],\"surface\":[{\"colorbar\":{\"outlinewidth\":0,\"ticks\":\"\"},\"colorscale\":[[0.0,\"#0d0887\"],[0.1111111111111111,\"#46039f\"],[0.2222222222222222,\"#7201a8\"],[0.3333333333333333,\"#9c179e\"],[0.4444444444444444,\"#bd3786\"],[0.5555555555555556,\"#d8576b\"],[0.6666666666666666,\"#ed7953\"],[0.7777777777777778,\"#fb9f3a\"],[0.8888888888888888,\"#fdca26\"],[1.0,\"#f0f921\"]],\"type\":\"surface\"}],\"table\":[{\"cells\":{\"fill\":{\"color\":\"#EBF0F8\"},\"line\":{\"color\":\"white\"}},\"header\":{\"fill\":{\"color\":\"#C8D4E3\"},\"line\":{\"color\":\"white\"}},\"type\":\"table\"}]},\"layout\":{\"annotationdefaults\":{\"arrowcolor\":\"#2a3f5f\",\"arrowhead\":0,\"arrowwidth\":1},\"autotypenumbers\":\"strict\",\"coloraxis\":{\"colorbar\":{\"outlinewidth\":0,\"ticks\":\"\"}},\"colorscale\":{\"diverging\":[[0,\"#8e0152\"],[0.1,\"#c51b7d\"],[0.2,\"#de77ae\"],[0.3,\"#f1b6da\"],[0.4,\"#fde0ef\"],[0.5,\"#f7f7f7\"],[0.6,\"#e6f5d0\"],[0.7,\"#b8e186\"],[0.8,\"#7fbc41\"],[0.9,\"#4d9221\"],[1,\"#276419\"]],\"sequential\":[[0.0,\"#0d0887\"],[0.1111111111111111,\"#46039f\"],[0.2222222222222222,\"#7201a8\"],[0.3333333333333333,\"#9c179e\"],[0.4444444444444444,\"#bd3786\"],[0.5555555555555556,\"#d8576b\"],[0.6666666666666666,\"#ed7953\"],[0.7777777777777778,\"#fb9f3a\"],[0.8888888888888888,\"#fdca26\"],[1.0,\"#f0f921\"]],\"sequentialminus\":[[0.0,\"#0d0887\"],[0.1111111111111111,\"#46039f\"],[0.2222222222222222,\"#7201a8\"],[0.3333333333333333,\"#9c179e\"],[0.4444444444444444,\"#bd3786\"],[0.5555555555555556,\"#d8576b\"],[0.6666666666666666,\"#ed7953\"],[0.7777777777777778,\"#fb9f3a\"],[0.8888888888888888,\"#fdca26\"],[1.0,\"#f0f921\"]]},\"colorway\":[\"#636efa\",\"#EF553B\",\"#00cc96\",\"#ab63fa\",\"#FFA15A\",\"#19d3f3\",\"#FF6692\",\"#B6E880\",\"#FF97FF\",\"#FECB52\"],\"font\":{\"color\":\"#2a3f5f\"},\"geo\":{\"bgcolor\":\"white\",\"lakecolor\":\"white\",\"landcolor\":\"#E5ECF6\",\"showlakes\":true,\"showland\":true,\"subunitcolor\":\"white\"},\"hoverlabel\":{\"align\":\"left\"},\"hovermode\":\"closest\",\"mapbox\":{\"style\":\"light\"},\"paper_bgcolor\":\"white\",\"plot_bgcolor\":\"#E5ECF6\",\"polar\":{\"angularaxis\":{\"gridcolor\":\"white\",\"linecolor\":\"white\",\"ticks\":\"\"},\"bgcolor\":\"#E5ECF6\",\"radialaxis\":{\"gridcolor\":\"white\",\"linecolor\":\"white\",\"ticks\":\"\"}},\"scene\":{\"xaxis\":{\"backgroundcolor\":\"#E5ECF6\",\"gridcolor\":\"white\",\"gridwidth\":2,\"linecolor\":\"white\",\"showbackground\":true,\"ticks\":\"\",\"zerolinecolor\":\"white\"},\"yaxis\":{\"backgroundcolor\":\"#E5ECF6\",\"gridcolor\":\"white\",\"gridwidth\":2,\"linecolor\":\"white\",\"showbackground\":true,\"ticks\":\"\",\"zerolinecolor\":\"white\"},\"zaxis\":{\"backgroundcolor\":\"#E5ECF6\",\"gridcolor\":\"white\",\"gridwidth\":2,\"linecolor\":\"white\",\"showbackground\":true,\"ticks\":\"\",\"zerolinecolor\":\"white\"}},\"shapedefaults\":{\"line\":{\"color\":\"#2a3f5f\"}},\"ternary\":{\"aaxis\":{\"gridcolor\":\"white\",\"linecolor\":\"white\",\"ticks\":\"\"},\"baxis\":{\"gridcolor\":\"white\",\"linecolor\":\"white\",\"ticks\":\"\"},\"bgcolor\":\"#E5ECF6\",\"caxis\":{\"gridcolor\":\"white\",\"linecolor\":\"white\",\"ticks\":\"\"}},\"title\":{\"x\":0.05},\"xaxis\":{\"automargin\":true,\"gridcolor\":\"white\",\"linecolor\":\"white\",\"ticks\":\"\",\"title\":{\"standoff\":15},\"zerolinecolor\":\"white\",\"zerolinewidth\":2},\"yaxis\":{\"automargin\":true,\"gridcolor\":\"white\",\"linecolor\":\"white\",\"ticks\":\"\",\"title\":{\"standoff\":15},\"zerolinecolor\":\"white\",\"zerolinewidth\":2}}},\"title\":{\"font\":{\"color\":\"#4D5663\"}},\"xaxis\":{\"gridcolor\":\"#E1E5ED\",\"showgrid\":true,\"tickfont\":{\"color\":\"#4D5663\"},\"title\":{\"font\":{\"color\":\"#4D5663\"},\"text\":\"\"},\"zerolinecolor\":\"#E1E5ED\"},\"yaxis\":{\"gridcolor\":\"#E1E5ED\",\"showgrid\":true,\"tickfont\":{\"color\":\"#4D5663\"},\"title\":{\"font\":{\"color\":\"#4D5663\"},\"text\":\"\"},\"zerolinecolor\":\"#E1E5ED\"}},                        {\"showLink\": true, \"linkText\": \"Export to plot.ly\", \"plotlyServerURL\": \"https://plot.ly\", \"responsive\": true}                    ).then(function(){\n",
       "                            \n",
       "var gd = document.getElementById('26951b5d-2173-4abd-a30c-411c0b3f9f96');\n",
       "var x = new MutationObserver(function (mutations, observer) {{\n",
       "        var display = window.getComputedStyle(gd).display;\n",
       "        if (!display || display === 'none') {{\n",
       "            console.log([gd, 'removed!']);\n",
       "            Plotly.purge(gd);\n",
       "            observer.disconnect();\n",
       "        }}\n",
       "}});\n",
       "\n",
       "// Listen for the removal of the full notebook cells\n",
       "var notebookContainer = gd.closest('#notebook-container');\n",
       "if (notebookContainer) {{\n",
       "    x.observe(notebookContainer, {childList: true});\n",
       "}}\n",
       "\n",
       "// Listen for the clearing of the current output cell\n",
       "var outputEl = gd.closest('.output');\n",
       "if (outputEl) {{\n",
       "    x.observe(outputEl, {childList: true});\n",
       "}}\n",
       "\n",
       "                        })                };                });            </script>        </div>"
      ]
     },
     "metadata": {},
     "output_type": "display_data"
    }
   ],
   "source": [
    "df.iplot(kind = 'hist')"
   ]
  },
  {
   "cell_type": "code",
   "execution_count": 32,
   "metadata": {},
   "outputs": [
    {
     "name": "stderr",
     "output_type": "stream",
     "text": [
      "c:\\Users\\Hydra\\anaconda3\\lib\\site-packages\\cufflinks\\plotlytools.py:849: FutureWarning:\n",
      "\n",
      "The pandas.np module is deprecated and will be removed from pandas in a future version. Import numpy directly instead.\n",
      "\n",
      "c:\\Users\\Hydra\\anaconda3\\lib\\site-packages\\cufflinks\\plotlytools.py:850: FutureWarning:\n",
      "\n",
      "The pandas.np module is deprecated and will be removed from pandas in a future version. Import numpy directly instead.\n",
      "\n"
     ]
    },
    {
     "data": {
      "application/vnd.plotly.v1+json": {
       "config": {
        "linkText": "Export to plot.ly",
        "plotlyServerURL": "https://plot.ly",
        "showLink": true
       },
       "data": [
        {
         "line": {
          "color": "rgba(255, 153, 51, 1.0)",
          "dash": "solid",
          "shape": "linear",
          "width": 1.3
         },
         "mode": "lines",
         "name": "A",
         "text": "",
         "type": "scatter",
         "x": [
          0,
          1,
          2,
          3,
          4,
          5,
          6,
          7,
          8,
          9,
          10,
          11,
          12,
          13,
          14,
          15,
          16,
          17,
          18,
          19,
          20,
          21,
          22,
          23,
          24,
          25,
          26,
          27,
          28,
          29,
          30,
          31,
          32,
          33,
          34,
          35,
          36,
          37,
          38,
          39,
          40,
          41,
          42,
          43,
          44,
          45,
          46,
          47,
          48,
          49,
          50,
          51,
          52,
          53,
          54,
          55,
          56,
          57,
          58,
          59,
          60,
          61,
          62,
          63,
          64,
          65,
          66,
          67,
          68,
          69,
          70,
          71,
          72,
          73,
          74,
          75,
          76,
          77,
          78,
          79,
          80,
          81,
          82,
          83,
          84,
          85,
          86,
          87,
          88,
          89,
          90,
          91,
          92,
          93,
          94,
          95,
          96,
          97,
          98,
          99
         ],
         "y": [
          -0.10885847351151294,
          0.09968228043736554,
          -0.8641500448021835,
          0.38946228886209866,
          -0.7770036269217798,
          2.3588730184432016,
          1.562051288398869,
          0.07605439418663039,
          0.912717877662609,
          -0.5661466630732443,
          0.15027249585969116,
          -0.4556584761228636,
          0.7330115973669539,
          0.270546419853816,
          -0.5171511568557435,
          0.6144837230708565,
          -1.3075651835854845,
          -1.1219896050430447,
          0.05441883554658746,
          1.535619031172629,
          -0.9863215722815764,
          0.6961242561076794,
          0.08697726808705007,
          -0.057414641396003094,
          0.7335552092007928,
          0.5269636134982121,
          -0.47046371030295636,
          -0.9365373408183358,
          -0.02293781116985355,
          -0.6512104043803646,
          2.5508177224571607,
          -0.7665519295025828,
          -0.5778939635559637,
          -1.0108079345663405,
          0.5596080957499588,
          2.036755029958988,
          -0.11612807524088375,
          -0.14578115752350002,
          1.9809733239972844,
          0.20606800368987369,
          -1.4150543142095422,
          1.5171621691439114,
          1.789281156821119,
          1.0859845692218137,
          0.569850188094948,
          -0.5092600456498456,
          -0.5133673294741509,
          -0.17747214914436082,
          -0.28497893896678667,
          -1.017723548510392,
          -0.171222608370362,
          -0.6572538678650311,
          0.9974253025353275,
          0.15219540039653634,
          0.5866680040194782,
          -0.19001914914542503,
          0.5353419078118536,
          1.1152162652677877,
          2.97795797105388,
          0.9085279502252701,
          -0.17232731231989817,
          1.389245776868657,
          -0.5708394737976242,
          0.34436475178815107,
          -0.9150239338287431,
          0.5131055597150919,
          0.5031908634636201,
          2.238821334911018,
          -0.10669318171704228,
          0.7345420979543783,
          -2.062925100049065,
          -1.2413883423525092,
          -0.5724993827887654,
          0.859720954322044,
          1.1003071919413916,
          -0.471752236644702,
          0.46025542685963583,
          -0.1084369455556114,
          0.09639064705141714,
          -0.7616762580059623,
          -1.7826562298020405,
          -0.7257458029396603,
          -0.29848471990300596,
          0.2858439083232961,
          -0.3367202911240463,
          0.20527268466178267,
          0.36573323048382694,
          -0.578898295870351,
          1.6001728205820427,
          -1.4342738153944126,
          1.2548152560200398,
          -1.5076691281769783,
          1.3411368027344885,
          -0.27024403891496945,
          -1.4268485254400225,
          0.7432383970273235,
          -0.31907044797333006,
          0.036447356526887825,
          -0.8569238644208176,
          -0.5041947840868658
         ]
        },
        {
         "line": {
          "color": "rgba(55, 128, 191, 1.0)",
          "dash": "solid",
          "shape": "linear",
          "width": 1.3
         },
         "mode": "lines",
         "name": "B",
         "text": "",
         "type": "scatter",
         "x": [
          0,
          1,
          2,
          3,
          4,
          5,
          6,
          7,
          8,
          9,
          10,
          11,
          12,
          13,
          14,
          15,
          16,
          17,
          18,
          19,
          20,
          21,
          22,
          23,
          24,
          25,
          26,
          27,
          28,
          29,
          30,
          31,
          32,
          33,
          34,
          35,
          36,
          37,
          38,
          39,
          40,
          41,
          42,
          43,
          44,
          45,
          46,
          47,
          48,
          49,
          50,
          51,
          52,
          53,
          54,
          55,
          56,
          57,
          58,
          59,
          60,
          61,
          62,
          63,
          64,
          65,
          66,
          67,
          68,
          69,
          70,
          71,
          72,
          73,
          74,
          75,
          76,
          77,
          78,
          79,
          80,
          81,
          82,
          83,
          84,
          85,
          86,
          87,
          88,
          89,
          90,
          91,
          92,
          93,
          94,
          95,
          96,
          97,
          98,
          99
         ],
         "y": [
          -0.6607567515404839,
          0.6272057327377043,
          -0.29300459755897873,
          0.20396521190281927,
          -0.11254528632613671,
          1.175835792248741,
          -0.7377345445424521,
          0.356496022784465,
          1.3251418286139893,
          0.26885086019013144,
          1.122352095296499,
          0.24204159204449613,
          2.0123475931236077,
          0.5346441742217941,
          1.0238143940420046,
          0.8090796833083032,
          0.11313819918896648,
          2.24916865287664,
          0.012932222012098343,
          -0.40244432809040476,
          -0.2502753654633691,
          2.630557383226313,
          -0.7790771990625227,
          0.7355197860705898,
          -0.1943010347541226,
          1.2928782007154789,
          0.36572430645810655,
          -0.5392603452969593,
          -0.96023431045177,
          -0.09253815346977223,
          -0.4298824098705515,
          0.25425105887003596,
          -1.1674587129797283,
          -0.3840343408994587,
          1.3207712002551013,
          0.062356765784521456,
          0.9595537781702738,
          0.17240071462536052,
          -0.451261552754604,
          0.26033009506400173,
          -0.7193669753874455,
          1.3237640482815087,
          -0.27155167270699504,
          -0.19773330021703522,
          -0.07151638613211464,
          1.8903708416916005,
          -0.528035834561054,
          0.6244900423893583,
          -0.2651053906182809,
          1.5323114619010347,
          0.18001538721174082,
          0.9973476693237119,
          -1.58564522054993,
          1.1192253963894794,
          -0.5674695266246303,
          0.6634869383800137,
          0.2188382483231579,
          0.5690392046501117,
          -0.06603917493020449,
          -0.6105444992113863,
          1.736224515049627,
          1.8863963804057344,
          -2.0487797487038444,
          0.5047057902668708,
          -0.6634330645442947,
          -0.128018734829384,
          -1.0299738753476964,
          2.023938172106331,
          0.1957238535897606,
          0.14206388716721732,
          1.0228505986995695,
          -1.0652264255737482,
          0.6163051316586318,
          1.6022578249809882,
          -0.3526379835238936,
          -1.8418587223766436,
          -0.4754546562297881,
          -1.4657897646743254,
          1.291531251527738,
          0.6056778020888061,
          0.9618849334241207,
          -0.44070807412970214,
          0.6812198800439422,
          -0.48018367669432493,
          0.4450259781147967,
          2.1054135753292753,
          -0.47891017321267454,
          -0.11251171905452118,
          0.6272297098806351,
          0.29813117767436553,
          -0.9105125124581759,
          1.7637483257996116,
          0.49453904178321406,
          -0.09063675976922009,
          -1.2423412107676592,
          -0.24118324086440246,
          -0.019347818855389786,
          -0.7130858012841428,
          -1.2610100912832602,
          -0.31484580391977757
         ]
        },
        {
         "connectgaps": false,
         "fill": "tozeroy",
         "line": {
          "color": "green",
          "dash": "solid",
          "shape": "linear",
          "width": 0.5
         },
         "mode": "lines",
         "name": "Spread",
         "showlegend": false,
         "type": "scatter",
         "x": [
          0,
          1,
          2,
          3,
          4,
          5,
          6,
          7,
          8,
          9,
          10,
          11,
          12,
          13,
          14,
          15,
          16,
          17,
          18,
          19,
          20,
          21,
          22,
          23,
          24,
          25,
          26,
          27,
          28,
          29,
          30,
          31,
          32,
          33,
          34,
          35,
          36,
          37,
          38,
          39,
          40,
          41,
          42,
          43,
          44,
          45,
          46,
          47,
          48,
          49,
          50,
          51,
          52,
          53,
          54,
          55,
          56,
          57,
          58,
          59,
          60,
          61,
          62,
          63,
          64,
          65,
          66,
          67,
          68,
          69,
          70,
          71,
          72,
          73,
          74,
          75,
          76,
          77,
          78,
          79,
          80,
          81,
          82,
          83,
          84,
          85,
          86,
          87,
          88,
          89,
          90,
          91,
          92,
          93,
          94,
          95,
          96,
          97,
          98,
          99
         ],
         "xaxis": "x2",
         "y": [
          0.551898278028971,
          "",
          "",
          0.1854970769592794,
          "",
          1.1830372261944606,
          2.299785832941321,
          "",
          "",
          "",
          "",
          "",
          "",
          "",
          "",
          "",
          "",
          "",
          0.04148661353448912,
          1.9380633592630336,
          "",
          "",
          0.8660544671495728,
          "",
          0.9278562439549154,
          "",
          "",
          "",
          0.9372964992819164,
          "",
          2.980700132327712,
          "",
          0.5895647494237646,
          "",
          "",
          1.9743982641744666,
          "",
          "",
          2.432234876751888,
          "",
          "",
          0.1933981208624027,
          2.060832829528114,
          1.283717869438849,
          0.6413665742270627,
          "",
          0.014668505086903094,
          "",
          "",
          "",
          "",
          "",
          2.5830705230852575,
          "",
          1.1541375306441086,
          "",
          0.31650365948869574,
          0.546177060617676,
          3.0439971459840844,
          1.5190724494366563,
          "",
          "",
          1.4779402749062203,
          "",
          "",
          0.6411242945444758,
          1.5331647388113163,
          0.214883162804687,
          "",
          0.592478210787161,
          "",
          "",
          "",
          "",
          1.4529451754652851,
          1.3701064857319416,
          0.9357100830894239,
          1.357352819118714,
          "",
          "",
          "",
          "",
          "",
          0.766027585017621,
          "",
          "",
          0.8446434036965015,
          "",
          0.9729431107014076,
          "",
          2.1653277684782157,
          "",
          0.8465977609512745,
          "",
          "",
          0.984421637891726,
          "",
          0.7495331578110306,
          0.40408622686244267,
          ""
         ],
         "yaxis": "y2"
        },
        {
         "connectgaps": false,
         "fill": "tozeroy",
         "line": {
          "color": "red",
          "dash": "solid",
          "shape": "linear",
          "width": 0.5
         },
         "mode": "lines",
         "name": "Spread",
         "showlegend": false,
         "type": "scatter",
         "x": [
          0,
          1,
          2,
          3,
          4,
          5,
          6,
          7,
          8,
          9,
          10,
          11,
          12,
          13,
          14,
          15,
          16,
          17,
          18,
          19,
          20,
          21,
          22,
          23,
          24,
          25,
          26,
          27,
          28,
          29,
          30,
          31,
          32,
          33,
          34,
          35,
          36,
          37,
          38,
          39,
          40,
          41,
          42,
          43,
          44,
          45,
          46,
          47,
          48,
          49,
          50,
          51,
          52,
          53,
          54,
          55,
          56,
          57,
          58,
          59,
          60,
          61,
          62,
          63,
          64,
          65,
          66,
          67,
          68,
          69,
          70,
          71,
          72,
          73,
          74,
          75,
          76,
          77,
          78,
          79,
          80,
          81,
          82,
          83,
          84,
          85,
          86,
          87,
          88,
          89,
          90,
          91,
          92,
          93,
          94,
          95,
          96,
          97,
          98,
          99
         ],
         "xaxis": "x2",
         "y": [
          "",
          -0.5275234523003387,
          -0.5711454472432047,
          "",
          -0.6644583405956431,
          "",
          "",
          -0.2804416285978346,
          -0.4124239509513803,
          -0.8349975232633757,
          -0.9720795994368078,
          -0.6977000681673597,
          -1.2793359957566537,
          -0.2640977543679781,
          -1.5409655508977482,
          -0.19459596023744663,
          -1.4207033827744509,
          -3.3711582579196846,
          "",
          "",
          -0.7360462068182072,
          -1.9344331271186337,
          "",
          -0.7929344274665928,
          "",
          -0.7659145872172668,
          -0.8361880167610629,
          -0.3972769955213765,
          "",
          -0.5586722509105924,
          "",
          -1.0208029883726186,
          "",
          -0.6267735936668819,
          -0.7611631045051425,
          "",
          -1.0756818534111576,
          -0.3181818721488605,
          "",
          -0.054262091374128046,
          -0.6956873388220967,
          "",
          "",
          "",
          "",
          -2.3996308873414463,
          "",
          -0.8019621915337192,
          -0.019873548348505743,
          -2.5500350104114267,
          -0.3512379955821028,
          -1.654601537188743,
          "",
          -0.967029995992943,
          "",
          -0.8535060875254388,
          "",
          "",
          "",
          "",
          -1.908551827369525,
          -0.4971506035370774,
          "",
          -0.16034103847871972,
          -0.2515908692844484,
          "",
          "",
          "",
          -0.30241703530680286,
          "",
          -3.0857756987486344,
          -0.17616191677876092,
          -1.1888045144473973,
          -0.7425368706589442,
          "",
          "",
          "",
          "",
          -1.1951406044763209,
          -1.3673540600947685,
          -2.7445411632261614,
          -0.28503772880995815,
          -0.9797045999469481,
          "",
          -0.781746269238843,
          -1.9001408906674926,
          "",
          -0.46638657681582985,
          "",
          -1.7324049930687782,
          "",
          -3.27141745397659,
          "",
          -0.17960727914574937,
          -0.18450731467236325,
          "",
          -0.2997226291179403,
          "",
          "",
          -0.18934898016708823
         ],
         "yaxis": "y2"
        }
       ],
       "layout": {
        "hovermode": "x",
        "legend": {
         "bgcolor": "#F5F6F9",
         "font": {
          "color": "#4D5663"
         }
        },
        "paper_bgcolor": "#F5F6F9",
        "plot_bgcolor": "#F5F6F9",
        "template": {
         "data": {
          "bar": [
           {
            "error_x": {
             "color": "#2a3f5f"
            },
            "error_y": {
             "color": "#2a3f5f"
            },
            "marker": {
             "line": {
              "color": "#E5ECF6",
              "width": 0.5
             },
             "pattern": {
              "fillmode": "overlay",
              "size": 10,
              "solidity": 0.2
             }
            },
            "type": "bar"
           }
          ],
          "barpolar": [
           {
            "marker": {
             "line": {
              "color": "#E5ECF6",
              "width": 0.5
             },
             "pattern": {
              "fillmode": "overlay",
              "size": 10,
              "solidity": 0.2
             }
            },
            "type": "barpolar"
           }
          ],
          "carpet": [
           {
            "aaxis": {
             "endlinecolor": "#2a3f5f",
             "gridcolor": "white",
             "linecolor": "white",
             "minorgridcolor": "white",
             "startlinecolor": "#2a3f5f"
            },
            "baxis": {
             "endlinecolor": "#2a3f5f",
             "gridcolor": "white",
             "linecolor": "white",
             "minorgridcolor": "white",
             "startlinecolor": "#2a3f5f"
            },
            "type": "carpet"
           }
          ],
          "choropleth": [
           {
            "colorbar": {
             "outlinewidth": 0,
             "ticks": ""
            },
            "type": "choropleth"
           }
          ],
          "contour": [
           {
            "colorbar": {
             "outlinewidth": 0,
             "ticks": ""
            },
            "colorscale": [
             [
              0,
              "#0d0887"
             ],
             [
              0.1111111111111111,
              "#46039f"
             ],
             [
              0.2222222222222222,
              "#7201a8"
             ],
             [
              0.3333333333333333,
              "#9c179e"
             ],
             [
              0.4444444444444444,
              "#bd3786"
             ],
             [
              0.5555555555555556,
              "#d8576b"
             ],
             [
              0.6666666666666666,
              "#ed7953"
             ],
             [
              0.7777777777777778,
              "#fb9f3a"
             ],
             [
              0.8888888888888888,
              "#fdca26"
             ],
             [
              1,
              "#f0f921"
             ]
            ],
            "type": "contour"
           }
          ],
          "contourcarpet": [
           {
            "colorbar": {
             "outlinewidth": 0,
             "ticks": ""
            },
            "type": "contourcarpet"
           }
          ],
          "heatmap": [
           {
            "colorbar": {
             "outlinewidth": 0,
             "ticks": ""
            },
            "colorscale": [
             [
              0,
              "#0d0887"
             ],
             [
              0.1111111111111111,
              "#46039f"
             ],
             [
              0.2222222222222222,
              "#7201a8"
             ],
             [
              0.3333333333333333,
              "#9c179e"
             ],
             [
              0.4444444444444444,
              "#bd3786"
             ],
             [
              0.5555555555555556,
              "#d8576b"
             ],
             [
              0.6666666666666666,
              "#ed7953"
             ],
             [
              0.7777777777777778,
              "#fb9f3a"
             ],
             [
              0.8888888888888888,
              "#fdca26"
             ],
             [
              1,
              "#f0f921"
             ]
            ],
            "type": "heatmap"
           }
          ],
          "heatmapgl": [
           {
            "colorbar": {
             "outlinewidth": 0,
             "ticks": ""
            },
            "colorscale": [
             [
              0,
              "#0d0887"
             ],
             [
              0.1111111111111111,
              "#46039f"
             ],
             [
              0.2222222222222222,
              "#7201a8"
             ],
             [
              0.3333333333333333,
              "#9c179e"
             ],
             [
              0.4444444444444444,
              "#bd3786"
             ],
             [
              0.5555555555555556,
              "#d8576b"
             ],
             [
              0.6666666666666666,
              "#ed7953"
             ],
             [
              0.7777777777777778,
              "#fb9f3a"
             ],
             [
              0.8888888888888888,
              "#fdca26"
             ],
             [
              1,
              "#f0f921"
             ]
            ],
            "type": "heatmapgl"
           }
          ],
          "histogram": [
           {
            "marker": {
             "pattern": {
              "fillmode": "overlay",
              "size": 10,
              "solidity": 0.2
             }
            },
            "type": "histogram"
           }
          ],
          "histogram2d": [
           {
            "colorbar": {
             "outlinewidth": 0,
             "ticks": ""
            },
            "colorscale": [
             [
              0,
              "#0d0887"
             ],
             [
              0.1111111111111111,
              "#46039f"
             ],
             [
              0.2222222222222222,
              "#7201a8"
             ],
             [
              0.3333333333333333,
              "#9c179e"
             ],
             [
              0.4444444444444444,
              "#bd3786"
             ],
             [
              0.5555555555555556,
              "#d8576b"
             ],
             [
              0.6666666666666666,
              "#ed7953"
             ],
             [
              0.7777777777777778,
              "#fb9f3a"
             ],
             [
              0.8888888888888888,
              "#fdca26"
             ],
             [
              1,
              "#f0f921"
             ]
            ],
            "type": "histogram2d"
           }
          ],
          "histogram2dcontour": [
           {
            "colorbar": {
             "outlinewidth": 0,
             "ticks": ""
            },
            "colorscale": [
             [
              0,
              "#0d0887"
             ],
             [
              0.1111111111111111,
              "#46039f"
             ],
             [
              0.2222222222222222,
              "#7201a8"
             ],
             [
              0.3333333333333333,
              "#9c179e"
             ],
             [
              0.4444444444444444,
              "#bd3786"
             ],
             [
              0.5555555555555556,
              "#d8576b"
             ],
             [
              0.6666666666666666,
              "#ed7953"
             ],
             [
              0.7777777777777778,
              "#fb9f3a"
             ],
             [
              0.8888888888888888,
              "#fdca26"
             ],
             [
              1,
              "#f0f921"
             ]
            ],
            "type": "histogram2dcontour"
           }
          ],
          "mesh3d": [
           {
            "colorbar": {
             "outlinewidth": 0,
             "ticks": ""
            },
            "type": "mesh3d"
           }
          ],
          "parcoords": [
           {
            "line": {
             "colorbar": {
              "outlinewidth": 0,
              "ticks": ""
             }
            },
            "type": "parcoords"
           }
          ],
          "pie": [
           {
            "automargin": true,
            "type": "pie"
           }
          ],
          "scatter": [
           {
            "fillpattern": {
             "fillmode": "overlay",
             "size": 10,
             "solidity": 0.2
            },
            "type": "scatter"
           }
          ],
          "scatter3d": [
           {
            "line": {
             "colorbar": {
              "outlinewidth": 0,
              "ticks": ""
             }
            },
            "marker": {
             "colorbar": {
              "outlinewidth": 0,
              "ticks": ""
             }
            },
            "type": "scatter3d"
           }
          ],
          "scattercarpet": [
           {
            "marker": {
             "colorbar": {
              "outlinewidth": 0,
              "ticks": ""
             }
            },
            "type": "scattercarpet"
           }
          ],
          "scattergeo": [
           {
            "marker": {
             "colorbar": {
              "outlinewidth": 0,
              "ticks": ""
             }
            },
            "type": "scattergeo"
           }
          ],
          "scattergl": [
           {
            "marker": {
             "colorbar": {
              "outlinewidth": 0,
              "ticks": ""
             }
            },
            "type": "scattergl"
           }
          ],
          "scattermapbox": [
           {
            "marker": {
             "colorbar": {
              "outlinewidth": 0,
              "ticks": ""
             }
            },
            "type": "scattermapbox"
           }
          ],
          "scatterpolar": [
           {
            "marker": {
             "colorbar": {
              "outlinewidth": 0,
              "ticks": ""
             }
            },
            "type": "scatterpolar"
           }
          ],
          "scatterpolargl": [
           {
            "marker": {
             "colorbar": {
              "outlinewidth": 0,
              "ticks": ""
             }
            },
            "type": "scatterpolargl"
           }
          ],
          "scatterternary": [
           {
            "marker": {
             "colorbar": {
              "outlinewidth": 0,
              "ticks": ""
             }
            },
            "type": "scatterternary"
           }
          ],
          "surface": [
           {
            "colorbar": {
             "outlinewidth": 0,
             "ticks": ""
            },
            "colorscale": [
             [
              0,
              "#0d0887"
             ],
             [
              0.1111111111111111,
              "#46039f"
             ],
             [
              0.2222222222222222,
              "#7201a8"
             ],
             [
              0.3333333333333333,
              "#9c179e"
             ],
             [
              0.4444444444444444,
              "#bd3786"
             ],
             [
              0.5555555555555556,
              "#d8576b"
             ],
             [
              0.6666666666666666,
              "#ed7953"
             ],
             [
              0.7777777777777778,
              "#fb9f3a"
             ],
             [
              0.8888888888888888,
              "#fdca26"
             ],
             [
              1,
              "#f0f921"
             ]
            ],
            "type": "surface"
           }
          ],
          "table": [
           {
            "cells": {
             "fill": {
              "color": "#EBF0F8"
             },
             "line": {
              "color": "white"
             }
            },
            "header": {
             "fill": {
              "color": "#C8D4E3"
             },
             "line": {
              "color": "white"
             }
            },
            "type": "table"
           }
          ]
         },
         "layout": {
          "annotationdefaults": {
           "arrowcolor": "#2a3f5f",
           "arrowhead": 0,
           "arrowwidth": 1
          },
          "autotypenumbers": "strict",
          "coloraxis": {
           "colorbar": {
            "outlinewidth": 0,
            "ticks": ""
           }
          },
          "colorscale": {
           "diverging": [
            [
             0,
             "#8e0152"
            ],
            [
             0.1,
             "#c51b7d"
            ],
            [
             0.2,
             "#de77ae"
            ],
            [
             0.3,
             "#f1b6da"
            ],
            [
             0.4,
             "#fde0ef"
            ],
            [
             0.5,
             "#f7f7f7"
            ],
            [
             0.6,
             "#e6f5d0"
            ],
            [
             0.7,
             "#b8e186"
            ],
            [
             0.8,
             "#7fbc41"
            ],
            [
             0.9,
             "#4d9221"
            ],
            [
             1,
             "#276419"
            ]
           ],
           "sequential": [
            [
             0,
             "#0d0887"
            ],
            [
             0.1111111111111111,
             "#46039f"
            ],
            [
             0.2222222222222222,
             "#7201a8"
            ],
            [
             0.3333333333333333,
             "#9c179e"
            ],
            [
             0.4444444444444444,
             "#bd3786"
            ],
            [
             0.5555555555555556,
             "#d8576b"
            ],
            [
             0.6666666666666666,
             "#ed7953"
            ],
            [
             0.7777777777777778,
             "#fb9f3a"
            ],
            [
             0.8888888888888888,
             "#fdca26"
            ],
            [
             1,
             "#f0f921"
            ]
           ],
           "sequentialminus": [
            [
             0,
             "#0d0887"
            ],
            [
             0.1111111111111111,
             "#46039f"
            ],
            [
             0.2222222222222222,
             "#7201a8"
            ],
            [
             0.3333333333333333,
             "#9c179e"
            ],
            [
             0.4444444444444444,
             "#bd3786"
            ],
            [
             0.5555555555555556,
             "#d8576b"
            ],
            [
             0.6666666666666666,
             "#ed7953"
            ],
            [
             0.7777777777777778,
             "#fb9f3a"
            ],
            [
             0.8888888888888888,
             "#fdca26"
            ],
            [
             1,
             "#f0f921"
            ]
           ]
          },
          "colorway": [
           "#636efa",
           "#EF553B",
           "#00cc96",
           "#ab63fa",
           "#FFA15A",
           "#19d3f3",
           "#FF6692",
           "#B6E880",
           "#FF97FF",
           "#FECB52"
          ],
          "font": {
           "color": "#2a3f5f"
          },
          "geo": {
           "bgcolor": "white",
           "lakecolor": "white",
           "landcolor": "#E5ECF6",
           "showlakes": true,
           "showland": true,
           "subunitcolor": "white"
          },
          "hoverlabel": {
           "align": "left"
          },
          "hovermode": "closest",
          "mapbox": {
           "style": "light"
          },
          "paper_bgcolor": "white",
          "plot_bgcolor": "#E5ECF6",
          "polar": {
           "angularaxis": {
            "gridcolor": "white",
            "linecolor": "white",
            "ticks": ""
           },
           "bgcolor": "#E5ECF6",
           "radialaxis": {
            "gridcolor": "white",
            "linecolor": "white",
            "ticks": ""
           }
          },
          "scene": {
           "xaxis": {
            "backgroundcolor": "#E5ECF6",
            "gridcolor": "white",
            "gridwidth": 2,
            "linecolor": "white",
            "showbackground": true,
            "ticks": "",
            "zerolinecolor": "white"
           },
           "yaxis": {
            "backgroundcolor": "#E5ECF6",
            "gridcolor": "white",
            "gridwidth": 2,
            "linecolor": "white",
            "showbackground": true,
            "ticks": "",
            "zerolinecolor": "white"
           },
           "zaxis": {
            "backgroundcolor": "#E5ECF6",
            "gridcolor": "white",
            "gridwidth": 2,
            "linecolor": "white",
            "showbackground": true,
            "ticks": "",
            "zerolinecolor": "white"
           }
          },
          "shapedefaults": {
           "line": {
            "color": "#2a3f5f"
           }
          },
          "ternary": {
           "aaxis": {
            "gridcolor": "white",
            "linecolor": "white",
            "ticks": ""
           },
           "baxis": {
            "gridcolor": "white",
            "linecolor": "white",
            "ticks": ""
           },
           "bgcolor": "#E5ECF6",
           "caxis": {
            "gridcolor": "white",
            "linecolor": "white",
            "ticks": ""
           }
          },
          "title": {
           "x": 0.05
          },
          "xaxis": {
           "automargin": true,
           "gridcolor": "white",
           "linecolor": "white",
           "ticks": "",
           "title": {
            "standoff": 15
           },
           "zerolinecolor": "white",
           "zerolinewidth": 2
          },
          "yaxis": {
           "automargin": true,
           "gridcolor": "white",
           "linecolor": "white",
           "ticks": "",
           "title": {
            "standoff": 15
           },
           "zerolinecolor": "white",
           "zerolinewidth": 2
          }
         }
        },
        "title": {
         "font": {
          "color": "#4D5663"
         }
        },
        "xaxis": {
         "gridcolor": "#E1E5ED",
         "showgrid": true,
         "tickfont": {
          "color": "#4D5663"
         },
         "title": {
          "font": {
           "color": "#4D5663"
          },
          "text": ""
         },
         "zerolinecolor": "#E1E5ED"
        },
        "xaxis2": {
         "anchor": "y2",
         "gridcolor": "#E1E5ED",
         "showgrid": true,
         "showticklabels": false,
         "tickfont": {
          "color": "#4D5663"
         },
         "title": {
          "font": {
           "color": "#4D5663"
          },
          "text": ""
         },
         "zerolinecolor": "#E1E5ED"
        },
        "yaxis": {
         "domain": [
          0.3,
          1
         ],
         "gridcolor": "#E1E5ED",
         "showgrid": true,
         "tickfont": {
          "color": "#4D5663"
         },
         "title": {
          "font": {
           "color": "#4D5663"
          },
          "text": ""
         },
         "zerolinecolor": "#E1E5ED"
        },
        "yaxis2": {
         "domain": [
          0,
          0.25
         ],
         "gridcolor": "#E1E5ED",
         "showgrid": true,
         "tickfont": {
          "color": "#4D5663"
         },
         "title": {
          "font": {
           "color": "#4D5663"
          },
          "text": "Spread"
         },
         "zerolinecolor": "#E1E5ED"
        }
       }
      },
      "text/html": [
       "<div>                            <div id=\"2b013350-1116-4ab0-b7b4-edc3e1df820b\" class=\"plotly-graph-div\" style=\"height:525px; width:100%;\"></div>            <script type=\"text/javascript\">                require([\"plotly\"], function(Plotly) {                    window.PLOTLYENV=window.PLOTLYENV || {};\n",
       "                    window.PLOTLYENV.BASE_URL='https://plot.ly';                                    if (document.getElementById(\"2b013350-1116-4ab0-b7b4-edc3e1df820b\")) {                    Plotly.newPlot(                        \"2b013350-1116-4ab0-b7b4-edc3e1df820b\",                        [{\"line\":{\"color\":\"rgba(255, 153, 51, 1.0)\",\"dash\":\"solid\",\"shape\":\"linear\",\"width\":1.3},\"mode\":\"lines\",\"name\":\"A\",\"text\":\"\",\"x\":[0,1,2,3,4,5,6,7,8,9,10,11,12,13,14,15,16,17,18,19,20,21,22,23,24,25,26,27,28,29,30,31,32,33,34,35,36,37,38,39,40,41,42,43,44,45,46,47,48,49,50,51,52,53,54,55,56,57,58,59,60,61,62,63,64,65,66,67,68,69,70,71,72,73,74,75,76,77,78,79,80,81,82,83,84,85,86,87,88,89,90,91,92,93,94,95,96,97,98,99],\"y\":[-0.10885847351151294,0.09968228043736554,-0.8641500448021835,0.38946228886209866,-0.7770036269217798,2.3588730184432016,1.562051288398869,0.07605439418663039,0.912717877662609,-0.5661466630732443,0.15027249585969116,-0.4556584761228636,0.7330115973669539,0.270546419853816,-0.5171511568557435,0.6144837230708565,-1.3075651835854845,-1.1219896050430447,0.05441883554658746,1.535619031172629,-0.9863215722815764,0.6961242561076794,0.08697726808705007,-0.057414641396003094,0.7335552092007928,0.5269636134982121,-0.47046371030295636,-0.9365373408183358,-0.02293781116985355,-0.6512104043803646,2.5508177224571607,-0.7665519295025828,-0.5778939635559637,-1.0108079345663405,0.5596080957499588,2.036755029958988,-0.11612807524088375,-0.14578115752350002,1.9809733239972844,0.20606800368987369,-1.4150543142095422,1.5171621691439114,1.789281156821119,1.0859845692218137,0.569850188094948,-0.5092600456498456,-0.5133673294741509,-0.17747214914436082,-0.28497893896678667,-1.017723548510392,-0.171222608370362,-0.6572538678650311,0.9974253025353275,0.15219540039653634,0.5866680040194782,-0.19001914914542503,0.5353419078118536,1.1152162652677877,2.97795797105388,0.9085279502252701,-0.17232731231989817,1.389245776868657,-0.5708394737976242,0.34436475178815107,-0.9150239338287431,0.5131055597150919,0.5031908634636201,2.238821334911018,-0.10669318171704228,0.7345420979543783,-2.062925100049065,-1.2413883423525092,-0.5724993827887654,0.859720954322044,1.1003071919413916,-0.471752236644702,0.46025542685963583,-0.1084369455556114,0.09639064705141714,-0.7616762580059623,-1.7826562298020405,-0.7257458029396603,-0.29848471990300596,0.2858439083232961,-0.3367202911240463,0.20527268466178267,0.36573323048382694,-0.578898295870351,1.6001728205820427,-1.4342738153944126,1.2548152560200398,-1.5076691281769783,1.3411368027344885,-0.27024403891496945,-1.4268485254400225,0.7432383970273235,-0.31907044797333006,0.036447356526887825,-0.8569238644208176,-0.5041947840868658],\"type\":\"scatter\"},{\"line\":{\"color\":\"rgba(55, 128, 191, 1.0)\",\"dash\":\"solid\",\"shape\":\"linear\",\"width\":1.3},\"mode\":\"lines\",\"name\":\"B\",\"text\":\"\",\"x\":[0,1,2,3,4,5,6,7,8,9,10,11,12,13,14,15,16,17,18,19,20,21,22,23,24,25,26,27,28,29,30,31,32,33,34,35,36,37,38,39,40,41,42,43,44,45,46,47,48,49,50,51,52,53,54,55,56,57,58,59,60,61,62,63,64,65,66,67,68,69,70,71,72,73,74,75,76,77,78,79,80,81,82,83,84,85,86,87,88,89,90,91,92,93,94,95,96,97,98,99],\"y\":[-0.6607567515404839,0.6272057327377043,-0.29300459755897873,0.20396521190281927,-0.11254528632613671,1.175835792248741,-0.7377345445424521,0.356496022784465,1.3251418286139893,0.26885086019013144,1.122352095296499,0.24204159204449613,2.0123475931236077,0.5346441742217941,1.0238143940420046,0.8090796833083032,0.11313819918896648,2.24916865287664,0.012932222012098343,-0.40244432809040476,-0.2502753654633691,2.630557383226313,-0.7790771990625227,0.7355197860705898,-0.1943010347541226,1.2928782007154789,0.36572430645810655,-0.5392603452969593,-0.96023431045177,-0.09253815346977223,-0.4298824098705515,0.25425105887003596,-1.1674587129797283,-0.3840343408994587,1.3207712002551013,0.062356765784521456,0.9595537781702738,0.17240071462536052,-0.451261552754604,0.26033009506400173,-0.7193669753874455,1.3237640482815087,-0.27155167270699504,-0.19773330021703522,-0.07151638613211464,1.8903708416916005,-0.528035834561054,0.6244900423893583,-0.2651053906182809,1.5323114619010347,0.18001538721174082,0.9973476693237119,-1.58564522054993,1.1192253963894794,-0.5674695266246303,0.6634869383800137,0.2188382483231579,0.5690392046501117,-0.06603917493020449,-0.6105444992113863,1.736224515049627,1.8863963804057344,-2.0487797487038444,0.5047057902668708,-0.6634330645442947,-0.128018734829384,-1.0299738753476964,2.023938172106331,0.1957238535897606,0.14206388716721732,1.0228505986995695,-1.0652264255737482,0.6163051316586318,1.6022578249809882,-0.3526379835238936,-1.8418587223766436,-0.4754546562297881,-1.4657897646743254,1.291531251527738,0.6056778020888061,0.9618849334241207,-0.44070807412970214,0.6812198800439422,-0.48018367669432493,0.4450259781147967,2.1054135753292753,-0.47891017321267454,-0.11251171905452118,0.6272297098806351,0.29813117767436553,-0.9105125124581759,1.7637483257996116,0.49453904178321406,-0.09063675976922009,-1.2423412107676592,-0.24118324086440246,-0.019347818855389786,-0.7130858012841428,-1.2610100912832602,-0.31484580391977757],\"type\":\"scatter\"},{\"connectgaps\":false,\"fill\":\"tozeroy\",\"line\":{\"color\":\"green\",\"dash\":\"solid\",\"shape\":\"linear\",\"width\":0.5},\"mode\":\"lines\",\"name\":\"Spread\",\"showlegend\":false,\"x\":[0,1,2,3,4,5,6,7,8,9,10,11,12,13,14,15,16,17,18,19,20,21,22,23,24,25,26,27,28,29,30,31,32,33,34,35,36,37,38,39,40,41,42,43,44,45,46,47,48,49,50,51,52,53,54,55,56,57,58,59,60,61,62,63,64,65,66,67,68,69,70,71,72,73,74,75,76,77,78,79,80,81,82,83,84,85,86,87,88,89,90,91,92,93,94,95,96,97,98,99],\"xaxis\":\"x2\",\"y\":[0.551898278028971,\"\",\"\",0.1854970769592794,\"\",1.1830372261944606,2.299785832941321,\"\",\"\",\"\",\"\",\"\",\"\",\"\",\"\",\"\",\"\",\"\",0.04148661353448912,1.9380633592630336,\"\",\"\",0.8660544671495728,\"\",0.9278562439549154,\"\",\"\",\"\",0.9372964992819164,\"\",2.980700132327712,\"\",0.5895647494237646,\"\",\"\",1.9743982641744666,\"\",\"\",2.432234876751888,\"\",\"\",0.1933981208624027,2.060832829528114,1.283717869438849,0.6413665742270627,\"\",0.014668505086903094,\"\",\"\",\"\",\"\",\"\",2.5830705230852575,\"\",1.1541375306441086,\"\",0.31650365948869574,0.546177060617676,3.0439971459840844,1.5190724494366563,\"\",\"\",1.4779402749062203,\"\",\"\",0.6411242945444758,1.5331647388113163,0.214883162804687,\"\",0.592478210787161,\"\",\"\",\"\",\"\",1.4529451754652851,1.3701064857319416,0.9357100830894239,1.357352819118714,\"\",\"\",\"\",\"\",\"\",0.766027585017621,\"\",\"\",0.8446434036965015,\"\",0.9729431107014076,\"\",2.1653277684782157,\"\",0.8465977609512745,\"\",\"\",0.984421637891726,\"\",0.7495331578110306,0.40408622686244267,\"\"],\"yaxis\":\"y2\",\"type\":\"scatter\"},{\"connectgaps\":false,\"fill\":\"tozeroy\",\"line\":{\"color\":\"red\",\"dash\":\"solid\",\"shape\":\"linear\",\"width\":0.5},\"mode\":\"lines\",\"name\":\"Spread\",\"showlegend\":false,\"x\":[0,1,2,3,4,5,6,7,8,9,10,11,12,13,14,15,16,17,18,19,20,21,22,23,24,25,26,27,28,29,30,31,32,33,34,35,36,37,38,39,40,41,42,43,44,45,46,47,48,49,50,51,52,53,54,55,56,57,58,59,60,61,62,63,64,65,66,67,68,69,70,71,72,73,74,75,76,77,78,79,80,81,82,83,84,85,86,87,88,89,90,91,92,93,94,95,96,97,98,99],\"xaxis\":\"x2\",\"y\":[\"\",-0.5275234523003387,-0.5711454472432047,\"\",-0.6644583405956431,\"\",\"\",-0.2804416285978346,-0.4124239509513803,-0.8349975232633757,-0.9720795994368078,-0.6977000681673597,-1.2793359957566537,-0.2640977543679781,-1.5409655508977482,-0.19459596023744663,-1.4207033827744509,-3.3711582579196846,\"\",\"\",-0.7360462068182072,-1.9344331271186337,\"\",-0.7929344274665928,\"\",-0.7659145872172668,-0.8361880167610629,-0.3972769955213765,\"\",-0.5586722509105924,\"\",-1.0208029883726186,\"\",-0.6267735936668819,-0.7611631045051425,\"\",-1.0756818534111576,-0.3181818721488605,\"\",-0.054262091374128046,-0.6956873388220967,\"\",\"\",\"\",\"\",-2.3996308873414463,\"\",-0.8019621915337192,-0.019873548348505743,-2.5500350104114267,-0.3512379955821028,-1.654601537188743,\"\",-0.967029995992943,\"\",-0.8535060875254388,\"\",\"\",\"\",\"\",-1.908551827369525,-0.4971506035370774,\"\",-0.16034103847871972,-0.2515908692844484,\"\",\"\",\"\",-0.30241703530680286,\"\",-3.0857756987486344,-0.17616191677876092,-1.1888045144473973,-0.7425368706589442,\"\",\"\",\"\",\"\",-1.1951406044763209,-1.3673540600947685,-2.7445411632261614,-0.28503772880995815,-0.9797045999469481,\"\",-0.781746269238843,-1.9001408906674926,\"\",-0.46638657681582985,\"\",-1.7324049930687782,\"\",-3.27141745397659,\"\",-0.17960727914574937,-0.18450731467236325,\"\",-0.2997226291179403,\"\",\"\",-0.18934898016708823],\"yaxis\":\"y2\",\"type\":\"scatter\"}],                        {\"hovermode\":\"x\",\"legend\":{\"bgcolor\":\"#F5F6F9\",\"font\":{\"color\":\"#4D5663\"}},\"paper_bgcolor\":\"#F5F6F9\",\"plot_bgcolor\":\"#F5F6F9\",\"template\":{\"data\":{\"barpolar\":[{\"marker\":{\"line\":{\"color\":\"#E5ECF6\",\"width\":0.5},\"pattern\":{\"fillmode\":\"overlay\",\"size\":10,\"solidity\":0.2}},\"type\":\"barpolar\"}],\"bar\":[{\"error_x\":{\"color\":\"#2a3f5f\"},\"error_y\":{\"color\":\"#2a3f5f\"},\"marker\":{\"line\":{\"color\":\"#E5ECF6\",\"width\":0.5},\"pattern\":{\"fillmode\":\"overlay\",\"size\":10,\"solidity\":0.2}},\"type\":\"bar\"}],\"carpet\":[{\"aaxis\":{\"endlinecolor\":\"#2a3f5f\",\"gridcolor\":\"white\",\"linecolor\":\"white\",\"minorgridcolor\":\"white\",\"startlinecolor\":\"#2a3f5f\"},\"baxis\":{\"endlinecolor\":\"#2a3f5f\",\"gridcolor\":\"white\",\"linecolor\":\"white\",\"minorgridcolor\":\"white\",\"startlinecolor\":\"#2a3f5f\"},\"type\":\"carpet\"}],\"choropleth\":[{\"colorbar\":{\"outlinewidth\":0,\"ticks\":\"\"},\"type\":\"choropleth\"}],\"contourcarpet\":[{\"colorbar\":{\"outlinewidth\":0,\"ticks\":\"\"},\"type\":\"contourcarpet\"}],\"contour\":[{\"colorbar\":{\"outlinewidth\":0,\"ticks\":\"\"},\"colorscale\":[[0.0,\"#0d0887\"],[0.1111111111111111,\"#46039f\"],[0.2222222222222222,\"#7201a8\"],[0.3333333333333333,\"#9c179e\"],[0.4444444444444444,\"#bd3786\"],[0.5555555555555556,\"#d8576b\"],[0.6666666666666666,\"#ed7953\"],[0.7777777777777778,\"#fb9f3a\"],[0.8888888888888888,\"#fdca26\"],[1.0,\"#f0f921\"]],\"type\":\"contour\"}],\"heatmapgl\":[{\"colorbar\":{\"outlinewidth\":0,\"ticks\":\"\"},\"colorscale\":[[0.0,\"#0d0887\"],[0.1111111111111111,\"#46039f\"],[0.2222222222222222,\"#7201a8\"],[0.3333333333333333,\"#9c179e\"],[0.4444444444444444,\"#bd3786\"],[0.5555555555555556,\"#d8576b\"],[0.6666666666666666,\"#ed7953\"],[0.7777777777777778,\"#fb9f3a\"],[0.8888888888888888,\"#fdca26\"],[1.0,\"#f0f921\"]],\"type\":\"heatmapgl\"}],\"heatmap\":[{\"colorbar\":{\"outlinewidth\":0,\"ticks\":\"\"},\"colorscale\":[[0.0,\"#0d0887\"],[0.1111111111111111,\"#46039f\"],[0.2222222222222222,\"#7201a8\"],[0.3333333333333333,\"#9c179e\"],[0.4444444444444444,\"#bd3786\"],[0.5555555555555556,\"#d8576b\"],[0.6666666666666666,\"#ed7953\"],[0.7777777777777778,\"#fb9f3a\"],[0.8888888888888888,\"#fdca26\"],[1.0,\"#f0f921\"]],\"type\":\"heatmap\"}],\"histogram2dcontour\":[{\"colorbar\":{\"outlinewidth\":0,\"ticks\":\"\"},\"colorscale\":[[0.0,\"#0d0887\"],[0.1111111111111111,\"#46039f\"],[0.2222222222222222,\"#7201a8\"],[0.3333333333333333,\"#9c179e\"],[0.4444444444444444,\"#bd3786\"],[0.5555555555555556,\"#d8576b\"],[0.6666666666666666,\"#ed7953\"],[0.7777777777777778,\"#fb9f3a\"],[0.8888888888888888,\"#fdca26\"],[1.0,\"#f0f921\"]],\"type\":\"histogram2dcontour\"}],\"histogram2d\":[{\"colorbar\":{\"outlinewidth\":0,\"ticks\":\"\"},\"colorscale\":[[0.0,\"#0d0887\"],[0.1111111111111111,\"#46039f\"],[0.2222222222222222,\"#7201a8\"],[0.3333333333333333,\"#9c179e\"],[0.4444444444444444,\"#bd3786\"],[0.5555555555555556,\"#d8576b\"],[0.6666666666666666,\"#ed7953\"],[0.7777777777777778,\"#fb9f3a\"],[0.8888888888888888,\"#fdca26\"],[1.0,\"#f0f921\"]],\"type\":\"histogram2d\"}],\"histogram\":[{\"marker\":{\"pattern\":{\"fillmode\":\"overlay\",\"size\":10,\"solidity\":0.2}},\"type\":\"histogram\"}],\"mesh3d\":[{\"colorbar\":{\"outlinewidth\":0,\"ticks\":\"\"},\"type\":\"mesh3d\"}],\"parcoords\":[{\"line\":{\"colorbar\":{\"outlinewidth\":0,\"ticks\":\"\"}},\"type\":\"parcoords\"}],\"pie\":[{\"automargin\":true,\"type\":\"pie\"}],\"scatter3d\":[{\"line\":{\"colorbar\":{\"outlinewidth\":0,\"ticks\":\"\"}},\"marker\":{\"colorbar\":{\"outlinewidth\":0,\"ticks\":\"\"}},\"type\":\"scatter3d\"}],\"scattercarpet\":[{\"marker\":{\"colorbar\":{\"outlinewidth\":0,\"ticks\":\"\"}},\"type\":\"scattercarpet\"}],\"scattergeo\":[{\"marker\":{\"colorbar\":{\"outlinewidth\":0,\"ticks\":\"\"}},\"type\":\"scattergeo\"}],\"scattergl\":[{\"marker\":{\"colorbar\":{\"outlinewidth\":0,\"ticks\":\"\"}},\"type\":\"scattergl\"}],\"scattermapbox\":[{\"marker\":{\"colorbar\":{\"outlinewidth\":0,\"ticks\":\"\"}},\"type\":\"scattermapbox\"}],\"scatterpolargl\":[{\"marker\":{\"colorbar\":{\"outlinewidth\":0,\"ticks\":\"\"}},\"type\":\"scatterpolargl\"}],\"scatterpolar\":[{\"marker\":{\"colorbar\":{\"outlinewidth\":0,\"ticks\":\"\"}},\"type\":\"scatterpolar\"}],\"scatter\":[{\"fillpattern\":{\"fillmode\":\"overlay\",\"size\":10,\"solidity\":0.2},\"type\":\"scatter\"}],\"scatterternary\":[{\"marker\":{\"colorbar\":{\"outlinewidth\":0,\"ticks\":\"\"}},\"type\":\"scatterternary\"}],\"surface\":[{\"colorbar\":{\"outlinewidth\":0,\"ticks\":\"\"},\"colorscale\":[[0.0,\"#0d0887\"],[0.1111111111111111,\"#46039f\"],[0.2222222222222222,\"#7201a8\"],[0.3333333333333333,\"#9c179e\"],[0.4444444444444444,\"#bd3786\"],[0.5555555555555556,\"#d8576b\"],[0.6666666666666666,\"#ed7953\"],[0.7777777777777778,\"#fb9f3a\"],[0.8888888888888888,\"#fdca26\"],[1.0,\"#f0f921\"]],\"type\":\"surface\"}],\"table\":[{\"cells\":{\"fill\":{\"color\":\"#EBF0F8\"},\"line\":{\"color\":\"white\"}},\"header\":{\"fill\":{\"color\":\"#C8D4E3\"},\"line\":{\"color\":\"white\"}},\"type\":\"table\"}]},\"layout\":{\"annotationdefaults\":{\"arrowcolor\":\"#2a3f5f\",\"arrowhead\":0,\"arrowwidth\":1},\"autotypenumbers\":\"strict\",\"coloraxis\":{\"colorbar\":{\"outlinewidth\":0,\"ticks\":\"\"}},\"colorscale\":{\"diverging\":[[0,\"#8e0152\"],[0.1,\"#c51b7d\"],[0.2,\"#de77ae\"],[0.3,\"#f1b6da\"],[0.4,\"#fde0ef\"],[0.5,\"#f7f7f7\"],[0.6,\"#e6f5d0\"],[0.7,\"#b8e186\"],[0.8,\"#7fbc41\"],[0.9,\"#4d9221\"],[1,\"#276419\"]],\"sequential\":[[0.0,\"#0d0887\"],[0.1111111111111111,\"#46039f\"],[0.2222222222222222,\"#7201a8\"],[0.3333333333333333,\"#9c179e\"],[0.4444444444444444,\"#bd3786\"],[0.5555555555555556,\"#d8576b\"],[0.6666666666666666,\"#ed7953\"],[0.7777777777777778,\"#fb9f3a\"],[0.8888888888888888,\"#fdca26\"],[1.0,\"#f0f921\"]],\"sequentialminus\":[[0.0,\"#0d0887\"],[0.1111111111111111,\"#46039f\"],[0.2222222222222222,\"#7201a8\"],[0.3333333333333333,\"#9c179e\"],[0.4444444444444444,\"#bd3786\"],[0.5555555555555556,\"#d8576b\"],[0.6666666666666666,\"#ed7953\"],[0.7777777777777778,\"#fb9f3a\"],[0.8888888888888888,\"#fdca26\"],[1.0,\"#f0f921\"]]},\"colorway\":[\"#636efa\",\"#EF553B\",\"#00cc96\",\"#ab63fa\",\"#FFA15A\",\"#19d3f3\",\"#FF6692\",\"#B6E880\",\"#FF97FF\",\"#FECB52\"],\"font\":{\"color\":\"#2a3f5f\"},\"geo\":{\"bgcolor\":\"white\",\"lakecolor\":\"white\",\"landcolor\":\"#E5ECF6\",\"showlakes\":true,\"showland\":true,\"subunitcolor\":\"white\"},\"hoverlabel\":{\"align\":\"left\"},\"hovermode\":\"closest\",\"mapbox\":{\"style\":\"light\"},\"paper_bgcolor\":\"white\",\"plot_bgcolor\":\"#E5ECF6\",\"polar\":{\"angularaxis\":{\"gridcolor\":\"white\",\"linecolor\":\"white\",\"ticks\":\"\"},\"bgcolor\":\"#E5ECF6\",\"radialaxis\":{\"gridcolor\":\"white\",\"linecolor\":\"white\",\"ticks\":\"\"}},\"scene\":{\"xaxis\":{\"backgroundcolor\":\"#E5ECF6\",\"gridcolor\":\"white\",\"gridwidth\":2,\"linecolor\":\"white\",\"showbackground\":true,\"ticks\":\"\",\"zerolinecolor\":\"white\"},\"yaxis\":{\"backgroundcolor\":\"#E5ECF6\",\"gridcolor\":\"white\",\"gridwidth\":2,\"linecolor\":\"white\",\"showbackground\":true,\"ticks\":\"\",\"zerolinecolor\":\"white\"},\"zaxis\":{\"backgroundcolor\":\"#E5ECF6\",\"gridcolor\":\"white\",\"gridwidth\":2,\"linecolor\":\"white\",\"showbackground\":true,\"ticks\":\"\",\"zerolinecolor\":\"white\"}},\"shapedefaults\":{\"line\":{\"color\":\"#2a3f5f\"}},\"ternary\":{\"aaxis\":{\"gridcolor\":\"white\",\"linecolor\":\"white\",\"ticks\":\"\"},\"baxis\":{\"gridcolor\":\"white\",\"linecolor\":\"white\",\"ticks\":\"\"},\"bgcolor\":\"#E5ECF6\",\"caxis\":{\"gridcolor\":\"white\",\"linecolor\":\"white\",\"ticks\":\"\"}},\"title\":{\"x\":0.05},\"xaxis\":{\"automargin\":true,\"gridcolor\":\"white\",\"linecolor\":\"white\",\"ticks\":\"\",\"title\":{\"standoff\":15},\"zerolinecolor\":\"white\",\"zerolinewidth\":2},\"yaxis\":{\"automargin\":true,\"gridcolor\":\"white\",\"linecolor\":\"white\",\"ticks\":\"\",\"title\":{\"standoff\":15},\"zerolinecolor\":\"white\",\"zerolinewidth\":2}}},\"title\":{\"font\":{\"color\":\"#4D5663\"}},\"xaxis\":{\"gridcolor\":\"#E1E5ED\",\"showgrid\":true,\"tickfont\":{\"color\":\"#4D5663\"},\"title\":{\"font\":{\"color\":\"#4D5663\"},\"text\":\"\"},\"zerolinecolor\":\"#E1E5ED\"},\"yaxis\":{\"domain\":[0.3,1],\"gridcolor\":\"#E1E5ED\",\"showgrid\":true,\"tickfont\":{\"color\":\"#4D5663\"},\"title\":{\"font\":{\"color\":\"#4D5663\"},\"text\":\"\"},\"zerolinecolor\":\"#E1E5ED\"},\"yaxis2\":{\"domain\":[0,0.25],\"gridcolor\":\"#E1E5ED\",\"showgrid\":true,\"tickfont\":{\"color\":\"#4D5663\"},\"title\":{\"font\":{\"color\":\"#4D5663\"},\"text\":\"Spread\"},\"zerolinecolor\":\"#E1E5ED\"},\"xaxis2\":{\"anchor\":\"y2\",\"gridcolor\":\"#E1E5ED\",\"showgrid\":true,\"showticklabels\":false,\"tickfont\":{\"color\":\"#4D5663\"},\"title\":{\"font\":{\"color\":\"#4D5663\"},\"text\":\"\"},\"zerolinecolor\":\"#E1E5ED\"}},                        {\"showLink\": true, \"linkText\": \"Export to plot.ly\", \"plotlyServerURL\": \"https://plot.ly\", \"responsive\": true}                    ).then(function(){\n",
       "                            \n",
       "var gd = document.getElementById('2b013350-1116-4ab0-b7b4-edc3e1df820b');\n",
       "var x = new MutationObserver(function (mutations, observer) {{\n",
       "        var display = window.getComputedStyle(gd).display;\n",
       "        if (!display || display === 'none') {{\n",
       "            console.log([gd, 'removed!']);\n",
       "            Plotly.purge(gd);\n",
       "            observer.disconnect();\n",
       "        }}\n",
       "}});\n",
       "\n",
       "// Listen for the removal of the full notebook cells\n",
       "var notebookContainer = gd.closest('#notebook-container');\n",
       "if (notebookContainer) {{\n",
       "    x.observe(notebookContainer, {childList: true});\n",
       "}}\n",
       "\n",
       "// Listen for the clearing of the current output cell\n",
       "var outputEl = gd.closest('.output');\n",
       "if (outputEl) {{\n",
       "    x.observe(outputEl, {childList: true});\n",
       "}}\n",
       "\n",
       "                        })                };                });            </script>        </div>"
      ]
     },
     "metadata": {},
     "output_type": "display_data"
    }
   ],
   "source": [
    "df[['A', 'B']].iplot(kind = 'spread')"
   ]
  },
  {
   "cell_type": "code",
   "execution_count": 34,
   "metadata": {},
   "outputs": [
    {
     "data": {
      "application/vnd.plotly.v1+json": {
       "config": {
        "linkText": "Export to plot.ly",
        "plotlyServerURL": "https://plot.ly",
        "showLink": true
       },
       "data": [
        {
         "marker": {
          "color": [
           "rgb(255, 153, 51)",
           "rgb(55, 128, 191)",
           "rgb(50, 171, 96)",
           "rgb(128, 0, 128)",
           "rgb(219, 64, 82)",
           "rgb(0, 128, 128)",
           "rgb(255, 255, 51)",
           "rgb(128, 128, 0)",
           "rgb(251, 128, 114)",
           "rgb(128, 177, 211)"
          ],
          "line": {
           "width": 1.3
          },
          "size": [
           32,
           62,
           66,
           32,
           19,
           69,
           53,
           74,
           32,
           71,
           31,
           46,
           76,
           22,
           52,
           80,
           83,
           59,
           56,
           49,
           27,
           52,
           65,
           59,
           81,
           62,
           52,
           89,
           34,
           71,
           24,
           75,
           47,
           66,
           65,
           66,
           61,
           45,
           44,
           57,
           60,
           84,
           102,
           34,
           73,
           27,
           34,
           30,
           12,
           72,
           80,
           74,
           72,
           74,
           58,
           54,
           66,
           43,
           91,
           76,
           45,
           58,
           60,
           64,
           58,
           66,
           95,
           75,
           47,
           49,
           96,
           27,
           65,
           91,
           64,
           57,
           21,
           62,
           71,
           66,
           61,
           55,
           44,
           33,
           44,
           63,
           84,
           39,
           46,
           59,
           58,
           52,
           75,
           87,
           48,
           112,
           51,
           50,
           48,
           80
          ],
          "symbol": "circle"
         },
         "mode": "markers",
         "text": "",
         "type": "scatter",
         "x": [
          -0.10885847351151294,
          0.09968228043736554,
          -0.8641500448021835,
          0.38946228886209866,
          -0.7770036269217798,
          2.3588730184432016,
          1.562051288398869,
          0.07605439418663039,
          0.912717877662609,
          -0.5661466630732443,
          0.15027249585969116,
          -0.4556584761228636,
          0.7330115973669539,
          0.270546419853816,
          -0.5171511568557435,
          0.6144837230708565,
          -1.3075651835854845,
          -1.1219896050430447,
          0.05441883554658746,
          1.535619031172629,
          -0.9863215722815764,
          0.6961242561076794,
          0.08697726808705007,
          -0.057414641396003094,
          0.7335552092007928,
          0.5269636134982121,
          -0.47046371030295636,
          -0.9365373408183358,
          -0.02293781116985355,
          -0.6512104043803646,
          2.5508177224571607,
          -0.7665519295025828,
          -0.5778939635559637,
          -1.0108079345663405,
          0.5596080957499588,
          2.036755029958988,
          -0.11612807524088375,
          -0.14578115752350002,
          1.9809733239972844,
          0.20606800368987369,
          -1.4150543142095422,
          1.5171621691439114,
          1.789281156821119,
          1.0859845692218137,
          0.569850188094948,
          -0.5092600456498456,
          -0.5133673294741509,
          -0.17747214914436082,
          -0.28497893896678667,
          -1.017723548510392,
          -0.171222608370362,
          -0.6572538678650311,
          0.9974253025353275,
          0.15219540039653634,
          0.5866680040194782,
          -0.19001914914542503,
          0.5353419078118536,
          1.1152162652677877,
          2.97795797105388,
          0.9085279502252701,
          -0.17232731231989817,
          1.389245776868657,
          -0.5708394737976242,
          0.34436475178815107,
          -0.9150239338287431,
          0.5131055597150919,
          0.5031908634636201,
          2.238821334911018,
          -0.10669318171704228,
          0.7345420979543783,
          -2.062925100049065,
          -1.2413883423525092,
          -0.5724993827887654,
          0.859720954322044,
          1.1003071919413916,
          -0.471752236644702,
          0.46025542685963583,
          -0.1084369455556114,
          0.09639064705141714,
          -0.7616762580059623,
          -1.7826562298020405,
          -0.7257458029396603,
          -0.29848471990300596,
          0.2858439083232961,
          -0.3367202911240463,
          0.20527268466178267,
          0.36573323048382694,
          -0.578898295870351,
          1.6001728205820427,
          -1.4342738153944126,
          1.2548152560200398,
          -1.5076691281769783,
          1.3411368027344885,
          -0.27024403891496945,
          -1.4268485254400225,
          0.7432383970273235,
          -0.31907044797333006,
          0.036447356526887825,
          -0.8569238644208176,
          -0.5041947840868658
         ],
         "y": [
          -0.6607567515404839,
          0.6272057327377043,
          -0.29300459755897873,
          0.20396521190281927,
          -0.11254528632613671,
          1.175835792248741,
          -0.7377345445424521,
          0.356496022784465,
          1.3251418286139893,
          0.26885086019013144,
          1.122352095296499,
          0.24204159204449613,
          2.0123475931236077,
          0.5346441742217941,
          1.0238143940420046,
          0.8090796833083032,
          0.11313819918896648,
          2.24916865287664,
          0.012932222012098343,
          -0.40244432809040476,
          -0.2502753654633691,
          2.630557383226313,
          -0.7790771990625227,
          0.7355197860705898,
          -0.1943010347541226,
          1.2928782007154789,
          0.36572430645810655,
          -0.5392603452969593,
          -0.96023431045177,
          -0.09253815346977223,
          -0.4298824098705515,
          0.25425105887003596,
          -1.1674587129797283,
          -0.3840343408994587,
          1.3207712002551013,
          0.062356765784521456,
          0.9595537781702738,
          0.17240071462536052,
          -0.451261552754604,
          0.26033009506400173,
          -0.7193669753874455,
          1.3237640482815087,
          -0.27155167270699504,
          -0.19773330021703522,
          -0.07151638613211464,
          1.8903708416916005,
          -0.528035834561054,
          0.6244900423893583,
          -0.2651053906182809,
          1.5323114619010347,
          0.18001538721174082,
          0.9973476693237119,
          -1.58564522054993,
          1.1192253963894794,
          -0.5674695266246303,
          0.6634869383800137,
          0.2188382483231579,
          0.5690392046501117,
          -0.06603917493020449,
          -0.6105444992113863,
          1.736224515049627,
          1.8863963804057344,
          -2.0487797487038444,
          0.5047057902668708,
          -0.6634330645442947,
          -0.128018734829384,
          -1.0299738753476964,
          2.023938172106331,
          0.1957238535897606,
          0.14206388716721732,
          1.0228505986995695,
          -1.0652264255737482,
          0.6163051316586318,
          1.6022578249809882,
          -0.3526379835238936,
          -1.8418587223766436,
          -0.4754546562297881,
          -1.4657897646743254,
          1.291531251527738,
          0.6056778020888061,
          0.9618849334241207,
          -0.44070807412970214,
          0.6812198800439422,
          -0.48018367669432493,
          0.4450259781147967,
          2.1054135753292753,
          -0.47891017321267454,
          -0.11251171905452118,
          0.6272297098806351,
          0.29813117767436553,
          -0.9105125124581759,
          1.7637483257996116,
          0.49453904178321406,
          -0.09063675976922009,
          -1.2423412107676592,
          -0.24118324086440246,
          -0.019347818855389786,
          -0.7130858012841428,
          -1.2610100912832602,
          -0.31484580391977757
         ]
        }
       ],
       "layout": {
        "legend": {
         "bgcolor": "#F5F6F9",
         "font": {
          "color": "#4D5663"
         }
        },
        "paper_bgcolor": "#F5F6F9",
        "plot_bgcolor": "#F5F6F9",
        "template": {
         "data": {
          "bar": [
           {
            "error_x": {
             "color": "#2a3f5f"
            },
            "error_y": {
             "color": "#2a3f5f"
            },
            "marker": {
             "line": {
              "color": "#E5ECF6",
              "width": 0.5
             },
             "pattern": {
              "fillmode": "overlay",
              "size": 10,
              "solidity": 0.2
             }
            },
            "type": "bar"
           }
          ],
          "barpolar": [
           {
            "marker": {
             "line": {
              "color": "#E5ECF6",
              "width": 0.5
             },
             "pattern": {
              "fillmode": "overlay",
              "size": 10,
              "solidity": 0.2
             }
            },
            "type": "barpolar"
           }
          ],
          "carpet": [
           {
            "aaxis": {
             "endlinecolor": "#2a3f5f",
             "gridcolor": "white",
             "linecolor": "white",
             "minorgridcolor": "white",
             "startlinecolor": "#2a3f5f"
            },
            "baxis": {
             "endlinecolor": "#2a3f5f",
             "gridcolor": "white",
             "linecolor": "white",
             "minorgridcolor": "white",
             "startlinecolor": "#2a3f5f"
            },
            "type": "carpet"
           }
          ],
          "choropleth": [
           {
            "colorbar": {
             "outlinewidth": 0,
             "ticks": ""
            },
            "type": "choropleth"
           }
          ],
          "contour": [
           {
            "colorbar": {
             "outlinewidth": 0,
             "ticks": ""
            },
            "colorscale": [
             [
              0,
              "#0d0887"
             ],
             [
              0.1111111111111111,
              "#46039f"
             ],
             [
              0.2222222222222222,
              "#7201a8"
             ],
             [
              0.3333333333333333,
              "#9c179e"
             ],
             [
              0.4444444444444444,
              "#bd3786"
             ],
             [
              0.5555555555555556,
              "#d8576b"
             ],
             [
              0.6666666666666666,
              "#ed7953"
             ],
             [
              0.7777777777777778,
              "#fb9f3a"
             ],
             [
              0.8888888888888888,
              "#fdca26"
             ],
             [
              1,
              "#f0f921"
             ]
            ],
            "type": "contour"
           }
          ],
          "contourcarpet": [
           {
            "colorbar": {
             "outlinewidth": 0,
             "ticks": ""
            },
            "type": "contourcarpet"
           }
          ],
          "heatmap": [
           {
            "colorbar": {
             "outlinewidth": 0,
             "ticks": ""
            },
            "colorscale": [
             [
              0,
              "#0d0887"
             ],
             [
              0.1111111111111111,
              "#46039f"
             ],
             [
              0.2222222222222222,
              "#7201a8"
             ],
             [
              0.3333333333333333,
              "#9c179e"
             ],
             [
              0.4444444444444444,
              "#bd3786"
             ],
             [
              0.5555555555555556,
              "#d8576b"
             ],
             [
              0.6666666666666666,
              "#ed7953"
             ],
             [
              0.7777777777777778,
              "#fb9f3a"
             ],
             [
              0.8888888888888888,
              "#fdca26"
             ],
             [
              1,
              "#f0f921"
             ]
            ],
            "type": "heatmap"
           }
          ],
          "heatmapgl": [
           {
            "colorbar": {
             "outlinewidth": 0,
             "ticks": ""
            },
            "colorscale": [
             [
              0,
              "#0d0887"
             ],
             [
              0.1111111111111111,
              "#46039f"
             ],
             [
              0.2222222222222222,
              "#7201a8"
             ],
             [
              0.3333333333333333,
              "#9c179e"
             ],
             [
              0.4444444444444444,
              "#bd3786"
             ],
             [
              0.5555555555555556,
              "#d8576b"
             ],
             [
              0.6666666666666666,
              "#ed7953"
             ],
             [
              0.7777777777777778,
              "#fb9f3a"
             ],
             [
              0.8888888888888888,
              "#fdca26"
             ],
             [
              1,
              "#f0f921"
             ]
            ],
            "type": "heatmapgl"
           }
          ],
          "histogram": [
           {
            "marker": {
             "pattern": {
              "fillmode": "overlay",
              "size": 10,
              "solidity": 0.2
             }
            },
            "type": "histogram"
           }
          ],
          "histogram2d": [
           {
            "colorbar": {
             "outlinewidth": 0,
             "ticks": ""
            },
            "colorscale": [
             [
              0,
              "#0d0887"
             ],
             [
              0.1111111111111111,
              "#46039f"
             ],
             [
              0.2222222222222222,
              "#7201a8"
             ],
             [
              0.3333333333333333,
              "#9c179e"
             ],
             [
              0.4444444444444444,
              "#bd3786"
             ],
             [
              0.5555555555555556,
              "#d8576b"
             ],
             [
              0.6666666666666666,
              "#ed7953"
             ],
             [
              0.7777777777777778,
              "#fb9f3a"
             ],
             [
              0.8888888888888888,
              "#fdca26"
             ],
             [
              1,
              "#f0f921"
             ]
            ],
            "type": "histogram2d"
           }
          ],
          "histogram2dcontour": [
           {
            "colorbar": {
             "outlinewidth": 0,
             "ticks": ""
            },
            "colorscale": [
             [
              0,
              "#0d0887"
             ],
             [
              0.1111111111111111,
              "#46039f"
             ],
             [
              0.2222222222222222,
              "#7201a8"
             ],
             [
              0.3333333333333333,
              "#9c179e"
             ],
             [
              0.4444444444444444,
              "#bd3786"
             ],
             [
              0.5555555555555556,
              "#d8576b"
             ],
             [
              0.6666666666666666,
              "#ed7953"
             ],
             [
              0.7777777777777778,
              "#fb9f3a"
             ],
             [
              0.8888888888888888,
              "#fdca26"
             ],
             [
              1,
              "#f0f921"
             ]
            ],
            "type": "histogram2dcontour"
           }
          ],
          "mesh3d": [
           {
            "colorbar": {
             "outlinewidth": 0,
             "ticks": ""
            },
            "type": "mesh3d"
           }
          ],
          "parcoords": [
           {
            "line": {
             "colorbar": {
              "outlinewidth": 0,
              "ticks": ""
             }
            },
            "type": "parcoords"
           }
          ],
          "pie": [
           {
            "automargin": true,
            "type": "pie"
           }
          ],
          "scatter": [
           {
            "fillpattern": {
             "fillmode": "overlay",
             "size": 10,
             "solidity": 0.2
            },
            "type": "scatter"
           }
          ],
          "scatter3d": [
           {
            "line": {
             "colorbar": {
              "outlinewidth": 0,
              "ticks": ""
             }
            },
            "marker": {
             "colorbar": {
              "outlinewidth": 0,
              "ticks": ""
             }
            },
            "type": "scatter3d"
           }
          ],
          "scattercarpet": [
           {
            "marker": {
             "colorbar": {
              "outlinewidth": 0,
              "ticks": ""
             }
            },
            "type": "scattercarpet"
           }
          ],
          "scattergeo": [
           {
            "marker": {
             "colorbar": {
              "outlinewidth": 0,
              "ticks": ""
             }
            },
            "type": "scattergeo"
           }
          ],
          "scattergl": [
           {
            "marker": {
             "colorbar": {
              "outlinewidth": 0,
              "ticks": ""
             }
            },
            "type": "scattergl"
           }
          ],
          "scattermapbox": [
           {
            "marker": {
             "colorbar": {
              "outlinewidth": 0,
              "ticks": ""
             }
            },
            "type": "scattermapbox"
           }
          ],
          "scatterpolar": [
           {
            "marker": {
             "colorbar": {
              "outlinewidth": 0,
              "ticks": ""
             }
            },
            "type": "scatterpolar"
           }
          ],
          "scatterpolargl": [
           {
            "marker": {
             "colorbar": {
              "outlinewidth": 0,
              "ticks": ""
             }
            },
            "type": "scatterpolargl"
           }
          ],
          "scatterternary": [
           {
            "marker": {
             "colorbar": {
              "outlinewidth": 0,
              "ticks": ""
             }
            },
            "type": "scatterternary"
           }
          ],
          "surface": [
           {
            "colorbar": {
             "outlinewidth": 0,
             "ticks": ""
            },
            "colorscale": [
             [
              0,
              "#0d0887"
             ],
             [
              0.1111111111111111,
              "#46039f"
             ],
             [
              0.2222222222222222,
              "#7201a8"
             ],
             [
              0.3333333333333333,
              "#9c179e"
             ],
             [
              0.4444444444444444,
              "#bd3786"
             ],
             [
              0.5555555555555556,
              "#d8576b"
             ],
             [
              0.6666666666666666,
              "#ed7953"
             ],
             [
              0.7777777777777778,
              "#fb9f3a"
             ],
             [
              0.8888888888888888,
              "#fdca26"
             ],
             [
              1,
              "#f0f921"
             ]
            ],
            "type": "surface"
           }
          ],
          "table": [
           {
            "cells": {
             "fill": {
              "color": "#EBF0F8"
             },
             "line": {
              "color": "white"
             }
            },
            "header": {
             "fill": {
              "color": "#C8D4E3"
             },
             "line": {
              "color": "white"
             }
            },
            "type": "table"
           }
          ]
         },
         "layout": {
          "annotationdefaults": {
           "arrowcolor": "#2a3f5f",
           "arrowhead": 0,
           "arrowwidth": 1
          },
          "autotypenumbers": "strict",
          "coloraxis": {
           "colorbar": {
            "outlinewidth": 0,
            "ticks": ""
           }
          },
          "colorscale": {
           "diverging": [
            [
             0,
             "#8e0152"
            ],
            [
             0.1,
             "#c51b7d"
            ],
            [
             0.2,
             "#de77ae"
            ],
            [
             0.3,
             "#f1b6da"
            ],
            [
             0.4,
             "#fde0ef"
            ],
            [
             0.5,
             "#f7f7f7"
            ],
            [
             0.6,
             "#e6f5d0"
            ],
            [
             0.7,
             "#b8e186"
            ],
            [
             0.8,
             "#7fbc41"
            ],
            [
             0.9,
             "#4d9221"
            ],
            [
             1,
             "#276419"
            ]
           ],
           "sequential": [
            [
             0,
             "#0d0887"
            ],
            [
             0.1111111111111111,
             "#46039f"
            ],
            [
             0.2222222222222222,
             "#7201a8"
            ],
            [
             0.3333333333333333,
             "#9c179e"
            ],
            [
             0.4444444444444444,
             "#bd3786"
            ],
            [
             0.5555555555555556,
             "#d8576b"
            ],
            [
             0.6666666666666666,
             "#ed7953"
            ],
            [
             0.7777777777777778,
             "#fb9f3a"
            ],
            [
             0.8888888888888888,
             "#fdca26"
            ],
            [
             1,
             "#f0f921"
            ]
           ],
           "sequentialminus": [
            [
             0,
             "#0d0887"
            ],
            [
             0.1111111111111111,
             "#46039f"
            ],
            [
             0.2222222222222222,
             "#7201a8"
            ],
            [
             0.3333333333333333,
             "#9c179e"
            ],
            [
             0.4444444444444444,
             "#bd3786"
            ],
            [
             0.5555555555555556,
             "#d8576b"
            ],
            [
             0.6666666666666666,
             "#ed7953"
            ],
            [
             0.7777777777777778,
             "#fb9f3a"
            ],
            [
             0.8888888888888888,
             "#fdca26"
            ],
            [
             1,
             "#f0f921"
            ]
           ]
          },
          "colorway": [
           "#636efa",
           "#EF553B",
           "#00cc96",
           "#ab63fa",
           "#FFA15A",
           "#19d3f3",
           "#FF6692",
           "#B6E880",
           "#FF97FF",
           "#FECB52"
          ],
          "font": {
           "color": "#2a3f5f"
          },
          "geo": {
           "bgcolor": "white",
           "lakecolor": "white",
           "landcolor": "#E5ECF6",
           "showlakes": true,
           "showland": true,
           "subunitcolor": "white"
          },
          "hoverlabel": {
           "align": "left"
          },
          "hovermode": "closest",
          "mapbox": {
           "style": "light"
          },
          "paper_bgcolor": "white",
          "plot_bgcolor": "#E5ECF6",
          "polar": {
           "angularaxis": {
            "gridcolor": "white",
            "linecolor": "white",
            "ticks": ""
           },
           "bgcolor": "#E5ECF6",
           "radialaxis": {
            "gridcolor": "white",
            "linecolor": "white",
            "ticks": ""
           }
          },
          "scene": {
           "xaxis": {
            "backgroundcolor": "#E5ECF6",
            "gridcolor": "white",
            "gridwidth": 2,
            "linecolor": "white",
            "showbackground": true,
            "ticks": "",
            "zerolinecolor": "white"
           },
           "yaxis": {
            "backgroundcolor": "#E5ECF6",
            "gridcolor": "white",
            "gridwidth": 2,
            "linecolor": "white",
            "showbackground": true,
            "ticks": "",
            "zerolinecolor": "white"
           },
           "zaxis": {
            "backgroundcolor": "#E5ECF6",
            "gridcolor": "white",
            "gridwidth": 2,
            "linecolor": "white",
            "showbackground": true,
            "ticks": "",
            "zerolinecolor": "white"
           }
          },
          "shapedefaults": {
           "line": {
            "color": "#2a3f5f"
           }
          },
          "ternary": {
           "aaxis": {
            "gridcolor": "white",
            "linecolor": "white",
            "ticks": ""
           },
           "baxis": {
            "gridcolor": "white",
            "linecolor": "white",
            "ticks": ""
           },
           "bgcolor": "#E5ECF6",
           "caxis": {
            "gridcolor": "white",
            "linecolor": "white",
            "ticks": ""
           }
          },
          "title": {
           "x": 0.05
          },
          "xaxis": {
           "automargin": true,
           "gridcolor": "white",
           "linecolor": "white",
           "ticks": "",
           "title": {
            "standoff": 15
           },
           "zerolinecolor": "white",
           "zerolinewidth": 2
          },
          "yaxis": {
           "automargin": true,
           "gridcolor": "white",
           "linecolor": "white",
           "ticks": "",
           "title": {
            "standoff": 15
           },
           "zerolinecolor": "white",
           "zerolinewidth": 2
          }
         }
        },
        "title": {
         "font": {
          "color": "#4D5663"
         }
        },
        "xaxis": {
         "gridcolor": "#E1E5ED",
         "showgrid": true,
         "tickfont": {
          "color": "#4D5663"
         },
         "title": {
          "font": {
           "color": "#4D5663"
          },
          "text": ""
         },
         "zerolinecolor": "#E1E5ED"
        },
        "yaxis": {
         "gridcolor": "#E1E5ED",
         "showgrid": true,
         "tickfont": {
          "color": "#4D5663"
         },
         "title": {
          "font": {
           "color": "#4D5663"
          },
          "text": ""
         },
         "zerolinecolor": "#E1E5ED"
        }
       }
      },
      "text/html": [
       "<div>                            <div id=\"41172fcb-ce3c-4dfd-8cd8-e7bab7ec373f\" class=\"plotly-graph-div\" style=\"height:525px; width:100%;\"></div>            <script type=\"text/javascript\">                require([\"plotly\"], function(Plotly) {                    window.PLOTLYENV=window.PLOTLYENV || {};\n",
       "                    window.PLOTLYENV.BASE_URL='https://plot.ly';                                    if (document.getElementById(\"41172fcb-ce3c-4dfd-8cd8-e7bab7ec373f\")) {                    Plotly.newPlot(                        \"41172fcb-ce3c-4dfd-8cd8-e7bab7ec373f\",                        [{\"marker\":{\"color\":[\"rgb(255, 153, 51)\",\"rgb(55, 128, 191)\",\"rgb(50, 171, 96)\",\"rgb(128, 0, 128)\",\"rgb(219, 64, 82)\",\"rgb(0, 128, 128)\",\"rgb(255, 255, 51)\",\"rgb(128, 128, 0)\",\"rgb(251, 128, 114)\",\"rgb(128, 177, 211)\"],\"line\":{\"width\":1.3},\"size\":[32,62,66,32,19,69,53,74,32,71,31,46,76,22,52,80,83,59,56,49,27,52,65,59,81,62,52,89,34,71,24,75,47,66,65,66,61,45,44,57,60,84,102,34,73,27,34,30,12,72,80,74,72,74,58,54,66,43,91,76,45,58,60,64,58,66,95,75,47,49,96,27,65,91,64,57,21,62,71,66,61,55,44,33,44,63,84,39,46,59,58,52,75,87,48,112,51,50,48,80],\"symbol\":\"circle\"},\"mode\":\"markers\",\"text\":\"\",\"x\":[-0.10885847351151294,0.09968228043736554,-0.8641500448021835,0.38946228886209866,-0.7770036269217798,2.3588730184432016,1.562051288398869,0.07605439418663039,0.912717877662609,-0.5661466630732443,0.15027249585969116,-0.4556584761228636,0.7330115973669539,0.270546419853816,-0.5171511568557435,0.6144837230708565,-1.3075651835854845,-1.1219896050430447,0.05441883554658746,1.535619031172629,-0.9863215722815764,0.6961242561076794,0.08697726808705007,-0.057414641396003094,0.7335552092007928,0.5269636134982121,-0.47046371030295636,-0.9365373408183358,-0.02293781116985355,-0.6512104043803646,2.5508177224571607,-0.7665519295025828,-0.5778939635559637,-1.0108079345663405,0.5596080957499588,2.036755029958988,-0.11612807524088375,-0.14578115752350002,1.9809733239972844,0.20606800368987369,-1.4150543142095422,1.5171621691439114,1.789281156821119,1.0859845692218137,0.569850188094948,-0.5092600456498456,-0.5133673294741509,-0.17747214914436082,-0.28497893896678667,-1.017723548510392,-0.171222608370362,-0.6572538678650311,0.9974253025353275,0.15219540039653634,0.5866680040194782,-0.19001914914542503,0.5353419078118536,1.1152162652677877,2.97795797105388,0.9085279502252701,-0.17232731231989817,1.389245776868657,-0.5708394737976242,0.34436475178815107,-0.9150239338287431,0.5131055597150919,0.5031908634636201,2.238821334911018,-0.10669318171704228,0.7345420979543783,-2.062925100049065,-1.2413883423525092,-0.5724993827887654,0.859720954322044,1.1003071919413916,-0.471752236644702,0.46025542685963583,-0.1084369455556114,0.09639064705141714,-0.7616762580059623,-1.7826562298020405,-0.7257458029396603,-0.29848471990300596,0.2858439083232961,-0.3367202911240463,0.20527268466178267,0.36573323048382694,-0.578898295870351,1.6001728205820427,-1.4342738153944126,1.2548152560200398,-1.5076691281769783,1.3411368027344885,-0.27024403891496945,-1.4268485254400225,0.7432383970273235,-0.31907044797333006,0.036447356526887825,-0.8569238644208176,-0.5041947840868658],\"y\":[-0.6607567515404839,0.6272057327377043,-0.29300459755897873,0.20396521190281927,-0.11254528632613671,1.175835792248741,-0.7377345445424521,0.356496022784465,1.3251418286139893,0.26885086019013144,1.122352095296499,0.24204159204449613,2.0123475931236077,0.5346441742217941,1.0238143940420046,0.8090796833083032,0.11313819918896648,2.24916865287664,0.012932222012098343,-0.40244432809040476,-0.2502753654633691,2.630557383226313,-0.7790771990625227,0.7355197860705898,-0.1943010347541226,1.2928782007154789,0.36572430645810655,-0.5392603452969593,-0.96023431045177,-0.09253815346977223,-0.4298824098705515,0.25425105887003596,-1.1674587129797283,-0.3840343408994587,1.3207712002551013,0.062356765784521456,0.9595537781702738,0.17240071462536052,-0.451261552754604,0.26033009506400173,-0.7193669753874455,1.3237640482815087,-0.27155167270699504,-0.19773330021703522,-0.07151638613211464,1.8903708416916005,-0.528035834561054,0.6244900423893583,-0.2651053906182809,1.5323114619010347,0.18001538721174082,0.9973476693237119,-1.58564522054993,1.1192253963894794,-0.5674695266246303,0.6634869383800137,0.2188382483231579,0.5690392046501117,-0.06603917493020449,-0.6105444992113863,1.736224515049627,1.8863963804057344,-2.0487797487038444,0.5047057902668708,-0.6634330645442947,-0.128018734829384,-1.0299738753476964,2.023938172106331,0.1957238535897606,0.14206388716721732,1.0228505986995695,-1.0652264255737482,0.6163051316586318,1.6022578249809882,-0.3526379835238936,-1.8418587223766436,-0.4754546562297881,-1.4657897646743254,1.291531251527738,0.6056778020888061,0.9618849334241207,-0.44070807412970214,0.6812198800439422,-0.48018367669432493,0.4450259781147967,2.1054135753292753,-0.47891017321267454,-0.11251171905452118,0.6272297098806351,0.29813117767436553,-0.9105125124581759,1.7637483257996116,0.49453904178321406,-0.09063675976922009,-1.2423412107676592,-0.24118324086440246,-0.019347818855389786,-0.7130858012841428,-1.2610100912832602,-0.31484580391977757],\"type\":\"scatter\"}],                        {\"legend\":{\"bgcolor\":\"#F5F6F9\",\"font\":{\"color\":\"#4D5663\"}},\"paper_bgcolor\":\"#F5F6F9\",\"plot_bgcolor\":\"#F5F6F9\",\"template\":{\"data\":{\"barpolar\":[{\"marker\":{\"line\":{\"color\":\"#E5ECF6\",\"width\":0.5},\"pattern\":{\"fillmode\":\"overlay\",\"size\":10,\"solidity\":0.2}},\"type\":\"barpolar\"}],\"bar\":[{\"error_x\":{\"color\":\"#2a3f5f\"},\"error_y\":{\"color\":\"#2a3f5f\"},\"marker\":{\"line\":{\"color\":\"#E5ECF6\",\"width\":0.5},\"pattern\":{\"fillmode\":\"overlay\",\"size\":10,\"solidity\":0.2}},\"type\":\"bar\"}],\"carpet\":[{\"aaxis\":{\"endlinecolor\":\"#2a3f5f\",\"gridcolor\":\"white\",\"linecolor\":\"white\",\"minorgridcolor\":\"white\",\"startlinecolor\":\"#2a3f5f\"},\"baxis\":{\"endlinecolor\":\"#2a3f5f\",\"gridcolor\":\"white\",\"linecolor\":\"white\",\"minorgridcolor\":\"white\",\"startlinecolor\":\"#2a3f5f\"},\"type\":\"carpet\"}],\"choropleth\":[{\"colorbar\":{\"outlinewidth\":0,\"ticks\":\"\"},\"type\":\"choropleth\"}],\"contourcarpet\":[{\"colorbar\":{\"outlinewidth\":0,\"ticks\":\"\"},\"type\":\"contourcarpet\"}],\"contour\":[{\"colorbar\":{\"outlinewidth\":0,\"ticks\":\"\"},\"colorscale\":[[0.0,\"#0d0887\"],[0.1111111111111111,\"#46039f\"],[0.2222222222222222,\"#7201a8\"],[0.3333333333333333,\"#9c179e\"],[0.4444444444444444,\"#bd3786\"],[0.5555555555555556,\"#d8576b\"],[0.6666666666666666,\"#ed7953\"],[0.7777777777777778,\"#fb9f3a\"],[0.8888888888888888,\"#fdca26\"],[1.0,\"#f0f921\"]],\"type\":\"contour\"}],\"heatmapgl\":[{\"colorbar\":{\"outlinewidth\":0,\"ticks\":\"\"},\"colorscale\":[[0.0,\"#0d0887\"],[0.1111111111111111,\"#46039f\"],[0.2222222222222222,\"#7201a8\"],[0.3333333333333333,\"#9c179e\"],[0.4444444444444444,\"#bd3786\"],[0.5555555555555556,\"#d8576b\"],[0.6666666666666666,\"#ed7953\"],[0.7777777777777778,\"#fb9f3a\"],[0.8888888888888888,\"#fdca26\"],[1.0,\"#f0f921\"]],\"type\":\"heatmapgl\"}],\"heatmap\":[{\"colorbar\":{\"outlinewidth\":0,\"ticks\":\"\"},\"colorscale\":[[0.0,\"#0d0887\"],[0.1111111111111111,\"#46039f\"],[0.2222222222222222,\"#7201a8\"],[0.3333333333333333,\"#9c179e\"],[0.4444444444444444,\"#bd3786\"],[0.5555555555555556,\"#d8576b\"],[0.6666666666666666,\"#ed7953\"],[0.7777777777777778,\"#fb9f3a\"],[0.8888888888888888,\"#fdca26\"],[1.0,\"#f0f921\"]],\"type\":\"heatmap\"}],\"histogram2dcontour\":[{\"colorbar\":{\"outlinewidth\":0,\"ticks\":\"\"},\"colorscale\":[[0.0,\"#0d0887\"],[0.1111111111111111,\"#46039f\"],[0.2222222222222222,\"#7201a8\"],[0.3333333333333333,\"#9c179e\"],[0.4444444444444444,\"#bd3786\"],[0.5555555555555556,\"#d8576b\"],[0.6666666666666666,\"#ed7953\"],[0.7777777777777778,\"#fb9f3a\"],[0.8888888888888888,\"#fdca26\"],[1.0,\"#f0f921\"]],\"type\":\"histogram2dcontour\"}],\"histogram2d\":[{\"colorbar\":{\"outlinewidth\":0,\"ticks\":\"\"},\"colorscale\":[[0.0,\"#0d0887\"],[0.1111111111111111,\"#46039f\"],[0.2222222222222222,\"#7201a8\"],[0.3333333333333333,\"#9c179e\"],[0.4444444444444444,\"#bd3786\"],[0.5555555555555556,\"#d8576b\"],[0.6666666666666666,\"#ed7953\"],[0.7777777777777778,\"#fb9f3a\"],[0.8888888888888888,\"#fdca26\"],[1.0,\"#f0f921\"]],\"type\":\"histogram2d\"}],\"histogram\":[{\"marker\":{\"pattern\":{\"fillmode\":\"overlay\",\"size\":10,\"solidity\":0.2}},\"type\":\"histogram\"}],\"mesh3d\":[{\"colorbar\":{\"outlinewidth\":0,\"ticks\":\"\"},\"type\":\"mesh3d\"}],\"parcoords\":[{\"line\":{\"colorbar\":{\"outlinewidth\":0,\"ticks\":\"\"}},\"type\":\"parcoords\"}],\"pie\":[{\"automargin\":true,\"type\":\"pie\"}],\"scatter3d\":[{\"line\":{\"colorbar\":{\"outlinewidth\":0,\"ticks\":\"\"}},\"marker\":{\"colorbar\":{\"outlinewidth\":0,\"ticks\":\"\"}},\"type\":\"scatter3d\"}],\"scattercarpet\":[{\"marker\":{\"colorbar\":{\"outlinewidth\":0,\"ticks\":\"\"}},\"type\":\"scattercarpet\"}],\"scattergeo\":[{\"marker\":{\"colorbar\":{\"outlinewidth\":0,\"ticks\":\"\"}},\"type\":\"scattergeo\"}],\"scattergl\":[{\"marker\":{\"colorbar\":{\"outlinewidth\":0,\"ticks\":\"\"}},\"type\":\"scattergl\"}],\"scattermapbox\":[{\"marker\":{\"colorbar\":{\"outlinewidth\":0,\"ticks\":\"\"}},\"type\":\"scattermapbox\"}],\"scatterpolargl\":[{\"marker\":{\"colorbar\":{\"outlinewidth\":0,\"ticks\":\"\"}},\"type\":\"scatterpolargl\"}],\"scatterpolar\":[{\"marker\":{\"colorbar\":{\"outlinewidth\":0,\"ticks\":\"\"}},\"type\":\"scatterpolar\"}],\"scatter\":[{\"fillpattern\":{\"fillmode\":\"overlay\",\"size\":10,\"solidity\":0.2},\"type\":\"scatter\"}],\"scatterternary\":[{\"marker\":{\"colorbar\":{\"outlinewidth\":0,\"ticks\":\"\"}},\"type\":\"scatterternary\"}],\"surface\":[{\"colorbar\":{\"outlinewidth\":0,\"ticks\":\"\"},\"colorscale\":[[0.0,\"#0d0887\"],[0.1111111111111111,\"#46039f\"],[0.2222222222222222,\"#7201a8\"],[0.3333333333333333,\"#9c179e\"],[0.4444444444444444,\"#bd3786\"],[0.5555555555555556,\"#d8576b\"],[0.6666666666666666,\"#ed7953\"],[0.7777777777777778,\"#fb9f3a\"],[0.8888888888888888,\"#fdca26\"],[1.0,\"#f0f921\"]],\"type\":\"surface\"}],\"table\":[{\"cells\":{\"fill\":{\"color\":\"#EBF0F8\"},\"line\":{\"color\":\"white\"}},\"header\":{\"fill\":{\"color\":\"#C8D4E3\"},\"line\":{\"color\":\"white\"}},\"type\":\"table\"}]},\"layout\":{\"annotationdefaults\":{\"arrowcolor\":\"#2a3f5f\",\"arrowhead\":0,\"arrowwidth\":1},\"autotypenumbers\":\"strict\",\"coloraxis\":{\"colorbar\":{\"outlinewidth\":0,\"ticks\":\"\"}},\"colorscale\":{\"diverging\":[[0,\"#8e0152\"],[0.1,\"#c51b7d\"],[0.2,\"#de77ae\"],[0.3,\"#f1b6da\"],[0.4,\"#fde0ef\"],[0.5,\"#f7f7f7\"],[0.6,\"#e6f5d0\"],[0.7,\"#b8e186\"],[0.8,\"#7fbc41\"],[0.9,\"#4d9221\"],[1,\"#276419\"]],\"sequential\":[[0.0,\"#0d0887\"],[0.1111111111111111,\"#46039f\"],[0.2222222222222222,\"#7201a8\"],[0.3333333333333333,\"#9c179e\"],[0.4444444444444444,\"#bd3786\"],[0.5555555555555556,\"#d8576b\"],[0.6666666666666666,\"#ed7953\"],[0.7777777777777778,\"#fb9f3a\"],[0.8888888888888888,\"#fdca26\"],[1.0,\"#f0f921\"]],\"sequentialminus\":[[0.0,\"#0d0887\"],[0.1111111111111111,\"#46039f\"],[0.2222222222222222,\"#7201a8\"],[0.3333333333333333,\"#9c179e\"],[0.4444444444444444,\"#bd3786\"],[0.5555555555555556,\"#d8576b\"],[0.6666666666666666,\"#ed7953\"],[0.7777777777777778,\"#fb9f3a\"],[0.8888888888888888,\"#fdca26\"],[1.0,\"#f0f921\"]]},\"colorway\":[\"#636efa\",\"#EF553B\",\"#00cc96\",\"#ab63fa\",\"#FFA15A\",\"#19d3f3\",\"#FF6692\",\"#B6E880\",\"#FF97FF\",\"#FECB52\"],\"font\":{\"color\":\"#2a3f5f\"},\"geo\":{\"bgcolor\":\"white\",\"lakecolor\":\"white\",\"landcolor\":\"#E5ECF6\",\"showlakes\":true,\"showland\":true,\"subunitcolor\":\"white\"},\"hoverlabel\":{\"align\":\"left\"},\"hovermode\":\"closest\",\"mapbox\":{\"style\":\"light\"},\"paper_bgcolor\":\"white\",\"plot_bgcolor\":\"#E5ECF6\",\"polar\":{\"angularaxis\":{\"gridcolor\":\"white\",\"linecolor\":\"white\",\"ticks\":\"\"},\"bgcolor\":\"#E5ECF6\",\"radialaxis\":{\"gridcolor\":\"white\",\"linecolor\":\"white\",\"ticks\":\"\"}},\"scene\":{\"xaxis\":{\"backgroundcolor\":\"#E5ECF6\",\"gridcolor\":\"white\",\"gridwidth\":2,\"linecolor\":\"white\",\"showbackground\":true,\"ticks\":\"\",\"zerolinecolor\":\"white\"},\"yaxis\":{\"backgroundcolor\":\"#E5ECF6\",\"gridcolor\":\"white\",\"gridwidth\":2,\"linecolor\":\"white\",\"showbackground\":true,\"ticks\":\"\",\"zerolinecolor\":\"white\"},\"zaxis\":{\"backgroundcolor\":\"#E5ECF6\",\"gridcolor\":\"white\",\"gridwidth\":2,\"linecolor\":\"white\",\"showbackground\":true,\"ticks\":\"\",\"zerolinecolor\":\"white\"}},\"shapedefaults\":{\"line\":{\"color\":\"#2a3f5f\"}},\"ternary\":{\"aaxis\":{\"gridcolor\":\"white\",\"linecolor\":\"white\",\"ticks\":\"\"},\"baxis\":{\"gridcolor\":\"white\",\"linecolor\":\"white\",\"ticks\":\"\"},\"bgcolor\":\"#E5ECF6\",\"caxis\":{\"gridcolor\":\"white\",\"linecolor\":\"white\",\"ticks\":\"\"}},\"title\":{\"x\":0.05},\"xaxis\":{\"automargin\":true,\"gridcolor\":\"white\",\"linecolor\":\"white\",\"ticks\":\"\",\"title\":{\"standoff\":15},\"zerolinecolor\":\"white\",\"zerolinewidth\":2},\"yaxis\":{\"automargin\":true,\"gridcolor\":\"white\",\"linecolor\":\"white\",\"ticks\":\"\",\"title\":{\"standoff\":15},\"zerolinecolor\":\"white\",\"zerolinewidth\":2}}},\"title\":{\"font\":{\"color\":\"#4D5663\"}},\"xaxis\":{\"gridcolor\":\"#E1E5ED\",\"showgrid\":true,\"tickfont\":{\"color\":\"#4D5663\"},\"title\":{\"font\":{\"color\":\"#4D5663\"},\"text\":\"\"},\"zerolinecolor\":\"#E1E5ED\"},\"yaxis\":{\"gridcolor\":\"#E1E5ED\",\"showgrid\":true,\"tickfont\":{\"color\":\"#4D5663\"},\"title\":{\"font\":{\"color\":\"#4D5663\"},\"text\":\"\"},\"zerolinecolor\":\"#E1E5ED\"}},                        {\"showLink\": true, \"linkText\": \"Export to plot.ly\", \"plotlyServerURL\": \"https://plot.ly\", \"responsive\": true}                    ).then(function(){\n",
       "                            \n",
       "var gd = document.getElementById('41172fcb-ce3c-4dfd-8cd8-e7bab7ec373f');\n",
       "var x = new MutationObserver(function (mutations, observer) {{\n",
       "        var display = window.getComputedStyle(gd).display;\n",
       "        if (!display || display === 'none') {{\n",
       "            console.log([gd, 'removed!']);\n",
       "            Plotly.purge(gd);\n",
       "            observer.disconnect();\n",
       "        }}\n",
       "}});\n",
       "\n",
       "// Listen for the removal of the full notebook cells\n",
       "var notebookContainer = gd.closest('#notebook-container');\n",
       "if (notebookContainer) {{\n",
       "    x.observe(notebookContainer, {childList: true});\n",
       "}}\n",
       "\n",
       "// Listen for the clearing of the current output cell\n",
       "var outputEl = gd.closest('.output');\n",
       "if (outputEl) {{\n",
       "    x.observe(outputEl, {childList: true});\n",
       "}}\n",
       "\n",
       "                        })                };                });            </script>        </div>"
      ]
     },
     "metadata": {},
     "output_type": "display_data"
    }
   ],
   "source": [
    "df.iplot(kind = 'bubble', x = 'A', y = 'B', size = 'C')"
   ]
  },
  {
   "cell_type": "code",
   "execution_count": 35,
   "metadata": {},
   "outputs": [
    {
     "data": {
      "application/vnd.plotly.v1+json": {
       "config": {
        "linkText": "Export to plot.ly",
        "plotlyServerURL": "https://plot.ly",
        "showLink": true
       },
       "data": [
        {
         "histfunc": "count",
         "histnorm": "",
         "marker": {
          "color": "rgba(255, 153, 51, 1.0)",
          "line": {
           "color": "#4D5663",
           "width": 1.3
          }
         },
         "name": "A",
         "nbinsx": 10,
         "opacity": 0.8,
         "orientation": "v",
         "type": "histogram",
         "x": [
          -0.10885847351151294,
          0.09968228043736554,
          -0.8641500448021835,
          0.38946228886209866,
          -0.7770036269217798,
          2.3588730184432016,
          1.562051288398869,
          0.07605439418663039,
          0.912717877662609,
          -0.5661466630732443,
          0.15027249585969116,
          -0.4556584761228636,
          0.7330115973669539,
          0.270546419853816,
          -0.5171511568557435,
          0.6144837230708565,
          -1.3075651835854845,
          -1.1219896050430447,
          0.05441883554658746,
          1.535619031172629,
          -0.9863215722815764,
          0.6961242561076794,
          0.08697726808705007,
          -0.057414641396003094,
          0.7335552092007928,
          0.5269636134982121,
          -0.47046371030295636,
          -0.9365373408183358,
          -0.02293781116985355,
          -0.6512104043803646,
          2.5508177224571607,
          -0.7665519295025828,
          -0.5778939635559637,
          -1.0108079345663405,
          0.5596080957499588,
          2.036755029958988,
          -0.11612807524088375,
          -0.14578115752350002,
          1.9809733239972844,
          0.20606800368987369,
          -1.4150543142095422,
          1.5171621691439114,
          1.789281156821119,
          1.0859845692218137,
          0.569850188094948,
          -0.5092600456498456,
          -0.5133673294741509,
          -0.17747214914436082,
          -0.28497893896678667,
          -1.017723548510392,
          -0.171222608370362,
          -0.6572538678650311,
          0.9974253025353275,
          0.15219540039653634,
          0.5866680040194782,
          -0.19001914914542503,
          0.5353419078118536,
          1.1152162652677877,
          2.97795797105388,
          0.9085279502252701,
          -0.17232731231989817,
          1.389245776868657,
          -0.5708394737976242,
          0.34436475178815107,
          -0.9150239338287431,
          0.5131055597150919,
          0.5031908634636201,
          2.238821334911018,
          -0.10669318171704228,
          0.7345420979543783,
          -2.062925100049065,
          -1.2413883423525092,
          -0.5724993827887654,
          0.859720954322044,
          1.1003071919413916,
          -0.471752236644702,
          0.46025542685963583,
          -0.1084369455556114,
          0.09639064705141714,
          -0.7616762580059623,
          -1.7826562298020405,
          -0.7257458029396603,
          -0.29848471990300596,
          0.2858439083232961,
          -0.3367202911240463,
          0.20527268466178267,
          0.36573323048382694,
          -0.578898295870351,
          1.6001728205820427,
          -1.4342738153944126,
          1.2548152560200398,
          -1.5076691281769783,
          1.3411368027344885,
          -0.27024403891496945,
          -1.4268485254400225,
          0.7432383970273235,
          -0.31907044797333006,
          0.036447356526887825,
          -0.8569238644208176,
          -0.5041947840868658
         ],
         "xaxis": "x",
         "yaxis": "y"
        },
        {
         "line": {
          "color": "rgba(128, 128, 128, 1.0)",
          "dash": "solid",
          "shape": "linear",
          "width": 1.3
         },
         "marker": {
          "size": 2,
          "symbol": "circle"
         },
         "mode": "markers",
         "name": "A",
         "text": "",
         "type": "scatter",
         "x": [
          -0.6607567515404839,
          0.6272057327377043,
          -0.29300459755897873,
          0.20396521190281927,
          -0.11254528632613671,
          1.175835792248741,
          -0.7377345445424521,
          0.356496022784465,
          1.3251418286139893,
          0.26885086019013144,
          1.122352095296499,
          0.24204159204449613,
          2.0123475931236077,
          0.5346441742217941,
          1.0238143940420046,
          0.8090796833083032,
          0.11313819918896648,
          2.24916865287664,
          0.012932222012098343,
          -0.40244432809040476,
          -0.2502753654633691,
          2.630557383226313,
          -0.7790771990625227,
          0.7355197860705898,
          -0.1943010347541226,
          1.2928782007154789,
          0.36572430645810655,
          -0.5392603452969593,
          -0.96023431045177,
          -0.09253815346977223,
          -0.4298824098705515,
          0.25425105887003596,
          -1.1674587129797283,
          -0.3840343408994587,
          1.3207712002551013,
          0.062356765784521456,
          0.9595537781702738,
          0.17240071462536052,
          -0.451261552754604,
          0.26033009506400173,
          -0.7193669753874455,
          1.3237640482815087,
          -0.27155167270699504,
          -0.19773330021703522,
          -0.07151638613211464,
          1.8903708416916005,
          -0.528035834561054,
          0.6244900423893583,
          -0.2651053906182809,
          1.5323114619010347,
          0.18001538721174082,
          0.9973476693237119,
          -1.58564522054993,
          1.1192253963894794,
          -0.5674695266246303,
          0.6634869383800137,
          0.2188382483231579,
          0.5690392046501117,
          -0.06603917493020449,
          -0.6105444992113863,
          1.736224515049627,
          1.8863963804057344,
          -2.0487797487038444,
          0.5047057902668708,
          -0.6634330645442947,
          -0.128018734829384,
          -1.0299738753476964,
          2.023938172106331,
          0.1957238535897606,
          0.14206388716721732,
          1.0228505986995695,
          -1.0652264255737482,
          0.6163051316586318,
          1.6022578249809882,
          -0.3526379835238936,
          -1.8418587223766436,
          -0.4754546562297881,
          -1.4657897646743254,
          1.291531251527738,
          0.6056778020888061,
          0.9618849334241207,
          -0.44070807412970214,
          0.6812198800439422,
          -0.48018367669432493,
          0.4450259781147967,
          2.1054135753292753,
          -0.47891017321267454,
          -0.11251171905452118,
          0.6272297098806351,
          0.29813117767436553,
          -0.9105125124581759,
          1.7637483257996116,
          0.49453904178321406,
          -0.09063675976922009,
          -1.2423412107676592,
          -0.24118324086440246,
          -0.019347818855389786,
          -0.7130858012841428,
          -1.2610100912832602,
          -0.31484580391977757
         ],
         "xaxis": "x2",
         "y": [
          -0.10885847351151294,
          0.09968228043736554,
          -0.8641500448021835,
          0.38946228886209866,
          -0.7770036269217798,
          2.3588730184432016,
          1.562051288398869,
          0.07605439418663039,
          0.912717877662609,
          -0.5661466630732443,
          0.15027249585969116,
          -0.4556584761228636,
          0.7330115973669539,
          0.270546419853816,
          -0.5171511568557435,
          0.6144837230708565,
          -1.3075651835854845,
          -1.1219896050430447,
          0.05441883554658746,
          1.535619031172629,
          -0.9863215722815764,
          0.6961242561076794,
          0.08697726808705007,
          -0.057414641396003094,
          0.7335552092007928,
          0.5269636134982121,
          -0.47046371030295636,
          -0.9365373408183358,
          -0.02293781116985355,
          -0.6512104043803646,
          2.5508177224571607,
          -0.7665519295025828,
          -0.5778939635559637,
          -1.0108079345663405,
          0.5596080957499588,
          2.036755029958988,
          -0.11612807524088375,
          -0.14578115752350002,
          1.9809733239972844,
          0.20606800368987369,
          -1.4150543142095422,
          1.5171621691439114,
          1.789281156821119,
          1.0859845692218137,
          0.569850188094948,
          -0.5092600456498456,
          -0.5133673294741509,
          -0.17747214914436082,
          -0.28497893896678667,
          -1.017723548510392,
          -0.171222608370362,
          -0.6572538678650311,
          0.9974253025353275,
          0.15219540039653634,
          0.5866680040194782,
          -0.19001914914542503,
          0.5353419078118536,
          1.1152162652677877,
          2.97795797105388,
          0.9085279502252701,
          -0.17232731231989817,
          1.389245776868657,
          -0.5708394737976242,
          0.34436475178815107,
          -0.9150239338287431,
          0.5131055597150919,
          0.5031908634636201,
          2.238821334911018,
          -0.10669318171704228,
          0.7345420979543783,
          -2.062925100049065,
          -1.2413883423525092,
          -0.5724993827887654,
          0.859720954322044,
          1.1003071919413916,
          -0.471752236644702,
          0.46025542685963583,
          -0.1084369455556114,
          0.09639064705141714,
          -0.7616762580059623,
          -1.7826562298020405,
          -0.7257458029396603,
          -0.29848471990300596,
          0.2858439083232961,
          -0.3367202911240463,
          0.20527268466178267,
          0.36573323048382694,
          -0.578898295870351,
          1.6001728205820427,
          -1.4342738153944126,
          1.2548152560200398,
          -1.5076691281769783,
          1.3411368027344885,
          -0.27024403891496945,
          -1.4268485254400225,
          0.7432383970273235,
          -0.31907044797333006,
          0.036447356526887825,
          -0.8569238644208176,
          -0.5041947840868658
         ],
         "yaxis": "y2"
        },
        {
         "line": {
          "color": "rgba(128, 128, 128, 1.0)",
          "dash": "solid",
          "shape": "linear",
          "width": 1.3
         },
         "marker": {
          "size": 2,
          "symbol": "circle"
         },
         "mode": "markers",
         "name": "A",
         "text": "",
         "type": "scatter",
         "x": [
          -1.1850705897601521,
          0.3761853015697947,
          0.6110459988456458,
          -1.1768028229366025,
          -1.8791624168125693,
          0.7720022143913202,
          -0.0893252953640753,
          1.039617165143866,
          -1.1840500730866144,
          0.8321614602592408,
          -1.23455277623035,
          -0.45833727083862735,
          1.1220726165049657,
          -1.6993662515664683,
          -0.14563422452336208,
          1.3418892881012277,
          1.50209878924822,
          0.24571141525950582,
          0.05925381879943243,
          -0.27240713457746824,
          -1.4359134436838947,
          -0.1535578006726762,
          0.5498729377699436,
          0.24591207455672578,
          1.3805360456900502,
          0.3904135864126944,
          -0.13581271740313985,
          1.7919670799831404,
          -1.0691186588793753,
          0.8585148027138233,
          -1.5951986693599076,
          1.0672084944289593,
          -0.41400102595952526,
          0.5817627738163651,
          0.5463160836769827,
          0.6180931224205171,
          0.31803238575742915,
          -0.5322130273534613,
          -0.5751881023297809,
          0.11711464019563658,
          0.2897572354379959,
          1.5251213365214897,
          2.502241044697504,
          -1.0775812333428496,
          0.9486812060323532,
          -1.4647561857509215,
          -1.075799602815771,
          -1.2932427985412889,
          -2.2696972086862446,
          0.9265964698004169,
          1.3180662734154076,
          1.0018997845709618,
          0.9339443113262336,
          0.995991554991809,
          0.16810108485542855,
          -0.05498815547830166,
          0.6191963771853356,
          -0.6211415441654871,
          1.9225161963901454,
          1.109667351904907,
          -0.4935685586651885,
          0.18483082811965695,
          0.2809684300781559,
          0.47754509983688403,
          0.15121254491430586,
          0.6132749388640667,
          2.129186436169313,
          1.0793866064312156,
          -0.4251155688010225,
          -0.2732289516473583,
          2.190233874337507,
          -1.4633556292414922,
          0.5464474728462337,
          1.8843275926183498,
          0.5073523203734914,
          0.11719873637408908,
          -1.772536247751536,
          0.37253201209491427,
          0.8550798325709544,
          0.6108288171710052,
          0.31144479658230606,
          0.04129963382415682,
          -0.5721269602866565,
          -1.1644479731019926,
          -0.5732634166989471,
          0.41703832982192696,
          1.520779059735967,
          -0.8074484829813724,
          -0.47513098812332116,
          0.24978738197180275,
          0.1669708471442198,
          -0.13695759456345732,
          1.085459636883732,
          1.6927949085644212,
          -0.3703933092097937,
          2.9867423940495583,
          -0.18109202888901874,
          -0.2469751779320185,
          -0.34396759900202334,
          1.3071589983054204
         ],
         "xaxis": "x3",
         "y": [
          -0.10885847351151294,
          0.09968228043736554,
          -0.8641500448021835,
          0.38946228886209866,
          -0.7770036269217798,
          2.3588730184432016,
          1.562051288398869,
          0.07605439418663039,
          0.912717877662609,
          -0.5661466630732443,
          0.15027249585969116,
          -0.4556584761228636,
          0.7330115973669539,
          0.270546419853816,
          -0.5171511568557435,
          0.6144837230708565,
          -1.3075651835854845,
          -1.1219896050430447,
          0.05441883554658746,
          1.535619031172629,
          -0.9863215722815764,
          0.6961242561076794,
          0.08697726808705007,
          -0.057414641396003094,
          0.7335552092007928,
          0.5269636134982121,
          -0.47046371030295636,
          -0.9365373408183358,
          -0.02293781116985355,
          -0.6512104043803646,
          2.5508177224571607,
          -0.7665519295025828,
          -0.5778939635559637,
          -1.0108079345663405,
          0.5596080957499588,
          2.036755029958988,
          -0.11612807524088375,
          -0.14578115752350002,
          1.9809733239972844,
          0.20606800368987369,
          -1.4150543142095422,
          1.5171621691439114,
          1.789281156821119,
          1.0859845692218137,
          0.569850188094948,
          -0.5092600456498456,
          -0.5133673294741509,
          -0.17747214914436082,
          -0.28497893896678667,
          -1.017723548510392,
          -0.171222608370362,
          -0.6572538678650311,
          0.9974253025353275,
          0.15219540039653634,
          0.5866680040194782,
          -0.19001914914542503,
          0.5353419078118536,
          1.1152162652677877,
          2.97795797105388,
          0.9085279502252701,
          -0.17232731231989817,
          1.389245776868657,
          -0.5708394737976242,
          0.34436475178815107,
          -0.9150239338287431,
          0.5131055597150919,
          0.5031908634636201,
          2.238821334911018,
          -0.10669318171704228,
          0.7345420979543783,
          -2.062925100049065,
          -1.2413883423525092,
          -0.5724993827887654,
          0.859720954322044,
          1.1003071919413916,
          -0.471752236644702,
          0.46025542685963583,
          -0.1084369455556114,
          0.09639064705141714,
          -0.7616762580059623,
          -1.7826562298020405,
          -0.7257458029396603,
          -0.29848471990300596,
          0.2858439083232961,
          -0.3367202911240463,
          0.20527268466178267,
          0.36573323048382694,
          -0.578898295870351,
          1.6001728205820427,
          -1.4342738153944126,
          1.2548152560200398,
          -1.5076691281769783,
          1.3411368027344885,
          -0.27024403891496945,
          -1.4268485254400225,
          0.7432383970273235,
          -0.31907044797333006,
          0.036447356526887825,
          -0.8569238644208176,
          -0.5041947840868658
         ],
         "yaxis": "y3"
        },
        {
         "line": {
          "color": "rgba(128, 128, 128, 1.0)",
          "dash": "solid",
          "shape": "linear",
          "width": 1.3
         },
         "marker": {
          "size": 2,
          "symbol": "circle"
         },
         "mode": "markers",
         "name": "A",
         "text": "",
         "type": "scatter",
         "x": [
          0.5899582634645533,
          1.5808432661410567,
          0.34561449097685376,
          0.2728656800844236,
          -1.447961115065258,
          2.0665441538512974,
          1.536102871801085,
          0.925032550192467,
          -0.6345781121065829,
          -0.3601240464778806,
          -0.7999400098410929,
          -0.15470059858329765,
          -0.43483484592130944,
          -0.35454673677398074,
          0.6447744653449229,
          -0.37007267827112644,
          -0.5137884466671174,
          -0.16163190054914361,
          0.7804774982243313,
          -1.9233162478024974,
          1.5642145003662575,
          0.4173143135774519,
          -0.4813792530028488,
          0.3346325722058072,
          0.09674982622146834,
          -0.1756837333246901,
          0.9544719059402534,
          0.13931926641473943,
          0.4758251660525391,
          0.2602469136562438,
          -0.2533319926943123,
          1.763038543212188,
          -0.1271926477483187,
          0.6107037143379589,
          0.3267620585475331,
          0.9771151901287334,
          -1.775591993226835,
          0.4553932067832489,
          -1.1869869920003338,
          -0.30170251482254495,
          -1.1015240044814973,
          1.4217312129727295,
          -0.6664042443191304,
          -0.8617929997942941,
          1.7151107629039979,
          -0.38786790728419923,
          -1.5151051299366691,
          0.7109736871683429,
          -0.5208399147575378,
          -1.4862278327670115,
          -0.597605169046876,
          1.2426494433850057,
          1.7304577081528194,
          2.0059871958872844,
          -0.11974170867041577,
          -0.427998606749268,
          -0.07537287026650681,
          -0.87845548354086,
          0.9573479344815539,
          0.8071827997132053,
          -1.5476415134654689,
          -0.09402161523384257,
          -1.3154429788134763,
          0.738515850070673,
          0.007230389499876916,
          -0.2777361675822311,
          0.8153060852341795,
          -0.7079225037795478,
          -1.1383801646246323,
          1.0920744651831522,
          -0.030415729816667392,
          0.38203906400697824,
          0.30736386123118487,
          0.7078437185790925,
          -1.3004929568091852,
          -0.3245924863618333,
          -1.587873057747594,
          -0.2517083843878335,
          1.1701108332499774,
          -0.03767379337014992,
          2.717620846113011,
          -0.7729456312276415,
          -0.45856923111916303,
          1.1541410223539503,
          1.1436737062336637,
          -0.28200407130511806,
          -0.069434709469561,
          0.5707763364559357,
          -0.5984913824920475,
          -2.228669894005689,
          -0.784083983517904,
          0.1751517676737111,
          0.1863769684271199,
          0.5051819931537751,
          0.504800375706003,
          0.22804895723717042,
          0.7626066697825327,
          -1.316304447931998,
          -1.5186647281420522,
          -1.5806817324477638
         ],
         "xaxis": "x4",
         "y": [
          -0.10885847351151294,
          0.09968228043736554,
          -0.8641500448021835,
          0.38946228886209866,
          -0.7770036269217798,
          2.3588730184432016,
          1.562051288398869,
          0.07605439418663039,
          0.912717877662609,
          -0.5661466630732443,
          0.15027249585969116,
          -0.4556584761228636,
          0.7330115973669539,
          0.270546419853816,
          -0.5171511568557435,
          0.6144837230708565,
          -1.3075651835854845,
          -1.1219896050430447,
          0.05441883554658746,
          1.535619031172629,
          -0.9863215722815764,
          0.6961242561076794,
          0.08697726808705007,
          -0.057414641396003094,
          0.7335552092007928,
          0.5269636134982121,
          -0.47046371030295636,
          -0.9365373408183358,
          -0.02293781116985355,
          -0.6512104043803646,
          2.5508177224571607,
          -0.7665519295025828,
          -0.5778939635559637,
          -1.0108079345663405,
          0.5596080957499588,
          2.036755029958988,
          -0.11612807524088375,
          -0.14578115752350002,
          1.9809733239972844,
          0.20606800368987369,
          -1.4150543142095422,
          1.5171621691439114,
          1.789281156821119,
          1.0859845692218137,
          0.569850188094948,
          -0.5092600456498456,
          -0.5133673294741509,
          -0.17747214914436082,
          -0.28497893896678667,
          -1.017723548510392,
          -0.171222608370362,
          -0.6572538678650311,
          0.9974253025353275,
          0.15219540039653634,
          0.5866680040194782,
          -0.19001914914542503,
          0.5353419078118536,
          1.1152162652677877,
          2.97795797105388,
          0.9085279502252701,
          -0.17232731231989817,
          1.389245776868657,
          -0.5708394737976242,
          0.34436475178815107,
          -0.9150239338287431,
          0.5131055597150919,
          0.5031908634636201,
          2.238821334911018,
          -0.10669318171704228,
          0.7345420979543783,
          -2.062925100049065,
          -1.2413883423525092,
          -0.5724993827887654,
          0.859720954322044,
          1.1003071919413916,
          -0.471752236644702,
          0.46025542685963583,
          -0.1084369455556114,
          0.09639064705141714,
          -0.7616762580059623,
          -1.7826562298020405,
          -0.7257458029396603,
          -0.29848471990300596,
          0.2858439083232961,
          -0.3367202911240463,
          0.20527268466178267,
          0.36573323048382694,
          -0.578898295870351,
          1.6001728205820427,
          -1.4342738153944126,
          1.2548152560200398,
          -1.5076691281769783,
          1.3411368027344885,
          -0.27024403891496945,
          -1.4268485254400225,
          0.7432383970273235,
          -0.31907044797333006,
          0.036447356526887825,
          -0.8569238644208176,
          -0.5041947840868658
         ],
         "yaxis": "y4"
        },
        {
         "line": {
          "color": "rgba(128, 128, 128, 1.0)",
          "dash": "solid",
          "shape": "linear",
          "width": 1.3
         },
         "marker": {
          "size": 2,
          "symbol": "circle"
         },
         "mode": "markers",
         "name": "B",
         "text": "",
         "type": "scatter",
         "x": [
          -0.10885847351151294,
          0.09968228043736554,
          -0.8641500448021835,
          0.38946228886209866,
          -0.7770036269217798,
          2.3588730184432016,
          1.562051288398869,
          0.07605439418663039,
          0.912717877662609,
          -0.5661466630732443,
          0.15027249585969116,
          -0.4556584761228636,
          0.7330115973669539,
          0.270546419853816,
          -0.5171511568557435,
          0.6144837230708565,
          -1.3075651835854845,
          -1.1219896050430447,
          0.05441883554658746,
          1.535619031172629,
          -0.9863215722815764,
          0.6961242561076794,
          0.08697726808705007,
          -0.057414641396003094,
          0.7335552092007928,
          0.5269636134982121,
          -0.47046371030295636,
          -0.9365373408183358,
          -0.02293781116985355,
          -0.6512104043803646,
          2.5508177224571607,
          -0.7665519295025828,
          -0.5778939635559637,
          -1.0108079345663405,
          0.5596080957499588,
          2.036755029958988,
          -0.11612807524088375,
          -0.14578115752350002,
          1.9809733239972844,
          0.20606800368987369,
          -1.4150543142095422,
          1.5171621691439114,
          1.789281156821119,
          1.0859845692218137,
          0.569850188094948,
          -0.5092600456498456,
          -0.5133673294741509,
          -0.17747214914436082,
          -0.28497893896678667,
          -1.017723548510392,
          -0.171222608370362,
          -0.6572538678650311,
          0.9974253025353275,
          0.15219540039653634,
          0.5866680040194782,
          -0.19001914914542503,
          0.5353419078118536,
          1.1152162652677877,
          2.97795797105388,
          0.9085279502252701,
          -0.17232731231989817,
          1.389245776868657,
          -0.5708394737976242,
          0.34436475178815107,
          -0.9150239338287431,
          0.5131055597150919,
          0.5031908634636201,
          2.238821334911018,
          -0.10669318171704228,
          0.7345420979543783,
          -2.062925100049065,
          -1.2413883423525092,
          -0.5724993827887654,
          0.859720954322044,
          1.1003071919413916,
          -0.471752236644702,
          0.46025542685963583,
          -0.1084369455556114,
          0.09639064705141714,
          -0.7616762580059623,
          -1.7826562298020405,
          -0.7257458029396603,
          -0.29848471990300596,
          0.2858439083232961,
          -0.3367202911240463,
          0.20527268466178267,
          0.36573323048382694,
          -0.578898295870351,
          1.6001728205820427,
          -1.4342738153944126,
          1.2548152560200398,
          -1.5076691281769783,
          1.3411368027344885,
          -0.27024403891496945,
          -1.4268485254400225,
          0.7432383970273235,
          -0.31907044797333006,
          0.036447356526887825,
          -0.8569238644208176,
          -0.5041947840868658
         ],
         "xaxis": "x5",
         "y": [
          -0.6607567515404839,
          0.6272057327377043,
          -0.29300459755897873,
          0.20396521190281927,
          -0.11254528632613671,
          1.175835792248741,
          -0.7377345445424521,
          0.356496022784465,
          1.3251418286139893,
          0.26885086019013144,
          1.122352095296499,
          0.24204159204449613,
          2.0123475931236077,
          0.5346441742217941,
          1.0238143940420046,
          0.8090796833083032,
          0.11313819918896648,
          2.24916865287664,
          0.012932222012098343,
          -0.40244432809040476,
          -0.2502753654633691,
          2.630557383226313,
          -0.7790771990625227,
          0.7355197860705898,
          -0.1943010347541226,
          1.2928782007154789,
          0.36572430645810655,
          -0.5392603452969593,
          -0.96023431045177,
          -0.09253815346977223,
          -0.4298824098705515,
          0.25425105887003596,
          -1.1674587129797283,
          -0.3840343408994587,
          1.3207712002551013,
          0.062356765784521456,
          0.9595537781702738,
          0.17240071462536052,
          -0.451261552754604,
          0.26033009506400173,
          -0.7193669753874455,
          1.3237640482815087,
          -0.27155167270699504,
          -0.19773330021703522,
          -0.07151638613211464,
          1.8903708416916005,
          -0.528035834561054,
          0.6244900423893583,
          -0.2651053906182809,
          1.5323114619010347,
          0.18001538721174082,
          0.9973476693237119,
          -1.58564522054993,
          1.1192253963894794,
          -0.5674695266246303,
          0.6634869383800137,
          0.2188382483231579,
          0.5690392046501117,
          -0.06603917493020449,
          -0.6105444992113863,
          1.736224515049627,
          1.8863963804057344,
          -2.0487797487038444,
          0.5047057902668708,
          -0.6634330645442947,
          -0.128018734829384,
          -1.0299738753476964,
          2.023938172106331,
          0.1957238535897606,
          0.14206388716721732,
          1.0228505986995695,
          -1.0652264255737482,
          0.6163051316586318,
          1.6022578249809882,
          -0.3526379835238936,
          -1.8418587223766436,
          -0.4754546562297881,
          -1.4657897646743254,
          1.291531251527738,
          0.6056778020888061,
          0.9618849334241207,
          -0.44070807412970214,
          0.6812198800439422,
          -0.48018367669432493,
          0.4450259781147967,
          2.1054135753292753,
          -0.47891017321267454,
          -0.11251171905452118,
          0.6272297098806351,
          0.29813117767436553,
          -0.9105125124581759,
          1.7637483257996116,
          0.49453904178321406,
          -0.09063675976922009,
          -1.2423412107676592,
          -0.24118324086440246,
          -0.019347818855389786,
          -0.7130858012841428,
          -1.2610100912832602,
          -0.31484580391977757
         ],
         "yaxis": "y5"
        },
        {
         "histfunc": "count",
         "histnorm": "",
         "marker": {
          "color": "rgba(55, 128, 191, 1.0)",
          "line": {
           "color": "#4D5663",
           "width": 1.3
          }
         },
         "name": "B",
         "nbinsx": 10,
         "opacity": 0.8,
         "orientation": "v",
         "type": "histogram",
         "x": [
          -0.6607567515404839,
          0.6272057327377043,
          -0.29300459755897873,
          0.20396521190281927,
          -0.11254528632613671,
          1.175835792248741,
          -0.7377345445424521,
          0.356496022784465,
          1.3251418286139893,
          0.26885086019013144,
          1.122352095296499,
          0.24204159204449613,
          2.0123475931236077,
          0.5346441742217941,
          1.0238143940420046,
          0.8090796833083032,
          0.11313819918896648,
          2.24916865287664,
          0.012932222012098343,
          -0.40244432809040476,
          -0.2502753654633691,
          2.630557383226313,
          -0.7790771990625227,
          0.7355197860705898,
          -0.1943010347541226,
          1.2928782007154789,
          0.36572430645810655,
          -0.5392603452969593,
          -0.96023431045177,
          -0.09253815346977223,
          -0.4298824098705515,
          0.25425105887003596,
          -1.1674587129797283,
          -0.3840343408994587,
          1.3207712002551013,
          0.062356765784521456,
          0.9595537781702738,
          0.17240071462536052,
          -0.451261552754604,
          0.26033009506400173,
          -0.7193669753874455,
          1.3237640482815087,
          -0.27155167270699504,
          -0.19773330021703522,
          -0.07151638613211464,
          1.8903708416916005,
          -0.528035834561054,
          0.6244900423893583,
          -0.2651053906182809,
          1.5323114619010347,
          0.18001538721174082,
          0.9973476693237119,
          -1.58564522054993,
          1.1192253963894794,
          -0.5674695266246303,
          0.6634869383800137,
          0.2188382483231579,
          0.5690392046501117,
          -0.06603917493020449,
          -0.6105444992113863,
          1.736224515049627,
          1.8863963804057344,
          -2.0487797487038444,
          0.5047057902668708,
          -0.6634330645442947,
          -0.128018734829384,
          -1.0299738753476964,
          2.023938172106331,
          0.1957238535897606,
          0.14206388716721732,
          1.0228505986995695,
          -1.0652264255737482,
          0.6163051316586318,
          1.6022578249809882,
          -0.3526379835238936,
          -1.8418587223766436,
          -0.4754546562297881,
          -1.4657897646743254,
          1.291531251527738,
          0.6056778020888061,
          0.9618849334241207,
          -0.44070807412970214,
          0.6812198800439422,
          -0.48018367669432493,
          0.4450259781147967,
          2.1054135753292753,
          -0.47891017321267454,
          -0.11251171905452118,
          0.6272297098806351,
          0.29813117767436553,
          -0.9105125124581759,
          1.7637483257996116,
          0.49453904178321406,
          -0.09063675976922009,
          -1.2423412107676592,
          -0.24118324086440246,
          -0.019347818855389786,
          -0.7130858012841428,
          -1.2610100912832602,
          -0.31484580391977757
         ],
         "xaxis": "x6",
         "yaxis": "y6"
        },
        {
         "line": {
          "color": "rgba(128, 128, 128, 1.0)",
          "dash": "solid",
          "shape": "linear",
          "width": 1.3
         },
         "marker": {
          "size": 2,
          "symbol": "circle"
         },
         "mode": "markers",
         "name": "B",
         "text": "",
         "type": "scatter",
         "x": [
          -1.1850705897601521,
          0.3761853015697947,
          0.6110459988456458,
          -1.1768028229366025,
          -1.8791624168125693,
          0.7720022143913202,
          -0.0893252953640753,
          1.039617165143866,
          -1.1840500730866144,
          0.8321614602592408,
          -1.23455277623035,
          -0.45833727083862735,
          1.1220726165049657,
          -1.6993662515664683,
          -0.14563422452336208,
          1.3418892881012277,
          1.50209878924822,
          0.24571141525950582,
          0.05925381879943243,
          -0.27240713457746824,
          -1.4359134436838947,
          -0.1535578006726762,
          0.5498729377699436,
          0.24591207455672578,
          1.3805360456900502,
          0.3904135864126944,
          -0.13581271740313985,
          1.7919670799831404,
          -1.0691186588793753,
          0.8585148027138233,
          -1.5951986693599076,
          1.0672084944289593,
          -0.41400102595952526,
          0.5817627738163651,
          0.5463160836769827,
          0.6180931224205171,
          0.31803238575742915,
          -0.5322130273534613,
          -0.5751881023297809,
          0.11711464019563658,
          0.2897572354379959,
          1.5251213365214897,
          2.502241044697504,
          -1.0775812333428496,
          0.9486812060323532,
          -1.4647561857509215,
          -1.075799602815771,
          -1.2932427985412889,
          -2.2696972086862446,
          0.9265964698004169,
          1.3180662734154076,
          1.0018997845709618,
          0.9339443113262336,
          0.995991554991809,
          0.16810108485542855,
          -0.05498815547830166,
          0.6191963771853356,
          -0.6211415441654871,
          1.9225161963901454,
          1.109667351904907,
          -0.4935685586651885,
          0.18483082811965695,
          0.2809684300781559,
          0.47754509983688403,
          0.15121254491430586,
          0.6132749388640667,
          2.129186436169313,
          1.0793866064312156,
          -0.4251155688010225,
          -0.2732289516473583,
          2.190233874337507,
          -1.4633556292414922,
          0.5464474728462337,
          1.8843275926183498,
          0.5073523203734914,
          0.11719873637408908,
          -1.772536247751536,
          0.37253201209491427,
          0.8550798325709544,
          0.6108288171710052,
          0.31144479658230606,
          0.04129963382415682,
          -0.5721269602866565,
          -1.1644479731019926,
          -0.5732634166989471,
          0.41703832982192696,
          1.520779059735967,
          -0.8074484829813724,
          -0.47513098812332116,
          0.24978738197180275,
          0.1669708471442198,
          -0.13695759456345732,
          1.085459636883732,
          1.6927949085644212,
          -0.3703933092097937,
          2.9867423940495583,
          -0.18109202888901874,
          -0.2469751779320185,
          -0.34396759900202334,
          1.3071589983054204
         ],
         "xaxis": "x7",
         "y": [
          -0.6607567515404839,
          0.6272057327377043,
          -0.29300459755897873,
          0.20396521190281927,
          -0.11254528632613671,
          1.175835792248741,
          -0.7377345445424521,
          0.356496022784465,
          1.3251418286139893,
          0.26885086019013144,
          1.122352095296499,
          0.24204159204449613,
          2.0123475931236077,
          0.5346441742217941,
          1.0238143940420046,
          0.8090796833083032,
          0.11313819918896648,
          2.24916865287664,
          0.012932222012098343,
          -0.40244432809040476,
          -0.2502753654633691,
          2.630557383226313,
          -0.7790771990625227,
          0.7355197860705898,
          -0.1943010347541226,
          1.2928782007154789,
          0.36572430645810655,
          -0.5392603452969593,
          -0.96023431045177,
          -0.09253815346977223,
          -0.4298824098705515,
          0.25425105887003596,
          -1.1674587129797283,
          -0.3840343408994587,
          1.3207712002551013,
          0.062356765784521456,
          0.9595537781702738,
          0.17240071462536052,
          -0.451261552754604,
          0.26033009506400173,
          -0.7193669753874455,
          1.3237640482815087,
          -0.27155167270699504,
          -0.19773330021703522,
          -0.07151638613211464,
          1.8903708416916005,
          -0.528035834561054,
          0.6244900423893583,
          -0.2651053906182809,
          1.5323114619010347,
          0.18001538721174082,
          0.9973476693237119,
          -1.58564522054993,
          1.1192253963894794,
          -0.5674695266246303,
          0.6634869383800137,
          0.2188382483231579,
          0.5690392046501117,
          -0.06603917493020449,
          -0.6105444992113863,
          1.736224515049627,
          1.8863963804057344,
          -2.0487797487038444,
          0.5047057902668708,
          -0.6634330645442947,
          -0.128018734829384,
          -1.0299738753476964,
          2.023938172106331,
          0.1957238535897606,
          0.14206388716721732,
          1.0228505986995695,
          -1.0652264255737482,
          0.6163051316586318,
          1.6022578249809882,
          -0.3526379835238936,
          -1.8418587223766436,
          -0.4754546562297881,
          -1.4657897646743254,
          1.291531251527738,
          0.6056778020888061,
          0.9618849334241207,
          -0.44070807412970214,
          0.6812198800439422,
          -0.48018367669432493,
          0.4450259781147967,
          2.1054135753292753,
          -0.47891017321267454,
          -0.11251171905452118,
          0.6272297098806351,
          0.29813117767436553,
          -0.9105125124581759,
          1.7637483257996116,
          0.49453904178321406,
          -0.09063675976922009,
          -1.2423412107676592,
          -0.24118324086440246,
          -0.019347818855389786,
          -0.7130858012841428,
          -1.2610100912832602,
          -0.31484580391977757
         ],
         "yaxis": "y7"
        },
        {
         "line": {
          "color": "rgba(128, 128, 128, 1.0)",
          "dash": "solid",
          "shape": "linear",
          "width": 1.3
         },
         "marker": {
          "size": 2,
          "symbol": "circle"
         },
         "mode": "markers",
         "name": "B",
         "text": "",
         "type": "scatter",
         "x": [
          0.5899582634645533,
          1.5808432661410567,
          0.34561449097685376,
          0.2728656800844236,
          -1.447961115065258,
          2.0665441538512974,
          1.536102871801085,
          0.925032550192467,
          -0.6345781121065829,
          -0.3601240464778806,
          -0.7999400098410929,
          -0.15470059858329765,
          -0.43483484592130944,
          -0.35454673677398074,
          0.6447744653449229,
          -0.37007267827112644,
          -0.5137884466671174,
          -0.16163190054914361,
          0.7804774982243313,
          -1.9233162478024974,
          1.5642145003662575,
          0.4173143135774519,
          -0.4813792530028488,
          0.3346325722058072,
          0.09674982622146834,
          -0.1756837333246901,
          0.9544719059402534,
          0.13931926641473943,
          0.4758251660525391,
          0.2602469136562438,
          -0.2533319926943123,
          1.763038543212188,
          -0.1271926477483187,
          0.6107037143379589,
          0.3267620585475331,
          0.9771151901287334,
          -1.775591993226835,
          0.4553932067832489,
          -1.1869869920003338,
          -0.30170251482254495,
          -1.1015240044814973,
          1.4217312129727295,
          -0.6664042443191304,
          -0.8617929997942941,
          1.7151107629039979,
          -0.38786790728419923,
          -1.5151051299366691,
          0.7109736871683429,
          -0.5208399147575378,
          -1.4862278327670115,
          -0.597605169046876,
          1.2426494433850057,
          1.7304577081528194,
          2.0059871958872844,
          -0.11974170867041577,
          -0.427998606749268,
          -0.07537287026650681,
          -0.87845548354086,
          0.9573479344815539,
          0.8071827997132053,
          -1.5476415134654689,
          -0.09402161523384257,
          -1.3154429788134763,
          0.738515850070673,
          0.007230389499876916,
          -0.2777361675822311,
          0.8153060852341795,
          -0.7079225037795478,
          -1.1383801646246323,
          1.0920744651831522,
          -0.030415729816667392,
          0.38203906400697824,
          0.30736386123118487,
          0.7078437185790925,
          -1.3004929568091852,
          -0.3245924863618333,
          -1.587873057747594,
          -0.2517083843878335,
          1.1701108332499774,
          -0.03767379337014992,
          2.717620846113011,
          -0.7729456312276415,
          -0.45856923111916303,
          1.1541410223539503,
          1.1436737062336637,
          -0.28200407130511806,
          -0.069434709469561,
          0.5707763364559357,
          -0.5984913824920475,
          -2.228669894005689,
          -0.784083983517904,
          0.1751517676737111,
          0.1863769684271199,
          0.5051819931537751,
          0.504800375706003,
          0.22804895723717042,
          0.7626066697825327,
          -1.316304447931998,
          -1.5186647281420522,
          -1.5806817324477638
         ],
         "xaxis": "x8",
         "y": [
          -0.6607567515404839,
          0.6272057327377043,
          -0.29300459755897873,
          0.20396521190281927,
          -0.11254528632613671,
          1.175835792248741,
          -0.7377345445424521,
          0.356496022784465,
          1.3251418286139893,
          0.26885086019013144,
          1.122352095296499,
          0.24204159204449613,
          2.0123475931236077,
          0.5346441742217941,
          1.0238143940420046,
          0.8090796833083032,
          0.11313819918896648,
          2.24916865287664,
          0.012932222012098343,
          -0.40244432809040476,
          -0.2502753654633691,
          2.630557383226313,
          -0.7790771990625227,
          0.7355197860705898,
          -0.1943010347541226,
          1.2928782007154789,
          0.36572430645810655,
          -0.5392603452969593,
          -0.96023431045177,
          -0.09253815346977223,
          -0.4298824098705515,
          0.25425105887003596,
          -1.1674587129797283,
          -0.3840343408994587,
          1.3207712002551013,
          0.062356765784521456,
          0.9595537781702738,
          0.17240071462536052,
          -0.451261552754604,
          0.26033009506400173,
          -0.7193669753874455,
          1.3237640482815087,
          -0.27155167270699504,
          -0.19773330021703522,
          -0.07151638613211464,
          1.8903708416916005,
          -0.528035834561054,
          0.6244900423893583,
          -0.2651053906182809,
          1.5323114619010347,
          0.18001538721174082,
          0.9973476693237119,
          -1.58564522054993,
          1.1192253963894794,
          -0.5674695266246303,
          0.6634869383800137,
          0.2188382483231579,
          0.5690392046501117,
          -0.06603917493020449,
          -0.6105444992113863,
          1.736224515049627,
          1.8863963804057344,
          -2.0487797487038444,
          0.5047057902668708,
          -0.6634330645442947,
          -0.128018734829384,
          -1.0299738753476964,
          2.023938172106331,
          0.1957238535897606,
          0.14206388716721732,
          1.0228505986995695,
          -1.0652264255737482,
          0.6163051316586318,
          1.6022578249809882,
          -0.3526379835238936,
          -1.8418587223766436,
          -0.4754546562297881,
          -1.4657897646743254,
          1.291531251527738,
          0.6056778020888061,
          0.9618849334241207,
          -0.44070807412970214,
          0.6812198800439422,
          -0.48018367669432493,
          0.4450259781147967,
          2.1054135753292753,
          -0.47891017321267454,
          -0.11251171905452118,
          0.6272297098806351,
          0.29813117767436553,
          -0.9105125124581759,
          1.7637483257996116,
          0.49453904178321406,
          -0.09063675976922009,
          -1.2423412107676592,
          -0.24118324086440246,
          -0.019347818855389786,
          -0.7130858012841428,
          -1.2610100912832602,
          -0.31484580391977757
         ],
         "yaxis": "y8"
        },
        {
         "line": {
          "color": "rgba(128, 128, 128, 1.0)",
          "dash": "solid",
          "shape": "linear",
          "width": 1.3
         },
         "marker": {
          "size": 2,
          "symbol": "circle"
         },
         "mode": "markers",
         "name": "C",
         "text": "",
         "type": "scatter",
         "x": [
          -0.10885847351151294,
          0.09968228043736554,
          -0.8641500448021835,
          0.38946228886209866,
          -0.7770036269217798,
          2.3588730184432016,
          1.562051288398869,
          0.07605439418663039,
          0.912717877662609,
          -0.5661466630732443,
          0.15027249585969116,
          -0.4556584761228636,
          0.7330115973669539,
          0.270546419853816,
          -0.5171511568557435,
          0.6144837230708565,
          -1.3075651835854845,
          -1.1219896050430447,
          0.05441883554658746,
          1.535619031172629,
          -0.9863215722815764,
          0.6961242561076794,
          0.08697726808705007,
          -0.057414641396003094,
          0.7335552092007928,
          0.5269636134982121,
          -0.47046371030295636,
          -0.9365373408183358,
          -0.02293781116985355,
          -0.6512104043803646,
          2.5508177224571607,
          -0.7665519295025828,
          -0.5778939635559637,
          -1.0108079345663405,
          0.5596080957499588,
          2.036755029958988,
          -0.11612807524088375,
          -0.14578115752350002,
          1.9809733239972844,
          0.20606800368987369,
          -1.4150543142095422,
          1.5171621691439114,
          1.789281156821119,
          1.0859845692218137,
          0.569850188094948,
          -0.5092600456498456,
          -0.5133673294741509,
          -0.17747214914436082,
          -0.28497893896678667,
          -1.017723548510392,
          -0.171222608370362,
          -0.6572538678650311,
          0.9974253025353275,
          0.15219540039653634,
          0.5866680040194782,
          -0.19001914914542503,
          0.5353419078118536,
          1.1152162652677877,
          2.97795797105388,
          0.9085279502252701,
          -0.17232731231989817,
          1.389245776868657,
          -0.5708394737976242,
          0.34436475178815107,
          -0.9150239338287431,
          0.5131055597150919,
          0.5031908634636201,
          2.238821334911018,
          -0.10669318171704228,
          0.7345420979543783,
          -2.062925100049065,
          -1.2413883423525092,
          -0.5724993827887654,
          0.859720954322044,
          1.1003071919413916,
          -0.471752236644702,
          0.46025542685963583,
          -0.1084369455556114,
          0.09639064705141714,
          -0.7616762580059623,
          -1.7826562298020405,
          -0.7257458029396603,
          -0.29848471990300596,
          0.2858439083232961,
          -0.3367202911240463,
          0.20527268466178267,
          0.36573323048382694,
          -0.578898295870351,
          1.6001728205820427,
          -1.4342738153944126,
          1.2548152560200398,
          -1.5076691281769783,
          1.3411368027344885,
          -0.27024403891496945,
          -1.4268485254400225,
          0.7432383970273235,
          -0.31907044797333006,
          0.036447356526887825,
          -0.8569238644208176,
          -0.5041947840868658
         ],
         "xaxis": "x9",
         "y": [
          -1.1850705897601521,
          0.3761853015697947,
          0.6110459988456458,
          -1.1768028229366025,
          -1.8791624168125693,
          0.7720022143913202,
          -0.0893252953640753,
          1.039617165143866,
          -1.1840500730866144,
          0.8321614602592408,
          -1.23455277623035,
          -0.45833727083862735,
          1.1220726165049657,
          -1.6993662515664683,
          -0.14563422452336208,
          1.3418892881012277,
          1.50209878924822,
          0.24571141525950582,
          0.05925381879943243,
          -0.27240713457746824,
          -1.4359134436838947,
          -0.1535578006726762,
          0.5498729377699436,
          0.24591207455672578,
          1.3805360456900502,
          0.3904135864126944,
          -0.13581271740313985,
          1.7919670799831404,
          -1.0691186588793753,
          0.8585148027138233,
          -1.5951986693599076,
          1.0672084944289593,
          -0.41400102595952526,
          0.5817627738163651,
          0.5463160836769827,
          0.6180931224205171,
          0.31803238575742915,
          -0.5322130273534613,
          -0.5751881023297809,
          0.11711464019563658,
          0.2897572354379959,
          1.5251213365214897,
          2.502241044697504,
          -1.0775812333428496,
          0.9486812060323532,
          -1.4647561857509215,
          -1.075799602815771,
          -1.2932427985412889,
          -2.2696972086862446,
          0.9265964698004169,
          1.3180662734154076,
          1.0018997845709618,
          0.9339443113262336,
          0.995991554991809,
          0.16810108485542855,
          -0.05498815547830166,
          0.6191963771853356,
          -0.6211415441654871,
          1.9225161963901454,
          1.109667351904907,
          -0.4935685586651885,
          0.18483082811965695,
          0.2809684300781559,
          0.47754509983688403,
          0.15121254491430586,
          0.6132749388640667,
          2.129186436169313,
          1.0793866064312156,
          -0.4251155688010225,
          -0.2732289516473583,
          2.190233874337507,
          -1.4633556292414922,
          0.5464474728462337,
          1.8843275926183498,
          0.5073523203734914,
          0.11719873637408908,
          -1.772536247751536,
          0.37253201209491427,
          0.8550798325709544,
          0.6108288171710052,
          0.31144479658230606,
          0.04129963382415682,
          -0.5721269602866565,
          -1.1644479731019926,
          -0.5732634166989471,
          0.41703832982192696,
          1.520779059735967,
          -0.8074484829813724,
          -0.47513098812332116,
          0.24978738197180275,
          0.1669708471442198,
          -0.13695759456345732,
          1.085459636883732,
          1.6927949085644212,
          -0.3703933092097937,
          2.9867423940495583,
          -0.18109202888901874,
          -0.2469751779320185,
          -0.34396759900202334,
          1.3071589983054204
         ],
         "yaxis": "y9"
        },
        {
         "line": {
          "color": "rgba(128, 128, 128, 1.0)",
          "dash": "solid",
          "shape": "linear",
          "width": 1.3
         },
         "marker": {
          "size": 2,
          "symbol": "circle"
         },
         "mode": "markers",
         "name": "C",
         "text": "",
         "type": "scatter",
         "x": [
          -0.6607567515404839,
          0.6272057327377043,
          -0.29300459755897873,
          0.20396521190281927,
          -0.11254528632613671,
          1.175835792248741,
          -0.7377345445424521,
          0.356496022784465,
          1.3251418286139893,
          0.26885086019013144,
          1.122352095296499,
          0.24204159204449613,
          2.0123475931236077,
          0.5346441742217941,
          1.0238143940420046,
          0.8090796833083032,
          0.11313819918896648,
          2.24916865287664,
          0.012932222012098343,
          -0.40244432809040476,
          -0.2502753654633691,
          2.630557383226313,
          -0.7790771990625227,
          0.7355197860705898,
          -0.1943010347541226,
          1.2928782007154789,
          0.36572430645810655,
          -0.5392603452969593,
          -0.96023431045177,
          -0.09253815346977223,
          -0.4298824098705515,
          0.25425105887003596,
          -1.1674587129797283,
          -0.3840343408994587,
          1.3207712002551013,
          0.062356765784521456,
          0.9595537781702738,
          0.17240071462536052,
          -0.451261552754604,
          0.26033009506400173,
          -0.7193669753874455,
          1.3237640482815087,
          -0.27155167270699504,
          -0.19773330021703522,
          -0.07151638613211464,
          1.8903708416916005,
          -0.528035834561054,
          0.6244900423893583,
          -0.2651053906182809,
          1.5323114619010347,
          0.18001538721174082,
          0.9973476693237119,
          -1.58564522054993,
          1.1192253963894794,
          -0.5674695266246303,
          0.6634869383800137,
          0.2188382483231579,
          0.5690392046501117,
          -0.06603917493020449,
          -0.6105444992113863,
          1.736224515049627,
          1.8863963804057344,
          -2.0487797487038444,
          0.5047057902668708,
          -0.6634330645442947,
          -0.128018734829384,
          -1.0299738753476964,
          2.023938172106331,
          0.1957238535897606,
          0.14206388716721732,
          1.0228505986995695,
          -1.0652264255737482,
          0.6163051316586318,
          1.6022578249809882,
          -0.3526379835238936,
          -1.8418587223766436,
          -0.4754546562297881,
          -1.4657897646743254,
          1.291531251527738,
          0.6056778020888061,
          0.9618849334241207,
          -0.44070807412970214,
          0.6812198800439422,
          -0.48018367669432493,
          0.4450259781147967,
          2.1054135753292753,
          -0.47891017321267454,
          -0.11251171905452118,
          0.6272297098806351,
          0.29813117767436553,
          -0.9105125124581759,
          1.7637483257996116,
          0.49453904178321406,
          -0.09063675976922009,
          -1.2423412107676592,
          -0.24118324086440246,
          -0.019347818855389786,
          -0.7130858012841428,
          -1.2610100912832602,
          -0.31484580391977757
         ],
         "xaxis": "x10",
         "y": [
          -1.1850705897601521,
          0.3761853015697947,
          0.6110459988456458,
          -1.1768028229366025,
          -1.8791624168125693,
          0.7720022143913202,
          -0.0893252953640753,
          1.039617165143866,
          -1.1840500730866144,
          0.8321614602592408,
          -1.23455277623035,
          -0.45833727083862735,
          1.1220726165049657,
          -1.6993662515664683,
          -0.14563422452336208,
          1.3418892881012277,
          1.50209878924822,
          0.24571141525950582,
          0.05925381879943243,
          -0.27240713457746824,
          -1.4359134436838947,
          -0.1535578006726762,
          0.5498729377699436,
          0.24591207455672578,
          1.3805360456900502,
          0.3904135864126944,
          -0.13581271740313985,
          1.7919670799831404,
          -1.0691186588793753,
          0.8585148027138233,
          -1.5951986693599076,
          1.0672084944289593,
          -0.41400102595952526,
          0.5817627738163651,
          0.5463160836769827,
          0.6180931224205171,
          0.31803238575742915,
          -0.5322130273534613,
          -0.5751881023297809,
          0.11711464019563658,
          0.2897572354379959,
          1.5251213365214897,
          2.502241044697504,
          -1.0775812333428496,
          0.9486812060323532,
          -1.4647561857509215,
          -1.075799602815771,
          -1.2932427985412889,
          -2.2696972086862446,
          0.9265964698004169,
          1.3180662734154076,
          1.0018997845709618,
          0.9339443113262336,
          0.995991554991809,
          0.16810108485542855,
          -0.05498815547830166,
          0.6191963771853356,
          -0.6211415441654871,
          1.9225161963901454,
          1.109667351904907,
          -0.4935685586651885,
          0.18483082811965695,
          0.2809684300781559,
          0.47754509983688403,
          0.15121254491430586,
          0.6132749388640667,
          2.129186436169313,
          1.0793866064312156,
          -0.4251155688010225,
          -0.2732289516473583,
          2.190233874337507,
          -1.4633556292414922,
          0.5464474728462337,
          1.8843275926183498,
          0.5073523203734914,
          0.11719873637408908,
          -1.772536247751536,
          0.37253201209491427,
          0.8550798325709544,
          0.6108288171710052,
          0.31144479658230606,
          0.04129963382415682,
          -0.5721269602866565,
          -1.1644479731019926,
          -0.5732634166989471,
          0.41703832982192696,
          1.520779059735967,
          -0.8074484829813724,
          -0.47513098812332116,
          0.24978738197180275,
          0.1669708471442198,
          -0.13695759456345732,
          1.085459636883732,
          1.6927949085644212,
          -0.3703933092097937,
          2.9867423940495583,
          -0.18109202888901874,
          -0.2469751779320185,
          -0.34396759900202334,
          1.3071589983054204
         ],
         "yaxis": "y10"
        },
        {
         "histfunc": "count",
         "histnorm": "",
         "marker": {
          "color": "rgba(50, 171, 96, 1.0)",
          "line": {
           "color": "#4D5663",
           "width": 1.3
          }
         },
         "name": "C",
         "nbinsx": 10,
         "opacity": 0.8,
         "orientation": "v",
         "type": "histogram",
         "x": [
          -1.1850705897601521,
          0.3761853015697947,
          0.6110459988456458,
          -1.1768028229366025,
          -1.8791624168125693,
          0.7720022143913202,
          -0.0893252953640753,
          1.039617165143866,
          -1.1840500730866144,
          0.8321614602592408,
          -1.23455277623035,
          -0.45833727083862735,
          1.1220726165049657,
          -1.6993662515664683,
          -0.14563422452336208,
          1.3418892881012277,
          1.50209878924822,
          0.24571141525950582,
          0.05925381879943243,
          -0.27240713457746824,
          -1.4359134436838947,
          -0.1535578006726762,
          0.5498729377699436,
          0.24591207455672578,
          1.3805360456900502,
          0.3904135864126944,
          -0.13581271740313985,
          1.7919670799831404,
          -1.0691186588793753,
          0.8585148027138233,
          -1.5951986693599076,
          1.0672084944289593,
          -0.41400102595952526,
          0.5817627738163651,
          0.5463160836769827,
          0.6180931224205171,
          0.31803238575742915,
          -0.5322130273534613,
          -0.5751881023297809,
          0.11711464019563658,
          0.2897572354379959,
          1.5251213365214897,
          2.502241044697504,
          -1.0775812333428496,
          0.9486812060323532,
          -1.4647561857509215,
          -1.075799602815771,
          -1.2932427985412889,
          -2.2696972086862446,
          0.9265964698004169,
          1.3180662734154076,
          1.0018997845709618,
          0.9339443113262336,
          0.995991554991809,
          0.16810108485542855,
          -0.05498815547830166,
          0.6191963771853356,
          -0.6211415441654871,
          1.9225161963901454,
          1.109667351904907,
          -0.4935685586651885,
          0.18483082811965695,
          0.2809684300781559,
          0.47754509983688403,
          0.15121254491430586,
          0.6132749388640667,
          2.129186436169313,
          1.0793866064312156,
          -0.4251155688010225,
          -0.2732289516473583,
          2.190233874337507,
          -1.4633556292414922,
          0.5464474728462337,
          1.8843275926183498,
          0.5073523203734914,
          0.11719873637408908,
          -1.772536247751536,
          0.37253201209491427,
          0.8550798325709544,
          0.6108288171710052,
          0.31144479658230606,
          0.04129963382415682,
          -0.5721269602866565,
          -1.1644479731019926,
          -0.5732634166989471,
          0.41703832982192696,
          1.520779059735967,
          -0.8074484829813724,
          -0.47513098812332116,
          0.24978738197180275,
          0.1669708471442198,
          -0.13695759456345732,
          1.085459636883732,
          1.6927949085644212,
          -0.3703933092097937,
          2.9867423940495583,
          -0.18109202888901874,
          -0.2469751779320185,
          -0.34396759900202334,
          1.3071589983054204
         ],
         "xaxis": "x11",
         "yaxis": "y11"
        },
        {
         "line": {
          "color": "rgba(128, 128, 128, 1.0)",
          "dash": "solid",
          "shape": "linear",
          "width": 1.3
         },
         "marker": {
          "size": 2,
          "symbol": "circle"
         },
         "mode": "markers",
         "name": "C",
         "text": "",
         "type": "scatter",
         "x": [
          0.5899582634645533,
          1.5808432661410567,
          0.34561449097685376,
          0.2728656800844236,
          -1.447961115065258,
          2.0665441538512974,
          1.536102871801085,
          0.925032550192467,
          -0.6345781121065829,
          -0.3601240464778806,
          -0.7999400098410929,
          -0.15470059858329765,
          -0.43483484592130944,
          -0.35454673677398074,
          0.6447744653449229,
          -0.37007267827112644,
          -0.5137884466671174,
          -0.16163190054914361,
          0.7804774982243313,
          -1.9233162478024974,
          1.5642145003662575,
          0.4173143135774519,
          -0.4813792530028488,
          0.3346325722058072,
          0.09674982622146834,
          -0.1756837333246901,
          0.9544719059402534,
          0.13931926641473943,
          0.4758251660525391,
          0.2602469136562438,
          -0.2533319926943123,
          1.763038543212188,
          -0.1271926477483187,
          0.6107037143379589,
          0.3267620585475331,
          0.9771151901287334,
          -1.775591993226835,
          0.4553932067832489,
          -1.1869869920003338,
          -0.30170251482254495,
          -1.1015240044814973,
          1.4217312129727295,
          -0.6664042443191304,
          -0.8617929997942941,
          1.7151107629039979,
          -0.38786790728419923,
          -1.5151051299366691,
          0.7109736871683429,
          -0.5208399147575378,
          -1.4862278327670115,
          -0.597605169046876,
          1.2426494433850057,
          1.7304577081528194,
          2.0059871958872844,
          -0.11974170867041577,
          -0.427998606749268,
          -0.07537287026650681,
          -0.87845548354086,
          0.9573479344815539,
          0.8071827997132053,
          -1.5476415134654689,
          -0.09402161523384257,
          -1.3154429788134763,
          0.738515850070673,
          0.007230389499876916,
          -0.2777361675822311,
          0.8153060852341795,
          -0.7079225037795478,
          -1.1383801646246323,
          1.0920744651831522,
          -0.030415729816667392,
          0.38203906400697824,
          0.30736386123118487,
          0.7078437185790925,
          -1.3004929568091852,
          -0.3245924863618333,
          -1.587873057747594,
          -0.2517083843878335,
          1.1701108332499774,
          -0.03767379337014992,
          2.717620846113011,
          -0.7729456312276415,
          -0.45856923111916303,
          1.1541410223539503,
          1.1436737062336637,
          -0.28200407130511806,
          -0.069434709469561,
          0.5707763364559357,
          -0.5984913824920475,
          -2.228669894005689,
          -0.784083983517904,
          0.1751517676737111,
          0.1863769684271199,
          0.5051819931537751,
          0.504800375706003,
          0.22804895723717042,
          0.7626066697825327,
          -1.316304447931998,
          -1.5186647281420522,
          -1.5806817324477638
         ],
         "xaxis": "x12",
         "y": [
          -1.1850705897601521,
          0.3761853015697947,
          0.6110459988456458,
          -1.1768028229366025,
          -1.8791624168125693,
          0.7720022143913202,
          -0.0893252953640753,
          1.039617165143866,
          -1.1840500730866144,
          0.8321614602592408,
          -1.23455277623035,
          -0.45833727083862735,
          1.1220726165049657,
          -1.6993662515664683,
          -0.14563422452336208,
          1.3418892881012277,
          1.50209878924822,
          0.24571141525950582,
          0.05925381879943243,
          -0.27240713457746824,
          -1.4359134436838947,
          -0.1535578006726762,
          0.5498729377699436,
          0.24591207455672578,
          1.3805360456900502,
          0.3904135864126944,
          -0.13581271740313985,
          1.7919670799831404,
          -1.0691186588793753,
          0.8585148027138233,
          -1.5951986693599076,
          1.0672084944289593,
          -0.41400102595952526,
          0.5817627738163651,
          0.5463160836769827,
          0.6180931224205171,
          0.31803238575742915,
          -0.5322130273534613,
          -0.5751881023297809,
          0.11711464019563658,
          0.2897572354379959,
          1.5251213365214897,
          2.502241044697504,
          -1.0775812333428496,
          0.9486812060323532,
          -1.4647561857509215,
          -1.075799602815771,
          -1.2932427985412889,
          -2.2696972086862446,
          0.9265964698004169,
          1.3180662734154076,
          1.0018997845709618,
          0.9339443113262336,
          0.995991554991809,
          0.16810108485542855,
          -0.05498815547830166,
          0.6191963771853356,
          -0.6211415441654871,
          1.9225161963901454,
          1.109667351904907,
          -0.4935685586651885,
          0.18483082811965695,
          0.2809684300781559,
          0.47754509983688403,
          0.15121254491430586,
          0.6132749388640667,
          2.129186436169313,
          1.0793866064312156,
          -0.4251155688010225,
          -0.2732289516473583,
          2.190233874337507,
          -1.4633556292414922,
          0.5464474728462337,
          1.8843275926183498,
          0.5073523203734914,
          0.11719873637408908,
          -1.772536247751536,
          0.37253201209491427,
          0.8550798325709544,
          0.6108288171710052,
          0.31144479658230606,
          0.04129963382415682,
          -0.5721269602866565,
          -1.1644479731019926,
          -0.5732634166989471,
          0.41703832982192696,
          1.520779059735967,
          -0.8074484829813724,
          -0.47513098812332116,
          0.24978738197180275,
          0.1669708471442198,
          -0.13695759456345732,
          1.085459636883732,
          1.6927949085644212,
          -0.3703933092097937,
          2.9867423940495583,
          -0.18109202888901874,
          -0.2469751779320185,
          -0.34396759900202334,
          1.3071589983054204
         ],
         "yaxis": "y12"
        },
        {
         "line": {
          "color": "rgba(128, 128, 128, 1.0)",
          "dash": "solid",
          "shape": "linear",
          "width": 1.3
         },
         "marker": {
          "size": 2,
          "symbol": "circle"
         },
         "mode": "markers",
         "name": "D",
         "text": "",
         "type": "scatter",
         "x": [
          -0.10885847351151294,
          0.09968228043736554,
          -0.8641500448021835,
          0.38946228886209866,
          -0.7770036269217798,
          2.3588730184432016,
          1.562051288398869,
          0.07605439418663039,
          0.912717877662609,
          -0.5661466630732443,
          0.15027249585969116,
          -0.4556584761228636,
          0.7330115973669539,
          0.270546419853816,
          -0.5171511568557435,
          0.6144837230708565,
          -1.3075651835854845,
          -1.1219896050430447,
          0.05441883554658746,
          1.535619031172629,
          -0.9863215722815764,
          0.6961242561076794,
          0.08697726808705007,
          -0.057414641396003094,
          0.7335552092007928,
          0.5269636134982121,
          -0.47046371030295636,
          -0.9365373408183358,
          -0.02293781116985355,
          -0.6512104043803646,
          2.5508177224571607,
          -0.7665519295025828,
          -0.5778939635559637,
          -1.0108079345663405,
          0.5596080957499588,
          2.036755029958988,
          -0.11612807524088375,
          -0.14578115752350002,
          1.9809733239972844,
          0.20606800368987369,
          -1.4150543142095422,
          1.5171621691439114,
          1.789281156821119,
          1.0859845692218137,
          0.569850188094948,
          -0.5092600456498456,
          -0.5133673294741509,
          -0.17747214914436082,
          -0.28497893896678667,
          -1.017723548510392,
          -0.171222608370362,
          -0.6572538678650311,
          0.9974253025353275,
          0.15219540039653634,
          0.5866680040194782,
          -0.19001914914542503,
          0.5353419078118536,
          1.1152162652677877,
          2.97795797105388,
          0.9085279502252701,
          -0.17232731231989817,
          1.389245776868657,
          -0.5708394737976242,
          0.34436475178815107,
          -0.9150239338287431,
          0.5131055597150919,
          0.5031908634636201,
          2.238821334911018,
          -0.10669318171704228,
          0.7345420979543783,
          -2.062925100049065,
          -1.2413883423525092,
          -0.5724993827887654,
          0.859720954322044,
          1.1003071919413916,
          -0.471752236644702,
          0.46025542685963583,
          -0.1084369455556114,
          0.09639064705141714,
          -0.7616762580059623,
          -1.7826562298020405,
          -0.7257458029396603,
          -0.29848471990300596,
          0.2858439083232961,
          -0.3367202911240463,
          0.20527268466178267,
          0.36573323048382694,
          -0.578898295870351,
          1.6001728205820427,
          -1.4342738153944126,
          1.2548152560200398,
          -1.5076691281769783,
          1.3411368027344885,
          -0.27024403891496945,
          -1.4268485254400225,
          0.7432383970273235,
          -0.31907044797333006,
          0.036447356526887825,
          -0.8569238644208176,
          -0.5041947840868658
         ],
         "xaxis": "x13",
         "y": [
          0.5899582634645533,
          1.5808432661410567,
          0.34561449097685376,
          0.2728656800844236,
          -1.447961115065258,
          2.0665441538512974,
          1.536102871801085,
          0.925032550192467,
          -0.6345781121065829,
          -0.3601240464778806,
          -0.7999400098410929,
          -0.15470059858329765,
          -0.43483484592130944,
          -0.35454673677398074,
          0.6447744653449229,
          -0.37007267827112644,
          -0.5137884466671174,
          -0.16163190054914361,
          0.7804774982243313,
          -1.9233162478024974,
          1.5642145003662575,
          0.4173143135774519,
          -0.4813792530028488,
          0.3346325722058072,
          0.09674982622146834,
          -0.1756837333246901,
          0.9544719059402534,
          0.13931926641473943,
          0.4758251660525391,
          0.2602469136562438,
          -0.2533319926943123,
          1.763038543212188,
          -0.1271926477483187,
          0.6107037143379589,
          0.3267620585475331,
          0.9771151901287334,
          -1.775591993226835,
          0.4553932067832489,
          -1.1869869920003338,
          -0.30170251482254495,
          -1.1015240044814973,
          1.4217312129727295,
          -0.6664042443191304,
          -0.8617929997942941,
          1.7151107629039979,
          -0.38786790728419923,
          -1.5151051299366691,
          0.7109736871683429,
          -0.5208399147575378,
          -1.4862278327670115,
          -0.597605169046876,
          1.2426494433850057,
          1.7304577081528194,
          2.0059871958872844,
          -0.11974170867041577,
          -0.427998606749268,
          -0.07537287026650681,
          -0.87845548354086,
          0.9573479344815539,
          0.8071827997132053,
          -1.5476415134654689,
          -0.09402161523384257,
          -1.3154429788134763,
          0.738515850070673,
          0.007230389499876916,
          -0.2777361675822311,
          0.8153060852341795,
          -0.7079225037795478,
          -1.1383801646246323,
          1.0920744651831522,
          -0.030415729816667392,
          0.38203906400697824,
          0.30736386123118487,
          0.7078437185790925,
          -1.3004929568091852,
          -0.3245924863618333,
          -1.587873057747594,
          -0.2517083843878335,
          1.1701108332499774,
          -0.03767379337014992,
          2.717620846113011,
          -0.7729456312276415,
          -0.45856923111916303,
          1.1541410223539503,
          1.1436737062336637,
          -0.28200407130511806,
          -0.069434709469561,
          0.5707763364559357,
          -0.5984913824920475,
          -2.228669894005689,
          -0.784083983517904,
          0.1751517676737111,
          0.1863769684271199,
          0.5051819931537751,
          0.504800375706003,
          0.22804895723717042,
          0.7626066697825327,
          -1.316304447931998,
          -1.5186647281420522,
          -1.5806817324477638
         ],
         "yaxis": "y13"
        },
        {
         "line": {
          "color": "rgba(128, 128, 128, 1.0)",
          "dash": "solid",
          "shape": "linear",
          "width": 1.3
         },
         "marker": {
          "size": 2,
          "symbol": "circle"
         },
         "mode": "markers",
         "name": "D",
         "text": "",
         "type": "scatter",
         "x": [
          -0.6607567515404839,
          0.6272057327377043,
          -0.29300459755897873,
          0.20396521190281927,
          -0.11254528632613671,
          1.175835792248741,
          -0.7377345445424521,
          0.356496022784465,
          1.3251418286139893,
          0.26885086019013144,
          1.122352095296499,
          0.24204159204449613,
          2.0123475931236077,
          0.5346441742217941,
          1.0238143940420046,
          0.8090796833083032,
          0.11313819918896648,
          2.24916865287664,
          0.012932222012098343,
          -0.40244432809040476,
          -0.2502753654633691,
          2.630557383226313,
          -0.7790771990625227,
          0.7355197860705898,
          -0.1943010347541226,
          1.2928782007154789,
          0.36572430645810655,
          -0.5392603452969593,
          -0.96023431045177,
          -0.09253815346977223,
          -0.4298824098705515,
          0.25425105887003596,
          -1.1674587129797283,
          -0.3840343408994587,
          1.3207712002551013,
          0.062356765784521456,
          0.9595537781702738,
          0.17240071462536052,
          -0.451261552754604,
          0.26033009506400173,
          -0.7193669753874455,
          1.3237640482815087,
          -0.27155167270699504,
          -0.19773330021703522,
          -0.07151638613211464,
          1.8903708416916005,
          -0.528035834561054,
          0.6244900423893583,
          -0.2651053906182809,
          1.5323114619010347,
          0.18001538721174082,
          0.9973476693237119,
          -1.58564522054993,
          1.1192253963894794,
          -0.5674695266246303,
          0.6634869383800137,
          0.2188382483231579,
          0.5690392046501117,
          -0.06603917493020449,
          -0.6105444992113863,
          1.736224515049627,
          1.8863963804057344,
          -2.0487797487038444,
          0.5047057902668708,
          -0.6634330645442947,
          -0.128018734829384,
          -1.0299738753476964,
          2.023938172106331,
          0.1957238535897606,
          0.14206388716721732,
          1.0228505986995695,
          -1.0652264255737482,
          0.6163051316586318,
          1.6022578249809882,
          -0.3526379835238936,
          -1.8418587223766436,
          -0.4754546562297881,
          -1.4657897646743254,
          1.291531251527738,
          0.6056778020888061,
          0.9618849334241207,
          -0.44070807412970214,
          0.6812198800439422,
          -0.48018367669432493,
          0.4450259781147967,
          2.1054135753292753,
          -0.47891017321267454,
          -0.11251171905452118,
          0.6272297098806351,
          0.29813117767436553,
          -0.9105125124581759,
          1.7637483257996116,
          0.49453904178321406,
          -0.09063675976922009,
          -1.2423412107676592,
          -0.24118324086440246,
          -0.019347818855389786,
          -0.7130858012841428,
          -1.2610100912832602,
          -0.31484580391977757
         ],
         "xaxis": "x14",
         "y": [
          0.5899582634645533,
          1.5808432661410567,
          0.34561449097685376,
          0.2728656800844236,
          -1.447961115065258,
          2.0665441538512974,
          1.536102871801085,
          0.925032550192467,
          -0.6345781121065829,
          -0.3601240464778806,
          -0.7999400098410929,
          -0.15470059858329765,
          -0.43483484592130944,
          -0.35454673677398074,
          0.6447744653449229,
          -0.37007267827112644,
          -0.5137884466671174,
          -0.16163190054914361,
          0.7804774982243313,
          -1.9233162478024974,
          1.5642145003662575,
          0.4173143135774519,
          -0.4813792530028488,
          0.3346325722058072,
          0.09674982622146834,
          -0.1756837333246901,
          0.9544719059402534,
          0.13931926641473943,
          0.4758251660525391,
          0.2602469136562438,
          -0.2533319926943123,
          1.763038543212188,
          -0.1271926477483187,
          0.6107037143379589,
          0.3267620585475331,
          0.9771151901287334,
          -1.775591993226835,
          0.4553932067832489,
          -1.1869869920003338,
          -0.30170251482254495,
          -1.1015240044814973,
          1.4217312129727295,
          -0.6664042443191304,
          -0.8617929997942941,
          1.7151107629039979,
          -0.38786790728419923,
          -1.5151051299366691,
          0.7109736871683429,
          -0.5208399147575378,
          -1.4862278327670115,
          -0.597605169046876,
          1.2426494433850057,
          1.7304577081528194,
          2.0059871958872844,
          -0.11974170867041577,
          -0.427998606749268,
          -0.07537287026650681,
          -0.87845548354086,
          0.9573479344815539,
          0.8071827997132053,
          -1.5476415134654689,
          -0.09402161523384257,
          -1.3154429788134763,
          0.738515850070673,
          0.007230389499876916,
          -0.2777361675822311,
          0.8153060852341795,
          -0.7079225037795478,
          -1.1383801646246323,
          1.0920744651831522,
          -0.030415729816667392,
          0.38203906400697824,
          0.30736386123118487,
          0.7078437185790925,
          -1.3004929568091852,
          -0.3245924863618333,
          -1.587873057747594,
          -0.2517083843878335,
          1.1701108332499774,
          -0.03767379337014992,
          2.717620846113011,
          -0.7729456312276415,
          -0.45856923111916303,
          1.1541410223539503,
          1.1436737062336637,
          -0.28200407130511806,
          -0.069434709469561,
          0.5707763364559357,
          -0.5984913824920475,
          -2.228669894005689,
          -0.784083983517904,
          0.1751517676737111,
          0.1863769684271199,
          0.5051819931537751,
          0.504800375706003,
          0.22804895723717042,
          0.7626066697825327,
          -1.316304447931998,
          -1.5186647281420522,
          -1.5806817324477638
         ],
         "yaxis": "y14"
        },
        {
         "line": {
          "color": "rgba(128, 128, 128, 1.0)",
          "dash": "solid",
          "shape": "linear",
          "width": 1.3
         },
         "marker": {
          "size": 2,
          "symbol": "circle"
         },
         "mode": "markers",
         "name": "D",
         "text": "",
         "type": "scatter",
         "x": [
          -1.1850705897601521,
          0.3761853015697947,
          0.6110459988456458,
          -1.1768028229366025,
          -1.8791624168125693,
          0.7720022143913202,
          -0.0893252953640753,
          1.039617165143866,
          -1.1840500730866144,
          0.8321614602592408,
          -1.23455277623035,
          -0.45833727083862735,
          1.1220726165049657,
          -1.6993662515664683,
          -0.14563422452336208,
          1.3418892881012277,
          1.50209878924822,
          0.24571141525950582,
          0.05925381879943243,
          -0.27240713457746824,
          -1.4359134436838947,
          -0.1535578006726762,
          0.5498729377699436,
          0.24591207455672578,
          1.3805360456900502,
          0.3904135864126944,
          -0.13581271740313985,
          1.7919670799831404,
          -1.0691186588793753,
          0.8585148027138233,
          -1.5951986693599076,
          1.0672084944289593,
          -0.41400102595952526,
          0.5817627738163651,
          0.5463160836769827,
          0.6180931224205171,
          0.31803238575742915,
          -0.5322130273534613,
          -0.5751881023297809,
          0.11711464019563658,
          0.2897572354379959,
          1.5251213365214897,
          2.502241044697504,
          -1.0775812333428496,
          0.9486812060323532,
          -1.4647561857509215,
          -1.075799602815771,
          -1.2932427985412889,
          -2.2696972086862446,
          0.9265964698004169,
          1.3180662734154076,
          1.0018997845709618,
          0.9339443113262336,
          0.995991554991809,
          0.16810108485542855,
          -0.05498815547830166,
          0.6191963771853356,
          -0.6211415441654871,
          1.9225161963901454,
          1.109667351904907,
          -0.4935685586651885,
          0.18483082811965695,
          0.2809684300781559,
          0.47754509983688403,
          0.15121254491430586,
          0.6132749388640667,
          2.129186436169313,
          1.0793866064312156,
          -0.4251155688010225,
          -0.2732289516473583,
          2.190233874337507,
          -1.4633556292414922,
          0.5464474728462337,
          1.8843275926183498,
          0.5073523203734914,
          0.11719873637408908,
          -1.772536247751536,
          0.37253201209491427,
          0.8550798325709544,
          0.6108288171710052,
          0.31144479658230606,
          0.04129963382415682,
          -0.5721269602866565,
          -1.1644479731019926,
          -0.5732634166989471,
          0.41703832982192696,
          1.520779059735967,
          -0.8074484829813724,
          -0.47513098812332116,
          0.24978738197180275,
          0.1669708471442198,
          -0.13695759456345732,
          1.085459636883732,
          1.6927949085644212,
          -0.3703933092097937,
          2.9867423940495583,
          -0.18109202888901874,
          -0.2469751779320185,
          -0.34396759900202334,
          1.3071589983054204
         ],
         "xaxis": "x15",
         "y": [
          0.5899582634645533,
          1.5808432661410567,
          0.34561449097685376,
          0.2728656800844236,
          -1.447961115065258,
          2.0665441538512974,
          1.536102871801085,
          0.925032550192467,
          -0.6345781121065829,
          -0.3601240464778806,
          -0.7999400098410929,
          -0.15470059858329765,
          -0.43483484592130944,
          -0.35454673677398074,
          0.6447744653449229,
          -0.37007267827112644,
          -0.5137884466671174,
          -0.16163190054914361,
          0.7804774982243313,
          -1.9233162478024974,
          1.5642145003662575,
          0.4173143135774519,
          -0.4813792530028488,
          0.3346325722058072,
          0.09674982622146834,
          -0.1756837333246901,
          0.9544719059402534,
          0.13931926641473943,
          0.4758251660525391,
          0.2602469136562438,
          -0.2533319926943123,
          1.763038543212188,
          -0.1271926477483187,
          0.6107037143379589,
          0.3267620585475331,
          0.9771151901287334,
          -1.775591993226835,
          0.4553932067832489,
          -1.1869869920003338,
          -0.30170251482254495,
          -1.1015240044814973,
          1.4217312129727295,
          -0.6664042443191304,
          -0.8617929997942941,
          1.7151107629039979,
          -0.38786790728419923,
          -1.5151051299366691,
          0.7109736871683429,
          -0.5208399147575378,
          -1.4862278327670115,
          -0.597605169046876,
          1.2426494433850057,
          1.7304577081528194,
          2.0059871958872844,
          -0.11974170867041577,
          -0.427998606749268,
          -0.07537287026650681,
          -0.87845548354086,
          0.9573479344815539,
          0.8071827997132053,
          -1.5476415134654689,
          -0.09402161523384257,
          -1.3154429788134763,
          0.738515850070673,
          0.007230389499876916,
          -0.2777361675822311,
          0.8153060852341795,
          -0.7079225037795478,
          -1.1383801646246323,
          1.0920744651831522,
          -0.030415729816667392,
          0.38203906400697824,
          0.30736386123118487,
          0.7078437185790925,
          -1.3004929568091852,
          -0.3245924863618333,
          -1.587873057747594,
          -0.2517083843878335,
          1.1701108332499774,
          -0.03767379337014992,
          2.717620846113011,
          -0.7729456312276415,
          -0.45856923111916303,
          1.1541410223539503,
          1.1436737062336637,
          -0.28200407130511806,
          -0.069434709469561,
          0.5707763364559357,
          -0.5984913824920475,
          -2.228669894005689,
          -0.784083983517904,
          0.1751517676737111,
          0.1863769684271199,
          0.5051819931537751,
          0.504800375706003,
          0.22804895723717042,
          0.7626066697825327,
          -1.316304447931998,
          -1.5186647281420522,
          -1.5806817324477638
         ],
         "yaxis": "y15"
        },
        {
         "histfunc": "count",
         "histnorm": "",
         "marker": {
          "color": "rgba(128, 0, 128, 1.0)",
          "line": {
           "color": "#4D5663",
           "width": 1.3
          }
         },
         "name": "D",
         "nbinsx": 10,
         "opacity": 0.8,
         "orientation": "v",
         "type": "histogram",
         "x": [
          0.5899582634645533,
          1.5808432661410567,
          0.34561449097685376,
          0.2728656800844236,
          -1.447961115065258,
          2.0665441538512974,
          1.536102871801085,
          0.925032550192467,
          -0.6345781121065829,
          -0.3601240464778806,
          -0.7999400098410929,
          -0.15470059858329765,
          -0.43483484592130944,
          -0.35454673677398074,
          0.6447744653449229,
          -0.37007267827112644,
          -0.5137884466671174,
          -0.16163190054914361,
          0.7804774982243313,
          -1.9233162478024974,
          1.5642145003662575,
          0.4173143135774519,
          -0.4813792530028488,
          0.3346325722058072,
          0.09674982622146834,
          -0.1756837333246901,
          0.9544719059402534,
          0.13931926641473943,
          0.4758251660525391,
          0.2602469136562438,
          -0.2533319926943123,
          1.763038543212188,
          -0.1271926477483187,
          0.6107037143379589,
          0.3267620585475331,
          0.9771151901287334,
          -1.775591993226835,
          0.4553932067832489,
          -1.1869869920003338,
          -0.30170251482254495,
          -1.1015240044814973,
          1.4217312129727295,
          -0.6664042443191304,
          -0.8617929997942941,
          1.7151107629039979,
          -0.38786790728419923,
          -1.5151051299366691,
          0.7109736871683429,
          -0.5208399147575378,
          -1.4862278327670115,
          -0.597605169046876,
          1.2426494433850057,
          1.7304577081528194,
          2.0059871958872844,
          -0.11974170867041577,
          -0.427998606749268,
          -0.07537287026650681,
          -0.87845548354086,
          0.9573479344815539,
          0.8071827997132053,
          -1.5476415134654689,
          -0.09402161523384257,
          -1.3154429788134763,
          0.738515850070673,
          0.007230389499876916,
          -0.2777361675822311,
          0.8153060852341795,
          -0.7079225037795478,
          -1.1383801646246323,
          1.0920744651831522,
          -0.030415729816667392,
          0.38203906400697824,
          0.30736386123118487,
          0.7078437185790925,
          -1.3004929568091852,
          -0.3245924863618333,
          -1.587873057747594,
          -0.2517083843878335,
          1.1701108332499774,
          -0.03767379337014992,
          2.717620846113011,
          -0.7729456312276415,
          -0.45856923111916303,
          1.1541410223539503,
          1.1436737062336637,
          -0.28200407130511806,
          -0.069434709469561,
          0.5707763364559357,
          -0.5984913824920475,
          -2.228669894005689,
          -0.784083983517904,
          0.1751517676737111,
          0.1863769684271199,
          0.5051819931537751,
          0.504800375706003,
          0.22804895723717042,
          0.7626066697825327,
          -1.316304447931998,
          -1.5186647281420522,
          -1.5806817324477638
         ],
         "xaxis": "x16",
         "yaxis": "y16"
        }
       ],
       "layout": {
        "bargap": 0.02,
        "legend": {
         "bgcolor": "#F5F6F9",
         "font": {
          "color": "#4D5663"
         }
        },
        "paper_bgcolor": "#F5F6F9",
        "plot_bgcolor": "#F5F6F9",
        "showlegend": false,
        "template": {
         "data": {
          "bar": [
           {
            "error_x": {
             "color": "#2a3f5f"
            },
            "error_y": {
             "color": "#2a3f5f"
            },
            "marker": {
             "line": {
              "color": "#E5ECF6",
              "width": 0.5
             },
             "pattern": {
              "fillmode": "overlay",
              "size": 10,
              "solidity": 0.2
             }
            },
            "type": "bar"
           }
          ],
          "barpolar": [
           {
            "marker": {
             "line": {
              "color": "#E5ECF6",
              "width": 0.5
             },
             "pattern": {
              "fillmode": "overlay",
              "size": 10,
              "solidity": 0.2
             }
            },
            "type": "barpolar"
           }
          ],
          "carpet": [
           {
            "aaxis": {
             "endlinecolor": "#2a3f5f",
             "gridcolor": "white",
             "linecolor": "white",
             "minorgridcolor": "white",
             "startlinecolor": "#2a3f5f"
            },
            "baxis": {
             "endlinecolor": "#2a3f5f",
             "gridcolor": "white",
             "linecolor": "white",
             "minorgridcolor": "white",
             "startlinecolor": "#2a3f5f"
            },
            "type": "carpet"
           }
          ],
          "choropleth": [
           {
            "colorbar": {
             "outlinewidth": 0,
             "ticks": ""
            },
            "type": "choropleth"
           }
          ],
          "contour": [
           {
            "colorbar": {
             "outlinewidth": 0,
             "ticks": ""
            },
            "colorscale": [
             [
              0,
              "#0d0887"
             ],
             [
              0.1111111111111111,
              "#46039f"
             ],
             [
              0.2222222222222222,
              "#7201a8"
             ],
             [
              0.3333333333333333,
              "#9c179e"
             ],
             [
              0.4444444444444444,
              "#bd3786"
             ],
             [
              0.5555555555555556,
              "#d8576b"
             ],
             [
              0.6666666666666666,
              "#ed7953"
             ],
             [
              0.7777777777777778,
              "#fb9f3a"
             ],
             [
              0.8888888888888888,
              "#fdca26"
             ],
             [
              1,
              "#f0f921"
             ]
            ],
            "type": "contour"
           }
          ],
          "contourcarpet": [
           {
            "colorbar": {
             "outlinewidth": 0,
             "ticks": ""
            },
            "type": "contourcarpet"
           }
          ],
          "heatmap": [
           {
            "colorbar": {
             "outlinewidth": 0,
             "ticks": ""
            },
            "colorscale": [
             [
              0,
              "#0d0887"
             ],
             [
              0.1111111111111111,
              "#46039f"
             ],
             [
              0.2222222222222222,
              "#7201a8"
             ],
             [
              0.3333333333333333,
              "#9c179e"
             ],
             [
              0.4444444444444444,
              "#bd3786"
             ],
             [
              0.5555555555555556,
              "#d8576b"
             ],
             [
              0.6666666666666666,
              "#ed7953"
             ],
             [
              0.7777777777777778,
              "#fb9f3a"
             ],
             [
              0.8888888888888888,
              "#fdca26"
             ],
             [
              1,
              "#f0f921"
             ]
            ],
            "type": "heatmap"
           }
          ],
          "heatmapgl": [
           {
            "colorbar": {
             "outlinewidth": 0,
             "ticks": ""
            },
            "colorscale": [
             [
              0,
              "#0d0887"
             ],
             [
              0.1111111111111111,
              "#46039f"
             ],
             [
              0.2222222222222222,
              "#7201a8"
             ],
             [
              0.3333333333333333,
              "#9c179e"
             ],
             [
              0.4444444444444444,
              "#bd3786"
             ],
             [
              0.5555555555555556,
              "#d8576b"
             ],
             [
              0.6666666666666666,
              "#ed7953"
             ],
             [
              0.7777777777777778,
              "#fb9f3a"
             ],
             [
              0.8888888888888888,
              "#fdca26"
             ],
             [
              1,
              "#f0f921"
             ]
            ],
            "type": "heatmapgl"
           }
          ],
          "histogram": [
           {
            "marker": {
             "pattern": {
              "fillmode": "overlay",
              "size": 10,
              "solidity": 0.2
             }
            },
            "type": "histogram"
           }
          ],
          "histogram2d": [
           {
            "colorbar": {
             "outlinewidth": 0,
             "ticks": ""
            },
            "colorscale": [
             [
              0,
              "#0d0887"
             ],
             [
              0.1111111111111111,
              "#46039f"
             ],
             [
              0.2222222222222222,
              "#7201a8"
             ],
             [
              0.3333333333333333,
              "#9c179e"
             ],
             [
              0.4444444444444444,
              "#bd3786"
             ],
             [
              0.5555555555555556,
              "#d8576b"
             ],
             [
              0.6666666666666666,
              "#ed7953"
             ],
             [
              0.7777777777777778,
              "#fb9f3a"
             ],
             [
              0.8888888888888888,
              "#fdca26"
             ],
             [
              1,
              "#f0f921"
             ]
            ],
            "type": "histogram2d"
           }
          ],
          "histogram2dcontour": [
           {
            "colorbar": {
             "outlinewidth": 0,
             "ticks": ""
            },
            "colorscale": [
             [
              0,
              "#0d0887"
             ],
             [
              0.1111111111111111,
              "#46039f"
             ],
             [
              0.2222222222222222,
              "#7201a8"
             ],
             [
              0.3333333333333333,
              "#9c179e"
             ],
             [
              0.4444444444444444,
              "#bd3786"
             ],
             [
              0.5555555555555556,
              "#d8576b"
             ],
             [
              0.6666666666666666,
              "#ed7953"
             ],
             [
              0.7777777777777778,
              "#fb9f3a"
             ],
             [
              0.8888888888888888,
              "#fdca26"
             ],
             [
              1,
              "#f0f921"
             ]
            ],
            "type": "histogram2dcontour"
           }
          ],
          "mesh3d": [
           {
            "colorbar": {
             "outlinewidth": 0,
             "ticks": ""
            },
            "type": "mesh3d"
           }
          ],
          "parcoords": [
           {
            "line": {
             "colorbar": {
              "outlinewidth": 0,
              "ticks": ""
             }
            },
            "type": "parcoords"
           }
          ],
          "pie": [
           {
            "automargin": true,
            "type": "pie"
           }
          ],
          "scatter": [
           {
            "fillpattern": {
             "fillmode": "overlay",
             "size": 10,
             "solidity": 0.2
            },
            "type": "scatter"
           }
          ],
          "scatter3d": [
           {
            "line": {
             "colorbar": {
              "outlinewidth": 0,
              "ticks": ""
             }
            },
            "marker": {
             "colorbar": {
              "outlinewidth": 0,
              "ticks": ""
             }
            },
            "type": "scatter3d"
           }
          ],
          "scattercarpet": [
           {
            "marker": {
             "colorbar": {
              "outlinewidth": 0,
              "ticks": ""
             }
            },
            "type": "scattercarpet"
           }
          ],
          "scattergeo": [
           {
            "marker": {
             "colorbar": {
              "outlinewidth": 0,
              "ticks": ""
             }
            },
            "type": "scattergeo"
           }
          ],
          "scattergl": [
           {
            "marker": {
             "colorbar": {
              "outlinewidth": 0,
              "ticks": ""
             }
            },
            "type": "scattergl"
           }
          ],
          "scattermapbox": [
           {
            "marker": {
             "colorbar": {
              "outlinewidth": 0,
              "ticks": ""
             }
            },
            "type": "scattermapbox"
           }
          ],
          "scatterpolar": [
           {
            "marker": {
             "colorbar": {
              "outlinewidth": 0,
              "ticks": ""
             }
            },
            "type": "scatterpolar"
           }
          ],
          "scatterpolargl": [
           {
            "marker": {
             "colorbar": {
              "outlinewidth": 0,
              "ticks": ""
             }
            },
            "type": "scatterpolargl"
           }
          ],
          "scatterternary": [
           {
            "marker": {
             "colorbar": {
              "outlinewidth": 0,
              "ticks": ""
             }
            },
            "type": "scatterternary"
           }
          ],
          "surface": [
           {
            "colorbar": {
             "outlinewidth": 0,
             "ticks": ""
            },
            "colorscale": [
             [
              0,
              "#0d0887"
             ],
             [
              0.1111111111111111,
              "#46039f"
             ],
             [
              0.2222222222222222,
              "#7201a8"
             ],
             [
              0.3333333333333333,
              "#9c179e"
             ],
             [
              0.4444444444444444,
              "#bd3786"
             ],
             [
              0.5555555555555556,
              "#d8576b"
             ],
             [
              0.6666666666666666,
              "#ed7953"
             ],
             [
              0.7777777777777778,
              "#fb9f3a"
             ],
             [
              0.8888888888888888,
              "#fdca26"
             ],
             [
              1,
              "#f0f921"
             ]
            ],
            "type": "surface"
           }
          ],
          "table": [
           {
            "cells": {
             "fill": {
              "color": "#EBF0F8"
             },
             "line": {
              "color": "white"
             }
            },
            "header": {
             "fill": {
              "color": "#C8D4E3"
             },
             "line": {
              "color": "white"
             }
            },
            "type": "table"
           }
          ]
         },
         "layout": {
          "annotationdefaults": {
           "arrowcolor": "#2a3f5f",
           "arrowhead": 0,
           "arrowwidth": 1
          },
          "autotypenumbers": "strict",
          "coloraxis": {
           "colorbar": {
            "outlinewidth": 0,
            "ticks": ""
           }
          },
          "colorscale": {
           "diverging": [
            [
             0,
             "#8e0152"
            ],
            [
             0.1,
             "#c51b7d"
            ],
            [
             0.2,
             "#de77ae"
            ],
            [
             0.3,
             "#f1b6da"
            ],
            [
             0.4,
             "#fde0ef"
            ],
            [
             0.5,
             "#f7f7f7"
            ],
            [
             0.6,
             "#e6f5d0"
            ],
            [
             0.7,
             "#b8e186"
            ],
            [
             0.8,
             "#7fbc41"
            ],
            [
             0.9,
             "#4d9221"
            ],
            [
             1,
             "#276419"
            ]
           ],
           "sequential": [
            [
             0,
             "#0d0887"
            ],
            [
             0.1111111111111111,
             "#46039f"
            ],
            [
             0.2222222222222222,
             "#7201a8"
            ],
            [
             0.3333333333333333,
             "#9c179e"
            ],
            [
             0.4444444444444444,
             "#bd3786"
            ],
            [
             0.5555555555555556,
             "#d8576b"
            ],
            [
             0.6666666666666666,
             "#ed7953"
            ],
            [
             0.7777777777777778,
             "#fb9f3a"
            ],
            [
             0.8888888888888888,
             "#fdca26"
            ],
            [
             1,
             "#f0f921"
            ]
           ],
           "sequentialminus": [
            [
             0,
             "#0d0887"
            ],
            [
             0.1111111111111111,
             "#46039f"
            ],
            [
             0.2222222222222222,
             "#7201a8"
            ],
            [
             0.3333333333333333,
             "#9c179e"
            ],
            [
             0.4444444444444444,
             "#bd3786"
            ],
            [
             0.5555555555555556,
             "#d8576b"
            ],
            [
             0.6666666666666666,
             "#ed7953"
            ],
            [
             0.7777777777777778,
             "#fb9f3a"
            ],
            [
             0.8888888888888888,
             "#fdca26"
            ],
            [
             1,
             "#f0f921"
            ]
           ]
          },
          "colorway": [
           "#636efa",
           "#EF553B",
           "#00cc96",
           "#ab63fa",
           "#FFA15A",
           "#19d3f3",
           "#FF6692",
           "#B6E880",
           "#FF97FF",
           "#FECB52"
          ],
          "font": {
           "color": "#2a3f5f"
          },
          "geo": {
           "bgcolor": "white",
           "lakecolor": "white",
           "landcolor": "#E5ECF6",
           "showlakes": true,
           "showland": true,
           "subunitcolor": "white"
          },
          "hoverlabel": {
           "align": "left"
          },
          "hovermode": "closest",
          "mapbox": {
           "style": "light"
          },
          "paper_bgcolor": "white",
          "plot_bgcolor": "#E5ECF6",
          "polar": {
           "angularaxis": {
            "gridcolor": "white",
            "linecolor": "white",
            "ticks": ""
           },
           "bgcolor": "#E5ECF6",
           "radialaxis": {
            "gridcolor": "white",
            "linecolor": "white",
            "ticks": ""
           }
          },
          "scene": {
           "xaxis": {
            "backgroundcolor": "#E5ECF6",
            "gridcolor": "white",
            "gridwidth": 2,
            "linecolor": "white",
            "showbackground": true,
            "ticks": "",
            "zerolinecolor": "white"
           },
           "yaxis": {
            "backgroundcolor": "#E5ECF6",
            "gridcolor": "white",
            "gridwidth": 2,
            "linecolor": "white",
            "showbackground": true,
            "ticks": "",
            "zerolinecolor": "white"
           },
           "zaxis": {
            "backgroundcolor": "#E5ECF6",
            "gridcolor": "white",
            "gridwidth": 2,
            "linecolor": "white",
            "showbackground": true,
            "ticks": "",
            "zerolinecolor": "white"
           }
          },
          "shapedefaults": {
           "line": {
            "color": "#2a3f5f"
           }
          },
          "ternary": {
           "aaxis": {
            "gridcolor": "white",
            "linecolor": "white",
            "ticks": ""
           },
           "baxis": {
            "gridcolor": "white",
            "linecolor": "white",
            "ticks": ""
           },
           "bgcolor": "#E5ECF6",
           "caxis": {
            "gridcolor": "white",
            "linecolor": "white",
            "ticks": ""
           }
          },
          "title": {
           "x": 0.05
          },
          "xaxis": {
           "automargin": true,
           "gridcolor": "white",
           "linecolor": "white",
           "ticks": "",
           "title": {
            "standoff": 15
           },
           "zerolinecolor": "white",
           "zerolinewidth": 2
          },
          "yaxis": {
           "automargin": true,
           "gridcolor": "white",
           "linecolor": "white",
           "ticks": "",
           "title": {
            "standoff": 15
           },
           "zerolinecolor": "white",
           "zerolinewidth": 2
          }
         }
        },
        "title": {
         "font": {
          "color": "#4D5663"
         }
        },
        "xaxis": {
         "anchor": "y",
         "domain": [
          0,
          0.2125
         ],
         "gridcolor": "#E1E5ED",
         "showgrid": false,
         "tickfont": {
          "color": "#4D5663"
         },
         "title": {
          "font": {
           "color": "#4D5663"
          },
          "text": ""
         },
         "zerolinecolor": "#E1E5ED"
        },
        "xaxis10": {
         "anchor": "y10",
         "domain": [
          0.2625,
          0.475
         ],
         "gridcolor": "#E1E5ED",
         "showgrid": false,
         "tickfont": {
          "color": "#4D5663"
         },
         "title": {
          "font": {
           "color": "#4D5663"
          },
          "text": ""
         },
         "zerolinecolor": "#E1E5ED"
        },
        "xaxis11": {
         "anchor": "y11",
         "domain": [
          0.525,
          0.7375
         ],
         "gridcolor": "#E1E5ED",
         "showgrid": false,
         "tickfont": {
          "color": "#4D5663"
         },
         "title": {
          "font": {
           "color": "#4D5663"
          },
          "text": ""
         },
         "zerolinecolor": "#E1E5ED"
        },
        "xaxis12": {
         "anchor": "y12",
         "domain": [
          0.7875,
          1
         ],
         "gridcolor": "#E1E5ED",
         "showgrid": false,
         "tickfont": {
          "color": "#4D5663"
         },
         "title": {
          "font": {
           "color": "#4D5663"
          },
          "text": ""
         },
         "zerolinecolor": "#E1E5ED"
        },
        "xaxis13": {
         "anchor": "y13",
         "domain": [
          0,
          0.2125
         ],
         "gridcolor": "#E1E5ED",
         "showgrid": false,
         "tickfont": {
          "color": "#4D5663"
         },
         "title": {
          "font": {
           "color": "#4D5663"
          },
          "text": ""
         },
         "zerolinecolor": "#E1E5ED"
        },
        "xaxis14": {
         "anchor": "y14",
         "domain": [
          0.2625,
          0.475
         ],
         "gridcolor": "#E1E5ED",
         "showgrid": false,
         "tickfont": {
          "color": "#4D5663"
         },
         "title": {
          "font": {
           "color": "#4D5663"
          },
          "text": ""
         },
         "zerolinecolor": "#E1E5ED"
        },
        "xaxis15": {
         "anchor": "y15",
         "domain": [
          0.525,
          0.7375
         ],
         "gridcolor": "#E1E5ED",
         "showgrid": false,
         "tickfont": {
          "color": "#4D5663"
         },
         "title": {
          "font": {
           "color": "#4D5663"
          },
          "text": ""
         },
         "zerolinecolor": "#E1E5ED"
        },
        "xaxis16": {
         "anchor": "y16",
         "domain": [
          0.7875,
          1
         ],
         "gridcolor": "#E1E5ED",
         "showgrid": false,
         "tickfont": {
          "color": "#4D5663"
         },
         "title": {
          "font": {
           "color": "#4D5663"
          },
          "text": ""
         },
         "zerolinecolor": "#E1E5ED"
        },
        "xaxis2": {
         "anchor": "y2",
         "domain": [
          0.2625,
          0.475
         ],
         "gridcolor": "#E1E5ED",
         "showgrid": false,
         "tickfont": {
          "color": "#4D5663"
         },
         "title": {
          "font": {
           "color": "#4D5663"
          },
          "text": ""
         },
         "zerolinecolor": "#E1E5ED"
        },
        "xaxis3": {
         "anchor": "y3",
         "domain": [
          0.525,
          0.7375
         ],
         "gridcolor": "#E1E5ED",
         "showgrid": false,
         "tickfont": {
          "color": "#4D5663"
         },
         "title": {
          "font": {
           "color": "#4D5663"
          },
          "text": ""
         },
         "zerolinecolor": "#E1E5ED"
        },
        "xaxis4": {
         "anchor": "y4",
         "domain": [
          0.7875,
          1
         ],
         "gridcolor": "#E1E5ED",
         "showgrid": false,
         "tickfont": {
          "color": "#4D5663"
         },
         "title": {
          "font": {
           "color": "#4D5663"
          },
          "text": ""
         },
         "zerolinecolor": "#E1E5ED"
        },
        "xaxis5": {
         "anchor": "y5",
         "domain": [
          0,
          0.2125
         ],
         "gridcolor": "#E1E5ED",
         "showgrid": false,
         "tickfont": {
          "color": "#4D5663"
         },
         "title": {
          "font": {
           "color": "#4D5663"
          },
          "text": ""
         },
         "zerolinecolor": "#E1E5ED"
        },
        "xaxis6": {
         "anchor": "y6",
         "domain": [
          0.2625,
          0.475
         ],
         "gridcolor": "#E1E5ED",
         "showgrid": false,
         "tickfont": {
          "color": "#4D5663"
         },
         "title": {
          "font": {
           "color": "#4D5663"
          },
          "text": ""
         },
         "zerolinecolor": "#E1E5ED"
        },
        "xaxis7": {
         "anchor": "y7",
         "domain": [
          0.525,
          0.7375
         ],
         "gridcolor": "#E1E5ED",
         "showgrid": false,
         "tickfont": {
          "color": "#4D5663"
         },
         "title": {
          "font": {
           "color": "#4D5663"
          },
          "text": ""
         },
         "zerolinecolor": "#E1E5ED"
        },
        "xaxis8": {
         "anchor": "y8",
         "domain": [
          0.7875,
          1
         ],
         "gridcolor": "#E1E5ED",
         "showgrid": false,
         "tickfont": {
          "color": "#4D5663"
         },
         "title": {
          "font": {
           "color": "#4D5663"
          },
          "text": ""
         },
         "zerolinecolor": "#E1E5ED"
        },
        "xaxis9": {
         "anchor": "y9",
         "domain": [
          0,
          0.2125
         ],
         "gridcolor": "#E1E5ED",
         "showgrid": false,
         "tickfont": {
          "color": "#4D5663"
         },
         "title": {
          "font": {
           "color": "#4D5663"
          },
          "text": ""
         },
         "zerolinecolor": "#E1E5ED"
        },
        "yaxis": {
         "anchor": "x",
         "domain": [
          0.8025,
          1
         ],
         "gridcolor": "#E1E5ED",
         "showgrid": false,
         "tickfont": {
          "color": "#4D5663"
         },
         "title": {
          "font": {
           "color": "#4D5663"
          },
          "text": ""
         },
         "zerolinecolor": "#E1E5ED"
        },
        "yaxis10": {
         "anchor": "x10",
         "domain": [
          0.2675,
          0.465
         ],
         "gridcolor": "#E1E5ED",
         "showgrid": false,
         "tickfont": {
          "color": "#4D5663"
         },
         "title": {
          "font": {
           "color": "#4D5663"
          },
          "text": ""
         },
         "zerolinecolor": "#E1E5ED"
        },
        "yaxis11": {
         "anchor": "x11",
         "domain": [
          0.2675,
          0.465
         ],
         "gridcolor": "#E1E5ED",
         "showgrid": false,
         "tickfont": {
          "color": "#4D5663"
         },
         "title": {
          "font": {
           "color": "#4D5663"
          },
          "text": ""
         },
         "zerolinecolor": "#E1E5ED"
        },
        "yaxis12": {
         "anchor": "x12",
         "domain": [
          0.2675,
          0.465
         ],
         "gridcolor": "#E1E5ED",
         "showgrid": false,
         "tickfont": {
          "color": "#4D5663"
         },
         "title": {
          "font": {
           "color": "#4D5663"
          },
          "text": ""
         },
         "zerolinecolor": "#E1E5ED"
        },
        "yaxis13": {
         "anchor": "x13",
         "domain": [
          0,
          0.1975
         ],
         "gridcolor": "#E1E5ED",
         "showgrid": false,
         "tickfont": {
          "color": "#4D5663"
         },
         "title": {
          "font": {
           "color": "#4D5663"
          },
          "text": ""
         },
         "zerolinecolor": "#E1E5ED"
        },
        "yaxis14": {
         "anchor": "x14",
         "domain": [
          0,
          0.1975
         ],
         "gridcolor": "#E1E5ED",
         "showgrid": false,
         "tickfont": {
          "color": "#4D5663"
         },
         "title": {
          "font": {
           "color": "#4D5663"
          },
          "text": ""
         },
         "zerolinecolor": "#E1E5ED"
        },
        "yaxis15": {
         "anchor": "x15",
         "domain": [
          0,
          0.1975
         ],
         "gridcolor": "#E1E5ED",
         "showgrid": false,
         "tickfont": {
          "color": "#4D5663"
         },
         "title": {
          "font": {
           "color": "#4D5663"
          },
          "text": ""
         },
         "zerolinecolor": "#E1E5ED"
        },
        "yaxis16": {
         "anchor": "x16",
         "domain": [
          0,
          0.1975
         ],
         "gridcolor": "#E1E5ED",
         "showgrid": false,
         "tickfont": {
          "color": "#4D5663"
         },
         "title": {
          "font": {
           "color": "#4D5663"
          },
          "text": ""
         },
         "zerolinecolor": "#E1E5ED"
        },
        "yaxis2": {
         "anchor": "x2",
         "domain": [
          0.8025,
          1
         ],
         "gridcolor": "#E1E5ED",
         "showgrid": false,
         "tickfont": {
          "color": "#4D5663"
         },
         "title": {
          "font": {
           "color": "#4D5663"
          },
          "text": ""
         },
         "zerolinecolor": "#E1E5ED"
        },
        "yaxis3": {
         "anchor": "x3",
         "domain": [
          0.8025,
          1
         ],
         "gridcolor": "#E1E5ED",
         "showgrid": false,
         "tickfont": {
          "color": "#4D5663"
         },
         "title": {
          "font": {
           "color": "#4D5663"
          },
          "text": ""
         },
         "zerolinecolor": "#E1E5ED"
        },
        "yaxis4": {
         "anchor": "x4",
         "domain": [
          0.8025,
          1
         ],
         "gridcolor": "#E1E5ED",
         "showgrid": false,
         "tickfont": {
          "color": "#4D5663"
         },
         "title": {
          "font": {
           "color": "#4D5663"
          },
          "text": ""
         },
         "zerolinecolor": "#E1E5ED"
        },
        "yaxis5": {
         "anchor": "x5",
         "domain": [
          0.535,
          0.7325
         ],
         "gridcolor": "#E1E5ED",
         "showgrid": false,
         "tickfont": {
          "color": "#4D5663"
         },
         "title": {
          "font": {
           "color": "#4D5663"
          },
          "text": ""
         },
         "zerolinecolor": "#E1E5ED"
        },
        "yaxis6": {
         "anchor": "x6",
         "domain": [
          0.535,
          0.7325
         ],
         "gridcolor": "#E1E5ED",
         "showgrid": false,
         "tickfont": {
          "color": "#4D5663"
         },
         "title": {
          "font": {
           "color": "#4D5663"
          },
          "text": ""
         },
         "zerolinecolor": "#E1E5ED"
        },
        "yaxis7": {
         "anchor": "x7",
         "domain": [
          0.535,
          0.7325
         ],
         "gridcolor": "#E1E5ED",
         "showgrid": false,
         "tickfont": {
          "color": "#4D5663"
         },
         "title": {
          "font": {
           "color": "#4D5663"
          },
          "text": ""
         },
         "zerolinecolor": "#E1E5ED"
        },
        "yaxis8": {
         "anchor": "x8",
         "domain": [
          0.535,
          0.7325
         ],
         "gridcolor": "#E1E5ED",
         "showgrid": false,
         "tickfont": {
          "color": "#4D5663"
         },
         "title": {
          "font": {
           "color": "#4D5663"
          },
          "text": ""
         },
         "zerolinecolor": "#E1E5ED"
        },
        "yaxis9": {
         "anchor": "x9",
         "domain": [
          0.2675,
          0.465
         ],
         "gridcolor": "#E1E5ED",
         "showgrid": false,
         "tickfont": {
          "color": "#4D5663"
         },
         "title": {
          "font": {
           "color": "#4D5663"
          },
          "text": ""
         },
         "zerolinecolor": "#E1E5ED"
        }
       }
      },
      "text/html": [
       "<div>                            <div id=\"d477e91e-340f-48e8-aaa2-b9b37ef0f938\" class=\"plotly-graph-div\" style=\"height:525px; width:100%;\"></div>            <script type=\"text/javascript\">                require([\"plotly\"], function(Plotly) {                    window.PLOTLYENV=window.PLOTLYENV || {};\n",
       "                    window.PLOTLYENV.BASE_URL='https://plot.ly';                                    if (document.getElementById(\"d477e91e-340f-48e8-aaa2-b9b37ef0f938\")) {                    Plotly.newPlot(                        \"d477e91e-340f-48e8-aaa2-b9b37ef0f938\",                        [{\"histfunc\":\"count\",\"histnorm\":\"\",\"marker\":{\"color\":\"rgba(255, 153, 51, 1.0)\",\"line\":{\"color\":\"#4D5663\",\"width\":1.3}},\"name\":\"A\",\"nbinsx\":10,\"opacity\":0.8,\"orientation\":\"v\",\"x\":[-0.10885847351151294,0.09968228043736554,-0.8641500448021835,0.38946228886209866,-0.7770036269217798,2.3588730184432016,1.562051288398869,0.07605439418663039,0.912717877662609,-0.5661466630732443,0.15027249585969116,-0.4556584761228636,0.7330115973669539,0.270546419853816,-0.5171511568557435,0.6144837230708565,-1.3075651835854845,-1.1219896050430447,0.05441883554658746,1.535619031172629,-0.9863215722815764,0.6961242561076794,0.08697726808705007,-0.057414641396003094,0.7335552092007928,0.5269636134982121,-0.47046371030295636,-0.9365373408183358,-0.02293781116985355,-0.6512104043803646,2.5508177224571607,-0.7665519295025828,-0.5778939635559637,-1.0108079345663405,0.5596080957499588,2.036755029958988,-0.11612807524088375,-0.14578115752350002,1.9809733239972844,0.20606800368987369,-1.4150543142095422,1.5171621691439114,1.789281156821119,1.0859845692218137,0.569850188094948,-0.5092600456498456,-0.5133673294741509,-0.17747214914436082,-0.28497893896678667,-1.017723548510392,-0.171222608370362,-0.6572538678650311,0.9974253025353275,0.15219540039653634,0.5866680040194782,-0.19001914914542503,0.5353419078118536,1.1152162652677877,2.97795797105388,0.9085279502252701,-0.17232731231989817,1.389245776868657,-0.5708394737976242,0.34436475178815107,-0.9150239338287431,0.5131055597150919,0.5031908634636201,2.238821334911018,-0.10669318171704228,0.7345420979543783,-2.062925100049065,-1.2413883423525092,-0.5724993827887654,0.859720954322044,1.1003071919413916,-0.471752236644702,0.46025542685963583,-0.1084369455556114,0.09639064705141714,-0.7616762580059623,-1.7826562298020405,-0.7257458029396603,-0.29848471990300596,0.2858439083232961,-0.3367202911240463,0.20527268466178267,0.36573323048382694,-0.578898295870351,1.6001728205820427,-1.4342738153944126,1.2548152560200398,-1.5076691281769783,1.3411368027344885,-0.27024403891496945,-1.4268485254400225,0.7432383970273235,-0.31907044797333006,0.036447356526887825,-0.8569238644208176,-0.5041947840868658],\"xaxis\":\"x\",\"yaxis\":\"y\",\"type\":\"histogram\"},{\"line\":{\"color\":\"rgba(128, 128, 128, 1.0)\",\"dash\":\"solid\",\"shape\":\"linear\",\"width\":1.3},\"marker\":{\"size\":2,\"symbol\":\"circle\"},\"mode\":\"markers\",\"name\":\"A\",\"text\":\"\",\"x\":[-0.6607567515404839,0.6272057327377043,-0.29300459755897873,0.20396521190281927,-0.11254528632613671,1.175835792248741,-0.7377345445424521,0.356496022784465,1.3251418286139893,0.26885086019013144,1.122352095296499,0.24204159204449613,2.0123475931236077,0.5346441742217941,1.0238143940420046,0.8090796833083032,0.11313819918896648,2.24916865287664,0.012932222012098343,-0.40244432809040476,-0.2502753654633691,2.630557383226313,-0.7790771990625227,0.7355197860705898,-0.1943010347541226,1.2928782007154789,0.36572430645810655,-0.5392603452969593,-0.96023431045177,-0.09253815346977223,-0.4298824098705515,0.25425105887003596,-1.1674587129797283,-0.3840343408994587,1.3207712002551013,0.062356765784521456,0.9595537781702738,0.17240071462536052,-0.451261552754604,0.26033009506400173,-0.7193669753874455,1.3237640482815087,-0.27155167270699504,-0.19773330021703522,-0.07151638613211464,1.8903708416916005,-0.528035834561054,0.6244900423893583,-0.2651053906182809,1.5323114619010347,0.18001538721174082,0.9973476693237119,-1.58564522054993,1.1192253963894794,-0.5674695266246303,0.6634869383800137,0.2188382483231579,0.5690392046501117,-0.06603917493020449,-0.6105444992113863,1.736224515049627,1.8863963804057344,-2.0487797487038444,0.5047057902668708,-0.6634330645442947,-0.128018734829384,-1.0299738753476964,2.023938172106331,0.1957238535897606,0.14206388716721732,1.0228505986995695,-1.0652264255737482,0.6163051316586318,1.6022578249809882,-0.3526379835238936,-1.8418587223766436,-0.4754546562297881,-1.4657897646743254,1.291531251527738,0.6056778020888061,0.9618849334241207,-0.44070807412970214,0.6812198800439422,-0.48018367669432493,0.4450259781147967,2.1054135753292753,-0.47891017321267454,-0.11251171905452118,0.6272297098806351,0.29813117767436553,-0.9105125124581759,1.7637483257996116,0.49453904178321406,-0.09063675976922009,-1.2423412107676592,-0.24118324086440246,-0.019347818855389786,-0.7130858012841428,-1.2610100912832602,-0.31484580391977757],\"xaxis\":\"x2\",\"y\":[-0.10885847351151294,0.09968228043736554,-0.8641500448021835,0.38946228886209866,-0.7770036269217798,2.3588730184432016,1.562051288398869,0.07605439418663039,0.912717877662609,-0.5661466630732443,0.15027249585969116,-0.4556584761228636,0.7330115973669539,0.270546419853816,-0.5171511568557435,0.6144837230708565,-1.3075651835854845,-1.1219896050430447,0.05441883554658746,1.535619031172629,-0.9863215722815764,0.6961242561076794,0.08697726808705007,-0.057414641396003094,0.7335552092007928,0.5269636134982121,-0.47046371030295636,-0.9365373408183358,-0.02293781116985355,-0.6512104043803646,2.5508177224571607,-0.7665519295025828,-0.5778939635559637,-1.0108079345663405,0.5596080957499588,2.036755029958988,-0.11612807524088375,-0.14578115752350002,1.9809733239972844,0.20606800368987369,-1.4150543142095422,1.5171621691439114,1.789281156821119,1.0859845692218137,0.569850188094948,-0.5092600456498456,-0.5133673294741509,-0.17747214914436082,-0.28497893896678667,-1.017723548510392,-0.171222608370362,-0.6572538678650311,0.9974253025353275,0.15219540039653634,0.5866680040194782,-0.19001914914542503,0.5353419078118536,1.1152162652677877,2.97795797105388,0.9085279502252701,-0.17232731231989817,1.389245776868657,-0.5708394737976242,0.34436475178815107,-0.9150239338287431,0.5131055597150919,0.5031908634636201,2.238821334911018,-0.10669318171704228,0.7345420979543783,-2.062925100049065,-1.2413883423525092,-0.5724993827887654,0.859720954322044,1.1003071919413916,-0.471752236644702,0.46025542685963583,-0.1084369455556114,0.09639064705141714,-0.7616762580059623,-1.7826562298020405,-0.7257458029396603,-0.29848471990300596,0.2858439083232961,-0.3367202911240463,0.20527268466178267,0.36573323048382694,-0.578898295870351,1.6001728205820427,-1.4342738153944126,1.2548152560200398,-1.5076691281769783,1.3411368027344885,-0.27024403891496945,-1.4268485254400225,0.7432383970273235,-0.31907044797333006,0.036447356526887825,-0.8569238644208176,-0.5041947840868658],\"yaxis\":\"y2\",\"type\":\"scatter\"},{\"line\":{\"color\":\"rgba(128, 128, 128, 1.0)\",\"dash\":\"solid\",\"shape\":\"linear\",\"width\":1.3},\"marker\":{\"size\":2,\"symbol\":\"circle\"},\"mode\":\"markers\",\"name\":\"A\",\"text\":\"\",\"x\":[-1.1850705897601521,0.3761853015697947,0.6110459988456458,-1.1768028229366025,-1.8791624168125693,0.7720022143913202,-0.0893252953640753,1.039617165143866,-1.1840500730866144,0.8321614602592408,-1.23455277623035,-0.45833727083862735,1.1220726165049657,-1.6993662515664683,-0.14563422452336208,1.3418892881012277,1.50209878924822,0.24571141525950582,0.05925381879943243,-0.27240713457746824,-1.4359134436838947,-0.1535578006726762,0.5498729377699436,0.24591207455672578,1.3805360456900502,0.3904135864126944,-0.13581271740313985,1.7919670799831404,-1.0691186588793753,0.8585148027138233,-1.5951986693599076,1.0672084944289593,-0.41400102595952526,0.5817627738163651,0.5463160836769827,0.6180931224205171,0.31803238575742915,-0.5322130273534613,-0.5751881023297809,0.11711464019563658,0.2897572354379959,1.5251213365214897,2.502241044697504,-1.0775812333428496,0.9486812060323532,-1.4647561857509215,-1.075799602815771,-1.2932427985412889,-2.2696972086862446,0.9265964698004169,1.3180662734154076,1.0018997845709618,0.9339443113262336,0.995991554991809,0.16810108485542855,-0.05498815547830166,0.6191963771853356,-0.6211415441654871,1.9225161963901454,1.109667351904907,-0.4935685586651885,0.18483082811965695,0.2809684300781559,0.47754509983688403,0.15121254491430586,0.6132749388640667,2.129186436169313,1.0793866064312156,-0.4251155688010225,-0.2732289516473583,2.190233874337507,-1.4633556292414922,0.5464474728462337,1.8843275926183498,0.5073523203734914,0.11719873637408908,-1.772536247751536,0.37253201209491427,0.8550798325709544,0.6108288171710052,0.31144479658230606,0.04129963382415682,-0.5721269602866565,-1.1644479731019926,-0.5732634166989471,0.41703832982192696,1.520779059735967,-0.8074484829813724,-0.47513098812332116,0.24978738197180275,0.1669708471442198,-0.13695759456345732,1.085459636883732,1.6927949085644212,-0.3703933092097937,2.9867423940495583,-0.18109202888901874,-0.2469751779320185,-0.34396759900202334,1.3071589983054204],\"xaxis\":\"x3\",\"y\":[-0.10885847351151294,0.09968228043736554,-0.8641500448021835,0.38946228886209866,-0.7770036269217798,2.3588730184432016,1.562051288398869,0.07605439418663039,0.912717877662609,-0.5661466630732443,0.15027249585969116,-0.4556584761228636,0.7330115973669539,0.270546419853816,-0.5171511568557435,0.6144837230708565,-1.3075651835854845,-1.1219896050430447,0.05441883554658746,1.535619031172629,-0.9863215722815764,0.6961242561076794,0.08697726808705007,-0.057414641396003094,0.7335552092007928,0.5269636134982121,-0.47046371030295636,-0.9365373408183358,-0.02293781116985355,-0.6512104043803646,2.5508177224571607,-0.7665519295025828,-0.5778939635559637,-1.0108079345663405,0.5596080957499588,2.036755029958988,-0.11612807524088375,-0.14578115752350002,1.9809733239972844,0.20606800368987369,-1.4150543142095422,1.5171621691439114,1.789281156821119,1.0859845692218137,0.569850188094948,-0.5092600456498456,-0.5133673294741509,-0.17747214914436082,-0.28497893896678667,-1.017723548510392,-0.171222608370362,-0.6572538678650311,0.9974253025353275,0.15219540039653634,0.5866680040194782,-0.19001914914542503,0.5353419078118536,1.1152162652677877,2.97795797105388,0.9085279502252701,-0.17232731231989817,1.389245776868657,-0.5708394737976242,0.34436475178815107,-0.9150239338287431,0.5131055597150919,0.5031908634636201,2.238821334911018,-0.10669318171704228,0.7345420979543783,-2.062925100049065,-1.2413883423525092,-0.5724993827887654,0.859720954322044,1.1003071919413916,-0.471752236644702,0.46025542685963583,-0.1084369455556114,0.09639064705141714,-0.7616762580059623,-1.7826562298020405,-0.7257458029396603,-0.29848471990300596,0.2858439083232961,-0.3367202911240463,0.20527268466178267,0.36573323048382694,-0.578898295870351,1.6001728205820427,-1.4342738153944126,1.2548152560200398,-1.5076691281769783,1.3411368027344885,-0.27024403891496945,-1.4268485254400225,0.7432383970273235,-0.31907044797333006,0.036447356526887825,-0.8569238644208176,-0.5041947840868658],\"yaxis\":\"y3\",\"type\":\"scatter\"},{\"line\":{\"color\":\"rgba(128, 128, 128, 1.0)\",\"dash\":\"solid\",\"shape\":\"linear\",\"width\":1.3},\"marker\":{\"size\":2,\"symbol\":\"circle\"},\"mode\":\"markers\",\"name\":\"A\",\"text\":\"\",\"x\":[0.5899582634645533,1.5808432661410567,0.34561449097685376,0.2728656800844236,-1.447961115065258,2.0665441538512974,1.536102871801085,0.925032550192467,-0.6345781121065829,-0.3601240464778806,-0.7999400098410929,-0.15470059858329765,-0.43483484592130944,-0.35454673677398074,0.6447744653449229,-0.37007267827112644,-0.5137884466671174,-0.16163190054914361,0.7804774982243313,-1.9233162478024974,1.5642145003662575,0.4173143135774519,-0.4813792530028488,0.3346325722058072,0.09674982622146834,-0.1756837333246901,0.9544719059402534,0.13931926641473943,0.4758251660525391,0.2602469136562438,-0.2533319926943123,1.763038543212188,-0.1271926477483187,0.6107037143379589,0.3267620585475331,0.9771151901287334,-1.775591993226835,0.4553932067832489,-1.1869869920003338,-0.30170251482254495,-1.1015240044814973,1.4217312129727295,-0.6664042443191304,-0.8617929997942941,1.7151107629039979,-0.38786790728419923,-1.5151051299366691,0.7109736871683429,-0.5208399147575378,-1.4862278327670115,-0.597605169046876,1.2426494433850057,1.7304577081528194,2.0059871958872844,-0.11974170867041577,-0.427998606749268,-0.07537287026650681,-0.87845548354086,0.9573479344815539,0.8071827997132053,-1.5476415134654689,-0.09402161523384257,-1.3154429788134763,0.738515850070673,0.007230389499876916,-0.2777361675822311,0.8153060852341795,-0.7079225037795478,-1.1383801646246323,1.0920744651831522,-0.030415729816667392,0.38203906400697824,0.30736386123118487,0.7078437185790925,-1.3004929568091852,-0.3245924863618333,-1.587873057747594,-0.2517083843878335,1.1701108332499774,-0.03767379337014992,2.717620846113011,-0.7729456312276415,-0.45856923111916303,1.1541410223539503,1.1436737062336637,-0.28200407130511806,-0.069434709469561,0.5707763364559357,-0.5984913824920475,-2.228669894005689,-0.784083983517904,0.1751517676737111,0.1863769684271199,0.5051819931537751,0.504800375706003,0.22804895723717042,0.7626066697825327,-1.316304447931998,-1.5186647281420522,-1.5806817324477638],\"xaxis\":\"x4\",\"y\":[-0.10885847351151294,0.09968228043736554,-0.8641500448021835,0.38946228886209866,-0.7770036269217798,2.3588730184432016,1.562051288398869,0.07605439418663039,0.912717877662609,-0.5661466630732443,0.15027249585969116,-0.4556584761228636,0.7330115973669539,0.270546419853816,-0.5171511568557435,0.6144837230708565,-1.3075651835854845,-1.1219896050430447,0.05441883554658746,1.535619031172629,-0.9863215722815764,0.6961242561076794,0.08697726808705007,-0.057414641396003094,0.7335552092007928,0.5269636134982121,-0.47046371030295636,-0.9365373408183358,-0.02293781116985355,-0.6512104043803646,2.5508177224571607,-0.7665519295025828,-0.5778939635559637,-1.0108079345663405,0.5596080957499588,2.036755029958988,-0.11612807524088375,-0.14578115752350002,1.9809733239972844,0.20606800368987369,-1.4150543142095422,1.5171621691439114,1.789281156821119,1.0859845692218137,0.569850188094948,-0.5092600456498456,-0.5133673294741509,-0.17747214914436082,-0.28497893896678667,-1.017723548510392,-0.171222608370362,-0.6572538678650311,0.9974253025353275,0.15219540039653634,0.5866680040194782,-0.19001914914542503,0.5353419078118536,1.1152162652677877,2.97795797105388,0.9085279502252701,-0.17232731231989817,1.389245776868657,-0.5708394737976242,0.34436475178815107,-0.9150239338287431,0.5131055597150919,0.5031908634636201,2.238821334911018,-0.10669318171704228,0.7345420979543783,-2.062925100049065,-1.2413883423525092,-0.5724993827887654,0.859720954322044,1.1003071919413916,-0.471752236644702,0.46025542685963583,-0.1084369455556114,0.09639064705141714,-0.7616762580059623,-1.7826562298020405,-0.7257458029396603,-0.29848471990300596,0.2858439083232961,-0.3367202911240463,0.20527268466178267,0.36573323048382694,-0.578898295870351,1.6001728205820427,-1.4342738153944126,1.2548152560200398,-1.5076691281769783,1.3411368027344885,-0.27024403891496945,-1.4268485254400225,0.7432383970273235,-0.31907044797333006,0.036447356526887825,-0.8569238644208176,-0.5041947840868658],\"yaxis\":\"y4\",\"type\":\"scatter\"},{\"line\":{\"color\":\"rgba(128, 128, 128, 1.0)\",\"dash\":\"solid\",\"shape\":\"linear\",\"width\":1.3},\"marker\":{\"size\":2,\"symbol\":\"circle\"},\"mode\":\"markers\",\"name\":\"B\",\"text\":\"\",\"x\":[-0.10885847351151294,0.09968228043736554,-0.8641500448021835,0.38946228886209866,-0.7770036269217798,2.3588730184432016,1.562051288398869,0.07605439418663039,0.912717877662609,-0.5661466630732443,0.15027249585969116,-0.4556584761228636,0.7330115973669539,0.270546419853816,-0.5171511568557435,0.6144837230708565,-1.3075651835854845,-1.1219896050430447,0.05441883554658746,1.535619031172629,-0.9863215722815764,0.6961242561076794,0.08697726808705007,-0.057414641396003094,0.7335552092007928,0.5269636134982121,-0.47046371030295636,-0.9365373408183358,-0.02293781116985355,-0.6512104043803646,2.5508177224571607,-0.7665519295025828,-0.5778939635559637,-1.0108079345663405,0.5596080957499588,2.036755029958988,-0.11612807524088375,-0.14578115752350002,1.9809733239972844,0.20606800368987369,-1.4150543142095422,1.5171621691439114,1.789281156821119,1.0859845692218137,0.569850188094948,-0.5092600456498456,-0.5133673294741509,-0.17747214914436082,-0.28497893896678667,-1.017723548510392,-0.171222608370362,-0.6572538678650311,0.9974253025353275,0.15219540039653634,0.5866680040194782,-0.19001914914542503,0.5353419078118536,1.1152162652677877,2.97795797105388,0.9085279502252701,-0.17232731231989817,1.389245776868657,-0.5708394737976242,0.34436475178815107,-0.9150239338287431,0.5131055597150919,0.5031908634636201,2.238821334911018,-0.10669318171704228,0.7345420979543783,-2.062925100049065,-1.2413883423525092,-0.5724993827887654,0.859720954322044,1.1003071919413916,-0.471752236644702,0.46025542685963583,-0.1084369455556114,0.09639064705141714,-0.7616762580059623,-1.7826562298020405,-0.7257458029396603,-0.29848471990300596,0.2858439083232961,-0.3367202911240463,0.20527268466178267,0.36573323048382694,-0.578898295870351,1.6001728205820427,-1.4342738153944126,1.2548152560200398,-1.5076691281769783,1.3411368027344885,-0.27024403891496945,-1.4268485254400225,0.7432383970273235,-0.31907044797333006,0.036447356526887825,-0.8569238644208176,-0.5041947840868658],\"xaxis\":\"x5\",\"y\":[-0.6607567515404839,0.6272057327377043,-0.29300459755897873,0.20396521190281927,-0.11254528632613671,1.175835792248741,-0.7377345445424521,0.356496022784465,1.3251418286139893,0.26885086019013144,1.122352095296499,0.24204159204449613,2.0123475931236077,0.5346441742217941,1.0238143940420046,0.8090796833083032,0.11313819918896648,2.24916865287664,0.012932222012098343,-0.40244432809040476,-0.2502753654633691,2.630557383226313,-0.7790771990625227,0.7355197860705898,-0.1943010347541226,1.2928782007154789,0.36572430645810655,-0.5392603452969593,-0.96023431045177,-0.09253815346977223,-0.4298824098705515,0.25425105887003596,-1.1674587129797283,-0.3840343408994587,1.3207712002551013,0.062356765784521456,0.9595537781702738,0.17240071462536052,-0.451261552754604,0.26033009506400173,-0.7193669753874455,1.3237640482815087,-0.27155167270699504,-0.19773330021703522,-0.07151638613211464,1.8903708416916005,-0.528035834561054,0.6244900423893583,-0.2651053906182809,1.5323114619010347,0.18001538721174082,0.9973476693237119,-1.58564522054993,1.1192253963894794,-0.5674695266246303,0.6634869383800137,0.2188382483231579,0.5690392046501117,-0.06603917493020449,-0.6105444992113863,1.736224515049627,1.8863963804057344,-2.0487797487038444,0.5047057902668708,-0.6634330645442947,-0.128018734829384,-1.0299738753476964,2.023938172106331,0.1957238535897606,0.14206388716721732,1.0228505986995695,-1.0652264255737482,0.6163051316586318,1.6022578249809882,-0.3526379835238936,-1.8418587223766436,-0.4754546562297881,-1.4657897646743254,1.291531251527738,0.6056778020888061,0.9618849334241207,-0.44070807412970214,0.6812198800439422,-0.48018367669432493,0.4450259781147967,2.1054135753292753,-0.47891017321267454,-0.11251171905452118,0.6272297098806351,0.29813117767436553,-0.9105125124581759,1.7637483257996116,0.49453904178321406,-0.09063675976922009,-1.2423412107676592,-0.24118324086440246,-0.019347818855389786,-0.7130858012841428,-1.2610100912832602,-0.31484580391977757],\"yaxis\":\"y5\",\"type\":\"scatter\"},{\"histfunc\":\"count\",\"histnorm\":\"\",\"marker\":{\"color\":\"rgba(55, 128, 191, 1.0)\",\"line\":{\"color\":\"#4D5663\",\"width\":1.3}},\"name\":\"B\",\"nbinsx\":10,\"opacity\":0.8,\"orientation\":\"v\",\"x\":[-0.6607567515404839,0.6272057327377043,-0.29300459755897873,0.20396521190281927,-0.11254528632613671,1.175835792248741,-0.7377345445424521,0.356496022784465,1.3251418286139893,0.26885086019013144,1.122352095296499,0.24204159204449613,2.0123475931236077,0.5346441742217941,1.0238143940420046,0.8090796833083032,0.11313819918896648,2.24916865287664,0.012932222012098343,-0.40244432809040476,-0.2502753654633691,2.630557383226313,-0.7790771990625227,0.7355197860705898,-0.1943010347541226,1.2928782007154789,0.36572430645810655,-0.5392603452969593,-0.96023431045177,-0.09253815346977223,-0.4298824098705515,0.25425105887003596,-1.1674587129797283,-0.3840343408994587,1.3207712002551013,0.062356765784521456,0.9595537781702738,0.17240071462536052,-0.451261552754604,0.26033009506400173,-0.7193669753874455,1.3237640482815087,-0.27155167270699504,-0.19773330021703522,-0.07151638613211464,1.8903708416916005,-0.528035834561054,0.6244900423893583,-0.2651053906182809,1.5323114619010347,0.18001538721174082,0.9973476693237119,-1.58564522054993,1.1192253963894794,-0.5674695266246303,0.6634869383800137,0.2188382483231579,0.5690392046501117,-0.06603917493020449,-0.6105444992113863,1.736224515049627,1.8863963804057344,-2.0487797487038444,0.5047057902668708,-0.6634330645442947,-0.128018734829384,-1.0299738753476964,2.023938172106331,0.1957238535897606,0.14206388716721732,1.0228505986995695,-1.0652264255737482,0.6163051316586318,1.6022578249809882,-0.3526379835238936,-1.8418587223766436,-0.4754546562297881,-1.4657897646743254,1.291531251527738,0.6056778020888061,0.9618849334241207,-0.44070807412970214,0.6812198800439422,-0.48018367669432493,0.4450259781147967,2.1054135753292753,-0.47891017321267454,-0.11251171905452118,0.6272297098806351,0.29813117767436553,-0.9105125124581759,1.7637483257996116,0.49453904178321406,-0.09063675976922009,-1.2423412107676592,-0.24118324086440246,-0.019347818855389786,-0.7130858012841428,-1.2610100912832602,-0.31484580391977757],\"xaxis\":\"x6\",\"yaxis\":\"y6\",\"type\":\"histogram\"},{\"line\":{\"color\":\"rgba(128, 128, 128, 1.0)\",\"dash\":\"solid\",\"shape\":\"linear\",\"width\":1.3},\"marker\":{\"size\":2,\"symbol\":\"circle\"},\"mode\":\"markers\",\"name\":\"B\",\"text\":\"\",\"x\":[-1.1850705897601521,0.3761853015697947,0.6110459988456458,-1.1768028229366025,-1.8791624168125693,0.7720022143913202,-0.0893252953640753,1.039617165143866,-1.1840500730866144,0.8321614602592408,-1.23455277623035,-0.45833727083862735,1.1220726165049657,-1.6993662515664683,-0.14563422452336208,1.3418892881012277,1.50209878924822,0.24571141525950582,0.05925381879943243,-0.27240713457746824,-1.4359134436838947,-0.1535578006726762,0.5498729377699436,0.24591207455672578,1.3805360456900502,0.3904135864126944,-0.13581271740313985,1.7919670799831404,-1.0691186588793753,0.8585148027138233,-1.5951986693599076,1.0672084944289593,-0.41400102595952526,0.5817627738163651,0.5463160836769827,0.6180931224205171,0.31803238575742915,-0.5322130273534613,-0.5751881023297809,0.11711464019563658,0.2897572354379959,1.5251213365214897,2.502241044697504,-1.0775812333428496,0.9486812060323532,-1.4647561857509215,-1.075799602815771,-1.2932427985412889,-2.2696972086862446,0.9265964698004169,1.3180662734154076,1.0018997845709618,0.9339443113262336,0.995991554991809,0.16810108485542855,-0.05498815547830166,0.6191963771853356,-0.6211415441654871,1.9225161963901454,1.109667351904907,-0.4935685586651885,0.18483082811965695,0.2809684300781559,0.47754509983688403,0.15121254491430586,0.6132749388640667,2.129186436169313,1.0793866064312156,-0.4251155688010225,-0.2732289516473583,2.190233874337507,-1.4633556292414922,0.5464474728462337,1.8843275926183498,0.5073523203734914,0.11719873637408908,-1.772536247751536,0.37253201209491427,0.8550798325709544,0.6108288171710052,0.31144479658230606,0.04129963382415682,-0.5721269602866565,-1.1644479731019926,-0.5732634166989471,0.41703832982192696,1.520779059735967,-0.8074484829813724,-0.47513098812332116,0.24978738197180275,0.1669708471442198,-0.13695759456345732,1.085459636883732,1.6927949085644212,-0.3703933092097937,2.9867423940495583,-0.18109202888901874,-0.2469751779320185,-0.34396759900202334,1.3071589983054204],\"xaxis\":\"x7\",\"y\":[-0.6607567515404839,0.6272057327377043,-0.29300459755897873,0.20396521190281927,-0.11254528632613671,1.175835792248741,-0.7377345445424521,0.356496022784465,1.3251418286139893,0.26885086019013144,1.122352095296499,0.24204159204449613,2.0123475931236077,0.5346441742217941,1.0238143940420046,0.8090796833083032,0.11313819918896648,2.24916865287664,0.012932222012098343,-0.40244432809040476,-0.2502753654633691,2.630557383226313,-0.7790771990625227,0.7355197860705898,-0.1943010347541226,1.2928782007154789,0.36572430645810655,-0.5392603452969593,-0.96023431045177,-0.09253815346977223,-0.4298824098705515,0.25425105887003596,-1.1674587129797283,-0.3840343408994587,1.3207712002551013,0.062356765784521456,0.9595537781702738,0.17240071462536052,-0.451261552754604,0.26033009506400173,-0.7193669753874455,1.3237640482815087,-0.27155167270699504,-0.19773330021703522,-0.07151638613211464,1.8903708416916005,-0.528035834561054,0.6244900423893583,-0.2651053906182809,1.5323114619010347,0.18001538721174082,0.9973476693237119,-1.58564522054993,1.1192253963894794,-0.5674695266246303,0.6634869383800137,0.2188382483231579,0.5690392046501117,-0.06603917493020449,-0.6105444992113863,1.736224515049627,1.8863963804057344,-2.0487797487038444,0.5047057902668708,-0.6634330645442947,-0.128018734829384,-1.0299738753476964,2.023938172106331,0.1957238535897606,0.14206388716721732,1.0228505986995695,-1.0652264255737482,0.6163051316586318,1.6022578249809882,-0.3526379835238936,-1.8418587223766436,-0.4754546562297881,-1.4657897646743254,1.291531251527738,0.6056778020888061,0.9618849334241207,-0.44070807412970214,0.6812198800439422,-0.48018367669432493,0.4450259781147967,2.1054135753292753,-0.47891017321267454,-0.11251171905452118,0.6272297098806351,0.29813117767436553,-0.9105125124581759,1.7637483257996116,0.49453904178321406,-0.09063675976922009,-1.2423412107676592,-0.24118324086440246,-0.019347818855389786,-0.7130858012841428,-1.2610100912832602,-0.31484580391977757],\"yaxis\":\"y7\",\"type\":\"scatter\"},{\"line\":{\"color\":\"rgba(128, 128, 128, 1.0)\",\"dash\":\"solid\",\"shape\":\"linear\",\"width\":1.3},\"marker\":{\"size\":2,\"symbol\":\"circle\"},\"mode\":\"markers\",\"name\":\"B\",\"text\":\"\",\"x\":[0.5899582634645533,1.5808432661410567,0.34561449097685376,0.2728656800844236,-1.447961115065258,2.0665441538512974,1.536102871801085,0.925032550192467,-0.6345781121065829,-0.3601240464778806,-0.7999400098410929,-0.15470059858329765,-0.43483484592130944,-0.35454673677398074,0.6447744653449229,-0.37007267827112644,-0.5137884466671174,-0.16163190054914361,0.7804774982243313,-1.9233162478024974,1.5642145003662575,0.4173143135774519,-0.4813792530028488,0.3346325722058072,0.09674982622146834,-0.1756837333246901,0.9544719059402534,0.13931926641473943,0.4758251660525391,0.2602469136562438,-0.2533319926943123,1.763038543212188,-0.1271926477483187,0.6107037143379589,0.3267620585475331,0.9771151901287334,-1.775591993226835,0.4553932067832489,-1.1869869920003338,-0.30170251482254495,-1.1015240044814973,1.4217312129727295,-0.6664042443191304,-0.8617929997942941,1.7151107629039979,-0.38786790728419923,-1.5151051299366691,0.7109736871683429,-0.5208399147575378,-1.4862278327670115,-0.597605169046876,1.2426494433850057,1.7304577081528194,2.0059871958872844,-0.11974170867041577,-0.427998606749268,-0.07537287026650681,-0.87845548354086,0.9573479344815539,0.8071827997132053,-1.5476415134654689,-0.09402161523384257,-1.3154429788134763,0.738515850070673,0.007230389499876916,-0.2777361675822311,0.8153060852341795,-0.7079225037795478,-1.1383801646246323,1.0920744651831522,-0.030415729816667392,0.38203906400697824,0.30736386123118487,0.7078437185790925,-1.3004929568091852,-0.3245924863618333,-1.587873057747594,-0.2517083843878335,1.1701108332499774,-0.03767379337014992,2.717620846113011,-0.7729456312276415,-0.45856923111916303,1.1541410223539503,1.1436737062336637,-0.28200407130511806,-0.069434709469561,0.5707763364559357,-0.5984913824920475,-2.228669894005689,-0.784083983517904,0.1751517676737111,0.1863769684271199,0.5051819931537751,0.504800375706003,0.22804895723717042,0.7626066697825327,-1.316304447931998,-1.5186647281420522,-1.5806817324477638],\"xaxis\":\"x8\",\"y\":[-0.6607567515404839,0.6272057327377043,-0.29300459755897873,0.20396521190281927,-0.11254528632613671,1.175835792248741,-0.7377345445424521,0.356496022784465,1.3251418286139893,0.26885086019013144,1.122352095296499,0.24204159204449613,2.0123475931236077,0.5346441742217941,1.0238143940420046,0.8090796833083032,0.11313819918896648,2.24916865287664,0.012932222012098343,-0.40244432809040476,-0.2502753654633691,2.630557383226313,-0.7790771990625227,0.7355197860705898,-0.1943010347541226,1.2928782007154789,0.36572430645810655,-0.5392603452969593,-0.96023431045177,-0.09253815346977223,-0.4298824098705515,0.25425105887003596,-1.1674587129797283,-0.3840343408994587,1.3207712002551013,0.062356765784521456,0.9595537781702738,0.17240071462536052,-0.451261552754604,0.26033009506400173,-0.7193669753874455,1.3237640482815087,-0.27155167270699504,-0.19773330021703522,-0.07151638613211464,1.8903708416916005,-0.528035834561054,0.6244900423893583,-0.2651053906182809,1.5323114619010347,0.18001538721174082,0.9973476693237119,-1.58564522054993,1.1192253963894794,-0.5674695266246303,0.6634869383800137,0.2188382483231579,0.5690392046501117,-0.06603917493020449,-0.6105444992113863,1.736224515049627,1.8863963804057344,-2.0487797487038444,0.5047057902668708,-0.6634330645442947,-0.128018734829384,-1.0299738753476964,2.023938172106331,0.1957238535897606,0.14206388716721732,1.0228505986995695,-1.0652264255737482,0.6163051316586318,1.6022578249809882,-0.3526379835238936,-1.8418587223766436,-0.4754546562297881,-1.4657897646743254,1.291531251527738,0.6056778020888061,0.9618849334241207,-0.44070807412970214,0.6812198800439422,-0.48018367669432493,0.4450259781147967,2.1054135753292753,-0.47891017321267454,-0.11251171905452118,0.6272297098806351,0.29813117767436553,-0.9105125124581759,1.7637483257996116,0.49453904178321406,-0.09063675976922009,-1.2423412107676592,-0.24118324086440246,-0.019347818855389786,-0.7130858012841428,-1.2610100912832602,-0.31484580391977757],\"yaxis\":\"y8\",\"type\":\"scatter\"},{\"line\":{\"color\":\"rgba(128, 128, 128, 1.0)\",\"dash\":\"solid\",\"shape\":\"linear\",\"width\":1.3},\"marker\":{\"size\":2,\"symbol\":\"circle\"},\"mode\":\"markers\",\"name\":\"C\",\"text\":\"\",\"x\":[-0.10885847351151294,0.09968228043736554,-0.8641500448021835,0.38946228886209866,-0.7770036269217798,2.3588730184432016,1.562051288398869,0.07605439418663039,0.912717877662609,-0.5661466630732443,0.15027249585969116,-0.4556584761228636,0.7330115973669539,0.270546419853816,-0.5171511568557435,0.6144837230708565,-1.3075651835854845,-1.1219896050430447,0.05441883554658746,1.535619031172629,-0.9863215722815764,0.6961242561076794,0.08697726808705007,-0.057414641396003094,0.7335552092007928,0.5269636134982121,-0.47046371030295636,-0.9365373408183358,-0.02293781116985355,-0.6512104043803646,2.5508177224571607,-0.7665519295025828,-0.5778939635559637,-1.0108079345663405,0.5596080957499588,2.036755029958988,-0.11612807524088375,-0.14578115752350002,1.9809733239972844,0.20606800368987369,-1.4150543142095422,1.5171621691439114,1.789281156821119,1.0859845692218137,0.569850188094948,-0.5092600456498456,-0.5133673294741509,-0.17747214914436082,-0.28497893896678667,-1.017723548510392,-0.171222608370362,-0.6572538678650311,0.9974253025353275,0.15219540039653634,0.5866680040194782,-0.19001914914542503,0.5353419078118536,1.1152162652677877,2.97795797105388,0.9085279502252701,-0.17232731231989817,1.389245776868657,-0.5708394737976242,0.34436475178815107,-0.9150239338287431,0.5131055597150919,0.5031908634636201,2.238821334911018,-0.10669318171704228,0.7345420979543783,-2.062925100049065,-1.2413883423525092,-0.5724993827887654,0.859720954322044,1.1003071919413916,-0.471752236644702,0.46025542685963583,-0.1084369455556114,0.09639064705141714,-0.7616762580059623,-1.7826562298020405,-0.7257458029396603,-0.29848471990300596,0.2858439083232961,-0.3367202911240463,0.20527268466178267,0.36573323048382694,-0.578898295870351,1.6001728205820427,-1.4342738153944126,1.2548152560200398,-1.5076691281769783,1.3411368027344885,-0.27024403891496945,-1.4268485254400225,0.7432383970273235,-0.31907044797333006,0.036447356526887825,-0.8569238644208176,-0.5041947840868658],\"xaxis\":\"x9\",\"y\":[-1.1850705897601521,0.3761853015697947,0.6110459988456458,-1.1768028229366025,-1.8791624168125693,0.7720022143913202,-0.0893252953640753,1.039617165143866,-1.1840500730866144,0.8321614602592408,-1.23455277623035,-0.45833727083862735,1.1220726165049657,-1.6993662515664683,-0.14563422452336208,1.3418892881012277,1.50209878924822,0.24571141525950582,0.05925381879943243,-0.27240713457746824,-1.4359134436838947,-0.1535578006726762,0.5498729377699436,0.24591207455672578,1.3805360456900502,0.3904135864126944,-0.13581271740313985,1.7919670799831404,-1.0691186588793753,0.8585148027138233,-1.5951986693599076,1.0672084944289593,-0.41400102595952526,0.5817627738163651,0.5463160836769827,0.6180931224205171,0.31803238575742915,-0.5322130273534613,-0.5751881023297809,0.11711464019563658,0.2897572354379959,1.5251213365214897,2.502241044697504,-1.0775812333428496,0.9486812060323532,-1.4647561857509215,-1.075799602815771,-1.2932427985412889,-2.2696972086862446,0.9265964698004169,1.3180662734154076,1.0018997845709618,0.9339443113262336,0.995991554991809,0.16810108485542855,-0.05498815547830166,0.6191963771853356,-0.6211415441654871,1.9225161963901454,1.109667351904907,-0.4935685586651885,0.18483082811965695,0.2809684300781559,0.47754509983688403,0.15121254491430586,0.6132749388640667,2.129186436169313,1.0793866064312156,-0.4251155688010225,-0.2732289516473583,2.190233874337507,-1.4633556292414922,0.5464474728462337,1.8843275926183498,0.5073523203734914,0.11719873637408908,-1.772536247751536,0.37253201209491427,0.8550798325709544,0.6108288171710052,0.31144479658230606,0.04129963382415682,-0.5721269602866565,-1.1644479731019926,-0.5732634166989471,0.41703832982192696,1.520779059735967,-0.8074484829813724,-0.47513098812332116,0.24978738197180275,0.1669708471442198,-0.13695759456345732,1.085459636883732,1.6927949085644212,-0.3703933092097937,2.9867423940495583,-0.18109202888901874,-0.2469751779320185,-0.34396759900202334,1.3071589983054204],\"yaxis\":\"y9\",\"type\":\"scatter\"},{\"line\":{\"color\":\"rgba(128, 128, 128, 1.0)\",\"dash\":\"solid\",\"shape\":\"linear\",\"width\":1.3},\"marker\":{\"size\":2,\"symbol\":\"circle\"},\"mode\":\"markers\",\"name\":\"C\",\"text\":\"\",\"x\":[-0.6607567515404839,0.6272057327377043,-0.29300459755897873,0.20396521190281927,-0.11254528632613671,1.175835792248741,-0.7377345445424521,0.356496022784465,1.3251418286139893,0.26885086019013144,1.122352095296499,0.24204159204449613,2.0123475931236077,0.5346441742217941,1.0238143940420046,0.8090796833083032,0.11313819918896648,2.24916865287664,0.012932222012098343,-0.40244432809040476,-0.2502753654633691,2.630557383226313,-0.7790771990625227,0.7355197860705898,-0.1943010347541226,1.2928782007154789,0.36572430645810655,-0.5392603452969593,-0.96023431045177,-0.09253815346977223,-0.4298824098705515,0.25425105887003596,-1.1674587129797283,-0.3840343408994587,1.3207712002551013,0.062356765784521456,0.9595537781702738,0.17240071462536052,-0.451261552754604,0.26033009506400173,-0.7193669753874455,1.3237640482815087,-0.27155167270699504,-0.19773330021703522,-0.07151638613211464,1.8903708416916005,-0.528035834561054,0.6244900423893583,-0.2651053906182809,1.5323114619010347,0.18001538721174082,0.9973476693237119,-1.58564522054993,1.1192253963894794,-0.5674695266246303,0.6634869383800137,0.2188382483231579,0.5690392046501117,-0.06603917493020449,-0.6105444992113863,1.736224515049627,1.8863963804057344,-2.0487797487038444,0.5047057902668708,-0.6634330645442947,-0.128018734829384,-1.0299738753476964,2.023938172106331,0.1957238535897606,0.14206388716721732,1.0228505986995695,-1.0652264255737482,0.6163051316586318,1.6022578249809882,-0.3526379835238936,-1.8418587223766436,-0.4754546562297881,-1.4657897646743254,1.291531251527738,0.6056778020888061,0.9618849334241207,-0.44070807412970214,0.6812198800439422,-0.48018367669432493,0.4450259781147967,2.1054135753292753,-0.47891017321267454,-0.11251171905452118,0.6272297098806351,0.29813117767436553,-0.9105125124581759,1.7637483257996116,0.49453904178321406,-0.09063675976922009,-1.2423412107676592,-0.24118324086440246,-0.019347818855389786,-0.7130858012841428,-1.2610100912832602,-0.31484580391977757],\"xaxis\":\"x10\",\"y\":[-1.1850705897601521,0.3761853015697947,0.6110459988456458,-1.1768028229366025,-1.8791624168125693,0.7720022143913202,-0.0893252953640753,1.039617165143866,-1.1840500730866144,0.8321614602592408,-1.23455277623035,-0.45833727083862735,1.1220726165049657,-1.6993662515664683,-0.14563422452336208,1.3418892881012277,1.50209878924822,0.24571141525950582,0.05925381879943243,-0.27240713457746824,-1.4359134436838947,-0.1535578006726762,0.5498729377699436,0.24591207455672578,1.3805360456900502,0.3904135864126944,-0.13581271740313985,1.7919670799831404,-1.0691186588793753,0.8585148027138233,-1.5951986693599076,1.0672084944289593,-0.41400102595952526,0.5817627738163651,0.5463160836769827,0.6180931224205171,0.31803238575742915,-0.5322130273534613,-0.5751881023297809,0.11711464019563658,0.2897572354379959,1.5251213365214897,2.502241044697504,-1.0775812333428496,0.9486812060323532,-1.4647561857509215,-1.075799602815771,-1.2932427985412889,-2.2696972086862446,0.9265964698004169,1.3180662734154076,1.0018997845709618,0.9339443113262336,0.995991554991809,0.16810108485542855,-0.05498815547830166,0.6191963771853356,-0.6211415441654871,1.9225161963901454,1.109667351904907,-0.4935685586651885,0.18483082811965695,0.2809684300781559,0.47754509983688403,0.15121254491430586,0.6132749388640667,2.129186436169313,1.0793866064312156,-0.4251155688010225,-0.2732289516473583,2.190233874337507,-1.4633556292414922,0.5464474728462337,1.8843275926183498,0.5073523203734914,0.11719873637408908,-1.772536247751536,0.37253201209491427,0.8550798325709544,0.6108288171710052,0.31144479658230606,0.04129963382415682,-0.5721269602866565,-1.1644479731019926,-0.5732634166989471,0.41703832982192696,1.520779059735967,-0.8074484829813724,-0.47513098812332116,0.24978738197180275,0.1669708471442198,-0.13695759456345732,1.085459636883732,1.6927949085644212,-0.3703933092097937,2.9867423940495583,-0.18109202888901874,-0.2469751779320185,-0.34396759900202334,1.3071589983054204],\"yaxis\":\"y10\",\"type\":\"scatter\"},{\"histfunc\":\"count\",\"histnorm\":\"\",\"marker\":{\"color\":\"rgba(50, 171, 96, 1.0)\",\"line\":{\"color\":\"#4D5663\",\"width\":1.3}},\"name\":\"C\",\"nbinsx\":10,\"opacity\":0.8,\"orientation\":\"v\",\"x\":[-1.1850705897601521,0.3761853015697947,0.6110459988456458,-1.1768028229366025,-1.8791624168125693,0.7720022143913202,-0.0893252953640753,1.039617165143866,-1.1840500730866144,0.8321614602592408,-1.23455277623035,-0.45833727083862735,1.1220726165049657,-1.6993662515664683,-0.14563422452336208,1.3418892881012277,1.50209878924822,0.24571141525950582,0.05925381879943243,-0.27240713457746824,-1.4359134436838947,-0.1535578006726762,0.5498729377699436,0.24591207455672578,1.3805360456900502,0.3904135864126944,-0.13581271740313985,1.7919670799831404,-1.0691186588793753,0.8585148027138233,-1.5951986693599076,1.0672084944289593,-0.41400102595952526,0.5817627738163651,0.5463160836769827,0.6180931224205171,0.31803238575742915,-0.5322130273534613,-0.5751881023297809,0.11711464019563658,0.2897572354379959,1.5251213365214897,2.502241044697504,-1.0775812333428496,0.9486812060323532,-1.4647561857509215,-1.075799602815771,-1.2932427985412889,-2.2696972086862446,0.9265964698004169,1.3180662734154076,1.0018997845709618,0.9339443113262336,0.995991554991809,0.16810108485542855,-0.05498815547830166,0.6191963771853356,-0.6211415441654871,1.9225161963901454,1.109667351904907,-0.4935685586651885,0.18483082811965695,0.2809684300781559,0.47754509983688403,0.15121254491430586,0.6132749388640667,2.129186436169313,1.0793866064312156,-0.4251155688010225,-0.2732289516473583,2.190233874337507,-1.4633556292414922,0.5464474728462337,1.8843275926183498,0.5073523203734914,0.11719873637408908,-1.772536247751536,0.37253201209491427,0.8550798325709544,0.6108288171710052,0.31144479658230606,0.04129963382415682,-0.5721269602866565,-1.1644479731019926,-0.5732634166989471,0.41703832982192696,1.520779059735967,-0.8074484829813724,-0.47513098812332116,0.24978738197180275,0.1669708471442198,-0.13695759456345732,1.085459636883732,1.6927949085644212,-0.3703933092097937,2.9867423940495583,-0.18109202888901874,-0.2469751779320185,-0.34396759900202334,1.3071589983054204],\"xaxis\":\"x11\",\"yaxis\":\"y11\",\"type\":\"histogram\"},{\"line\":{\"color\":\"rgba(128, 128, 128, 1.0)\",\"dash\":\"solid\",\"shape\":\"linear\",\"width\":1.3},\"marker\":{\"size\":2,\"symbol\":\"circle\"},\"mode\":\"markers\",\"name\":\"C\",\"text\":\"\",\"x\":[0.5899582634645533,1.5808432661410567,0.34561449097685376,0.2728656800844236,-1.447961115065258,2.0665441538512974,1.536102871801085,0.925032550192467,-0.6345781121065829,-0.3601240464778806,-0.7999400098410929,-0.15470059858329765,-0.43483484592130944,-0.35454673677398074,0.6447744653449229,-0.37007267827112644,-0.5137884466671174,-0.16163190054914361,0.7804774982243313,-1.9233162478024974,1.5642145003662575,0.4173143135774519,-0.4813792530028488,0.3346325722058072,0.09674982622146834,-0.1756837333246901,0.9544719059402534,0.13931926641473943,0.4758251660525391,0.2602469136562438,-0.2533319926943123,1.763038543212188,-0.1271926477483187,0.6107037143379589,0.3267620585475331,0.9771151901287334,-1.775591993226835,0.4553932067832489,-1.1869869920003338,-0.30170251482254495,-1.1015240044814973,1.4217312129727295,-0.6664042443191304,-0.8617929997942941,1.7151107629039979,-0.38786790728419923,-1.5151051299366691,0.7109736871683429,-0.5208399147575378,-1.4862278327670115,-0.597605169046876,1.2426494433850057,1.7304577081528194,2.0059871958872844,-0.11974170867041577,-0.427998606749268,-0.07537287026650681,-0.87845548354086,0.9573479344815539,0.8071827997132053,-1.5476415134654689,-0.09402161523384257,-1.3154429788134763,0.738515850070673,0.007230389499876916,-0.2777361675822311,0.8153060852341795,-0.7079225037795478,-1.1383801646246323,1.0920744651831522,-0.030415729816667392,0.38203906400697824,0.30736386123118487,0.7078437185790925,-1.3004929568091852,-0.3245924863618333,-1.587873057747594,-0.2517083843878335,1.1701108332499774,-0.03767379337014992,2.717620846113011,-0.7729456312276415,-0.45856923111916303,1.1541410223539503,1.1436737062336637,-0.28200407130511806,-0.069434709469561,0.5707763364559357,-0.5984913824920475,-2.228669894005689,-0.784083983517904,0.1751517676737111,0.1863769684271199,0.5051819931537751,0.504800375706003,0.22804895723717042,0.7626066697825327,-1.316304447931998,-1.5186647281420522,-1.5806817324477638],\"xaxis\":\"x12\",\"y\":[-1.1850705897601521,0.3761853015697947,0.6110459988456458,-1.1768028229366025,-1.8791624168125693,0.7720022143913202,-0.0893252953640753,1.039617165143866,-1.1840500730866144,0.8321614602592408,-1.23455277623035,-0.45833727083862735,1.1220726165049657,-1.6993662515664683,-0.14563422452336208,1.3418892881012277,1.50209878924822,0.24571141525950582,0.05925381879943243,-0.27240713457746824,-1.4359134436838947,-0.1535578006726762,0.5498729377699436,0.24591207455672578,1.3805360456900502,0.3904135864126944,-0.13581271740313985,1.7919670799831404,-1.0691186588793753,0.8585148027138233,-1.5951986693599076,1.0672084944289593,-0.41400102595952526,0.5817627738163651,0.5463160836769827,0.6180931224205171,0.31803238575742915,-0.5322130273534613,-0.5751881023297809,0.11711464019563658,0.2897572354379959,1.5251213365214897,2.502241044697504,-1.0775812333428496,0.9486812060323532,-1.4647561857509215,-1.075799602815771,-1.2932427985412889,-2.2696972086862446,0.9265964698004169,1.3180662734154076,1.0018997845709618,0.9339443113262336,0.995991554991809,0.16810108485542855,-0.05498815547830166,0.6191963771853356,-0.6211415441654871,1.9225161963901454,1.109667351904907,-0.4935685586651885,0.18483082811965695,0.2809684300781559,0.47754509983688403,0.15121254491430586,0.6132749388640667,2.129186436169313,1.0793866064312156,-0.4251155688010225,-0.2732289516473583,2.190233874337507,-1.4633556292414922,0.5464474728462337,1.8843275926183498,0.5073523203734914,0.11719873637408908,-1.772536247751536,0.37253201209491427,0.8550798325709544,0.6108288171710052,0.31144479658230606,0.04129963382415682,-0.5721269602866565,-1.1644479731019926,-0.5732634166989471,0.41703832982192696,1.520779059735967,-0.8074484829813724,-0.47513098812332116,0.24978738197180275,0.1669708471442198,-0.13695759456345732,1.085459636883732,1.6927949085644212,-0.3703933092097937,2.9867423940495583,-0.18109202888901874,-0.2469751779320185,-0.34396759900202334,1.3071589983054204],\"yaxis\":\"y12\",\"type\":\"scatter\"},{\"line\":{\"color\":\"rgba(128, 128, 128, 1.0)\",\"dash\":\"solid\",\"shape\":\"linear\",\"width\":1.3},\"marker\":{\"size\":2,\"symbol\":\"circle\"},\"mode\":\"markers\",\"name\":\"D\",\"text\":\"\",\"x\":[-0.10885847351151294,0.09968228043736554,-0.8641500448021835,0.38946228886209866,-0.7770036269217798,2.3588730184432016,1.562051288398869,0.07605439418663039,0.912717877662609,-0.5661466630732443,0.15027249585969116,-0.4556584761228636,0.7330115973669539,0.270546419853816,-0.5171511568557435,0.6144837230708565,-1.3075651835854845,-1.1219896050430447,0.05441883554658746,1.535619031172629,-0.9863215722815764,0.6961242561076794,0.08697726808705007,-0.057414641396003094,0.7335552092007928,0.5269636134982121,-0.47046371030295636,-0.9365373408183358,-0.02293781116985355,-0.6512104043803646,2.5508177224571607,-0.7665519295025828,-0.5778939635559637,-1.0108079345663405,0.5596080957499588,2.036755029958988,-0.11612807524088375,-0.14578115752350002,1.9809733239972844,0.20606800368987369,-1.4150543142095422,1.5171621691439114,1.789281156821119,1.0859845692218137,0.569850188094948,-0.5092600456498456,-0.5133673294741509,-0.17747214914436082,-0.28497893896678667,-1.017723548510392,-0.171222608370362,-0.6572538678650311,0.9974253025353275,0.15219540039653634,0.5866680040194782,-0.19001914914542503,0.5353419078118536,1.1152162652677877,2.97795797105388,0.9085279502252701,-0.17232731231989817,1.389245776868657,-0.5708394737976242,0.34436475178815107,-0.9150239338287431,0.5131055597150919,0.5031908634636201,2.238821334911018,-0.10669318171704228,0.7345420979543783,-2.062925100049065,-1.2413883423525092,-0.5724993827887654,0.859720954322044,1.1003071919413916,-0.471752236644702,0.46025542685963583,-0.1084369455556114,0.09639064705141714,-0.7616762580059623,-1.7826562298020405,-0.7257458029396603,-0.29848471990300596,0.2858439083232961,-0.3367202911240463,0.20527268466178267,0.36573323048382694,-0.578898295870351,1.6001728205820427,-1.4342738153944126,1.2548152560200398,-1.5076691281769783,1.3411368027344885,-0.27024403891496945,-1.4268485254400225,0.7432383970273235,-0.31907044797333006,0.036447356526887825,-0.8569238644208176,-0.5041947840868658],\"xaxis\":\"x13\",\"y\":[0.5899582634645533,1.5808432661410567,0.34561449097685376,0.2728656800844236,-1.447961115065258,2.0665441538512974,1.536102871801085,0.925032550192467,-0.6345781121065829,-0.3601240464778806,-0.7999400098410929,-0.15470059858329765,-0.43483484592130944,-0.35454673677398074,0.6447744653449229,-0.37007267827112644,-0.5137884466671174,-0.16163190054914361,0.7804774982243313,-1.9233162478024974,1.5642145003662575,0.4173143135774519,-0.4813792530028488,0.3346325722058072,0.09674982622146834,-0.1756837333246901,0.9544719059402534,0.13931926641473943,0.4758251660525391,0.2602469136562438,-0.2533319926943123,1.763038543212188,-0.1271926477483187,0.6107037143379589,0.3267620585475331,0.9771151901287334,-1.775591993226835,0.4553932067832489,-1.1869869920003338,-0.30170251482254495,-1.1015240044814973,1.4217312129727295,-0.6664042443191304,-0.8617929997942941,1.7151107629039979,-0.38786790728419923,-1.5151051299366691,0.7109736871683429,-0.5208399147575378,-1.4862278327670115,-0.597605169046876,1.2426494433850057,1.7304577081528194,2.0059871958872844,-0.11974170867041577,-0.427998606749268,-0.07537287026650681,-0.87845548354086,0.9573479344815539,0.8071827997132053,-1.5476415134654689,-0.09402161523384257,-1.3154429788134763,0.738515850070673,0.007230389499876916,-0.2777361675822311,0.8153060852341795,-0.7079225037795478,-1.1383801646246323,1.0920744651831522,-0.030415729816667392,0.38203906400697824,0.30736386123118487,0.7078437185790925,-1.3004929568091852,-0.3245924863618333,-1.587873057747594,-0.2517083843878335,1.1701108332499774,-0.03767379337014992,2.717620846113011,-0.7729456312276415,-0.45856923111916303,1.1541410223539503,1.1436737062336637,-0.28200407130511806,-0.069434709469561,0.5707763364559357,-0.5984913824920475,-2.228669894005689,-0.784083983517904,0.1751517676737111,0.1863769684271199,0.5051819931537751,0.504800375706003,0.22804895723717042,0.7626066697825327,-1.316304447931998,-1.5186647281420522,-1.5806817324477638],\"yaxis\":\"y13\",\"type\":\"scatter\"},{\"line\":{\"color\":\"rgba(128, 128, 128, 1.0)\",\"dash\":\"solid\",\"shape\":\"linear\",\"width\":1.3},\"marker\":{\"size\":2,\"symbol\":\"circle\"},\"mode\":\"markers\",\"name\":\"D\",\"text\":\"\",\"x\":[-0.6607567515404839,0.6272057327377043,-0.29300459755897873,0.20396521190281927,-0.11254528632613671,1.175835792248741,-0.7377345445424521,0.356496022784465,1.3251418286139893,0.26885086019013144,1.122352095296499,0.24204159204449613,2.0123475931236077,0.5346441742217941,1.0238143940420046,0.8090796833083032,0.11313819918896648,2.24916865287664,0.012932222012098343,-0.40244432809040476,-0.2502753654633691,2.630557383226313,-0.7790771990625227,0.7355197860705898,-0.1943010347541226,1.2928782007154789,0.36572430645810655,-0.5392603452969593,-0.96023431045177,-0.09253815346977223,-0.4298824098705515,0.25425105887003596,-1.1674587129797283,-0.3840343408994587,1.3207712002551013,0.062356765784521456,0.9595537781702738,0.17240071462536052,-0.451261552754604,0.26033009506400173,-0.7193669753874455,1.3237640482815087,-0.27155167270699504,-0.19773330021703522,-0.07151638613211464,1.8903708416916005,-0.528035834561054,0.6244900423893583,-0.2651053906182809,1.5323114619010347,0.18001538721174082,0.9973476693237119,-1.58564522054993,1.1192253963894794,-0.5674695266246303,0.6634869383800137,0.2188382483231579,0.5690392046501117,-0.06603917493020449,-0.6105444992113863,1.736224515049627,1.8863963804057344,-2.0487797487038444,0.5047057902668708,-0.6634330645442947,-0.128018734829384,-1.0299738753476964,2.023938172106331,0.1957238535897606,0.14206388716721732,1.0228505986995695,-1.0652264255737482,0.6163051316586318,1.6022578249809882,-0.3526379835238936,-1.8418587223766436,-0.4754546562297881,-1.4657897646743254,1.291531251527738,0.6056778020888061,0.9618849334241207,-0.44070807412970214,0.6812198800439422,-0.48018367669432493,0.4450259781147967,2.1054135753292753,-0.47891017321267454,-0.11251171905452118,0.6272297098806351,0.29813117767436553,-0.9105125124581759,1.7637483257996116,0.49453904178321406,-0.09063675976922009,-1.2423412107676592,-0.24118324086440246,-0.019347818855389786,-0.7130858012841428,-1.2610100912832602,-0.31484580391977757],\"xaxis\":\"x14\",\"y\":[0.5899582634645533,1.5808432661410567,0.34561449097685376,0.2728656800844236,-1.447961115065258,2.0665441538512974,1.536102871801085,0.925032550192467,-0.6345781121065829,-0.3601240464778806,-0.7999400098410929,-0.15470059858329765,-0.43483484592130944,-0.35454673677398074,0.6447744653449229,-0.37007267827112644,-0.5137884466671174,-0.16163190054914361,0.7804774982243313,-1.9233162478024974,1.5642145003662575,0.4173143135774519,-0.4813792530028488,0.3346325722058072,0.09674982622146834,-0.1756837333246901,0.9544719059402534,0.13931926641473943,0.4758251660525391,0.2602469136562438,-0.2533319926943123,1.763038543212188,-0.1271926477483187,0.6107037143379589,0.3267620585475331,0.9771151901287334,-1.775591993226835,0.4553932067832489,-1.1869869920003338,-0.30170251482254495,-1.1015240044814973,1.4217312129727295,-0.6664042443191304,-0.8617929997942941,1.7151107629039979,-0.38786790728419923,-1.5151051299366691,0.7109736871683429,-0.5208399147575378,-1.4862278327670115,-0.597605169046876,1.2426494433850057,1.7304577081528194,2.0059871958872844,-0.11974170867041577,-0.427998606749268,-0.07537287026650681,-0.87845548354086,0.9573479344815539,0.8071827997132053,-1.5476415134654689,-0.09402161523384257,-1.3154429788134763,0.738515850070673,0.007230389499876916,-0.2777361675822311,0.8153060852341795,-0.7079225037795478,-1.1383801646246323,1.0920744651831522,-0.030415729816667392,0.38203906400697824,0.30736386123118487,0.7078437185790925,-1.3004929568091852,-0.3245924863618333,-1.587873057747594,-0.2517083843878335,1.1701108332499774,-0.03767379337014992,2.717620846113011,-0.7729456312276415,-0.45856923111916303,1.1541410223539503,1.1436737062336637,-0.28200407130511806,-0.069434709469561,0.5707763364559357,-0.5984913824920475,-2.228669894005689,-0.784083983517904,0.1751517676737111,0.1863769684271199,0.5051819931537751,0.504800375706003,0.22804895723717042,0.7626066697825327,-1.316304447931998,-1.5186647281420522,-1.5806817324477638],\"yaxis\":\"y14\",\"type\":\"scatter\"},{\"line\":{\"color\":\"rgba(128, 128, 128, 1.0)\",\"dash\":\"solid\",\"shape\":\"linear\",\"width\":1.3},\"marker\":{\"size\":2,\"symbol\":\"circle\"},\"mode\":\"markers\",\"name\":\"D\",\"text\":\"\",\"x\":[-1.1850705897601521,0.3761853015697947,0.6110459988456458,-1.1768028229366025,-1.8791624168125693,0.7720022143913202,-0.0893252953640753,1.039617165143866,-1.1840500730866144,0.8321614602592408,-1.23455277623035,-0.45833727083862735,1.1220726165049657,-1.6993662515664683,-0.14563422452336208,1.3418892881012277,1.50209878924822,0.24571141525950582,0.05925381879943243,-0.27240713457746824,-1.4359134436838947,-0.1535578006726762,0.5498729377699436,0.24591207455672578,1.3805360456900502,0.3904135864126944,-0.13581271740313985,1.7919670799831404,-1.0691186588793753,0.8585148027138233,-1.5951986693599076,1.0672084944289593,-0.41400102595952526,0.5817627738163651,0.5463160836769827,0.6180931224205171,0.31803238575742915,-0.5322130273534613,-0.5751881023297809,0.11711464019563658,0.2897572354379959,1.5251213365214897,2.502241044697504,-1.0775812333428496,0.9486812060323532,-1.4647561857509215,-1.075799602815771,-1.2932427985412889,-2.2696972086862446,0.9265964698004169,1.3180662734154076,1.0018997845709618,0.9339443113262336,0.995991554991809,0.16810108485542855,-0.05498815547830166,0.6191963771853356,-0.6211415441654871,1.9225161963901454,1.109667351904907,-0.4935685586651885,0.18483082811965695,0.2809684300781559,0.47754509983688403,0.15121254491430586,0.6132749388640667,2.129186436169313,1.0793866064312156,-0.4251155688010225,-0.2732289516473583,2.190233874337507,-1.4633556292414922,0.5464474728462337,1.8843275926183498,0.5073523203734914,0.11719873637408908,-1.772536247751536,0.37253201209491427,0.8550798325709544,0.6108288171710052,0.31144479658230606,0.04129963382415682,-0.5721269602866565,-1.1644479731019926,-0.5732634166989471,0.41703832982192696,1.520779059735967,-0.8074484829813724,-0.47513098812332116,0.24978738197180275,0.1669708471442198,-0.13695759456345732,1.085459636883732,1.6927949085644212,-0.3703933092097937,2.9867423940495583,-0.18109202888901874,-0.2469751779320185,-0.34396759900202334,1.3071589983054204],\"xaxis\":\"x15\",\"y\":[0.5899582634645533,1.5808432661410567,0.34561449097685376,0.2728656800844236,-1.447961115065258,2.0665441538512974,1.536102871801085,0.925032550192467,-0.6345781121065829,-0.3601240464778806,-0.7999400098410929,-0.15470059858329765,-0.43483484592130944,-0.35454673677398074,0.6447744653449229,-0.37007267827112644,-0.5137884466671174,-0.16163190054914361,0.7804774982243313,-1.9233162478024974,1.5642145003662575,0.4173143135774519,-0.4813792530028488,0.3346325722058072,0.09674982622146834,-0.1756837333246901,0.9544719059402534,0.13931926641473943,0.4758251660525391,0.2602469136562438,-0.2533319926943123,1.763038543212188,-0.1271926477483187,0.6107037143379589,0.3267620585475331,0.9771151901287334,-1.775591993226835,0.4553932067832489,-1.1869869920003338,-0.30170251482254495,-1.1015240044814973,1.4217312129727295,-0.6664042443191304,-0.8617929997942941,1.7151107629039979,-0.38786790728419923,-1.5151051299366691,0.7109736871683429,-0.5208399147575378,-1.4862278327670115,-0.597605169046876,1.2426494433850057,1.7304577081528194,2.0059871958872844,-0.11974170867041577,-0.427998606749268,-0.07537287026650681,-0.87845548354086,0.9573479344815539,0.8071827997132053,-1.5476415134654689,-0.09402161523384257,-1.3154429788134763,0.738515850070673,0.007230389499876916,-0.2777361675822311,0.8153060852341795,-0.7079225037795478,-1.1383801646246323,1.0920744651831522,-0.030415729816667392,0.38203906400697824,0.30736386123118487,0.7078437185790925,-1.3004929568091852,-0.3245924863618333,-1.587873057747594,-0.2517083843878335,1.1701108332499774,-0.03767379337014992,2.717620846113011,-0.7729456312276415,-0.45856923111916303,1.1541410223539503,1.1436737062336637,-0.28200407130511806,-0.069434709469561,0.5707763364559357,-0.5984913824920475,-2.228669894005689,-0.784083983517904,0.1751517676737111,0.1863769684271199,0.5051819931537751,0.504800375706003,0.22804895723717042,0.7626066697825327,-1.316304447931998,-1.5186647281420522,-1.5806817324477638],\"yaxis\":\"y15\",\"type\":\"scatter\"},{\"histfunc\":\"count\",\"histnorm\":\"\",\"marker\":{\"color\":\"rgba(128, 0, 128, 1.0)\",\"line\":{\"color\":\"#4D5663\",\"width\":1.3}},\"name\":\"D\",\"nbinsx\":10,\"opacity\":0.8,\"orientation\":\"v\",\"x\":[0.5899582634645533,1.5808432661410567,0.34561449097685376,0.2728656800844236,-1.447961115065258,2.0665441538512974,1.536102871801085,0.925032550192467,-0.6345781121065829,-0.3601240464778806,-0.7999400098410929,-0.15470059858329765,-0.43483484592130944,-0.35454673677398074,0.6447744653449229,-0.37007267827112644,-0.5137884466671174,-0.16163190054914361,0.7804774982243313,-1.9233162478024974,1.5642145003662575,0.4173143135774519,-0.4813792530028488,0.3346325722058072,0.09674982622146834,-0.1756837333246901,0.9544719059402534,0.13931926641473943,0.4758251660525391,0.2602469136562438,-0.2533319926943123,1.763038543212188,-0.1271926477483187,0.6107037143379589,0.3267620585475331,0.9771151901287334,-1.775591993226835,0.4553932067832489,-1.1869869920003338,-0.30170251482254495,-1.1015240044814973,1.4217312129727295,-0.6664042443191304,-0.8617929997942941,1.7151107629039979,-0.38786790728419923,-1.5151051299366691,0.7109736871683429,-0.5208399147575378,-1.4862278327670115,-0.597605169046876,1.2426494433850057,1.7304577081528194,2.0059871958872844,-0.11974170867041577,-0.427998606749268,-0.07537287026650681,-0.87845548354086,0.9573479344815539,0.8071827997132053,-1.5476415134654689,-0.09402161523384257,-1.3154429788134763,0.738515850070673,0.007230389499876916,-0.2777361675822311,0.8153060852341795,-0.7079225037795478,-1.1383801646246323,1.0920744651831522,-0.030415729816667392,0.38203906400697824,0.30736386123118487,0.7078437185790925,-1.3004929568091852,-0.3245924863618333,-1.587873057747594,-0.2517083843878335,1.1701108332499774,-0.03767379337014992,2.717620846113011,-0.7729456312276415,-0.45856923111916303,1.1541410223539503,1.1436737062336637,-0.28200407130511806,-0.069434709469561,0.5707763364559357,-0.5984913824920475,-2.228669894005689,-0.784083983517904,0.1751517676737111,0.1863769684271199,0.5051819931537751,0.504800375706003,0.22804895723717042,0.7626066697825327,-1.316304447931998,-1.5186647281420522,-1.5806817324477638],\"xaxis\":\"x16\",\"yaxis\":\"y16\",\"type\":\"histogram\"}],                        {\"bargap\":0.02,\"legend\":{\"bgcolor\":\"#F5F6F9\",\"font\":{\"color\":\"#4D5663\"}},\"paper_bgcolor\":\"#F5F6F9\",\"plot_bgcolor\":\"#F5F6F9\",\"showlegend\":false,\"template\":{\"data\":{\"barpolar\":[{\"marker\":{\"line\":{\"color\":\"#E5ECF6\",\"width\":0.5},\"pattern\":{\"fillmode\":\"overlay\",\"size\":10,\"solidity\":0.2}},\"type\":\"barpolar\"}],\"bar\":[{\"error_x\":{\"color\":\"#2a3f5f\"},\"error_y\":{\"color\":\"#2a3f5f\"},\"marker\":{\"line\":{\"color\":\"#E5ECF6\",\"width\":0.5},\"pattern\":{\"fillmode\":\"overlay\",\"size\":10,\"solidity\":0.2}},\"type\":\"bar\"}],\"carpet\":[{\"aaxis\":{\"endlinecolor\":\"#2a3f5f\",\"gridcolor\":\"white\",\"linecolor\":\"white\",\"minorgridcolor\":\"white\",\"startlinecolor\":\"#2a3f5f\"},\"baxis\":{\"endlinecolor\":\"#2a3f5f\",\"gridcolor\":\"white\",\"linecolor\":\"white\",\"minorgridcolor\":\"white\",\"startlinecolor\":\"#2a3f5f\"},\"type\":\"carpet\"}],\"choropleth\":[{\"colorbar\":{\"outlinewidth\":0,\"ticks\":\"\"},\"type\":\"choropleth\"}],\"contourcarpet\":[{\"colorbar\":{\"outlinewidth\":0,\"ticks\":\"\"},\"type\":\"contourcarpet\"}],\"contour\":[{\"colorbar\":{\"outlinewidth\":0,\"ticks\":\"\"},\"colorscale\":[[0.0,\"#0d0887\"],[0.1111111111111111,\"#46039f\"],[0.2222222222222222,\"#7201a8\"],[0.3333333333333333,\"#9c179e\"],[0.4444444444444444,\"#bd3786\"],[0.5555555555555556,\"#d8576b\"],[0.6666666666666666,\"#ed7953\"],[0.7777777777777778,\"#fb9f3a\"],[0.8888888888888888,\"#fdca26\"],[1.0,\"#f0f921\"]],\"type\":\"contour\"}],\"heatmapgl\":[{\"colorbar\":{\"outlinewidth\":0,\"ticks\":\"\"},\"colorscale\":[[0.0,\"#0d0887\"],[0.1111111111111111,\"#46039f\"],[0.2222222222222222,\"#7201a8\"],[0.3333333333333333,\"#9c179e\"],[0.4444444444444444,\"#bd3786\"],[0.5555555555555556,\"#d8576b\"],[0.6666666666666666,\"#ed7953\"],[0.7777777777777778,\"#fb9f3a\"],[0.8888888888888888,\"#fdca26\"],[1.0,\"#f0f921\"]],\"type\":\"heatmapgl\"}],\"heatmap\":[{\"colorbar\":{\"outlinewidth\":0,\"ticks\":\"\"},\"colorscale\":[[0.0,\"#0d0887\"],[0.1111111111111111,\"#46039f\"],[0.2222222222222222,\"#7201a8\"],[0.3333333333333333,\"#9c179e\"],[0.4444444444444444,\"#bd3786\"],[0.5555555555555556,\"#d8576b\"],[0.6666666666666666,\"#ed7953\"],[0.7777777777777778,\"#fb9f3a\"],[0.8888888888888888,\"#fdca26\"],[1.0,\"#f0f921\"]],\"type\":\"heatmap\"}],\"histogram2dcontour\":[{\"colorbar\":{\"outlinewidth\":0,\"ticks\":\"\"},\"colorscale\":[[0.0,\"#0d0887\"],[0.1111111111111111,\"#46039f\"],[0.2222222222222222,\"#7201a8\"],[0.3333333333333333,\"#9c179e\"],[0.4444444444444444,\"#bd3786\"],[0.5555555555555556,\"#d8576b\"],[0.6666666666666666,\"#ed7953\"],[0.7777777777777778,\"#fb9f3a\"],[0.8888888888888888,\"#fdca26\"],[1.0,\"#f0f921\"]],\"type\":\"histogram2dcontour\"}],\"histogram2d\":[{\"colorbar\":{\"outlinewidth\":0,\"ticks\":\"\"},\"colorscale\":[[0.0,\"#0d0887\"],[0.1111111111111111,\"#46039f\"],[0.2222222222222222,\"#7201a8\"],[0.3333333333333333,\"#9c179e\"],[0.4444444444444444,\"#bd3786\"],[0.5555555555555556,\"#d8576b\"],[0.6666666666666666,\"#ed7953\"],[0.7777777777777778,\"#fb9f3a\"],[0.8888888888888888,\"#fdca26\"],[1.0,\"#f0f921\"]],\"type\":\"histogram2d\"}],\"histogram\":[{\"marker\":{\"pattern\":{\"fillmode\":\"overlay\",\"size\":10,\"solidity\":0.2}},\"type\":\"histogram\"}],\"mesh3d\":[{\"colorbar\":{\"outlinewidth\":0,\"ticks\":\"\"},\"type\":\"mesh3d\"}],\"parcoords\":[{\"line\":{\"colorbar\":{\"outlinewidth\":0,\"ticks\":\"\"}},\"type\":\"parcoords\"}],\"pie\":[{\"automargin\":true,\"type\":\"pie\"}],\"scatter3d\":[{\"line\":{\"colorbar\":{\"outlinewidth\":0,\"ticks\":\"\"}},\"marker\":{\"colorbar\":{\"outlinewidth\":0,\"ticks\":\"\"}},\"type\":\"scatter3d\"}],\"scattercarpet\":[{\"marker\":{\"colorbar\":{\"outlinewidth\":0,\"ticks\":\"\"}},\"type\":\"scattercarpet\"}],\"scattergeo\":[{\"marker\":{\"colorbar\":{\"outlinewidth\":0,\"ticks\":\"\"}},\"type\":\"scattergeo\"}],\"scattergl\":[{\"marker\":{\"colorbar\":{\"outlinewidth\":0,\"ticks\":\"\"}},\"type\":\"scattergl\"}],\"scattermapbox\":[{\"marker\":{\"colorbar\":{\"outlinewidth\":0,\"ticks\":\"\"}},\"type\":\"scattermapbox\"}],\"scatterpolargl\":[{\"marker\":{\"colorbar\":{\"outlinewidth\":0,\"ticks\":\"\"}},\"type\":\"scatterpolargl\"}],\"scatterpolar\":[{\"marker\":{\"colorbar\":{\"outlinewidth\":0,\"ticks\":\"\"}},\"type\":\"scatterpolar\"}],\"scatter\":[{\"fillpattern\":{\"fillmode\":\"overlay\",\"size\":10,\"solidity\":0.2},\"type\":\"scatter\"}],\"scatterternary\":[{\"marker\":{\"colorbar\":{\"outlinewidth\":0,\"ticks\":\"\"}},\"type\":\"scatterternary\"}],\"surface\":[{\"colorbar\":{\"outlinewidth\":0,\"ticks\":\"\"},\"colorscale\":[[0.0,\"#0d0887\"],[0.1111111111111111,\"#46039f\"],[0.2222222222222222,\"#7201a8\"],[0.3333333333333333,\"#9c179e\"],[0.4444444444444444,\"#bd3786\"],[0.5555555555555556,\"#d8576b\"],[0.6666666666666666,\"#ed7953\"],[0.7777777777777778,\"#fb9f3a\"],[0.8888888888888888,\"#fdca26\"],[1.0,\"#f0f921\"]],\"type\":\"surface\"}],\"table\":[{\"cells\":{\"fill\":{\"color\":\"#EBF0F8\"},\"line\":{\"color\":\"white\"}},\"header\":{\"fill\":{\"color\":\"#C8D4E3\"},\"line\":{\"color\":\"white\"}},\"type\":\"table\"}]},\"layout\":{\"annotationdefaults\":{\"arrowcolor\":\"#2a3f5f\",\"arrowhead\":0,\"arrowwidth\":1},\"autotypenumbers\":\"strict\",\"coloraxis\":{\"colorbar\":{\"outlinewidth\":0,\"ticks\":\"\"}},\"colorscale\":{\"diverging\":[[0,\"#8e0152\"],[0.1,\"#c51b7d\"],[0.2,\"#de77ae\"],[0.3,\"#f1b6da\"],[0.4,\"#fde0ef\"],[0.5,\"#f7f7f7\"],[0.6,\"#e6f5d0\"],[0.7,\"#b8e186\"],[0.8,\"#7fbc41\"],[0.9,\"#4d9221\"],[1,\"#276419\"]],\"sequential\":[[0.0,\"#0d0887\"],[0.1111111111111111,\"#46039f\"],[0.2222222222222222,\"#7201a8\"],[0.3333333333333333,\"#9c179e\"],[0.4444444444444444,\"#bd3786\"],[0.5555555555555556,\"#d8576b\"],[0.6666666666666666,\"#ed7953\"],[0.7777777777777778,\"#fb9f3a\"],[0.8888888888888888,\"#fdca26\"],[1.0,\"#f0f921\"]],\"sequentialminus\":[[0.0,\"#0d0887\"],[0.1111111111111111,\"#46039f\"],[0.2222222222222222,\"#7201a8\"],[0.3333333333333333,\"#9c179e\"],[0.4444444444444444,\"#bd3786\"],[0.5555555555555556,\"#d8576b\"],[0.6666666666666666,\"#ed7953\"],[0.7777777777777778,\"#fb9f3a\"],[0.8888888888888888,\"#fdca26\"],[1.0,\"#f0f921\"]]},\"colorway\":[\"#636efa\",\"#EF553B\",\"#00cc96\",\"#ab63fa\",\"#FFA15A\",\"#19d3f3\",\"#FF6692\",\"#B6E880\",\"#FF97FF\",\"#FECB52\"],\"font\":{\"color\":\"#2a3f5f\"},\"geo\":{\"bgcolor\":\"white\",\"lakecolor\":\"white\",\"landcolor\":\"#E5ECF6\",\"showlakes\":true,\"showland\":true,\"subunitcolor\":\"white\"},\"hoverlabel\":{\"align\":\"left\"},\"hovermode\":\"closest\",\"mapbox\":{\"style\":\"light\"},\"paper_bgcolor\":\"white\",\"plot_bgcolor\":\"#E5ECF6\",\"polar\":{\"angularaxis\":{\"gridcolor\":\"white\",\"linecolor\":\"white\",\"ticks\":\"\"},\"bgcolor\":\"#E5ECF6\",\"radialaxis\":{\"gridcolor\":\"white\",\"linecolor\":\"white\",\"ticks\":\"\"}},\"scene\":{\"xaxis\":{\"backgroundcolor\":\"#E5ECF6\",\"gridcolor\":\"white\",\"gridwidth\":2,\"linecolor\":\"white\",\"showbackground\":true,\"ticks\":\"\",\"zerolinecolor\":\"white\"},\"yaxis\":{\"backgroundcolor\":\"#E5ECF6\",\"gridcolor\":\"white\",\"gridwidth\":2,\"linecolor\":\"white\",\"showbackground\":true,\"ticks\":\"\",\"zerolinecolor\":\"white\"},\"zaxis\":{\"backgroundcolor\":\"#E5ECF6\",\"gridcolor\":\"white\",\"gridwidth\":2,\"linecolor\":\"white\",\"showbackground\":true,\"ticks\":\"\",\"zerolinecolor\":\"white\"}},\"shapedefaults\":{\"line\":{\"color\":\"#2a3f5f\"}},\"ternary\":{\"aaxis\":{\"gridcolor\":\"white\",\"linecolor\":\"white\",\"ticks\":\"\"},\"baxis\":{\"gridcolor\":\"white\",\"linecolor\":\"white\",\"ticks\":\"\"},\"bgcolor\":\"#E5ECF6\",\"caxis\":{\"gridcolor\":\"white\",\"linecolor\":\"white\",\"ticks\":\"\"}},\"title\":{\"x\":0.05},\"xaxis\":{\"automargin\":true,\"gridcolor\":\"white\",\"linecolor\":\"white\",\"ticks\":\"\",\"title\":{\"standoff\":15},\"zerolinecolor\":\"white\",\"zerolinewidth\":2},\"yaxis\":{\"automargin\":true,\"gridcolor\":\"white\",\"linecolor\":\"white\",\"ticks\":\"\",\"title\":{\"standoff\":15},\"zerolinecolor\":\"white\",\"zerolinewidth\":2}}},\"title\":{\"font\":{\"color\":\"#4D5663\"}},\"xaxis\":{\"anchor\":\"y\",\"domain\":[0.0,0.2125],\"gridcolor\":\"#E1E5ED\",\"showgrid\":false,\"tickfont\":{\"color\":\"#4D5663\"},\"title\":{\"font\":{\"color\":\"#4D5663\"},\"text\":\"\"},\"zerolinecolor\":\"#E1E5ED\"},\"yaxis\":{\"anchor\":\"x\",\"domain\":[0.8025,1.0],\"gridcolor\":\"#E1E5ED\",\"showgrid\":false,\"tickfont\":{\"color\":\"#4D5663\"},\"title\":{\"font\":{\"color\":\"#4D5663\"},\"text\":\"\"},\"zerolinecolor\":\"#E1E5ED\"},\"xaxis2\":{\"anchor\":\"y2\",\"domain\":[0.2625,0.475],\"gridcolor\":\"#E1E5ED\",\"showgrid\":false,\"tickfont\":{\"color\":\"#4D5663\"},\"title\":{\"font\":{\"color\":\"#4D5663\"},\"text\":\"\"},\"zerolinecolor\":\"#E1E5ED\"},\"yaxis2\":{\"anchor\":\"x2\",\"domain\":[0.8025,1.0],\"gridcolor\":\"#E1E5ED\",\"showgrid\":false,\"tickfont\":{\"color\":\"#4D5663\"},\"title\":{\"font\":{\"color\":\"#4D5663\"},\"text\":\"\"},\"zerolinecolor\":\"#E1E5ED\"},\"xaxis3\":{\"anchor\":\"y3\",\"domain\":[0.525,0.7375],\"gridcolor\":\"#E1E5ED\",\"showgrid\":false,\"tickfont\":{\"color\":\"#4D5663\"},\"title\":{\"font\":{\"color\":\"#4D5663\"},\"text\":\"\"},\"zerolinecolor\":\"#E1E5ED\"},\"yaxis3\":{\"anchor\":\"x3\",\"domain\":[0.8025,1.0],\"gridcolor\":\"#E1E5ED\",\"showgrid\":false,\"tickfont\":{\"color\":\"#4D5663\"},\"title\":{\"font\":{\"color\":\"#4D5663\"},\"text\":\"\"},\"zerolinecolor\":\"#E1E5ED\"},\"xaxis4\":{\"anchor\":\"y4\",\"domain\":[0.7875,1.0],\"gridcolor\":\"#E1E5ED\",\"showgrid\":false,\"tickfont\":{\"color\":\"#4D5663\"},\"title\":{\"font\":{\"color\":\"#4D5663\"},\"text\":\"\"},\"zerolinecolor\":\"#E1E5ED\"},\"yaxis4\":{\"anchor\":\"x4\",\"domain\":[0.8025,1.0],\"gridcolor\":\"#E1E5ED\",\"showgrid\":false,\"tickfont\":{\"color\":\"#4D5663\"},\"title\":{\"font\":{\"color\":\"#4D5663\"},\"text\":\"\"},\"zerolinecolor\":\"#E1E5ED\"},\"xaxis5\":{\"anchor\":\"y5\",\"domain\":[0.0,0.2125],\"gridcolor\":\"#E1E5ED\",\"showgrid\":false,\"tickfont\":{\"color\":\"#4D5663\"},\"title\":{\"font\":{\"color\":\"#4D5663\"},\"text\":\"\"},\"zerolinecolor\":\"#E1E5ED\"},\"yaxis5\":{\"anchor\":\"x5\",\"domain\":[0.535,0.7325],\"gridcolor\":\"#E1E5ED\",\"showgrid\":false,\"tickfont\":{\"color\":\"#4D5663\"},\"title\":{\"font\":{\"color\":\"#4D5663\"},\"text\":\"\"},\"zerolinecolor\":\"#E1E5ED\"},\"xaxis6\":{\"anchor\":\"y6\",\"domain\":[0.2625,0.475],\"gridcolor\":\"#E1E5ED\",\"showgrid\":false,\"tickfont\":{\"color\":\"#4D5663\"},\"title\":{\"font\":{\"color\":\"#4D5663\"},\"text\":\"\"},\"zerolinecolor\":\"#E1E5ED\"},\"yaxis6\":{\"anchor\":\"x6\",\"domain\":[0.535,0.7325],\"gridcolor\":\"#E1E5ED\",\"showgrid\":false,\"tickfont\":{\"color\":\"#4D5663\"},\"title\":{\"font\":{\"color\":\"#4D5663\"},\"text\":\"\"},\"zerolinecolor\":\"#E1E5ED\"},\"xaxis7\":{\"anchor\":\"y7\",\"domain\":[0.525,0.7375],\"gridcolor\":\"#E1E5ED\",\"showgrid\":false,\"tickfont\":{\"color\":\"#4D5663\"},\"title\":{\"font\":{\"color\":\"#4D5663\"},\"text\":\"\"},\"zerolinecolor\":\"#E1E5ED\"},\"yaxis7\":{\"anchor\":\"x7\",\"domain\":[0.535,0.7325],\"gridcolor\":\"#E1E5ED\",\"showgrid\":false,\"tickfont\":{\"color\":\"#4D5663\"},\"title\":{\"font\":{\"color\":\"#4D5663\"},\"text\":\"\"},\"zerolinecolor\":\"#E1E5ED\"},\"xaxis8\":{\"anchor\":\"y8\",\"domain\":[0.7875,1.0],\"gridcolor\":\"#E1E5ED\",\"showgrid\":false,\"tickfont\":{\"color\":\"#4D5663\"},\"title\":{\"font\":{\"color\":\"#4D5663\"},\"text\":\"\"},\"zerolinecolor\":\"#E1E5ED\"},\"yaxis8\":{\"anchor\":\"x8\",\"domain\":[0.535,0.7325],\"gridcolor\":\"#E1E5ED\",\"showgrid\":false,\"tickfont\":{\"color\":\"#4D5663\"},\"title\":{\"font\":{\"color\":\"#4D5663\"},\"text\":\"\"},\"zerolinecolor\":\"#E1E5ED\"},\"xaxis9\":{\"anchor\":\"y9\",\"domain\":[0.0,0.2125],\"gridcolor\":\"#E1E5ED\",\"showgrid\":false,\"tickfont\":{\"color\":\"#4D5663\"},\"title\":{\"font\":{\"color\":\"#4D5663\"},\"text\":\"\"},\"zerolinecolor\":\"#E1E5ED\"},\"yaxis9\":{\"anchor\":\"x9\",\"domain\":[0.2675,0.465],\"gridcolor\":\"#E1E5ED\",\"showgrid\":false,\"tickfont\":{\"color\":\"#4D5663\"},\"title\":{\"font\":{\"color\":\"#4D5663\"},\"text\":\"\"},\"zerolinecolor\":\"#E1E5ED\"},\"xaxis10\":{\"anchor\":\"y10\",\"domain\":[0.2625,0.475],\"gridcolor\":\"#E1E5ED\",\"showgrid\":false,\"tickfont\":{\"color\":\"#4D5663\"},\"title\":{\"font\":{\"color\":\"#4D5663\"},\"text\":\"\"},\"zerolinecolor\":\"#E1E5ED\"},\"yaxis10\":{\"anchor\":\"x10\",\"domain\":[0.2675,0.465],\"gridcolor\":\"#E1E5ED\",\"showgrid\":false,\"tickfont\":{\"color\":\"#4D5663\"},\"title\":{\"font\":{\"color\":\"#4D5663\"},\"text\":\"\"},\"zerolinecolor\":\"#E1E5ED\"},\"xaxis11\":{\"anchor\":\"y11\",\"domain\":[0.525,0.7375],\"gridcolor\":\"#E1E5ED\",\"showgrid\":false,\"tickfont\":{\"color\":\"#4D5663\"},\"title\":{\"font\":{\"color\":\"#4D5663\"},\"text\":\"\"},\"zerolinecolor\":\"#E1E5ED\"},\"yaxis11\":{\"anchor\":\"x11\",\"domain\":[0.2675,0.465],\"gridcolor\":\"#E1E5ED\",\"showgrid\":false,\"tickfont\":{\"color\":\"#4D5663\"},\"title\":{\"font\":{\"color\":\"#4D5663\"},\"text\":\"\"},\"zerolinecolor\":\"#E1E5ED\"},\"xaxis12\":{\"anchor\":\"y12\",\"domain\":[0.7875,1.0],\"gridcolor\":\"#E1E5ED\",\"showgrid\":false,\"tickfont\":{\"color\":\"#4D5663\"},\"title\":{\"font\":{\"color\":\"#4D5663\"},\"text\":\"\"},\"zerolinecolor\":\"#E1E5ED\"},\"yaxis12\":{\"anchor\":\"x12\",\"domain\":[0.2675,0.465],\"gridcolor\":\"#E1E5ED\",\"showgrid\":false,\"tickfont\":{\"color\":\"#4D5663\"},\"title\":{\"font\":{\"color\":\"#4D5663\"},\"text\":\"\"},\"zerolinecolor\":\"#E1E5ED\"},\"xaxis13\":{\"anchor\":\"y13\",\"domain\":[0.0,0.2125],\"gridcolor\":\"#E1E5ED\",\"showgrid\":false,\"tickfont\":{\"color\":\"#4D5663\"},\"title\":{\"font\":{\"color\":\"#4D5663\"},\"text\":\"\"},\"zerolinecolor\":\"#E1E5ED\"},\"yaxis13\":{\"anchor\":\"x13\",\"domain\":[0.0,0.1975],\"gridcolor\":\"#E1E5ED\",\"showgrid\":false,\"tickfont\":{\"color\":\"#4D5663\"},\"title\":{\"font\":{\"color\":\"#4D5663\"},\"text\":\"\"},\"zerolinecolor\":\"#E1E5ED\"},\"xaxis14\":{\"anchor\":\"y14\",\"domain\":[0.2625,0.475],\"gridcolor\":\"#E1E5ED\",\"showgrid\":false,\"tickfont\":{\"color\":\"#4D5663\"},\"title\":{\"font\":{\"color\":\"#4D5663\"},\"text\":\"\"},\"zerolinecolor\":\"#E1E5ED\"},\"yaxis14\":{\"anchor\":\"x14\",\"domain\":[0.0,0.1975],\"gridcolor\":\"#E1E5ED\",\"showgrid\":false,\"tickfont\":{\"color\":\"#4D5663\"},\"title\":{\"font\":{\"color\":\"#4D5663\"},\"text\":\"\"},\"zerolinecolor\":\"#E1E5ED\"},\"xaxis15\":{\"anchor\":\"y15\",\"domain\":[0.525,0.7375],\"gridcolor\":\"#E1E5ED\",\"showgrid\":false,\"tickfont\":{\"color\":\"#4D5663\"},\"title\":{\"font\":{\"color\":\"#4D5663\"},\"text\":\"\"},\"zerolinecolor\":\"#E1E5ED\"},\"yaxis15\":{\"anchor\":\"x15\",\"domain\":[0.0,0.1975],\"gridcolor\":\"#E1E5ED\",\"showgrid\":false,\"tickfont\":{\"color\":\"#4D5663\"},\"title\":{\"font\":{\"color\":\"#4D5663\"},\"text\":\"\"},\"zerolinecolor\":\"#E1E5ED\"},\"xaxis16\":{\"anchor\":\"y16\",\"domain\":[0.7875,1.0],\"gridcolor\":\"#E1E5ED\",\"showgrid\":false,\"tickfont\":{\"color\":\"#4D5663\"},\"title\":{\"font\":{\"color\":\"#4D5663\"},\"text\":\"\"},\"zerolinecolor\":\"#E1E5ED\"},\"yaxis16\":{\"anchor\":\"x16\",\"domain\":[0.0,0.1975],\"gridcolor\":\"#E1E5ED\",\"showgrid\":false,\"tickfont\":{\"color\":\"#4D5663\"},\"title\":{\"font\":{\"color\":\"#4D5663\"},\"text\":\"\"},\"zerolinecolor\":\"#E1E5ED\"}},                        {\"showLink\": true, \"linkText\": \"Export to plot.ly\", \"plotlyServerURL\": \"https://plot.ly\", \"responsive\": true}                    ).then(function(){\n",
       "                            \n",
       "var gd = document.getElementById('d477e91e-340f-48e8-aaa2-b9b37ef0f938');\n",
       "var x = new MutationObserver(function (mutations, observer) {{\n",
       "        var display = window.getComputedStyle(gd).display;\n",
       "        if (!display || display === 'none') {{\n",
       "            console.log([gd, 'removed!']);\n",
       "            Plotly.purge(gd);\n",
       "            observer.disconnect();\n",
       "        }}\n",
       "}});\n",
       "\n",
       "// Listen for the removal of the full notebook cells\n",
       "var notebookContainer = gd.closest('#notebook-container');\n",
       "if (notebookContainer) {{\n",
       "    x.observe(notebookContainer, {childList: true});\n",
       "}}\n",
       "\n",
       "// Listen for the clearing of the current output cell\n",
       "var outputEl = gd.closest('.output');\n",
       "if (outputEl) {{\n",
       "    x.observe(outputEl, {childList: true});\n",
       "}}\n",
       "\n",
       "                        })                };                });            </script>        </div>"
      ]
     },
     "metadata": {},
     "output_type": "display_data"
    }
   ],
   "source": [
    "df.scatter_matrix()"
   ]
  },
  {
   "cell_type": "code",
   "execution_count": null,
   "metadata": {},
   "outputs": [],
   "source": []
  }
 ],
 "metadata": {
  "kernelspec": {
   "display_name": "base",
   "language": "python",
   "name": "python3"
  },
  "language_info": {
   "codemirror_mode": {
    "name": "ipython",
    "version": 3
   },
   "file_extension": ".py",
   "mimetype": "text/x-python",
   "name": "python",
   "nbconvert_exporter": "python",
   "pygments_lexer": "ipython3",
   "version": "3.9.13"
  },
  "orig_nbformat": 4
 },
 "nbformat": 4,
 "nbformat_minor": 2
}
