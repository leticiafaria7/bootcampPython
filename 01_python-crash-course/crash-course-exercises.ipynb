{
 "cells": [
  {
   "cell_type": "markdown",
   "id": "0738fadb-b193-4380-8271-f36823a116a8",
   "metadata": {},
   "source": [
    "## Crash Course Exercises"
   ]
  },
  {
   "cell_type": "markdown",
   "id": "1852e8ad-0054-46c7-862e-a85009681019",
   "metadata": {},
   "source": [
    "**What is 7 to the power of 4?**"
   ]
  },
  {
   "cell_type": "code",
   "execution_count": 15,
   "id": "cd6106b5-92ed-4f8e-8ec8-5ec58876dc4e",
   "metadata": {},
   "outputs": [
    {
     "data": {
      "text/plain": [
       "2401"
      ]
     },
     "execution_count": 15,
     "metadata": {},
     "output_type": "execute_result"
    }
   ],
   "source": [
    "7**4"
   ]
  },
  {
   "cell_type": "markdown",
   "id": "08d9be93-2b62-4a6c-99b6-f1aee8ab2ab1",
   "metadata": {},
   "source": [
    "**Split this string:**\n",
    "\n",
    "    s = \"Hi there Sam!\"\n",
    "    \n",
    "**into a list.**"
   ]
  },
  {
   "cell_type": "code",
   "execution_count": 17,
   "id": "745d85b4-7ffc-464f-85be-1189e8785860",
   "metadata": {},
   "outputs": [],
   "source": [
    "s = \"Hi there Sam!\""
   ]
  },
  {
   "cell_type": "code",
   "execution_count": 18,
   "id": "541aea40-be76-423c-9d72-9996064357d1",
   "metadata": {},
   "outputs": [
    {
     "data": {
      "text/plain": [
       "['Hi', 'there', 'Sam!']"
      ]
     },
     "execution_count": 18,
     "metadata": {},
     "output_type": "execute_result"
    }
   ],
   "source": [
    "s.split()"
   ]
  },
  {
   "cell_type": "markdown",
   "id": "d4afcd12-f459-451a-8653-7b206c33ce0c",
   "metadata": {},
   "source": [
    "**Given the variables:**\n",
    "\n",
    "    planet = \"Earth\"\n",
    "    diameter = 12742\n",
    "    \n",
    "**Use .format() to print the following string:**\n",
    "\n",
    "The diameter of Earth is 12742 kilometers."
   ]
  },
  {
   "cell_type": "code",
   "execution_count": 4,
   "id": "d79c7541-046b-480d-bce8-b962002f61df",
   "metadata": {},
   "outputs": [
    {
     "data": {
      "text/plain": [
       "'The diameter of Earth is 12742 kilometers'"
      ]
     },
     "execution_count": 4,
     "metadata": {},
     "output_type": "execute_result"
    }
   ],
   "source": [
    "planet = \"Earth\"\n",
    "diameter = 12742\n",
    "\n",
    "\"The diameter of {} is {} kilometers\".format(planet, diameter)"
   ]
  },
  {
   "cell_type": "markdown",
   "id": "0a775592-2406-4cc9-a3d5-333fd50839c7",
   "metadata": {},
   "source": [
    "**Given this nested list, use indexing to grab the word \"hello\"**"
   ]
  },
  {
   "cell_type": "code",
   "execution_count": 5,
   "id": "283a8eb7-e712-4848-9a1f-66573d684798",
   "metadata": {},
   "outputs": [],
   "source": [
    "lst = [1,2,[3,4],[5,[100,200,['hello']],23,11],1,7]"
   ]
  },
  {
   "cell_type": "code",
   "execution_count": 6,
   "id": "be702c0d-511d-4200-9b78-44817819840d",
   "metadata": {},
   "outputs": [
    {
     "data": {
      "text/plain": [
       "'hello'"
      ]
     },
     "execution_count": 6,
     "metadata": {},
     "output_type": "execute_result"
    }
   ],
   "source": [
    "lst[3][1][2][0]"
   ]
  },
  {
   "cell_type": "code",
   "execution_count": 7,
   "id": "bb3768f7-305c-48a1-a2e7-2aea4dea3e87",
   "metadata": {},
   "outputs": [
    {
     "name": "stdout",
     "output_type": "stream",
     "text": [
      "hello\n"
     ]
    }
   ],
   "source": [
    "print(lst[3][1][2][0])"
   ]
  },
  {
   "cell_type": "markdown",
   "id": "74df3c9e-bba5-4eb9-8756-f82833099b3f",
   "metadata": {},
   "source": [
    "**Given this nested dictionary grab the word \"hello\". Be prepared, this will be annoying/tricky**"
   ]
  },
  {
   "cell_type": "code",
   "execution_count": 8,
   "id": "a3e31142-4640-416a-aa3f-2b3c17166361",
   "metadata": {},
   "outputs": [],
   "source": [
    "d = {'k1':[1,2,3,{'tricky':['oh','man','inception',{'target':[1,2,3,'hello']}]}]}"
   ]
  },
  {
   "cell_type": "code",
   "execution_count": 9,
   "id": "8019dfc6-70b4-4bcc-bfbf-ebc8fef46c81",
   "metadata": {},
   "outputs": [
    {
     "data": {
      "text/plain": [
       "'hello'"
      ]
     },
     "execution_count": 9,
     "metadata": {},
     "output_type": "execute_result"
    }
   ],
   "source": [
    "d['k1'][3]['tricky'][3]['target'][3]"
   ]
  },
  {
   "cell_type": "markdown",
   "id": "72735dac-e037-4b73-994c-37d1dc8c1fe1",
   "metadata": {},
   "source": [
    "**Create a function that grabs the email website domain from a string in the form:**\n",
    "\n",
    "user@domain.com\n",
    "So for example, passing \"user@domain.com\" would return: domain.com"
   ]
  },
  {
   "cell_type": "code",
   "execution_count": 19,
   "id": "bc538178-4942-4618-9f0a-27d800e15dcf",
   "metadata": {},
   "outputs": [],
   "source": [
    "def get_domain(email = 'user@domain.com'):\n",
    "    domain = email.split('@')[1]\n",
    "    print(domain)"
   ]
  },
  {
   "cell_type": "code",
   "execution_count": 20,
   "id": "cec140de-eb57-41d9-845f-ce22045b01c9",
   "metadata": {},
   "outputs": [
    {
     "name": "stdout",
     "output_type": "stream",
     "text": [
      "domain.com\n"
     ]
    }
   ],
   "source": [
    "get_domain()"
   ]
  },
  {
   "cell_type": "code",
   "execution_count": 21,
   "id": "5f2d59c0-9fd6-42df-9c0f-a417c7bbfcdd",
   "metadata": {},
   "outputs": [
    {
     "name": "stdout",
     "output_type": "stream",
     "text": [
      "numera.consulting\n"
     ]
    }
   ],
   "source": [
    "get_domain('leticia@numera.consulting')"
   ]
  },
  {
   "cell_type": "markdown",
   "id": "20eb01c4-03ac-4306-8052-cd108f59cc93",
   "metadata": {},
   "source": [
    "**Create a basic function that returns True if the word 'dog' is contained in the input string. Don't worry about edge cases like a punctuation being attached to the word dog, but do account for capitalization.**"
   ]
  },
  {
   "cell_type": "code",
   "execution_count": 24,
   "id": "8ee77728-db02-4ae8-a348-4584757d0eee",
   "metadata": {},
   "outputs": [],
   "source": [
    "def has_dog(string):\n",
    "    return 'dog' in string.lower().split()"
   ]
  },
  {
   "cell_type": "code",
   "execution_count": 27,
   "id": "a75c12ad-9937-4464-a25c-8b8d73b9b48f",
   "metadata": {},
   "outputs": [
    {
     "data": {
      "text/plain": [
       "True"
      ]
     },
     "execution_count": 27,
     "metadata": {},
     "output_type": "execute_result"
    }
   ],
   "source": [
    "has_dog('is there a dog here?')"
   ]
  },
  {
   "cell_type": "markdown",
   "id": "948b2435-d5dc-4eb9-aab9-69282a3260a4",
   "metadata": {},
   "source": [
    "**Create a function that counts the number of times the word \"dog\" occurs in a string. Again ignore edge cases.**"
   ]
  },
  {
   "cell_type": "code",
   "execution_count": 29,
   "id": "d11d6c4b-3644-406d-9c3b-a9d0a56d0541",
   "metadata": {},
   "outputs": [],
   "source": [
    "def count_dog(string):\n",
    "    count = 0\n",
    "    for i in string.lower().split():\n",
    "        if i == 'dog':\n",
    "            count += 1\n",
    "    return count"
   ]
  },
  {
   "cell_type": "code",
   "execution_count": 31,
   "id": "1024d024-5151-4e48-a2ef-f5d8963cb776",
   "metadata": {},
   "outputs": [
    {
     "data": {
      "text/plain": [
       "2"
      ]
     },
     "execution_count": 31,
     "metadata": {},
     "output_type": "execute_result"
    }
   ],
   "source": [
    "count_dog('This dog runs faster than the other dog dude!')"
   ]
  },
  {
   "cell_type": "markdown",
   "id": "244b4e5d-bd66-4a3c-853f-be2cee685eb8",
   "metadata": {},
   "source": [
    "**Use lambda expressions and the filter() function to filter out words from a list that don't start with the letter 's'. For example:**\n",
    "\n",
    "    seq = ['soup','dog','salad','cat','great']\n",
    "should be filtered down to:\n",
    "\n",
    "    ['soup','salad']"
   ]
  },
  {
   "cell_type": "code",
   "execution_count": 32,
   "id": "f1b8208b-0df7-4857-b5bf-e430bacb7f77",
   "metadata": {},
   "outputs": [],
   "source": [
    "seq = ['soup','dog','salad','cat','great']"
   ]
  },
  {
   "cell_type": "code",
   "execution_count": 34,
   "id": "95aeb750-e2a5-40a1-ba42-0ba1bff22e25",
   "metadata": {},
   "outputs": [
    {
     "data": {
      "text/plain": [
       "['soup', 'salad']"
      ]
     },
     "execution_count": 34,
     "metadata": {},
     "output_type": "execute_result"
    }
   ],
   "source": [
    "list(filter(lambda i: i[0] == 's', seq))"
   ]
  },
  {
   "cell_type": "markdown",
   "id": "16c53aea-1fcf-4577-9a24-d203c2046d21",
   "metadata": {},
   "source": [
    "### Final Problem\n",
    "\n",
    "**You are driving a little too fast, and a police officer stops you. Write a function to return one of 3 possible results: \"No ticket\", \"Small ticket\", or \"Big Ticket\". If your speed is 60 or less, the result is \"No Ticket\". If speed is between 61 and 80 inclusive, the result is \"Small Ticket\". If speed is 81 or more, the result is \"Big Ticket\". Unless it is your birthday (encoded as a boolean value in the parameters of the function) -- on your birthday, your speed can be 5 higher in all cases.**"
   ]
  },
  {
   "cell_type": "code",
   "execution_count": 35,
   "id": "71822fe8-d178-471e-9c11-022d6c26495b",
   "metadata": {},
   "outputs": [],
   "source": [
    "def caught_speeding(speed, is_birthday):\n",
    "    if is_birthday == True:\n",
    "        speed = speed - 5\n",
    "    else:\n",
    "        speed == speed\n",
    "    \n",
    "    if speed <= 60:\n",
    "        print('No ticket')\n",
    "    elif speed <= 80:\n",
    "        print('Small ticket')\n",
    "    else:\n",
    "        print('Big ticket')"
   ]
  },
  {
   "cell_type": "code",
   "execution_count": 37,
   "id": "ae1b08f9-cc3e-4482-b366-e127ca20bbb6",
   "metadata": {},
   "outputs": [
    {
     "name": "stdout",
     "output_type": "stream",
     "text": [
      "Small ticket\n"
     ]
    }
   ],
   "source": [
    "caught_speeding(speed = 81, is_birthday = True)"
   ]
  },
  {
   "cell_type": "code",
   "execution_count": null,
   "id": "503b116d-f253-4d1a-b0cb-d1cd5750baac",
   "metadata": {},
   "outputs": [],
   "source": []
  }
 ],
 "metadata": {
  "kernelspec": {
   "display_name": "Python 3 (ipykernel)",
   "language": "python",
   "name": "python3"
  },
  "language_info": {
   "codemirror_mode": {
    "name": "ipython",
    "version": 3
   },
   "file_extension": ".py",
   "mimetype": "text/x-python",
   "name": "python",
   "nbconvert_exporter": "python",
   "pygments_lexer": "ipython3",
   "version": "3.9.13"
  }
 },
 "nbformat": 4,
 "nbformat_minor": 5
}
