{
 "cells": [
  {
   "attachments": {},
   "cell_type": "markdown",
   "metadata": {},
   "source": [
    "### bias variance trade-off"
   ]
  },
  {
   "attachments": {},
   "cell_type": "markdown",
   "metadata": {},
   "source": [
    "- é o ponto onde estamos apenas adicionando ruído por adicionar complexibilidade ao modelo\n",
    "- o erro de treinamento começa a diminuir, mas o erro de teste começa a aumentar (overfit)\n",
    "- low bias x low variance"
   ]
  }
 ],
 "metadata": {
  "language_info": {
   "name": "python"
  },
  "orig_nbformat": 4
 },
 "nbformat": 4,
 "nbformat_minor": 2
}
