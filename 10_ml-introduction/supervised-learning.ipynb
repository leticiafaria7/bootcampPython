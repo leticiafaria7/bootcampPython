{
 "cells": [
  {
   "attachments": {},
   "cell_type": "markdown",
   "metadata": {},
   "source": [
    "### supervised learning\n",
    "- are trained using labeled examples\n",
    "- validation data = used to determine what model hyperparameters to adjust"
   ]
  },
  {
   "attachments": {},
   "cell_type": "markdown",
   "metadata": {},
   "source": [
    "### confusion matrix\n",
    "\n",
    "- **accuracy** = the number of correct precictions made by the model divided by the total number of predictions\n",
    "- **recall** = ability of a model to find the relevant cases within a dataset; is the number of true positives divided by the number of true positives plus the number of false negatives\n",
    "- **precision** = ability of a classification model to identify only the relevant data points; is the number of true positives divided by the number of true positives plus the number of false positives\n",
    "- **F1-score** = 2 * ((precision * recall) / (precision + recall)) = harmonic mean of precision and recall\n",
    "---\n",
    "- **false positive** = type I error\n",
    "- **false negative** = type II error"
   ]
  },
  {
   "attachments": {},
   "cell_type": "markdown",
   "metadata": {},
   "source": [
    "### evaluating regression\n",
    "\n",
    "- mean absolute error (MAE) = mean of the absolute value of error (don't punish large errors however)\n",
    "- mean squared error (MSE) = mean of the squared errors\n",
    "- root mean square error (RMSE) = root of the mean of the squared errors"
   ]
  },
  {
   "attachments": {},
   "cell_type": "markdown",
   "metadata": {},
   "source": [
    "### machine learning with python\n",
    "\n",
    "- scikit-learn package"
   ]
  }
 ],
 "metadata": {
  "language_info": {
   "name": "python"
  },
  "orig_nbformat": 4
 },
 "nbformat": 4,
 "nbformat_minor": 2
}
